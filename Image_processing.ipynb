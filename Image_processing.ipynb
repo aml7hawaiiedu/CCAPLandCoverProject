{
  "nbformat": 4,
  "nbformat_minor": 0,
  "metadata": {
    "colab": {
      "provenance": [],
      "machine_shape": "hm",
      "include_colab_link": true
    },
    "kernelspec": {
      "name": "ir",
      "display_name": "R"
    },
    "language_info": {
      "name": "R"
    }
  },
  "cells": [
    {
      "cell_type": "markdown",
      "metadata": {
        "id": "view-in-github",
        "colab_type": "text"
      },
      "source": [
        "<a href=\"https://colab.research.google.com/github/aml7hawaiiedu/CCAPLandCoverProject/blob/main/Image_processing.ipynb\" target=\"_parent\"><img src=\"https://colab.research.google.com/assets/colab-badge.svg\" alt=\"Open In Colab\"/></a>"
      ]
    },
    {
      "cell_type": "code",
      "source": [],
      "metadata": {
        "colab": {
          "base_uri": "https://localhost:8080/"
        },
        "id": "izAexJ5t4NfS",
        "outputId": "7fc4351a-ef89-46b3-c31f-81c2e8b511d2"
      },
      "execution_count": 73,
      "outputs": [
        {
          "output_type": "stream",
          "name": "stderr",
          "text": [
            "Installing package into ‘/usr/local/lib/R/site-library’\n",
            "(as ‘lib’ is unspecified)\n",
            "\n",
            "Warning message:\n",
            "“package ‘gdalutils’ is not available for this version of R\n",
            "\n",
            "A version of this package for your version of R might be available elsewhere,\n",
            "see the ideas at\n",
            "https://cran.r-project.org/doc/manuals/r-patched/R-admin.html#Installing-packages”\n"
          ]
        }
      ]
    },
    {
      "cell_type": "code",
      "source": [
        "install.packages('gdalutils')\n",
        "install.packages('sf')\n",
        "install.packages('raster')\n",
        "install.packages('exactextractr')\n",
        "install.packages(\"googledrive\")\n",
        "install.packages(\"googletoken\")\n",
        "install.packages(\"DBI\")\n",
        "install.packages(\"RSQLite\")\n",
        "install.packages(\"RPostgreSQL\")"
      ],
      "metadata": {
        "colab": {
          "base_uri": "https://localhost:8080/"
        },
        "id": "rC3Pg61Wq8On",
        "outputId": "77b8016a-5ee3-4085-b612-9309d42e88ff"
      },
      "execution_count": 1,
      "outputs": [
        {
          "output_type": "stream",
          "name": "stderr",
          "text": [
            "Installing package into ‘/usr/local/lib/R/site-library’\n",
            "(as ‘lib’ is unspecified)\n",
            "\n",
            "Warning message:\n",
            "“package ‘gdalutils’ is not available for this version of R\n",
            "\n",
            "A version of this package for your version of R might be available elsewhere,\n",
            "see the ideas at\n",
            "https://cran.r-project.org/doc/manuals/r-patched/R-admin.html#Installing-packages”\n",
            "Installing package into ‘/usr/local/lib/R/site-library’\n",
            "(as ‘lib’ is unspecified)\n",
            "\n",
            "also installing the dependencies ‘proxy’, ‘e1071’, ‘wk’, ‘classInt’, ‘Rcpp’, ‘s2’, ‘units’\n",
            "\n",
            "\n",
            "Installing package into ‘/usr/local/lib/R/site-library’\n",
            "(as ‘lib’ is unspecified)\n",
            "\n",
            "also installing the dependencies ‘sp’, ‘terra’\n",
            "\n",
            "\n",
            "Installing package into ‘/usr/local/lib/R/site-library’\n",
            "(as ‘lib’ is unspecified)\n",
            "\n",
            "Installing package into ‘/usr/local/lib/R/site-library’\n",
            "(as ‘lib’ is unspecified)\n",
            "\n",
            "Installing package into ‘/usr/local/lib/R/site-library’\n",
            "(as ‘lib’ is unspecified)\n",
            "\n",
            "Warning message:\n",
            "“package ‘googletoken’ is not available for this version of R\n",
            "\n",
            "A version of this package for your version of R might be available elsewhere,\n",
            "see the ideas at\n",
            "https://cran.r-project.org/doc/manuals/r-patched/R-admin.html#Installing-packages”\n",
            "Installing package into ‘/usr/local/lib/R/site-library’\n",
            "(as ‘lib’ is unspecified)\n",
            "\n",
            "Installing package into ‘/usr/local/lib/R/site-library’\n",
            "(as ‘lib’ is unspecified)\n",
            "\n",
            "also installing the dependency ‘plogr’\n",
            "\n",
            "\n",
            "Installing package into ‘/usr/local/lib/R/site-library’\n",
            "(as ‘lib’ is unspecified)\n",
            "\n"
          ]
        }
      ]
    },
    {
      "cell_type": "markdown",
      "source": [
        "# New Section"
      ],
      "metadata": {
        "id": "MGk7RPdkt5zg"
      }
    },
    {
      "cell_type": "code",
      "execution_count": 2,
      "metadata": {
        "colab": {
          "base_uri": "https://localhost:8080/"
        },
        "id": "ohy4torjkZq2",
        "outputId": "608ce488-a0d9-40db-f0e9-b64867fa1fbd"
      },
      "outputs": [
        {
          "output_type": "stream",
          "name": "stderr",
          "text": [
            "Linking to GEOS 3.10.2, GDAL 3.4.3, PROJ 8.2.1; sf_use_s2() is TRUE\n",
            "\n",
            "Loading required package: sp\n",
            "\n",
            "The legacy packages maptools, rgdal, and rgeos, underpinning the sp package,\n",
            "which was just loaded, will retire in October 2023.\n",
            "Please refer to R-spatial evolution reports for details, especially\n",
            "https://r-spatial.org/r/2023/05/15/evolution4.html.\n",
            "It may be desirable to make the sf package available;\n",
            "package maintainers should consider adding sf to Suggests:.\n",
            "The sp package is now running under evolution status 2\n",
            "     (status 2 uses the sf package in place of rgdal)\n",
            "\n"
          ]
        }
      ],
      "source": [
        "library(ggplot2)\n",
        "library(sf)\n",
        "library(magrittr)\n",
        "library(data.table)\n",
        "library(raster)\n",
        "library(exactextractr)\n",
        "library(googledrive)\n",
        "library(DBI)"
      ]
    },
    {
      "cell_type": "code",
      "source": [
        "# https://drive.google.com/file/d/1DByagFnHZbFeMyGtVSBj1biXkAy0h__w/view?usp=drive_link\n",
        "drive_download(file = as_id('1DByagFnHZbFeMyGtVSBj1biXkAy0h__w'), path =  '/content/CCAP/Niihau_2005_CCAP.tif', overwrite = TRUE)\n",
        "\n",
        "# https://drive.google.com/file/d/1V78JNUFb6bgA2wrwqY2EelF5On7C5Uo3/view?usp=drive_link\n",
        "drive_download(file = as_id('1V78JNUFb6bgA2wrwqY2EelF5On7C5Uo3'), path =  '/content/CCAP/Niihau_2005_LS.tif', overwrite = TRUE)"
      ],
      "metadata": {
        "colab": {
          "base_uri": "https://localhost:8080/"
        },
        "id": "se5urJhf5GL6",
        "outputId": "d05c04a8-d8fc-4141-8f01-17f1851b61aa"
      },
      "execution_count": 6,
      "outputs": [
        {
          "output_type": "stream",
          "name": "stderr",
          "text": [
            "File downloaded:\n",
            "\n",
            "• \u001b[36mhi_niihau_2005_ccap_hr_land_cover.img\u001b[39m \u001b[90m<id: 1DByagFnHZbFeMyGtVSBj1biXkAy0h__w>\u001b[39m\n",
            "\n",
            "Saved locally as:\n",
            "\n",
            "• \u001b[34m/content/CCAP/Niihau_2005_CCAP.tif\u001b[39m\n",
            "\n",
            "File downloaded:\n",
            "\n",
            "• \u001b[36m7.tif\u001b[39m \u001b[90m<id: 1V78JNUFb6bgA2wrwqY2EelF5On7C5Uo3>\u001b[39m\n",
            "\n",
            "Saved locally as:\n",
            "\n",
            "• \u001b[34m/content/CCAP/Niihau_2005_LS.tif\u001b[39m\n",
            "\n"
          ]
        }
      ]
    },
    {
      "cell_type": "code",
      "source": [
        "ccap_raster <- stack('/content/CCAP/Niihau_2005_CCAP.tif')\n",
        "ls_raster <- stack('/content/CCAP/Niihau_2005_LS.tif')"
      ],
      "metadata": {
        "id": "VpVS_GIgCZOU"
      },
      "execution_count": 7,
      "outputs": []
    },
    {
      "cell_type": "code",
      "source": [
        "ls_raster_extended <- extend(ls_raster, projectExtent(ccap_raster,ls_raster), value=NA)"
      ],
      "metadata": {
        "id": "XhmhaXUYFW37"
      },
      "execution_count": 111,
      "outputs": []
    },
    {
      "cell_type": "code",
      "source": [
        "ccap_raster\n",
        "ls_raster"
      ],
      "metadata": {
        "id": "mEa1EkTwDVfC",
        "outputId": "c5215570-0eba-4bc2-9f53-1c1d77364378",
        "colab": {
          "base_uri": "https://localhost:8080/",
          "height": 265
        }
      },
      "execution_count": 8,
      "outputs": [
        {
          "output_type": "display_data",
          "data": {
            "text/plain": [
              "class      : RasterStack \n",
              "dimensions : 14683, 11146, 163656718, 1  (nrow, ncol, ncell, nlayers)\n",
              "resolution : 2.4, 2.4  (x, y)\n",
              "extent     : 366932.4, 393682.8, 2402029, 2437268  (xmin, xmax, ymin, ymax)\n",
              "crs        : +proj=utm +zone=4 +datum=NAD83 +units=m +no_defs \n",
              "names      : names \n",
              "min values :     0 \n",
              "max values :    21 \n"
            ]
          },
          "metadata": {}
        },
        {
          "output_type": "display_data",
          "data": {
            "text/plain": [
              "class      : RasterStack \n",
              "dimensions : 1089, 1013, 1103157, 9  (nrow, ncol, ncell, nlayers)\n",
              "resolution : 0.0002694946, 0.0002694946  (x, y)\n",
              "extent     : -160.2868, -160.0138, 21.74471, 22.03819  (xmin, xmax, ymin, ymax)\n",
              "crs        : +proj=longlat +datum=WGS84 +no_defs \n",
              "names      : B1, B2, B3, B4, B5, B6, B7, B10, B11 \n"
            ]
          },
          "metadata": {}
        }
      ]
    },
    {
      "cell_type": "code",
      "source": [
        "ccap_raster %>% plot"
      ],
      "metadata": {
        "id": "Soe7adURCzrf",
        "outputId": "df2adf69-f3ec-4466-c447-0bcd27b23824",
        "colab": {
          "base_uri": "https://localhost:8080/",
          "height": 437
        }
      },
      "execution_count": 9,
      "outputs": [
        {
          "output_type": "display_data",
          "data": {
            "text/plain": [
              "Plot with title “”"
            ],
            "image/png": "[encoded data removed]"
          },
          "metadata": {
            "image/png": {
              "width": 420,
              "height": 420
            }
          }
        }
      ]
    },
    {
      "cell_type": "code",
      "source": [
        "ncol(ccap_raster)\n",
        "\n",
        "nrow(ccap_raster)\n",
        "\n",
        "\n",
        "y_end <- c(seq(1,ccap_raster %>% nrow,512),nrow(ccap_raster))[-1]\n",
        "x_end <- c(seq(1,ccap_raster %>% ncol,512),ncol(ccap_raster))[-1]\n",
        "\n",
        "extract_grid <- expand.grid(x_end,y_end) %>% data.table\n",
        "\n",
        "names(extract_grid) <- c('x_end','y_end')\n",
        "\n",
        "extract_grid$x_org <- extract_grid$x_end - 512\n",
        "extract_grid$y_org <- extract_grid$y_end - 512\n",
        "\n",
        "extract_grid$id <- 1:nrow(extract_grid)"
      ],
      "metadata": {
        "colab": {
          "base_uri": "https://localhost:8080/",
          "height": 121
        },
        "id": "BbpM2KyNkAd4",
        "outputId": "4ddbf5b1-602a-460f-aab4-c6db7d2cbac2"
      },
      "execution_count": 134,
      "outputs": [
        {
          "output_type": "display_data",
          "data": {
            "text/html": [
              "11146"
            ],
            "text/markdown": "11146",
            "text/latex": "11146",
            "text/plain": [
              "[1] 11146"
            ]
          },
          "metadata": {}
        },
        {
          "output_type": "display_data",
          "data": {
            "text/html": [
              "14683"
            ],
            "text/markdown": "14683",
            "text/latex": "14683",
            "text/plain": [
              "[1] 14683"
            ]
          },
          "metadata": {}
        },
        {
          "output_type": "display_data",
          "data": {
            "text/html": [
              "<style>\n",
              ".list-inline {list-style: none; margin:0; padding: 0}\n",
              ".list-inline>li {display: inline-block}\n",
              ".list-inline>li:not(:last-child)::after {content: \"\\00b7\"; padding: 0 .5ex}\n",
              "</style>\n",
              "<ol class=list-inline><li>513</li><li>1025</li><li>1537</li><li>2049</li><li>2561</li><li>3073</li><li>3585</li><li>4097</li><li>4609</li><li>5121</li><li>5633</li><li>6145</li><li>6657</li><li>7169</li><li>7681</li><li>8193</li><li>8705</li><li>9217</li><li>9729</li><li>10241</li><li>10753</li><li>11146</li></ol>\n"
            ],
            "text/markdown": "1. 513\n2. 1025\n3. 1537\n4. 2049\n5. 2561\n6. 3073\n7. 3585\n8. 4097\n9. 4609\n10. 5121\n11. 5633\n12. 6145\n13. 6657\n14. 7169\n15. 7681\n16. 8193\n17. 8705\n18. 9217\n19. 9729\n20. 10241\n21. 10753\n22. 11146\n\n\n",
            "text/latex": "\\begin{enumerate*}\n\\item 513\n\\item 1025\n\\item 1537\n\\item 2049\n\\item 2561\n\\item 3073\n\\item 3585\n\\item 4097\n\\item 4609\n\\item 5121\n\\item 5633\n\\item 6145\n\\item 6657\n\\item 7169\n\\item 7681\n\\item 8193\n\\item 8705\n\\item 9217\n\\item 9729\n\\item 10241\n\\item 10753\n\\item 11146\n\\end{enumerate*}\n",
            "text/plain": [
              " [1]   513  1025  1537  2049  2561  3073  3585  4097  4609  5121  5633  6145\n",
              "[13]  6657  7169  7681  8193  8705  9217  9729 10241 10753 11146"
            ]
          },
          "metadata": {}
        },
        {
          "output_type": "display_data",
          "data": {
            "text/html": [
              "<style>\n",
              ".list-inline {list-style: none; margin:0; padding: 0}\n",
              ".list-inline>li {display: inline-block}\n",
              ".list-inline>li:not(:last-child)::after {content: \"\\00b7\"; padding: 0 .5ex}\n",
              "</style>\n",
              "<ol class=list-inline><li>513</li><li>1025</li><li>1537</li><li>2049</li><li>2561</li><li>3073</li><li>3585</li><li>4097</li><li>4609</li><li>5121</li><li>5633</li><li>6145</li><li>6657</li><li>7169</li><li>7681</li><li>8193</li><li>8705</li><li>9217</li><li>9729</li><li>10241</li><li>10753</li><li>11265</li><li>11777</li><li>12289</li><li>12801</li><li>13313</li><li>13825</li><li>14337</li><li>14683</li></ol>\n"
            ],
            "text/markdown": "1. 513\n2. 1025\n3. 1537\n4. 2049\n5. 2561\n6. 3073\n7. 3585\n8. 4097\n9. 4609\n10. 5121\n11. 5633\n12. 6145\n13. 6657\n14. 7169\n15. 7681\n16. 8193\n17. 8705\n18. 9217\n19. 9729\n20. 10241\n21. 10753\n22. 11265\n23. 11777\n24. 12289\n25. 12801\n26. 13313\n27. 13825\n28. 14337\n29. 14683\n\n\n",
            "text/latex": "\\begin{enumerate*}\n\\item 513\n\\item 1025\n\\item 1537\n\\item 2049\n\\item 2561\n\\item 3073\n\\item 3585\n\\item 4097\n\\item 4609\n\\item 5121\n\\item 5633\n\\item 6145\n\\item 6657\n\\item 7169\n\\item 7681\n\\item 8193\n\\item 8705\n\\item 9217\n\\item 9729\n\\item 10241\n\\item 10753\n\\item 11265\n\\item 11777\n\\item 12289\n\\item 12801\n\\item 13313\n\\item 13825\n\\item 14337\n\\item 14683\n\\end{enumerate*}\n",
            "text/plain": [
              " [1]   513  1025  1537  2049  2561  3073  3585  4097  4609  5121  5633  6145\n",
              "[13]  6657  7169  7681  8193  8705  9217  9729 10241 10753 11265 11777 12289\n",
              "[25] 12801 13313 13825 14337 14683"
            ]
          },
          "metadata": {}
        }
      ]
    },
    {
      "cell_type": "code",
      "source": [
        "result_dt <-\n",
        "1:nrow(extract_grid) %>% lapply(function(x){\n",
        "\n",
        "  nrow <- 0\n",
        "  ncol <- 0\n",
        "  i <- 0\n",
        "  while(nrow !=512 | ncol != 512){\n",
        "    i <- i + 1\n",
        "    # Calculate the geographic coordinates for the cropping extent\n",
        "    xmin <- xFromCol(ccap_raster, extract_grid[x,]$x_org) + rnorm(1)*.01*2.4\n",
        "    xmax <- xFromCol(ccap_raster, extract_grid[x,]$x_end) + rnorm(1)*.01*2.4\n",
        "    ymin <- yFromRow(ccap_raster, extract_grid[x,]$y_end) + rnorm(1)*.01*2.4 # Note row_max as raster origin is top-left\n",
        "    ymax <- yFromRow(ccap_raster, extract_grid[x,]$y_org) + rnorm(1)*.01*2.4 # Note row_min as raster origin is top-left\n",
        "\n",
        "    e <- extent(xmin, xmax, ymin, ymax)\n",
        "\n",
        "    ccap_cropped_raster <- crop(ccap_raster, e)\n",
        "\n",
        "    nrow <- nrow(ccap_cropped_raster)\n",
        "    ncol <- ncol(ccap_cropped_raster)\n",
        "\n",
        "\n",
        "    # print(dim(ccap_cropped_raster))\n",
        "    if(i>1000){return('failed to converge')}\n",
        "    }\n",
        "\n",
        "  ls_cropped_raster <- crop(ls_raster_extended, projectExtent(ccap_cropped_raster,ls_raster))\n",
        "\n",
        "  ls_resampled_raster <- projectRaster(ls_cropped_raster,ccap_cropped_raster)\n",
        "  print(ls_resampled_raster)\n",
        "  pixel_table <- (table(values(ccap_cropped_raster))/ncell(ccap_cropped_raster)) %>% data.table\n",
        "\n",
        "  names(pixel_table) <- c('label','percent')\n",
        "\n",
        "  out_dt <- data.table(extract_grid[x,],xmin = xmin,xmax =xmax,ymin= ymin,ymax, pixel_table)\n",
        "\n",
        "  if(ls_resampled_raster %>% nrow ==512 & ls_resampled_raster %>% ncol ==512 & ccap_cropped_raster%>% nrow ==512 & ccap_cropped_raster%>% ncol ==512){\n",
        "    ls_cropped_raster %>%\n",
        "    writeRaster(., paste('/content/Training Data/Niihau/Images/',extract_grid[x,]$x_org,'_',extract_grid[x,]$y_org,'.tif',sep=''),overwrite=T)\n",
        "\n",
        "    ccap_cropped_raster %>%\n",
        "    writeRaster(., paste('/content/Training Data/Niihau/Labels/',extract_grid[x,]$x_org,'_',extract_grid[x,]$y_org,'.tif',sep=''),overwrite=T)\n",
        "  }else(print('uh oh'))\n",
        "\n",
        "  return(out_dt)\n",
        "})\n",
        "result_dt[ result_dt %>% lapply(function(x){is.data.table(x)}) %>% unlist] %>% rbindlist %>%\n",
        "fwrite('/content/Training Data/Metadata/Niihau.csv')"
      ],
      "metadata": {
        "id": "v3NDtnuuDTVK"
      },
      "execution_count": null,
      "outputs": []
    },
    {
      "cell_type": "code",
      "source": [],
      "metadata": {
        "id": "M0T2xbuKO3bJ"
      },
      "execution_count": 176,
      "outputs": []
    }
  ]
}