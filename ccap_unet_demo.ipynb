{
  "cells": [
    {
      "cell_type": "markdown",
      "metadata": {
        "id": "view-in-github",
        "colab_type": "text"
      },
      "source": [
        "<a href=\"https://colab.research.google.com/github/aml7hawaiiedu/CCAPLandCoverProject/blob/main/ccap_unet_demo.ipynb\" target=\"_parent\"><img src=\"https://colab.research.google.com/assets/colab-badge.svg\" alt=\"Open In Colab\"/></a>"
      ]
    },
    {
      "cell_type": "markdown",
      "metadata": {
        "id": "m6-_rOVHH3if"
      },
      "source": [
        "# Introduction\n",
        "\n",
        "This is Amanda's version of UNET_regression_demo_whp (Aron's original code)\n",
        "  \n",
        "This is an Earth Engine <> TenserFlow demonstration notebook. Suppose you want to predict a continuous output (regression) from a stack of continuous inputs. In this example, the output is impervious surface area from [NLCD](https://www.mrlc.gov/data) and the input is a Landsat 8 composite. The model is a [fully convolutional neural network  (FCNN)](https://www.cv-foundation.org/openaccess/content_cvpr_2015/papers/Long_Fully_Convolutional_Networks_2015_CVPR_paper.pdf), specifically [U-net](https://arxiv.org/abs/1505.04597). "
      ]
    },
    {
      "cell_type": "code",
      "execution_count": 1,
      "metadata": {
        "id": "okAzQzK0J4HS"
      },
      "outputs": [],
      "source": [
        "# Google Cloud Platform authentication.\n",
        "from google.colab import auth\n",
        "auth.authenticate_user()"
      ]
    },
    {
      "cell_type": "code",
      "execution_count": 2,
      "metadata": {
        "colab": {
          "base_uri": "https://localhost:8080/"
        },
        "id": "eXQd9K91KLIx",
        "outputId": "7a68fa9e-af57-4fdd-e329-f3e681183d08"
      },
      "outputs": [
        {
          "output_type": "stream",
          "name": "stdout",
          "text": [
            "To authorize access needed by Earth Engine, open the following URL in a web browser and follow the instructions. If the web browser does not start automatically, please manually browse the URL below.\n",
            "\n",
            "    https://code.earthengine.google.com/client-auth?scopes=https%3A//www.googleapis.com/auth/earthengine%20https%3A//www.googleapis.com/auth/devstorage.full_control&request_id=Pe9Hw4pog6o39kRptrk6Hx-5O4kF7nqMoJd58D7J_bw&tc=Bym3QALUW8SbfeEjp7PoCdQhNFnsh66CdIR7jsUXBCc&cc=75Yn-5raX_Dg4nOcQs3KlVWrHfCAO2_3OUtram0q0SA\n",
            "\n",
            "The authorization workflow will generate a code, which you should paste in the box below.\n",
            "Enter verification code: 4/1AVHEtk6vkOh8nk7slWgmA_5XXAYjN8_-pMXrOgmXoHZdwYsok6V3XFP-CpE\n",
            "\n",
            "Successfully saved authorization token.\n"
          ]
        }
      ],
      "source": [
        "# Import Google Earth Engine Python API, authenticate user's credentials, and initialize the Earth Engine library.\n",
        "import ee\n",
        "ee.Authenticate()\n",
        "ee.Initialize()"
      ]
    },
    {
      "cell_type": "code",
      "execution_count": 3,
      "metadata": {
        "colab": {
          "base_uri": "https://localhost:8080/"
        },
        "id": "-N6SCzKDKc5g",
        "outputId": "e721bc87-70ff-4384-b6b2-056865575cbe"
      },
      "outputs": [
        {
          "output_type": "stream",
          "name": "stdout",
          "text": [
            "2.12.0\n"
          ]
        }
      ],
      "source": [
        "# Tensorflow is an open-source machine learning library developed by Google. It is wildly used for building deep learning models.\n",
        "# Print the version.\n",
        "import tensorflow as tf\n",
        "print(tf.__version__)"
      ]
    },
    {
      "cell_type": "code",
      "execution_count": 4,
      "metadata": {
        "colab": {
          "base_uri": "https://localhost:8080/"
        },
        "id": "c3qKGJ7evWG7",
        "outputId": "4cea2511-f513-4a94-bb3c-3afba19b66d9"
      },
      "outputs": [
        {
          "output_type": "stream",
          "name": "stdout",
          "text": [
            "0.14.0\n"
          ]
        }
      ],
      "source": [
        "# Folium is a Python library used for creating interactive maps and visualizations.\n",
        "# Print the version. \n",
        "import folium\n",
        "print(folium.__version__)"
      ]
    },
    {
      "cell_type": "code",
      "execution_count": 5,
      "metadata": {
        "id": "cGuJGj71zX2a",
        "colab": {
          "base_uri": "https://localhost:8080/"
        },
        "outputId": "b1887b78-3982-4236-f9ff-9952193adf77"
      },
      "outputs": [
        {
          "output_type": "stream",
          "name": "stdout",
          "text": [
            "remote_sensing_fuckit_bucket\n"
          ]
        }
      ],
      "source": [
        "# Name of the Google Cloud Storage (GCS) bucket where data will be stored or accessed from.\n",
        "# GCS is cloud-based object storage service used to store and access large amounts of data in a highly scalable and durable manner. \n",
        "# It is common to define a bucket which serves as a top-level container. \n",
        "BUCKET = 'remote_sensing_fuckit_bucket'\n",
        "print(BUCKET)"
      ]
    },
    {
      "cell_type": "code",
      "execution_count": 6,
      "metadata": {
        "id": "bWSU2lVyzYVI",
        "colab": {
          "base_uri": "https://localhost:8080/"
        },
        "outputId": "5a213383-e8c5-4137-d615-752b914fd8c5"
      },
      "outputs": [
        {
          "output_type": "stream",
          "name": "stdout",
          "text": [
            "b1\n"
          ]
        }
      ],
      "source": [
        "# Name of the folder that will be used to store data related to the wetland U-Net model.\n",
        "# Name of the subfolder within 'FOLDER' directory that will be used to store training patches or data used to train the wetland classification model. \n",
        "# Name of the subfolder within 'FOLDER' directory that will be used to store evaluation patches or data used to test the wetland classification model. \n",
        "FOLDER = 'wetland_unet'\n",
        "TRAINING_BASE = 'training_patches'\n",
        "EVAL_BASE = 'eval_patches'\n",
        "\n",
        "# These lines of code specify the input features for the wetland U-Net model and the response variable that the model will be trained to predict.\n",
        "# opticalBands is assigned as a list of string values, which correspond to the names of the optical bands that are present in the Landsat satellite imagery.\n",
        "# thermalBands is assigned a list of string values, which correspond to the names of the optical bands that are present in the Landsat satellite imagery.\n",
        "# BANDS is assigned the concatenation of the 'opticalBands' and 'thermalBands'. This represents a list of all the bands that will be used as features in the U-Net model.\n",
        "# RESPONSE is assigned the string value 'b1' which corresponds to the name of the response variable that the U-Net model will be trained to predict. \n",
        "# FEATURES is assigned the concatenation of the 'BANDS' list and the 'RESPONSE' variables. This represents a list of all the features that will be used to train the U-Net model. \n",
        "opticalBands = ['B1', 'B2', 'B3', 'B4', 'B5', 'B6', 'B7']\n",
        "thermalBands = ['B10', 'B11']\n",
        "BANDS = opticalBands + thermalBands\n",
        "RESPONSE = 'b1'\n",
        "FEATURES = BANDS + [RESPONSE]\n",
        "\n",
        "# Specify the inputs\n",
        "# These lines of code specify the size and shape of patches that the U-Net model expects as input, as well as a dictionary that maps featue names to columns in an TenserFlow dataset. \n",
        "# KERNEL_SIZE is assigned the integer value '128' which represents the size of patches that the U-Net model expects as input.\n",
        "# KERNEL_SHAPE is assigned a list contning two elements, both of which are equal to 'KERNEL_SIZE'. This represents the shape of the patches the U-Net model expects as an input.\n",
        "# COLUMNS is assigned a list of TenserFlow 'fixedLenFeature' objects, which specify the expected shape and data type of each feature column in a Tenserflow dataset. \n",
        "  # 'shape' is set to 'KERNEL_SHAPE' and 'dtype' is set to 'tf.float32'. The list comprehension used here creates one 'fixedLenFeature' object for each feature in the 'FEATURES' list/ \n",
        "# FEATURE_DICT is assigned a Python dictionary that maps feature names to their corresponding columns in a TenserFlow dataset. \n",
        "  # 'zip' is used to create tuples parining each feature name from the 'FEATURES' list with its corresponding 'fixedLenFeature' object from the 'COLUMNS' list. \n",
        "  # The 'dict' function is then used to convert this list of tuples into a dictionary. \n",
        "KERNEL_SIZE = 128\n",
        "KERNEL_SHAPE = [KERNEL_SIZE, KERNEL_SIZE]\n",
        "COLUMNS = [\n",
        "  tf.io.FixedLenFeature(shape=KERNEL_SHAPE, dtype=tf.float32) for k in FEATURES\n",
        "]\n",
        "FEATURES_DICT = dict(zip(FEATURES, COLUMNS))\n",
        "\n",
        "# Define the size of the training and evaluation datasets that will be used to train and evaluate the U-Net model. \n",
        "# TRAIN_SIZE is assigned the integer value '1600' which represents the size of the training dataset.\n",
        "# EVAL_SIZE is assigned the integer value '800' which represents the size of the evaluation dataset. \n",
        "TRAIN_SIZE = 1600\n",
        "EVAL_SIZE = 800\n",
        "\n",
        "# Specify model training parameters.\n",
        "# Define model training parameters that will be used to train and evaluate the U-Net model. \n",
        "# BATCH_SIZE represents the number of training examples that will be used in each training iteration. \n",
        "# EPOCHS represents the number of times that each training dataset will be used to train the model. \n",
        "# BUFFER_SIZE represents the number of elements from the training dataset that will be pre-fetched and buffered in order to optimize data reading during training. \n",
        "# OPTIMIZER specifies the Stochastic Gradient Descent optimization algorithm will be used during training. \n",
        "  # ? what other optimizers would work? Is this the best one for this type of model?\n",
        "# LOSS specifies the Mean Squared Error Loss function will be used during training. \n",
        "# METRICS is asigned a list containing the sting value 'RootMeanSquareError' which specifies RMSE metric will be used to evaluate the performance of the model during training. \n",
        "BATCH_SIZE = 16\n",
        "EPOCHS = 10\n",
        "BUFFER_SIZE = 2000\n",
        "OPTIMIZER = 'adam'\n",
        "LOSS = 'SparseCategoricalCrossentropy'\n",
        "METRICS = ['acc']\n",
        "\n",
        "print(RESPONSE)"
      ]
    },
    {
      "cell_type": "code",
      "execution_count": 38,
      "metadata": {
        "colab": {
          "base_uri": "https://localhost:8080/",
          "height": 1000
        },
        "id": "tnLLLqcmzeVR",
        "outputId": "034ea06e-e8be-4b73-9d0b-fc241276ffcc"
      },
      "outputs": [
        {
          "output_type": "execute_result",
          "data": {
            "text/plain": [
              "<folium.folium.Map at 0x7fb42026f280>"
            ],
            "text/html": [
              "<div style=\"width:100%;\"><div style=\"position:relative;width:100%;height:0;padding-bottom:60%;\"><span style=\"color:#565656\">Make this Notebook Trusted to load map: File -> Trust Notebook</span><iframe srcdoc=\"&lt;!DOCTYPE html&gt;\n",
              "&lt;html&gt;\n",
              "&lt;head&gt;\n",
              "    \n",
              "    &lt;meta http-equiv=&quot;content-type&quot; content=&quot;text/html; charset=UTF-8&quot; /&gt;\n",
              "    \n",
              "        &lt;script&gt;\n",
              "            L_NO_TOUCH = false;\n",
              "            L_DISABLE_3D = false;\n",
              "        &lt;/script&gt;\n",
              "    \n",
              "    &lt;style&gt;html, body {width: 100%;height: 100%;margin: 0;padding: 0;}&lt;/style&gt;\n",
              "    &lt;style&gt;#map {position:absolute;top:0;bottom:0;right:0;left:0;}&lt;/style&gt;\n",
              "    &lt;script src=&quot;https://cdn.jsdelivr.net/npm/leaflet@1.9.3/dist/leaflet.js&quot;&gt;&lt;/script&gt;\n",
              "    &lt;script src=&quot;https://code.jquery.com/jquery-1.12.4.min.js&quot;&gt;&lt;/script&gt;\n",
              "    &lt;script src=&quot;https://cdn.jsdelivr.net/npm/bootstrap@5.2.2/dist/js/bootstrap.bundle.min.js&quot;&gt;&lt;/script&gt;\n",
              "    &lt;script src=&quot;https://cdnjs.cloudflare.com/ajax/libs/Leaflet.awesome-markers/2.0.2/leaflet.awesome-markers.js&quot;&gt;&lt;/script&gt;\n",
              "    &lt;link rel=&quot;stylesheet&quot; href=&quot;https://cdn.jsdelivr.net/npm/leaflet@1.9.3/dist/leaflet.css&quot;/&gt;\n",
              "    &lt;link rel=&quot;stylesheet&quot; href=&quot;https://cdn.jsdelivr.net/npm/bootstrap@5.2.2/dist/css/bootstrap.min.css&quot;/&gt;\n",
              "    &lt;link rel=&quot;stylesheet&quot; href=&quot;https://netdna.bootstrapcdn.com/bootstrap/3.0.0/css/bootstrap.min.css&quot;/&gt;\n",
              "    &lt;link rel=&quot;stylesheet&quot; href=&quot;https://cdn.jsdelivr.net/npm/@fortawesome/fontawesome-free@6.2.0/css/all.min.css&quot;/&gt;\n",
              "    &lt;link rel=&quot;stylesheet&quot; href=&quot;https://cdnjs.cloudflare.com/ajax/libs/Leaflet.awesome-markers/2.0.2/leaflet.awesome-markers.css&quot;/&gt;\n",
              "    &lt;link rel=&quot;stylesheet&quot; href=&quot;https://cdn.jsdelivr.net/gh/python-visualization/folium/folium/templates/leaflet.awesome.rotate.min.css&quot;/&gt;\n",
              "    \n",
              "            &lt;meta name=&quot;viewport&quot; content=&quot;width=device-width,\n",
              "                initial-scale=1.0, maximum-scale=1.0, user-scalable=no&quot; /&gt;\n",
              "            &lt;style&gt;\n",
              "                #map_d7cb1bb02153da3a2c71311b9488f463 {\n",
              "                    position: relative;\n",
              "                    width: 100.0%;\n",
              "                    height: 100.0%;\n",
              "                    left: 0.0%;\n",
              "                    top: 0.0%;\n",
              "                }\n",
              "                .leaflet-container { font-size: 1rem; }\n",
              "            &lt;/style&gt;\n",
              "        \n",
              "&lt;/head&gt;\n",
              "&lt;body&gt;\n",
              "    \n",
              "    \n",
              "            &lt;div class=&quot;folium-map&quot; id=&quot;map_d7cb1bb02153da3a2c71311b9488f463&quot; &gt;&lt;/div&gt;\n",
              "        \n",
              "&lt;/body&gt;\n",
              "&lt;script&gt;\n",
              "    \n",
              "    \n",
              "            var map_d7cb1bb02153da3a2c71311b9488f463 = L.map(\n",
              "                &quot;map_d7cb1bb02153da3a2c71311b9488f463&quot;,\n",
              "                {\n",
              "                    center: [21.4, -158.0],\n",
              "                    crs: L.CRS.EPSG3857,\n",
              "                    zoom: 10,\n",
              "                    zoomControl: true,\n",
              "                    preferCanvas: false,\n",
              "                }\n",
              "            );\n",
              "\n",
              "            \n",
              "\n",
              "        \n",
              "    \n",
              "            var tile_layer_a8567b7d4f0abbeb704f19508ebab597 = L.tileLayer(\n",
              "                &quot;https://{s}.tile.openstreetmap.org/{z}/{x}/{y}.png&quot;,\n",
              "                {&quot;attribution&quot;: &quot;Data by \\u0026copy; \\u003ca target=\\&quot;_blank\\&quot; href=\\&quot;http://openstreetmap.org\\&quot;\\u003eOpenStreetMap\\u003c/a\\u003e, under \\u003ca target=\\&quot;_blank\\&quot; href=\\&quot;http://www.openstreetmap.org/copyright\\&quot;\\u003eODbL\\u003c/a\\u003e.&quot;, &quot;detectRetina&quot;: false, &quot;maxNativeZoom&quot;: 18, &quot;maxZoom&quot;: 18, &quot;minZoom&quot;: 0, &quot;noWrap&quot;: false, &quot;opacity&quot;: 1, &quot;subdomains&quot;: &quot;abc&quot;, &quot;tms&quot;: false}\n",
              "            ).addTo(map_d7cb1bb02153da3a2c71311b9488f463);\n",
              "        \n",
              "    \n",
              "            var tile_layer_17cc7c6778bf4326d015651f52e11a2b = L.tileLayer(\n",
              "                &quot;https://earthengine.googleapis.com/v1alpha/projects/earthengine-legacy/maps/32b34619d2c00a1eb83c6b04e40ff5de-181c7af45ffd26bc8956c9725d1b808c/tiles/{z}/{x}/{y}&quot;,\n",
              "                {&quot;attribution&quot;: &quot;Map Data \\u0026copy; \\u003ca href=\\&quot;https://earthengine.google.com/\\&quot;\\u003eGoogle Earth Engine\\u003c/a\\u003e&quot;, &quot;detectRetina&quot;: false, &quot;maxNativeZoom&quot;: 18, &quot;maxZoom&quot;: 18, &quot;minZoom&quot;: 0, &quot;noWrap&quot;: false, &quot;opacity&quot;: 1, &quot;subdomains&quot;: &quot;abc&quot;, &quot;tms&quot;: false}\n",
              "            ).addTo(map_d7cb1bb02153da3a2c71311b9488f463);\n",
              "        \n",
              "&lt;/script&gt;\n",
              "&lt;/html&gt;\" style=\"position:absolute;width:100%;height:100%;left:0;top:0;border:none !important;\" allowfullscreen webkitallowfullscreen mozallowfullscreen></iframe></div></div>"
            ]
          },
          "metadata": {},
          "execution_count": 38
        }
      ],
      "source": [
        "# Use Landsat 8 surface reflectance data.\n",
        "# Use EE Python API to initialize an image collection. \n",
        "# Specify Landsat 8 surface reflectance image collection. \n",
        "# l8sr is the name of the object to be used in subsequent operations.\n",
        "\n",
        "l8sr = ee.ImageCollection('LANDSAT/LC08/C01/T1_SR')\n",
        "\n",
        "\n",
        "# This code defines a function 'maskL8sr' that will be used to apply cloud masking to Landsat 8 surface reflectance images.\n",
        "def maskL8sr(image):\n",
        "  cloudShadowBitMask = ee.Number(2).pow(3).int()\n",
        "  cloudsBitMask = ee.Number(2).pow(5).int()\n",
        "  qa = image.select('pixel_qa')\n",
        "  mask1 = qa.bitwiseAnd(cloudShadowBitMask).eq(0).And(\n",
        "    qa.bitwiseAnd(cloudsBitMask).eq(0))\n",
        "  mask2 = image.mask().reduce('min')\n",
        "  mask3 = image.select(opticalBands).gt(0).And(\n",
        "          image.select(opticalBands).lt(10000)).reduce('min')\n",
        "  mask = mask1.And(mask2).And(mask3)\n",
        "  return image.select(opticalBands).divide(10000).addBands(\n",
        "          image.select(thermalBands).divide(10).clamp(273.15, 373.15)\n",
        "            .subtract(273.15).divide(100)).updateMask(mask)\n",
        "\n",
        "\n",
        "\n",
        "# The image input data is a cloud-masked median composite.\n",
        "# Filter the l8sr image collection by date, selecting only images from the date range identified. \n",
        "# Apply the mask function to each image in the resulting collection using the map() method. \n",
        "  # This function applies a mask to each image and rescales the reflectance and temperature bands to a 0-1 range. \n",
        "# Calculate the median value of the resulting image collection using the median() method.\n",
        "# Assign the variable name; in this case 'ls_2017'. \n",
        "# The resulting 'ls_2017' image will be used for training and evaluation of our U-Net model. \n",
        "\n",
        "ls_2017 = l8sr.filterDate('2017-01-01', '2017-12-31').map(maskL8sr).median()\n",
        "\n",
        "# Create single mosaic\n",
        "# ls_3yr_mosaic =  ls_2017.addBands(ls_2018)\n",
        "# ls_3yr_mosaic = ls_3yr_mosaic.addBands(ls_2019)\n",
        "\n",
        "# Reset band names to new stack\n",
        "# BANDS = ls_3yr_mosaic.bandNames().getInfo()\n",
        "# FEATURES = BANDS + [RESPONSE]\n",
        "\n",
        "# Use folium to visualize the imagery.\n",
        "# map = folium.Map(location=[21.4, -158.])\n",
        "\n",
        "\n",
        "\n",
        "# Use 'getMapID()' method to get a map ID for the 'ls_2017' image. \n",
        "# Specify that we want to visualize band 2 of the image using 'bands':['B2']. Set the min and max.\n",
        "# Create a folium map object centered at specific location using 'folium.Map()'. \n",
        "# Add a tile layer to the map using 'folium.TileLayer()' method, specifying the URL format of the tiles using the 'tiles' argument and adding 'attr' attribution info. \n",
        "# Set the overlay flag to 'True' and provide a name for the layer using 'name'. \n",
        "# Finally, add the tile layer to the map using '.add_to()' method. \n",
        "  # This allows us to visualize the 'ls_2017' image in the folium map. \n",
        "\n",
        "mapid_17 =ls_2017.getMapId({'bands': ['B2'], 'min': 0, 'max': 0.1})\n",
        "map = folium.Map(location=[21.4, -158.])\n",
        "folium.TileLayer(\n",
        "    tiles=mapid_17['tile_fetcher'].url_format,\n",
        "    attr = 'Map Data &copy; <a href=\"https://earthengine.google.com/\">Google Earth Engine</a>',\n",
        "    overlay=True,\n",
        "    name = '17 median composite',\n",
        "    ).add_to(map)\n",
        "map\n",
        "\n",
        "\n",
        "\n",
        "\n",
        "\n"
      ]
    },
    {
      "cell_type": "code",
      "execution_count": null,
      "metadata": {
        "id": "Slxl78VA2J8A"
      },
      "outputs": [],
      "source": []
    },
    {
      "cell_type": "code",
      "execution_count": 39,
      "metadata": {
        "id": "I4X7EyYwv6m0",
        "colab": {
          "base_uri": "https://localhost:8080/"
        },
        "outputId": "88682d66-09c9-4a6a-ea56-40ac41192fc7"
      },
      "outputs": [
        {
          "output_type": "stream",
          "name": "stdout",
          "text": [
            "<function oneHot at 0x7fb4202a9a60>\n"
          ]
        }
      ],
      "source": [
        "# One Hot Encoding function.\n",
        "# 'oneHot()' function is used for One Hot Encoding of an image. \n",
        "  # Each pixel in the image is replaced by a binary vector of length 'n' where 'n' is the number of classes in the image. \n",
        "# image : image to be encoded\n",
        "# code : the class code that will be encoded as '1' in the output, while all other classes are encoded as '0'\n",
        "# The function compares each pixel value in the input 'image' with the 'code' value using the 'ee.image.eq()' finction. \n",
        "# The 'ee.image.eq()' function returns a binary image with the same dimensions as the input image, where each pixel is '1' if the input pixel is equal to the given 'code' value and '0' otherwise. \n",
        "# The resulting binary image is returned as the 'one_hot_image' encoded. \n",
        "def oneHot(image,code = 1):\n",
        "  one_hot_image = image.eq(code)\n",
        "  return one_hot_image\n",
        "  \n",
        "print(oneHot)"
      ]
    },
    {
      "cell_type": "code",
      "execution_count": 42,
      "metadata": {
        "colab": {
          "base_uri": "https://localhost:8080/",
          "height": 1000
        },
        "id": "KxvKSAGh_7D3",
        "outputId": "bab168cd-5fc5-4c99-d3b9-4057afd2e0d4"
      },
      "outputs": [
        {
          "output_type": "execute_result",
          "data": {
            "text/plain": [
              "<folium.folium.Map at 0x7fb42026ed90>"
            ],
            "text/html": [
              "<div style=\"width:100%;\"><div style=\"position:relative;width:100%;height:0;padding-bottom:60%;\"><span style=\"color:#565656\">Make this Notebook Trusted to load map: File -> Trust Notebook</span><iframe srcdoc=\"&lt;!DOCTYPE html&gt;\n",
              "&lt;html&gt;\n",
              "&lt;head&gt;\n",
              "    \n",
              "    &lt;meta http-equiv=&quot;content-type&quot; content=&quot;text/html; charset=UTF-8&quot; /&gt;\n",
              "    \n",
              "        &lt;script&gt;\n",
              "            L_NO_TOUCH = false;\n",
              "            L_DISABLE_3D = false;\n",
              "        &lt;/script&gt;\n",
              "    \n",
              "    &lt;style&gt;html, body {width: 100%;height: 100%;margin: 0;padding: 0;}&lt;/style&gt;\n",
              "    &lt;style&gt;#map {position:absolute;top:0;bottom:0;right:0;left:0;}&lt;/style&gt;\n",
              "    &lt;script src=&quot;https://cdn.jsdelivr.net/npm/leaflet@1.9.3/dist/leaflet.js&quot;&gt;&lt;/script&gt;\n",
              "    &lt;script src=&quot;https://code.jquery.com/jquery-1.12.4.min.js&quot;&gt;&lt;/script&gt;\n",
              "    &lt;script src=&quot;https://cdn.jsdelivr.net/npm/bootstrap@5.2.2/dist/js/bootstrap.bundle.min.js&quot;&gt;&lt;/script&gt;\n",
              "    &lt;script src=&quot;https://cdnjs.cloudflare.com/ajax/libs/Leaflet.awesome-markers/2.0.2/leaflet.awesome-markers.js&quot;&gt;&lt;/script&gt;\n",
              "    &lt;link rel=&quot;stylesheet&quot; href=&quot;https://cdn.jsdelivr.net/npm/leaflet@1.9.3/dist/leaflet.css&quot;/&gt;\n",
              "    &lt;link rel=&quot;stylesheet&quot; href=&quot;https://cdn.jsdelivr.net/npm/bootstrap@5.2.2/dist/css/bootstrap.min.css&quot;/&gt;\n",
              "    &lt;link rel=&quot;stylesheet&quot; href=&quot;https://netdna.bootstrapcdn.com/bootstrap/3.0.0/css/bootstrap.min.css&quot;/&gt;\n",
              "    &lt;link rel=&quot;stylesheet&quot; href=&quot;https://cdn.jsdelivr.net/npm/@fortawesome/fontawesome-free@6.2.0/css/all.min.css&quot;/&gt;\n",
              "    &lt;link rel=&quot;stylesheet&quot; href=&quot;https://cdnjs.cloudflare.com/ajax/libs/Leaflet.awesome-markers/2.0.2/leaflet.awesome-markers.css&quot;/&gt;\n",
              "    &lt;link rel=&quot;stylesheet&quot; href=&quot;https://cdn.jsdelivr.net/gh/python-visualization/folium/folium/templates/leaflet.awesome.rotate.min.css&quot;/&gt;\n",
              "    \n",
              "            &lt;meta name=&quot;viewport&quot; content=&quot;width=device-width,\n",
              "                initial-scale=1.0, maximum-scale=1.0, user-scalable=no&quot; /&gt;\n",
              "            &lt;style&gt;\n",
              "                #map_b669e6b140bfff406431ea57a5304067 {\n",
              "                    position: relative;\n",
              "                    width: 100.0%;\n",
              "                    height: 100.0%;\n",
              "                    left: 0.0%;\n",
              "                    top: 0.0%;\n",
              "                }\n",
              "                .leaflet-container { font-size: 1rem; }\n",
              "            &lt;/style&gt;\n",
              "        \n",
              "&lt;/head&gt;\n",
              "&lt;body&gt;\n",
              "    \n",
              "    \n",
              "            &lt;div class=&quot;folium-map&quot; id=&quot;map_b669e6b140bfff406431ea57a5304067&quot; &gt;&lt;/div&gt;\n",
              "        \n",
              "&lt;/body&gt;\n",
              "&lt;script&gt;\n",
              "    \n",
              "    \n",
              "            var map_b669e6b140bfff406431ea57a5304067 = L.map(\n",
              "                &quot;map_b669e6b140bfff406431ea57a5304067&quot;,\n",
              "                {\n",
              "                    center: [21.4, -158.0],\n",
              "                    crs: L.CRS.EPSG3857,\n",
              "                    zoom: 10,\n",
              "                    zoomControl: true,\n",
              "                    preferCanvas: false,\n",
              "                }\n",
              "            );\n",
              "\n",
              "            \n",
              "\n",
              "        \n",
              "    \n",
              "            var tile_layer_57fda684a3e50666b50a33a71704e200 = L.tileLayer(\n",
              "                &quot;https://{s}.tile.openstreetmap.org/{z}/{x}/{y}.png&quot;,\n",
              "                {&quot;attribution&quot;: &quot;Data by \\u0026copy; \\u003ca target=\\&quot;_blank\\&quot; href=\\&quot;http://openstreetmap.org\\&quot;\\u003eOpenStreetMap\\u003c/a\\u003e, under \\u003ca target=\\&quot;_blank\\&quot; href=\\&quot;http://www.openstreetmap.org/copyright\\&quot;\\u003eODbL\\u003c/a\\u003e.&quot;, &quot;detectRetina&quot;: false, &quot;maxNativeZoom&quot;: 18, &quot;maxZoom&quot;: 18, &quot;minZoom&quot;: 0, &quot;noWrap&quot;: false, &quot;opacity&quot;: 1, &quot;subdomains&quot;: &quot;abc&quot;, &quot;tms&quot;: false}\n",
              "            ).addTo(map_b669e6b140bfff406431ea57a5304067);\n",
              "        \n",
              "    \n",
              "            var tile_layer_240c1c69db47854420f98d36c2f3b86c = L.tileLayer(\n",
              "                &quot;https://earthengine.googleapis.com/v1alpha/projects/earthengine-legacy/maps/4cc8e7834b7faa72a608b335e5a48f15-29a21131cbc8704d6c52ce85c552907e/tiles/{z}/{x}/{y}&quot;,\n",
              "                {&quot;attribution&quot;: &quot;Map Data \\u0026copy; \\u003ca href=\\&quot;https://earthengine.google.com/\\&quot;\\u003eGoogle Earth Engine\\u003c/a\\u003e&quot;, &quot;detectRetina&quot;: false, &quot;maxNativeZoom&quot;: 18, &quot;maxZoom&quot;: 18, &quot;minZoom&quot;: 0, &quot;noWrap&quot;: false, &quot;opacity&quot;: 1, &quot;subdomains&quot;: &quot;abc&quot;, &quot;tms&quot;: false}\n",
              "            ).addTo(map_b669e6b140bfff406431ea57a5304067);\n",
              "        \n",
              "    \n",
              "            var layer_control_47cf342255ba8f3fb2964b26ee58720d = {\n",
              "                base_layers : {\n",
              "                    &quot;openstreetmap&quot; : tile_layer_57fda684a3e50666b50a33a71704e200,\n",
              "                },\n",
              "                overlays :  {\n",
              "                    &quot;NOAA CCAP Land Cover&quot; : tile_layer_240c1c69db47854420f98d36c2f3b86c,\n",
              "                },\n",
              "            };\n",
              "            L.control.layers(\n",
              "                layer_control_47cf342255ba8f3fb2964b26ee58720d.base_layers,\n",
              "                layer_control_47cf342255ba8f3fb2964b26ee58720d.overlays,\n",
              "                {&quot;autoZIndex&quot;: true, &quot;collapsed&quot;: true, &quot;position&quot;: &quot;topright&quot;}\n",
              "            ).addTo(map_b669e6b140bfff406431ea57a5304067);\n",
              "        \n",
              "&lt;/script&gt;\n",
              "&lt;/html&gt;\" style=\"position:absolute;width:100%;height:100%;left:0;top:0;border:none !important;\" allowfullscreen webkitallowfullscreen mozallowfullscreen></iframe></div></div>"
            ]
          },
          "metadata": {},
          "execution_count": 42
        }
      ],
      "source": [
        "# get imagecollection from google earth engine - NOAA C-CAP land cover data for Hawaii \n",
        "# This code gets an EE image collection which contains the land cover data for Hawaii form the NOAA Coastal Change Analysis Program (C-CAP)\n",
        "wetland = ee.ImageCollection(\"projects/sat-io/open-datasets/HRLC/CCAP_HI_LC\")\n",
        "\n",
        "# Filter image collection to include images within a specified date range. \n",
        "# The 'mosaic()' function is used to combine all the images in the filtered collection into a single image, which represents the most recent pixel value at each location. \n",
        "# This is done to reduce the numer of images in the collection and to create a single image for analysis. \n",
        "wetland = wetland.filterDate('2010-01-01', '2022-01-01').mosaic()\n",
        "\n",
        "# Mask out pixels with a value of 0 in the 'wetland' image using the mask() function.\n",
        "# This ensures the modeld doesn't predict or train on data outside of the acutual land cover area. \n",
        "# wetland = wetland.mask(wetland.gt(0))\n",
        "\n",
        "# This generates a one-hot encoding representation of the land cover classification image for Hawaii obtained from the NOAA C-CAP dataset.\n",
        "# For each of the 25 land cover classes present in the image, the code creates a binary image where pixels with the corresponding class are set to 1 and pixels with other classes are set to 0.\n",
        "# The reutning binary iamges are stored in a list 'wetland_oneHot'.\n",
        "# The list is converted to a single multi-band image.\n",
        "# The bands of the multi-image are renamed to correspond to the class lables.\n",
        "# [1,2,3,4,5,6,7,8,9,10,11,12,13,14,15,16,17,18,19,20,21,22,23,24,25]\n",
        "# ['p1','p2','p3','p4','p5','p6','p7','p8','p9','p10','p11','p12','p13','p14','p15','p16','p17','p18','p19','p20','p21','p22','p23','p24','p25']\n",
        "wetland_oneHot = []\n",
        "for code in [1,2,3,4,5,6,7,8,9,10,11,12,13,14,15,16,17,18,19,20,21,22,23,24,25]:\n",
        "  one_hot_image = oneHot(wetland,code)\n",
        "  wetland_oneHot.append(one_hot_image)\n",
        "wetland_oneHot = ee.Image(wetland_oneHot)\n",
        "wetland_oneHot = wetland_oneHot.rename(['p1','p2','p3','p4','p5','p6','p7','p8','p9','p10','p11','p12','p13','p14','p15','p16','p17','p18','p19','p20','p21','p22','p23','p24','p25'])\n",
        "\n",
        "# Use folium to visualize the imagery.\n",
        "# The 'wetland_oneHot' image is used to generate the map ID. \n",
        "# The min and max are set to 0 and 1 to display the binary values of the one-hot encoding. \n",
        "mapid = wetland_oneHot.getMapId({'bands': ['p15','p10','p2'],'min': 0, 'max': 1})\n",
        "map = folium.Map(location=[21.4, -158])\n",
        "folium.TileLayer(\n",
        "    tiles=mapid['tile_fetcher'].url_format,\n",
        "    attr='Map Data &copy; <a href=\"https://earthengine.google.com/\">Google Earth Engine</a>',\n",
        "    overlay=True,\n",
        "    name='NOAA CCAP Land Cover',\n",
        "  ).add_to(map)\n",
        "map.add_child(folium.LayerControl())\n",
        "map\n",
        "\n",
        "\n",
        "\n",
        "\n",
        "\n"
      ]
    },
    {
      "cell_type": "markdown",
      "metadata": {
        "id": "sEk2QDx1_66B"
      },
      "source": [
        "Stack the 2D images (Landsat  and NOAA C-CAP land cover data for Hawaii) to create a single image from which samples can be taken. \n",
        "\n",
        "Convert the image into an array image in which each pixel stores 128x128 patches of pixels for each band. \n",
        "\n",
        "This is a key step that bears emphasis: to export training patches, convert a multi-band image to an array image using neighborhoodToArray(), then sample the image at points."
      ]
    },
    {
      "cell_type": "code",
      "source": [
        "# wetland_oneHot"
      ],
      "metadata": {
        "id": "4hf5UyjS1JPX"
      },
      "execution_count": 43,
      "outputs": []
    },
    {
      "cell_type": "code",
      "execution_count": 44,
      "metadata": {
        "colab": {
          "base_uri": "https://localhost:8080/"
        },
        "id": "ozHkvbb76hv9",
        "outputId": "2a658f15-bac5-4a84-a175-571c2ca772a2"
      },
      "outputs": [
        {
          "output_type": "stream",
          "name": "stdout",
          "text": [
            "['p1', 'p2', 'p3', 'p4', 'p5', 'p6', 'p7', 'p8', 'p9', 'p10', 'p11', 'p12', 'p13', 'p14', 'p15', 'p16', 'p17', 'p18', 'p19', 'p20', 'p21', 'p22', 'p23', 'p24', 'p25']\n",
            "['B1', 'B2', 'B3', 'B4', 'B5', 'B6', 'B7', 'B10', 'B11']\n"
          ]
        }
      ],
      "source": [
        "# There are 25 strings in the list. \n",
        "# ['p15','p10','p2']\n",
        "# ['p1','p2','p3','p4','p5','p6','p7','p8','p9','p10','p11','p12','p13','p14','p15','p16','p17','p18','p19','p20','p21','p22','p23','p24','p25']\n",
        "RESPONSE =['p1','p2','p3','p4','p5','p6','p7','p8','p9','p10','p11','p12','p13','p14','p15','p16','p17','p18','p19','p20','p21','p22','p23','p24','p25']\n",
        "print(RESPONSE)\n",
        "print(BANDS)\n",
        "\n",
        "\n",
        "# Create a feature stack by concatenating two image collections and converting the result to float.\n",
        "featureStack = ee.Image.cat([\n",
        "  ls_2017.select(BANDS),\n",
        "  wetland_oneHot.select(RESPONSE)\n",
        "]).float()\n",
        "\n",
        "# Define a kernel that will be used for image processing operations. \n",
        "# The kernel is initialized with a list of ones, meaning that each pixel in the kernel will have a weight of one when applied to the image. \n",
        "list = ee.List.repeat(1, KERNEL_SIZE)\n",
        "lists = ee.List.repeat(list, KERNEL_SIZE)\n",
        "kernel = ee.Kernel.fixed(KERNEL_SIZE, KERNEL_SIZE, lists)\n",
        "\n",
        "# Convert the neighborhood values within the kernel to arrays.\n",
        "# Create a new array image where each pixel value is an array representing the neighborhood of the corresponding pixel in the original feature stack. \n",
        "# THe size of the neighborhood is dertermined by the size of the kernel. \n",
        "# 'neighborhoodToArray' is an EE function that converst an image to an array image. \n",
        "arrays = featureStack.neighborhoodToArray(kernel)"
      ]
    },
    {
      "cell_type": "code",
      "execution_count": 45,
      "metadata": {
        "colab": {
          "base_uri": "https://localhost:8080/"
        },
        "id": "sLV1CArWZWEe",
        "outputId": "0e1008e7-2d78-41e0-dd15-c6f0deb5502c"
      },
      "outputs": [
        {
          "output_type": "stream",
          "name": "stdout",
          "text": [
            "['B1', 'B2', 'B3', 'B4', 'B5', 'B6', 'B7', 'B10', 'B11', 'p1', 'p2', 'p3', 'p4', 'p5', 'p6', 'p7', 'p8', 'p9', 'p10', 'p11', 'p12', 'p13', 'p14', 'p15', 'p16', 'p17', 'p18', 'p19', 'p20', 'p21', 'p22', 'p23', 'p24', 'p25']\n",
            "{'B1': FixedLenFeature(shape=[128, 128], dtype=tf.float32, default_value=None), 'B2': FixedLenFeature(shape=[128, 128], dtype=tf.float32, default_value=None), 'B3': FixedLenFeature(shape=[128, 128], dtype=tf.float32, default_value=None), 'B4': FixedLenFeature(shape=[128, 128], dtype=tf.float32, default_value=None), 'B5': FixedLenFeature(shape=[128, 128], dtype=tf.float32, default_value=None), 'B6': FixedLenFeature(shape=[128, 128], dtype=tf.float32, default_value=None), 'B7': FixedLenFeature(shape=[128, 128], dtype=tf.float32, default_value=None), 'B10': FixedLenFeature(shape=[128, 128], dtype=tf.float32, default_value=None), 'B11': FixedLenFeature(shape=[128, 128], dtype=tf.float32, default_value=None), 'p1': FixedLenFeature(shape=[128, 128], dtype=tf.float32, default_value=None), 'p2': FixedLenFeature(shape=[128, 128], dtype=tf.float32, default_value=None), 'p3': FixedLenFeature(shape=[128, 128], dtype=tf.float32, default_value=None), 'p4': FixedLenFeature(shape=[128, 128], dtype=tf.float32, default_value=None), 'p5': FixedLenFeature(shape=[128, 128], dtype=tf.float32, default_value=None), 'p6': FixedLenFeature(shape=[128, 128], dtype=tf.float32, default_value=None), 'p7': FixedLenFeature(shape=[128, 128], dtype=tf.float32, default_value=None), 'p8': FixedLenFeature(shape=[128, 128], dtype=tf.float32, default_value=None), 'p9': FixedLenFeature(shape=[128, 128], dtype=tf.float32, default_value=None), 'p10': FixedLenFeature(shape=[128, 128], dtype=tf.float32, default_value=None), 'p11': FixedLenFeature(shape=[128, 128], dtype=tf.float32, default_value=None), 'p12': FixedLenFeature(shape=[128, 128], dtype=tf.float32, default_value=None), 'p13': FixedLenFeature(shape=[128, 128], dtype=tf.float32, default_value=None), 'p14': FixedLenFeature(shape=[128, 128], dtype=tf.float32, default_value=None), 'p15': FixedLenFeature(shape=[128, 128], dtype=tf.float32, default_value=None), 'p16': FixedLenFeature(shape=[128, 128], dtype=tf.float32, default_value=None), 'p17': FixedLenFeature(shape=[128, 128], dtype=tf.float32, default_value=None), 'p18': FixedLenFeature(shape=[128, 128], dtype=tf.float32, default_value=None), 'p19': FixedLenFeature(shape=[128, 128], dtype=tf.float32, default_value=None), 'p20': FixedLenFeature(shape=[128, 128], dtype=tf.float32, default_value=None), 'p21': FixedLenFeature(shape=[128, 128], dtype=tf.float32, default_value=None), 'p22': FixedLenFeature(shape=[128, 128], dtype=tf.float32, default_value=None), 'p23': FixedLenFeature(shape=[128, 128], dtype=tf.float32, default_value=None), 'p24': FixedLenFeature(shape=[128, 128], dtype=tf.float32, default_value=None), 'p25': FixedLenFeature(shape=[128, 128], dtype=tf.float32, default_value=None)}\n"
          ]
        }
      ],
      "source": [
        "# RESPONSE = 'b1'\n",
        "\n",
        "FEATURES = BANDS + RESPONSE\n",
        "print(FEATURES)\n",
        "# Specify the size and shape of patches expected by the model.\n",
        "# KERNEL_SIZE = KERNEL_SIZE\n",
        "KERNEL_SHAPE = [KERNEL_SIZE, KERNEL_SIZE]\n",
        "COLUMNS = [\n",
        "  tf.io.FixedLenFeature(shape=KERNEL_SHAPE, dtype=tf.float32) for k in FEATURES\n",
        "]\n",
        "FEATURES_DICT = dict(zip(FEATURES, COLUMNS))\n",
        "\n",
        "print(FEATURES_DICT)\n"
      ]
    },
    {
      "cell_type": "code",
      "execution_count": null,
      "metadata": {
        "id": "fD5sj0X-aIXP"
      },
      "outputs": [],
      "source": [
        "# print(featureStack.bandNames().getInfo())\n",
        "\n",
        "# print(featureStack)"
      ]
    },
    {
      "cell_type": "markdown",
      "metadata": {
        "id": "1zYcnA30aPEj"
      },
      "source": [
        "Use some pre-made geometries to sample the stack in strategic locations. \n",
        "\n",
        "Specifically, these are hand-made polygons in which to take the 128x128 samples. \n",
        "\n",
        "Display the sampling polygons on a map, red for training polygons, blue for evaluation."
      ]
    },
    {
      "cell_type": "code",
      "execution_count": 47,
      "metadata": {
        "colab": {
          "base_uri": "https://localhost:8080/",
          "height": 1000
        },
        "id": "dM41nHujaMvY",
        "outputId": "8cb59f46-a1c0-42e7-90de-7b63afd2affb"
      },
      "outputs": [
        {
          "output_type": "execute_result",
          "data": {
            "text/plain": [
              "<folium.folium.Map at 0x7fb4202cc250>"
            ],
            "text/html": [
              "<div style=\"width:100%;\"><div style=\"position:relative;width:100%;height:0;padding-bottom:60%;\"><span style=\"color:#565656\">Make this Notebook Trusted to load map: File -> Trust Notebook</span><iframe srcdoc=\"&lt;!DOCTYPE html&gt;\n",
              "&lt;html&gt;\n",
              "&lt;head&gt;\n",
              "    \n",
              "    &lt;meta http-equiv=&quot;content-type&quot; content=&quot;text/html; charset=UTF-8&quot; /&gt;\n",
              "    \n",
              "        &lt;script&gt;\n",
              "            L_NO_TOUCH = false;\n",
              "            L_DISABLE_3D = false;\n",
              "        &lt;/script&gt;\n",
              "    \n",
              "    &lt;style&gt;html, body {width: 100%;height: 100%;margin: 0;padding: 0;}&lt;/style&gt;\n",
              "    &lt;style&gt;#map {position:absolute;top:0;bottom:0;right:0;left:0;}&lt;/style&gt;\n",
              "    &lt;script src=&quot;https://cdn.jsdelivr.net/npm/leaflet@1.9.3/dist/leaflet.js&quot;&gt;&lt;/script&gt;\n",
              "    &lt;script src=&quot;https://code.jquery.com/jquery-1.12.4.min.js&quot;&gt;&lt;/script&gt;\n",
              "    &lt;script src=&quot;https://cdn.jsdelivr.net/npm/bootstrap@5.2.2/dist/js/bootstrap.bundle.min.js&quot;&gt;&lt;/script&gt;\n",
              "    &lt;script src=&quot;https://cdnjs.cloudflare.com/ajax/libs/Leaflet.awesome-markers/2.0.2/leaflet.awesome-markers.js&quot;&gt;&lt;/script&gt;\n",
              "    &lt;link rel=&quot;stylesheet&quot; href=&quot;https://cdn.jsdelivr.net/npm/leaflet@1.9.3/dist/leaflet.css&quot;/&gt;\n",
              "    &lt;link rel=&quot;stylesheet&quot; href=&quot;https://cdn.jsdelivr.net/npm/bootstrap@5.2.2/dist/css/bootstrap.min.css&quot;/&gt;\n",
              "    &lt;link rel=&quot;stylesheet&quot; href=&quot;https://netdna.bootstrapcdn.com/bootstrap/3.0.0/css/bootstrap.min.css&quot;/&gt;\n",
              "    &lt;link rel=&quot;stylesheet&quot; href=&quot;https://cdn.jsdelivr.net/npm/@fortawesome/fontawesome-free@6.2.0/css/all.min.css&quot;/&gt;\n",
              "    &lt;link rel=&quot;stylesheet&quot; href=&quot;https://cdnjs.cloudflare.com/ajax/libs/Leaflet.awesome-markers/2.0.2/leaflet.awesome-markers.css&quot;/&gt;\n",
              "    &lt;link rel=&quot;stylesheet&quot; href=&quot;https://cdn.jsdelivr.net/gh/python-visualization/folium/folium/templates/leaflet.awesome.rotate.min.css&quot;/&gt;\n",
              "    \n",
              "            &lt;meta name=&quot;viewport&quot; content=&quot;width=device-width,\n",
              "                initial-scale=1.0, maximum-scale=1.0, user-scalable=no&quot; /&gt;\n",
              "            &lt;style&gt;\n",
              "                #map_03ab24b0d3f7bb29033bf87b3613540c {\n",
              "                    position: relative;\n",
              "                    width: 100.0%;\n",
              "                    height: 100.0%;\n",
              "                    left: 0.0%;\n",
              "                    top: 0.0%;\n",
              "                }\n",
              "                .leaflet-container { font-size: 1rem; }\n",
              "            &lt;/style&gt;\n",
              "        \n",
              "&lt;/head&gt;\n",
              "&lt;body&gt;\n",
              "    \n",
              "    \n",
              "            &lt;div class=&quot;folium-map&quot; id=&quot;map_03ab24b0d3f7bb29033bf87b3613540c&quot; &gt;&lt;/div&gt;\n",
              "        \n",
              "&lt;/body&gt;\n",
              "&lt;script&gt;\n",
              "    \n",
              "    \n",
              "            var map_03ab24b0d3f7bb29033bf87b3613540c = L.map(\n",
              "                &quot;map_03ab24b0d3f7bb29033bf87b3613540c&quot;,\n",
              "                {\n",
              "                    center: [21.4, -158.0],\n",
              "                    crs: L.CRS.EPSG3857,\n",
              "                    zoom: 4,\n",
              "                    zoomControl: true,\n",
              "                    preferCanvas: false,\n",
              "                }\n",
              "            );\n",
              "\n",
              "            \n",
              "\n",
              "        \n",
              "    \n",
              "            var tile_layer_ec5e1f0ba065df6c49a9858f248b0e82 = L.tileLayer(\n",
              "                &quot;https://{s}.tile.openstreetmap.org/{z}/{x}/{y}.png&quot;,\n",
              "                {&quot;attribution&quot;: &quot;Data by \\u0026copy; \\u003ca target=\\&quot;_blank\\&quot; href=\\&quot;http://openstreetmap.org\\&quot;\\u003eOpenStreetMap\\u003c/a\\u003e, under \\u003ca target=\\&quot;_blank\\&quot; href=\\&quot;http://www.openstreetmap.org/copyright\\&quot;\\u003eODbL\\u003c/a\\u003e.&quot;, &quot;detectRetina&quot;: false, &quot;maxNativeZoom&quot;: 18, &quot;maxZoom&quot;: 18, &quot;minZoom&quot;: 0, &quot;noWrap&quot;: false, &quot;opacity&quot;: 1, &quot;subdomains&quot;: &quot;abc&quot;, &quot;tms&quot;: false}\n",
              "            ).addTo(map_03ab24b0d3f7bb29033bf87b3613540c);\n",
              "        \n",
              "    \n",
              "            var tile_layer_fe18210fc525ce8e3f1ffe23d0de432d = L.tileLayer(\n",
              "                &quot;https://earthengine.googleapis.com/v1alpha/projects/earthengine-legacy/maps/18244676a3734a92399daab16b748e16-7c4549b648e334745a38f35642b69902/tiles/{z}/{x}/{y}&quot;,\n",
              "                {&quot;attribution&quot;: &quot;Map Data \\u0026copy; \\u003ca href=\\&quot;https://earthengine.google.com/\\&quot;\\u003eGoogle Earth Engine\\u003c/a\\u003e&quot;, &quot;detectRetina&quot;: false, &quot;maxNativeZoom&quot;: 18, &quot;maxZoom&quot;: 18, &quot;minZoom&quot;: 0, &quot;noWrap&quot;: false, &quot;opacity&quot;: 1, &quot;subdomains&quot;: &quot;abc&quot;, &quot;tms&quot;: false}\n",
              "            ).addTo(map_03ab24b0d3f7bb29033bf87b3613540c);\n",
              "        \n",
              "    \n",
              "            var layer_control_53807e14f0bd631f2268685115fab007 = {\n",
              "                base_layers : {\n",
              "                    &quot;openstreetmap&quot; : tile_layer_ec5e1f0ba065df6c49a9858f248b0e82,\n",
              "                },\n",
              "                overlays :  {\n",
              "                    &quot;training polygons&quot; : tile_layer_fe18210fc525ce8e3f1ffe23d0de432d,\n",
              "                },\n",
              "            };\n",
              "            L.control.layers(\n",
              "                layer_control_53807e14f0bd631f2268685115fab007.base_layers,\n",
              "                layer_control_53807e14f0bd631f2268685115fab007.overlays,\n",
              "                {&quot;autoZIndex&quot;: true, &quot;collapsed&quot;: true, &quot;position&quot;: &quot;topright&quot;}\n",
              "            ).addTo(map_03ab24b0d3f7bb29033bf87b3613540c);\n",
              "        \n",
              "&lt;/script&gt;\n",
              "&lt;/html&gt;\" style=\"position:absolute;width:100%;height:100%;left:0;top:0;border:none !important;\" allowfullscreen webkitallowfullscreen mozallowfullscreen></iframe></div></div>"
            ]
          },
          "metadata": {},
          "execution_count": 47
        }
      ],
      "source": [
        "# FeatureCollection is a colelction of featuers, where each feature is represented as a dictionary of properties and a geometry that describes its spatial extent. \n",
        "# The trainingPolys features in this are used to train the model to recognize land cover types based on the spectral and spatial features extracted from satellite imagery. \n",
        "# The evalPolys features are used to evaluate the accuracy of the trained model. \n",
        "\n",
        "# trainingPolys = ee.FeatureCollection('projects/ee-seismosmsr-landcover/assets/trainingPolys_ccap')\n",
        "# evalPolys = ee.FeatureCollection('projects/ee-seismosmsr-landcover/assets/evalPolys')\n",
        "\n",
        "trainingPolys = ee.FeatureCollection('projects/ee-aml7-001/assets/county_Hawaii') \n",
        "evalPolys = ee.FeatureCollection('projects/ee-aml7-001/assets/county_Oahu')\n",
        "\n",
        "# Create an empty image.\n",
        "# Create a labled image where the pixles belonging to the training set have a value of 1 and evaluation set have a value of 2.\n",
        "polyImage = ee.Image(0).byte().paint(trainingPolys, 1).paint(evalPolys, 2)\n",
        "polyImage = polyImage.updateMask(polyImage)\n",
        "\n",
        "\n",
        "# Use folium to visualize EE image. \n",
        "\n",
        "mapid = polyImage.getMapId({'min': 1, 'max': 2, 'palette': ['red', 'blue']})\n",
        "map = folium.Map(location=[21.4, -158.], zoom_start=4)\n",
        "folium.TileLayer(\n",
        "    tiles=mapid['tile_fetcher'].url_format,\n",
        "    attr='Map Data &copy; <a href=\"https://earthengine.google.com/\">Google Earth Engine</a>',\n",
        "    overlay=True,\n",
        "    name='training polygons',\n",
        "  ).add_to(map)\n",
        "map.add_child(folium.LayerControl())\n",
        "map"
      ]
    },
    {
      "cell_type": "code",
      "execution_count": 48,
      "metadata": {
        "colab": {
          "base_uri": "https://localhost:8080/"
        },
        "id": "BpQSamAvhZMx",
        "outputId": "cf0a9745-7b08-4323-9452-10f89ef196ec"
      },
      "outputs": [
        {
          "output_type": "stream",
          "name": "stdout",
          "text": [
            "['B1', 'B2', 'B3', 'B4', 'B5', 'B6', 'B7', 'B10', 'B11', 'p1', 'p2', 'p3', 'p4', 'p5', 'p6', 'p7', 'p8', 'p9', 'p10', 'p11', 'p12', 'p13', 'p14', 'p15', 'p16', 'p17', 'p18', 'p19', 'p20', 'p21', 'p22', 'p23', 'p24', 'p25']\n"
          ]
        }
      ],
      "source": [
        "# Convert the feature collections to lists for iteration.\n",
        "trainingPolysList = trainingPolys.toList(trainingPolys.size())\n",
        "evalPolysList = evalPolys.toList(evalPolys.size())\n",
        "\n",
        "# These numbers determined experimentally.\n",
        "n = 10 # Number of shards in each polygon.\n",
        "N = 20 # Total sample size in each polygon.\n",
        "#200 too big; 100 too big; 50 too big;\n",
        "max_shard_size = 25\n",
        "# Export all the training data (in many pieces), with one task \n",
        "# per geometry.\n",
        "print(BANDS+RESPONSE)\n",
        "# print()\n",
        "for g in range(trainingPolys.size().getInfo()):\n",
        "\n",
        "  for i in range(n):\n",
        "    geomSample = ee.FeatureCollection([])\n",
        "    sample = arrays.sample(\n",
        "      region = ee.Feature(trainingPolysList.get(g)).geometry(), \n",
        "      scale = 30,\n",
        "      numPixels = max_shard_size, # Size of the shard.\n",
        "      seed = i,\n",
        "      tileScale = 8\n",
        "    )\n",
        "    geomSample = geomSample.merge(sample)\n",
        "\n",
        "    desc = TRAINING_BASE + '_g' + str(g) + str(i)\n",
        "    task = ee.batch.Export.table.toCloudStorage(\n",
        "    collection = geomSample,\n",
        "    description = desc,\n",
        "    bucket = BUCKET,\n",
        "    fileNamePrefix = FOLDER + '/' + desc,\n",
        "    fileFormat = 'GeoTIFF'\n",
        "    # selectors = BANDS + RESPONSE\n",
        "    )\n",
        "    task.start()\n",
        "\n",
        "# Export all the evaluation data.\n",
        "for g in range(evalPolys.size().getInfo()):\n",
        "  geomSample = ee.FeatureCollection([])\n",
        "  for i in range(n):\n",
        "    sample = arrays.sample(\n",
        "      region = ee.Feature(evalPolysList.get(g)).geometry(), \n",
        "      scale = 30,\n",
        "      numPixels = max_shard_size,\n",
        "      seed = i,\n",
        "      tileScale = 8\n",
        "    )\n",
        "    geomSample = geomSample.merge(sample)\n",
        "\n",
        "  desc = EVAL_BASE + '_g' + str(g)\n",
        "  task = ee.batch.Export.table.toCloudStorage(\n",
        "    collection = geomSample,\n",
        "    description = desc,\n",
        "    bucket = BUCKET,\n",
        "    fileNamePrefix = FOLDER + '/' + desc,\n",
        "    fileFormat = 'GeoTIFF'\n",
        "    # selectors = BANDS + RESPONSE\n",
        "  )\n",
        "  task.start()"
      ]
    },
    {
      "cell_type": "code",
      "execution_count": 52,
      "metadata": {
        "id": "l2WrHB9U5DRT",
        "colab": {
          "base_uri": "https://localhost:8080/"
        },
        "outputId": "72b3dc99-2d98-4846-a85b-ef26f02b22e4"
      },
      "outputs": [
        {
          "output_type": "stream",
          "name": "stdout",
          "text": [
            "<function get_dataset at 0x7fb420111040>\n",
            "<function parse_tfrecord at 0x7fb420184b80>\n"
          ]
        }
      ],
      "source": [
        "\n",
        "def parse_tfrecord(example_proto):\n",
        "  \"\"\"The parsing function.\n",
        "  Read a serialized example into the structure defined by FEATURES_DICT.\n",
        "  Args:\n",
        "    example_proto: a serialized Example.\n",
        "  Returns:\n",
        "    A dictionary of tensors, keyed by feature name.\n",
        "  \"\"\"\n",
        "  return tf.io.parse_single_example(example_proto, FEATURES_DICT)\n",
        "\n",
        "\n",
        "def to_tuple(inputs):\n",
        "  \"\"\"Function to convert a dictionary of tensors to a tuple of (inputs, outputs).\n",
        "  Turn the tensors returned by parse_tfrecord into a stack in HWC shape.\n",
        "  Args:\n",
        "    inputs: A dictionary of tensors, keyed by feature name.\n",
        "  Returns:\n",
        "    A tuple of (inputs, outputs).\n",
        "  \"\"\"\n",
        "  inputsList = [inputs.get(key) for key in FEATURES]\n",
        "  stacked = tf.stack(inputsList, axis=0)\n",
        "  # Convert from CHW to HWC\n",
        "  stacked = tf.transpose(stacked, [1, 2, 0])\n",
        "  return stacked[:,:,:len(BANDS)], stacked[:,:,len(BANDS):]\n",
        "\n",
        "\n",
        "def get_dataset(pattern):\n",
        "  \"\"\"Function to read, parse and format to tuple a set of input tfrecord files.\n",
        "  Get all the files matching the pattern, parse and convert to tuple.\n",
        "  Args:\n",
        "    pattern: A file pattern to match in a Cloud Storage bucket.\n",
        "  Returns:\n",
        "    A tf.data.Dataset\n",
        "  \"\"\"\n",
        "  glob = tf.io.gfile.glob(pattern)\n",
        "  dataset = tf.data.TFRecordDataset(glob, compression_type='GZIP')\n",
        "  dataset = dataset.map(parse_tfrecord, num_parallel_calls=5)\n",
        "  dataset = dataset.map(to_tuple, num_parallel_calls=5)\n",
        "  return dataset\n",
        "\n",
        "\n",
        "print(get_dataset)\n",
        "print(parse_tfrecord)"
      ]
    },
    {
      "cell_type": "code",
      "execution_count": 62,
      "metadata": {
        "id": "PYE9NP8j5OWN"
      },
      "outputs": [],
      "source": [
        "# Define a function that returns a preprocessed dataset for ML. \n",
        "# Match the training data files in GCS bucket.\n",
        "# Calls 'get_dataset' function to read, parse, and convert the input files to tuples of tensors. \n",
        "# The resulting dataset is shuffled, batched, and repeated (epochs) to prepare for ML training. \n",
        "# Save the resulting dataset to 'training' variable. \n",
        "def get_training_dataset():\n",
        "\t\"\"\"Get the preprocessed training dataset\n",
        "  Returns: \n",
        "    A tf.data.Dataset of training data.\n",
        "  \"\"\"\n",
        "\tglob = 'gs://' + BUCKET + '/' + FOLDER + '/' + TRAINING_BASE + '*'\n",
        "\t# print(glob)\n",
        "\tdataset = get_dataset(glob)\n",
        "\tdataset = dataset.shuffle(BUFFER_SIZE).batch(BATCH_SIZE).repeat()\n",
        "\treturn dataset\n",
        "\n",
        "training = get_training_dataset()\n",
        "\n",
        "# print(iter(training.take(2)).next())\n",
        "# This appears to be a tensor with shape (16, 128, 128, 9) and data type float32. \n",
        "# The first dimension has a size of 16, which suggests that this tensor contains a batch of 16 samples. \n",
        "# The next two dimensions have a size of 128, which suggests that each sample has an image with a resolution of 128 x 128 pixels. \n",
        "# The last dimension has a size of 9, which suggests that each pixel is represented by a 9-dimensional feature vector. \n",
        "\n"
      ]
    },
    {
      "cell_type": "code",
      "execution_count": 65,
      "metadata": {
        "colab": {
          "base_uri": "https://localhost:8080/"
        },
        "id": "zNNJCqsJ5RBx",
        "outputId": "e4127541-5825-4c72-e322-e475e17f8686"
      },
      "outputs": [
        {
          "output_type": "stream",
          "name": "stdout",
          "text": [
            "gs://remote_sensing_fuckit_bucket/wetland_unet/eval_patches*\n"
          ]
        }
      ],
      "source": [
        "# Return a Tenserflow dataset contaiing the preprocessed evaluation data. \n",
        "# File path to the evaluation data stored in GCS bucket.\n",
        "# Calls 'get_dataset' function to create a TenserFlow dataset containing the evaluation data. \n",
        "# Evaluation dataset is batched with a batchsize of 1, meaning each element of the dataset consists of a single example. \n",
        "# The function returns the resulting evaluation dataset.\n",
        "def get_eval_dataset():\n",
        "\t\"\"\"Get the preprocessed evaluation dataset\n",
        "  Returns: \n",
        "    A tf.data.Dataset of evaluation data.\n",
        "  \"\"\"\n",
        "\tglob = 'gs://' + BUCKET + '/' + FOLDER + '/' + EVAL_BASE + '*'\n",
        "\tprint(glob)\n",
        "\tdataset = get_dataset(glob)\n",
        "\tdataset = dataset.batch(1).repeat()\n",
        "\treturn dataset\n",
        "\n",
        "evaluation = get_eval_dataset()\n",
        "\n",
        "\n",
        "\n",
        "\n"
      ]
    },
    {
      "cell_type": "code",
      "execution_count": 69,
      "metadata": {
        "colab": {
          "base_uri": "https://localhost:8080/"
        },
        "id": "JjIctHU75YAB",
        "outputId": "e9bdda18-1033-41d1-dc98-6faf137df76d"
      },
      "outputs": [
        {
          "output_type": "execute_result",
          "data": {
            "text/plain": [
              "<_RepeatDataset element_spec=(TensorSpec(shape=(None, 128, 128, 9), dtype=tf.float32, name=None), TensorSpec(shape=(None, 128, 128, 25), dtype=tf.float32, name=None))>"
            ]
          },
          "metadata": {},
          "execution_count": 69
        }
      ],
      "source": [
        "evaluation\n"
      ]
    },
    {
      "cell_type": "code",
      "execution_count": 70,
      "metadata": {
        "colab": {
          "base_uri": "https://localhost:8080/"
        },
        "id": "nndrupcf5vFi",
        "outputId": "b4a606cc-574b-406f-9934-4191c1941f7b"
      },
      "outputs": [
        {
          "output_type": "stream",
          "name": "stdout",
          "text": [
            "2.12.0\n"
          ]
        }
      ],
      "source": [
        "print(tf.__version__)"
      ]
    },
    {
      "cell_type": "code",
      "execution_count": 71,
      "metadata": {
        "id": "HPe--dX05zZX"
      },
      "outputs": [],
      "source": [
        "# import TenserFlow classes and functions \n",
        "from tensorflow.keras import layers\n",
        "from tensorflow.keras import losses\n",
        "from tensorflow.keras import models\n",
        "from tensorflow.keras import metrics\n",
        "from tensorflow.keras import optimizers\n",
        "from tensorflow.keras.layers import BatchNormalization\n",
        "\n",
        "# from tensorflow.python.keras.layers.normalization import BatchNormalization\n",
        "# from tensorflow.python.keras.layers.normalization import BatchNormalization\n",
        "\n",
        "# from tensorflow.keras.layers import BatchNormalization\n",
        "# from keras.layers.normalization.batch_normalization import BatchNormalization\n",
        "# from tensorflow.python.keras.layers import BatchNormalization \n",
        "\n",
        "# U-Net model for image segmentation. \n",
        "# Encoder and decoder conncted by a center block. \n",
        "# Encoder downsamples the input image while capturing its features. \n",
        "# Decoder upsamples the encoded image to generate a segmentation map.\n",
        "def conv_block(input_tensor, num_filters):\n",
        "\tencoder = layers.Conv2D(num_filters, (3, 3), padding='same')(input_tensor)\n",
        "\tencoder = layers.BatchNormalization()(encoder)\n",
        "\tencoder = layers.Activation('relu')(encoder)\n",
        "\tencoder = layers.Conv2D(num_filters, (3, 3), padding='same')(encoder)\n",
        "\tencoder = layers.BatchNormalization()(encoder)\n",
        "\tencoder = layers.Activation('relu')(encoder)\n",
        "\treturn encoder\n",
        "\n",
        "def encoder_block(input_tensor, num_filters):\n",
        "\tencoder = conv_block(input_tensor, num_filters)\n",
        "\tencoder_pool = layers.MaxPooling2D((2, 2), strides=(2, 2))(encoder)\n",
        "\treturn encoder_pool, encoder\n",
        "\n",
        "def decoder_block(input_tensor, concat_tensor, num_filters):\n",
        "\tdecoder = layers.Conv2DTranspose(num_filters, (2, 2), strides=(2, 2), padding='same')(input_tensor)\n",
        "\tdecoder = layers.concatenate([concat_tensor, decoder], axis=-1)\n",
        "\tdecoder = layers.BatchNormalization()(decoder)\n",
        "\tdecoder = layers.Activation('relu')(decoder)\n",
        "\tdecoder = layers.Conv2D(num_filters, (3, 3), padding='same')(decoder)\n",
        "\tdecoder = layers.BatchNormalization()(decoder)\n",
        "\tdecoder = layers.Activation('relu')(decoder)\n",
        "\tdecoder = layers.Conv2D(num_filters, (3, 3), padding='same')(decoder)\n",
        "\tdecoder = layers.BatchNormalization()(decoder)\n",
        "\tdecoder = layers.Activation('relu')(decoder)\n",
        "\treturn decoder\n",
        "\n",
        "def get_model():\n",
        "\tinputs = layers.Input(shape=[KERNEL_SIZE, KERNEL_SIZE, len(BANDS)]) # 256\n",
        "\tencoder0_pool, encoder0 = encoder_block(inputs, 32) # 128\n",
        "\tencoder1_pool, encoder1 = encoder_block(encoder0_pool, 64) # 64\n",
        "\tencoder2_pool, encoder2 = encoder_block(encoder1_pool, 128) # 32\n",
        "\tencoder3_pool, encoder3 = encoder_block(encoder2_pool, 256) # 16\n",
        "\tencoder4_pool, encoder4 = encoder_block(encoder3_pool, 512) # 8\n",
        "\tcenter = conv_block(encoder4_pool, 1024) # center\n",
        "\tdecoder4 = decoder_block(center, encoder4, 512) # 16\n",
        "\tdecoder3 = decoder_block(decoder4, encoder3, 256) # 32\n",
        "\tdecoder2 = decoder_block(decoder3, encoder2, 128) # 64\n",
        "\tdecoder1 = decoder_block(decoder2, encoder1, 64) # 128\n",
        "\tdecoder0 = decoder_block(decoder1, encoder0, 32) # 256\n",
        "\toutputs = layers.Conv2D(len(RESPONSE), (1, 1), activation='softmax')(decoder0)\n",
        "\n",
        "\tmodel = models.Model(inputs=[inputs], outputs=[outputs])\n",
        "\n",
        "\tmodel.compile(\n",
        "\t\toptimizer=optimizers.get(OPTIMIZER),\n",
        "\t\t# optimizer=tf.keras.losses.SparseCategoricalCrossentropy(),  \n",
        "\t\tloss=losses.get(LOSS),\n",
        "\t\t# loss=tf.keras.losses.SparseCategoricalCrossentropy(from_logits=False),\n",
        "\t\tmetrics=[metrics.get(metric) for metric in METRICS])\n",
        "\n",
        "\treturn model"
      ]
    },
    {
      "cell_type": "code",
      "source": [
        "LOSS = 'CategoricalCrossentropy'"
      ],
      "metadata": {
        "id": "LYyP654cV36W"
      },
      "execution_count": 72,
      "outputs": []
    },
    {
      "cell_type": "code",
      "source": [
        "print(LOSS)"
      ],
      "metadata": {
        "colab": {
          "base_uri": "https://localhost:8080/"
        },
        "id": "4rBJKBJCVPGZ",
        "outputId": "173bb400-f091-406b-c9eb-c59279227785"
      },
      "execution_count": 73,
      "outputs": [
        {
          "output_type": "stream",
          "name": "stdout",
          "text": [
            "CategoricalCrossentropy\n"
          ]
        }
      ]
    },
    {
      "cell_type": "code",
      "execution_count": 76,
      "metadata": {
        "colab": {
          "base_uri": "https://localhost:8080/"
        },
        "id": "GXK-0qM42UwP",
        "outputId": "23621d7d-f16d-4c50-ca14-a901f1f4fa4f"
      },
      "outputs": [
        {
          "output_type": "stream",
          "name": "stdout",
          "text": [
            "Model: \"model_2\"\n",
            "__________________________________________________________________________________________________\n",
            " Layer (type)                   Output Shape         Param #     Connected to                     \n",
            "==================================================================================================\n",
            " input_3 (InputLayer)           [(None, 128, 128, 9  0           []                               \n",
            "                                )]                                                                \n",
            "                                                                                                  \n",
            " conv2d_46 (Conv2D)             (None, 128, 128, 32  2624        ['input_3[0][0]']                \n",
            "                                )                                                                 \n",
            "                                                                                                  \n",
            " batch_normalization_54 (BatchN  (None, 128, 128, 32  128        ['conv2d_46[0][0]']              \n",
            " ormalization)                  )                                                                 \n",
            "                                                                                                  \n",
            " activation_54 (Activation)     (None, 128, 128, 32  0           ['batch_normalization_54[0][0]'] \n",
            "                                )                                                                 \n",
            "                                                                                                  \n",
            " conv2d_47 (Conv2D)             (None, 128, 128, 32  9248        ['activation_54[0][0]']          \n",
            "                                )                                                                 \n",
            "                                                                                                  \n",
            " batch_normalization_55 (BatchN  (None, 128, 128, 32  128        ['conv2d_47[0][0]']              \n",
            " ormalization)                  )                                                                 \n",
            "                                                                                                  \n",
            " activation_55 (Activation)     (None, 128, 128, 32  0           ['batch_normalization_55[0][0]'] \n",
            "                                )                                                                 \n",
            "                                                                                                  \n",
            " max_pooling2d_10 (MaxPooling2D  (None, 64, 64, 32)  0           ['activation_55[0][0]']          \n",
            " )                                                                                                \n",
            "                                                                                                  \n",
            " conv2d_48 (Conv2D)             (None, 64, 64, 64)   18496       ['max_pooling2d_10[0][0]']       \n",
            "                                                                                                  \n",
            " batch_normalization_56 (BatchN  (None, 64, 64, 64)  256         ['conv2d_48[0][0]']              \n",
            " ormalization)                                                                                    \n",
            "                                                                                                  \n",
            " activation_56 (Activation)     (None, 64, 64, 64)   0           ['batch_normalization_56[0][0]'] \n",
            "                                                                                                  \n",
            " conv2d_49 (Conv2D)             (None, 64, 64, 64)   36928       ['activation_56[0][0]']          \n",
            "                                                                                                  \n",
            " batch_normalization_57 (BatchN  (None, 64, 64, 64)  256         ['conv2d_49[0][0]']              \n",
            " ormalization)                                                                                    \n",
            "                                                                                                  \n",
            " activation_57 (Activation)     (None, 64, 64, 64)   0           ['batch_normalization_57[0][0]'] \n",
            "                                                                                                  \n",
            " max_pooling2d_11 (MaxPooling2D  (None, 32, 32, 64)  0           ['activation_57[0][0]']          \n",
            " )                                                                                                \n",
            "                                                                                                  \n",
            " conv2d_50 (Conv2D)             (None, 32, 32, 128)  73856       ['max_pooling2d_11[0][0]']       \n",
            "                                                                                                  \n",
            " batch_normalization_58 (BatchN  (None, 32, 32, 128)  512        ['conv2d_50[0][0]']              \n",
            " ormalization)                                                                                    \n",
            "                                                                                                  \n",
            " activation_58 (Activation)     (None, 32, 32, 128)  0           ['batch_normalization_58[0][0]'] \n",
            "                                                                                                  \n",
            " conv2d_51 (Conv2D)             (None, 32, 32, 128)  147584      ['activation_58[0][0]']          \n",
            "                                                                                                  \n",
            " batch_normalization_59 (BatchN  (None, 32, 32, 128)  512        ['conv2d_51[0][0]']              \n",
            " ormalization)                                                                                    \n",
            "                                                                                                  \n",
            " activation_59 (Activation)     (None, 32, 32, 128)  0           ['batch_normalization_59[0][0]'] \n",
            "                                                                                                  \n",
            " max_pooling2d_12 (MaxPooling2D  (None, 16, 16, 128)  0          ['activation_59[0][0]']          \n",
            " )                                                                                                \n",
            "                                                                                                  \n",
            " conv2d_52 (Conv2D)             (None, 16, 16, 256)  295168      ['max_pooling2d_12[0][0]']       \n",
            "                                                                                                  \n",
            " batch_normalization_60 (BatchN  (None, 16, 16, 256)  1024       ['conv2d_52[0][0]']              \n",
            " ormalization)                                                                                    \n",
            "                                                                                                  \n",
            " activation_60 (Activation)     (None, 16, 16, 256)  0           ['batch_normalization_60[0][0]'] \n",
            "                                                                                                  \n",
            " conv2d_53 (Conv2D)             (None, 16, 16, 256)  590080      ['activation_60[0][0]']          \n",
            "                                                                                                  \n",
            " batch_normalization_61 (BatchN  (None, 16, 16, 256)  1024       ['conv2d_53[0][0]']              \n",
            " ormalization)                                                                                    \n",
            "                                                                                                  \n",
            " activation_61 (Activation)     (None, 16, 16, 256)  0           ['batch_normalization_61[0][0]'] \n",
            "                                                                                                  \n",
            " max_pooling2d_13 (MaxPooling2D  (None, 8, 8, 256)   0           ['activation_61[0][0]']          \n",
            " )                                                                                                \n",
            "                                                                                                  \n",
            " conv2d_54 (Conv2D)             (None, 8, 8, 512)    1180160     ['max_pooling2d_13[0][0]']       \n",
            "                                                                                                  \n",
            " batch_normalization_62 (BatchN  (None, 8, 8, 512)   2048        ['conv2d_54[0][0]']              \n",
            " ormalization)                                                                                    \n",
            "                                                                                                  \n",
            " activation_62 (Activation)     (None, 8, 8, 512)    0           ['batch_normalization_62[0][0]'] \n",
            "                                                                                                  \n",
            " conv2d_55 (Conv2D)             (None, 8, 8, 512)    2359808     ['activation_62[0][0]']          \n",
            "                                                                                                  \n",
            " batch_normalization_63 (BatchN  (None, 8, 8, 512)   2048        ['conv2d_55[0][0]']              \n",
            " ormalization)                                                                                    \n",
            "                                                                                                  \n",
            " activation_63 (Activation)     (None, 8, 8, 512)    0           ['batch_normalization_63[0][0]'] \n",
            "                                                                                                  \n",
            " max_pooling2d_14 (MaxPooling2D  (None, 4, 4, 512)   0           ['activation_63[0][0]']          \n",
            " )                                                                                                \n",
            "                                                                                                  \n",
            " conv2d_56 (Conv2D)             (None, 4, 4, 1024)   4719616     ['max_pooling2d_14[0][0]']       \n",
            "                                                                                                  \n",
            " batch_normalization_64 (BatchN  (None, 4, 4, 1024)  4096        ['conv2d_56[0][0]']              \n",
            " ormalization)                                                                                    \n",
            "                                                                                                  \n",
            " activation_64 (Activation)     (None, 4, 4, 1024)   0           ['batch_normalization_64[0][0]'] \n",
            "                                                                                                  \n",
            " conv2d_57 (Conv2D)             (None, 4, 4, 1024)   9438208     ['activation_64[0][0]']          \n",
            "                                                                                                  \n",
            " batch_normalization_65 (BatchN  (None, 4, 4, 1024)  4096        ['conv2d_57[0][0]']              \n",
            " ormalization)                                                                                    \n",
            "                                                                                                  \n",
            " activation_65 (Activation)     (None, 4, 4, 1024)   0           ['batch_normalization_65[0][0]'] \n",
            "                                                                                                  \n",
            " conv2d_transpose_10 (Conv2DTra  (None, 8, 8, 512)   2097664     ['activation_65[0][0]']          \n",
            " nspose)                                                                                          \n",
            "                                                                                                  \n",
            " concatenate_10 (Concatenate)   (None, 8, 8, 1024)   0           ['activation_63[0][0]',          \n",
            "                                                                  'conv2d_transpose_10[0][0]']    \n",
            "                                                                                                  \n",
            " batch_normalization_66 (BatchN  (None, 8, 8, 1024)  4096        ['concatenate_10[0][0]']         \n",
            " ormalization)                                                                                    \n",
            "                                                                                                  \n",
            " activation_66 (Activation)     (None, 8, 8, 1024)   0           ['batch_normalization_66[0][0]'] \n",
            "                                                                                                  \n",
            " conv2d_58 (Conv2D)             (None, 8, 8, 512)    4719104     ['activation_66[0][0]']          \n",
            "                                                                                                  \n",
            " batch_normalization_67 (BatchN  (None, 8, 8, 512)   2048        ['conv2d_58[0][0]']              \n",
            " ormalization)                                                                                    \n",
            "                                                                                                  \n",
            " activation_67 (Activation)     (None, 8, 8, 512)    0           ['batch_normalization_67[0][0]'] \n",
            "                                                                                                  \n",
            " conv2d_59 (Conv2D)             (None, 8, 8, 512)    2359808     ['activation_67[0][0]']          \n",
            "                                                                                                  \n",
            " batch_normalization_68 (BatchN  (None, 8, 8, 512)   2048        ['conv2d_59[0][0]']              \n",
            " ormalization)                                                                                    \n",
            "                                                                                                  \n",
            " activation_68 (Activation)     (None, 8, 8, 512)    0           ['batch_normalization_68[0][0]'] \n",
            "                                                                                                  \n",
            " conv2d_transpose_11 (Conv2DTra  (None, 16, 16, 256)  524544     ['activation_68[0][0]']          \n",
            " nspose)                                                                                          \n",
            "                                                                                                  \n",
            " concatenate_11 (Concatenate)   (None, 16, 16, 512)  0           ['activation_61[0][0]',          \n",
            "                                                                  'conv2d_transpose_11[0][0]']    \n",
            "                                                                                                  \n",
            " batch_normalization_69 (BatchN  (None, 16, 16, 512)  2048       ['concatenate_11[0][0]']         \n",
            " ormalization)                                                                                    \n",
            "                                                                                                  \n",
            " activation_69 (Activation)     (None, 16, 16, 512)  0           ['batch_normalization_69[0][0]'] \n",
            "                                                                                                  \n",
            " conv2d_60 (Conv2D)             (None, 16, 16, 256)  1179904     ['activation_69[0][0]']          \n",
            "                                                                                                  \n",
            " batch_normalization_70 (BatchN  (None, 16, 16, 256)  1024       ['conv2d_60[0][0]']              \n",
            " ormalization)                                                                                    \n",
            "                                                                                                  \n",
            " activation_70 (Activation)     (None, 16, 16, 256)  0           ['batch_normalization_70[0][0]'] \n",
            "                                                                                                  \n",
            " conv2d_61 (Conv2D)             (None, 16, 16, 256)  590080      ['activation_70[0][0]']          \n",
            "                                                                                                  \n",
            " batch_normalization_71 (BatchN  (None, 16, 16, 256)  1024       ['conv2d_61[0][0]']              \n",
            " ormalization)                                                                                    \n",
            "                                                                                                  \n",
            " activation_71 (Activation)     (None, 16, 16, 256)  0           ['batch_normalization_71[0][0]'] \n",
            "                                                                                                  \n",
            " conv2d_transpose_12 (Conv2DTra  (None, 32, 32, 128)  131200     ['activation_71[0][0]']          \n",
            " nspose)                                                                                          \n",
            "                                                                                                  \n",
            " concatenate_12 (Concatenate)   (None, 32, 32, 256)  0           ['activation_59[0][0]',          \n",
            "                                                                  'conv2d_transpose_12[0][0]']    \n",
            "                                                                                                  \n",
            " batch_normalization_72 (BatchN  (None, 32, 32, 256)  1024       ['concatenate_12[0][0]']         \n",
            " ormalization)                                                                                    \n",
            "                                                                                                  \n",
            " activation_72 (Activation)     (None, 32, 32, 256)  0           ['batch_normalization_72[0][0]'] \n",
            "                                                                                                  \n",
            " conv2d_62 (Conv2D)             (None, 32, 32, 128)  295040      ['activation_72[0][0]']          \n",
            "                                                                                                  \n",
            " batch_normalization_73 (BatchN  (None, 32, 32, 128)  512        ['conv2d_62[0][0]']              \n",
            " ormalization)                                                                                    \n",
            "                                                                                                  \n",
            " activation_73 (Activation)     (None, 32, 32, 128)  0           ['batch_normalization_73[0][0]'] \n",
            "                                                                                                  \n",
            " conv2d_63 (Conv2D)             (None, 32, 32, 128)  147584      ['activation_73[0][0]']          \n",
            "                                                                                                  \n",
            " batch_normalization_74 (BatchN  (None, 32, 32, 128)  512        ['conv2d_63[0][0]']              \n",
            " ormalization)                                                                                    \n",
            "                                                                                                  \n",
            " activation_74 (Activation)     (None, 32, 32, 128)  0           ['batch_normalization_74[0][0]'] \n",
            "                                                                                                  \n",
            " conv2d_transpose_13 (Conv2DTra  (None, 64, 64, 64)  32832       ['activation_74[0][0]']          \n",
            " nspose)                                                                                          \n",
            "                                                                                                  \n",
            " concatenate_13 (Concatenate)   (None, 64, 64, 128)  0           ['activation_57[0][0]',          \n",
            "                                                                  'conv2d_transpose_13[0][0]']    \n",
            "                                                                                                  \n",
            " batch_normalization_75 (BatchN  (None, 64, 64, 128)  512        ['concatenate_13[0][0]']         \n",
            " ormalization)                                                                                    \n",
            "                                                                                                  \n",
            " activation_75 (Activation)     (None, 64, 64, 128)  0           ['batch_normalization_75[0][0]'] \n",
            "                                                                                                  \n",
            " conv2d_64 (Conv2D)             (None, 64, 64, 64)   73792       ['activation_75[0][0]']          \n",
            "                                                                                                  \n",
            " batch_normalization_76 (BatchN  (None, 64, 64, 64)  256         ['conv2d_64[0][0]']              \n",
            " ormalization)                                                                                    \n",
            "                                                                                                  \n",
            " activation_76 (Activation)     (None, 64, 64, 64)   0           ['batch_normalization_76[0][0]'] \n",
            "                                                                                                  \n",
            " conv2d_65 (Conv2D)             (None, 64, 64, 64)   36928       ['activation_76[0][0]']          \n",
            "                                                                                                  \n",
            " batch_normalization_77 (BatchN  (None, 64, 64, 64)  256         ['conv2d_65[0][0]']              \n",
            " ormalization)                                                                                    \n",
            "                                                                                                  \n",
            " activation_77 (Activation)     (None, 64, 64, 64)   0           ['batch_normalization_77[0][0]'] \n",
            "                                                                                                  \n",
            " conv2d_transpose_14 (Conv2DTra  (None, 128, 128, 32  8224       ['activation_77[0][0]']          \n",
            " nspose)                        )                                                                 \n",
            "                                                                                                  \n",
            " concatenate_14 (Concatenate)   (None, 128, 128, 64  0           ['activation_55[0][0]',          \n",
            "                                )                                 'conv2d_transpose_14[0][0]']    \n",
            "                                                                                                  \n",
            " batch_normalization_78 (BatchN  (None, 128, 128, 64  256        ['concatenate_14[0][0]']         \n",
            " ormalization)                  )                                                                 \n",
            "                                                                                                  \n",
            " activation_78 (Activation)     (None, 128, 128, 64  0           ['batch_normalization_78[0][0]'] \n",
            "                                )                                                                 \n",
            "                                                                                                  \n",
            " conv2d_66 (Conv2D)             (None, 128, 128, 32  18464       ['activation_78[0][0]']          \n",
            "                                )                                                                 \n",
            "                                                                                                  \n",
            " batch_normalization_79 (BatchN  (None, 128, 128, 32  128        ['conv2d_66[0][0]']              \n",
            " ormalization)                  )                                                                 \n",
            "                                                                                                  \n",
            " activation_79 (Activation)     (None, 128, 128, 32  0           ['batch_normalization_79[0][0]'] \n",
            "                                )                                                                 \n",
            "                                                                                                  \n",
            " conv2d_67 (Conv2D)             (None, 128, 128, 32  9248        ['activation_79[0][0]']          \n",
            "                                )                                                                 \n",
            "                                                                                                  \n",
            " batch_normalization_80 (BatchN  (None, 128, 128, 32  128        ['conv2d_67[0][0]']              \n",
            " ormalization)                  )                                                                 \n",
            "                                                                                                  \n",
            " activation_80 (Activation)     (None, 128, 128, 32  0           ['batch_normalization_80[0][0]'] \n",
            "                                )                                                                 \n",
            "                                                                                                  \n",
            " conv2d_68 (Conv2D)             (None, 128, 128, 25  825         ['activation_80[0][0]']          \n",
            "                                )                                                                 \n",
            "                                                                                                  \n",
            "==================================================================================================\n",
            "Total params: 31,129,017\n",
            "Trainable params: 31,113,017\n",
            "Non-trainable params: 16,000\n",
            "__________________________________________________________________________________________________\n",
            "None\n"
          ]
        }
      ],
      "source": [
        "m = get_model()\n",
        "print(m.summary())"
      ]
    },
    {
      "cell_type": "code",
      "execution_count": 77,
      "metadata": {
        "colab": {
          "base_uri": "https://localhost:8080/"
        },
        "id": "G39jZYYX6B0E",
        "outputId": "cf278baa-4629-4b48-912a-7a0d3062776c"
      },
      "outputs": [
        {
          "output_type": "stream",
          "name": "stdout",
          "text": [
            "Epoch 1/30\n",
            "73/73 [==============================] - 142s 1s/step - loss: 1.7858 - accuracy: 0.0000e+00 - val_loss: 2.7977 - val_accuracy: 0.0000e+00\n",
            "Epoch 2/30\n",
            "73/73 [==============================] - 98s 1s/step - loss: 1.2480 - accuracy: 0.0000e+00 - val_loss: 2.5821 - val_accuracy: 0.0000e+00\n",
            "Epoch 3/30\n",
            "73/73 [==============================] - 60s 836ms/step - loss: 1.1297 - accuracy: 0.0000e+00 - val_loss: 2.5347 - val_accuracy: 0.0000e+00\n",
            "Epoch 4/30\n",
            "73/73 [==============================] - 80s 1s/step - loss: 1.0766 - accuracy: 0.0000e+00 - val_loss: 2.8457 - val_accuracy: 0.0000e+00\n",
            "Epoch 5/30\n",
            "73/73 [==============================] - 72s 1s/step - loss: 1.0402 - accuracy: 0.0000e+00 - val_loss: 2.5305 - val_accuracy: 0.0000e+00\n",
            "Epoch 6/30\n",
            "73/73 [==============================] - 82s 1s/step - loss: 1.0054 - accuracy: 0.0000e+00 - val_loss: 2.4936 - val_accuracy: 0.0000e+00\n",
            "Epoch 7/30\n",
            "73/73 [==============================] - 63s 877ms/step - loss: 0.9972 - accuracy: 0.0000e+00 - val_loss: 2.4455 - val_accuracy: 0.0000e+00\n",
            "Epoch 8/30\n",
            "73/73 [==============================] - 76s 1s/step - loss: 0.9612 - accuracy: 0.0000e+00 - val_loss: 2.0147 - val_accuracy: 0.0000e+00\n",
            "Epoch 9/30\n",
            "73/73 [==============================] - 61s 848ms/step - loss: 0.9508 - accuracy: 0.0000e+00 - val_loss: 1.9515 - val_accuracy: 0.0000e+00\n",
            "Epoch 10/30\n",
            "73/73 [==============================] - 85s 1s/step - loss: 0.9409 - accuracy: 0.0000e+00 - val_loss: 1.9503 - val_accuracy: 0.0000e+00\n",
            "Epoch 11/30\n",
            "73/73 [==============================] - 76s 1s/step - loss: 0.9299 - accuracy: 0.0000e+00 - val_loss: 2.1153 - val_accuracy: 0.0000e+00\n",
            "Epoch 12/30\n",
            "73/73 [==============================] - 59s 817ms/step - loss: 0.9316 - accuracy: 0.0000e+00 - val_loss: 2.1194 - val_accuracy: 0.0000e+00\n",
            "Epoch 13/30\n",
            "73/73 [==============================] - 67s 922ms/step - loss: 0.9226 - accuracy: 0.0000e+00 - val_loss: 1.8270 - val_accuracy: 0.0000e+00\n",
            "Epoch 14/30\n",
            "73/73 [==============================] - 79s 1s/step - loss: 0.9043 - accuracy: 0.0000e+00 - val_loss: 1.9101 - val_accuracy: 0.0000e+00\n",
            "Epoch 15/30\n",
            "73/73 [==============================] - 74s 1s/step - loss: 0.9028 - accuracy: 0.0000e+00 - val_loss: 1.9795 - val_accuracy: 0.0000e+00\n",
            "Epoch 16/30\n",
            "73/73 [==============================] - 83s 1s/step - loss: 0.8856 - accuracy: 0.0000e+00 - val_loss: 1.9073 - val_accuracy: 0.0000e+00\n",
            "Epoch 17/30\n",
            "73/73 [==============================] - 73s 1s/step - loss: 0.8942 - accuracy: 0.0000e+00 - val_loss: 1.9071 - val_accuracy: 0.0000e+00\n",
            "Epoch 18/30\n",
            "73/73 [==============================] - 68s 936ms/step - loss: 0.8668 - accuracy: 0.0000e+00 - val_loss: 1.9930 - val_accuracy: 0.0000e+00\n",
            "Epoch 19/30\n",
            "73/73 [==============================] - 57s 790ms/step - loss: 0.8692 - accuracy: 0.0000e+00 - val_loss: 1.9211 - val_accuracy: 0.0000e+00\n",
            "Epoch 20/30\n",
            "73/73 [==============================] - 66s 911ms/step - loss: 0.8999 - accuracy: 0.0000e+00 - val_loss: 1.8454 - val_accuracy: 0.0000e+00\n",
            "Epoch 21/30\n",
            "73/73 [==============================] - 55s 768ms/step - loss: 0.8686 - accuracy: 0.0000e+00 - val_loss: 1.9838 - val_accuracy: 0.0000e+00\n",
            "Epoch 22/30\n",
            "73/73 [==============================] - 79s 1s/step - loss: 0.8576 - accuracy: 0.0000e+00 - val_loss: 1.8894 - val_accuracy: 0.0000e+00\n",
            "Epoch 23/30\n",
            "73/73 [==============================] - 63s 867ms/step - loss: 0.8702 - accuracy: 6.3689e-09 - val_loss: 2.1899 - val_accuracy: 0.0000e+00\n",
            "Epoch 24/30\n",
            "73/73 [==============================] - 65s 907ms/step - loss: 0.8648 - accuracy: 3.3879e-08 - val_loss: 2.5427 - val_accuracy: 0.0000e+00\n",
            "Epoch 25/30\n",
            "73/73 [==============================] - 58s 800ms/step - loss: 0.8433 - accuracy: 0.0000e+00 - val_loss: 1.9065 - val_accuracy: 0.0000e+00\n",
            "Epoch 26/30\n",
            "73/73 [==============================] - 71s 983ms/step - loss: 0.8306 - accuracy: 0.0000e+00 - val_loss: 1.8330 - val_accuracy: 0.0000e+00\n",
            "Epoch 27/30\n",
            "73/73 [==============================] - 80s 1s/step - loss: 0.8913 - accuracy: 0.0000e+00 - val_loss: 1.7572 - val_accuracy: 0.0000e+00\n",
            "Epoch 28/30\n",
            "73/73 [==============================] - 53s 732ms/step - loss: 0.8292 - accuracy: 0.0000e+00 - val_loss: 1.8202 - val_accuracy: 0.0000e+00\n",
            "Epoch 29/30\n",
            "73/73 [==============================] - 82s 1s/step - loss: 0.8295 - accuracy: 0.0000e+00 - val_loss: 1.9890 - val_accuracy: 0.0000e+00\n",
            "Epoch 30/30\n",
            "73/73 [==============================] - 70s 972ms/step - loss: 0.8306 - accuracy: 0.0000e+00 - val_loss: 1.8495 - val_accuracy: 0.0000e+00\n"
          ]
        },
        {
          "output_type": "stream",
          "name": "stderr",
          "text": [
            "WARNING:absl:Found untraced functions such as _jit_compiled_convolution_op, _jit_compiled_convolution_op, _jit_compiled_convolution_op, _jit_compiled_convolution_op, _jit_compiled_convolution_op while saving (showing 5 of 28). These functions will not be directly callable after loading.\n"
          ]
        },
        {
          "output_type": "stream",
          "name": "stdout",
          "text": [
            "<keras.engine.functional.Functional object at 0x7fb380a857f0>\n"
          ]
        }
      ],
      "source": [
        "m = get_model()\n",
        "# tf.keras.utils.plot_model(m)\n",
        "# Load a trained model. 50 epochs. 25 hours. Final RMSE ~0.08.\n",
        "MODEL_DIR = 'gs://' + BUCKET +'/'+ FOLDER +  '/'\n",
        "\n",
        "# m = tf.keras.models.load_model(MODEL_DIR)\n",
        "# EPOCHS\n",
        "#int(TRAIN_SIZE / BATCH_SIZE)\n",
        "m.fit(\n",
        "    x=training, \n",
        "    epochs=30, \n",
        "    steps_per_epoch=73, \n",
        "    validation_data=evaluation,\n",
        "    validation_steps=EVAL_SIZE)\n",
        "\n",
        "m.save('gs://' + BUCKET +'/'+ FOLDER +  '/')\n",
        "print(m)"
      ]
    },
    {
      "cell_type": "code",
      "source": [
        "def doExport(out_image_base, shape, region):\n",
        "  \"\"\"Run the image export task.  Block until complete.\n",
        "  \"\"\"\n",
        "  task = ee.batch.Export.image.toDrive(\n",
        "    image = ls_2017.select(BANDS),\n",
        "    description = out_image_base,\n",
        "    fileNamePrefix = out_image_base,\n",
        "    folder = FOLDER,\n",
        "    region = region.getInfo()['coordinates'],\n",
        "    scale = 30,\n",
        "    fileFormat = 'GeoTIFF',\n",
        "    maxPixels = 1e10,\n",
        "    formatOptions = {\n",
        "      'patchDimensions': shape,\n",
        "      'compressed': True,\n",
        "      'maxFileSize': 104857600\n",
        "    }\n",
        "  )\n",
        "  task.start()\n",
        "\n",
        "  # Block until the task completes.\n",
        "  print('Running image export to Google Drive...')\n",
        "  import time\n",
        "  while task.active():\n",
        "    time.sleep(30)\n",
        "\n",
        "  # Error condition\n",
        "  if task.status()['state'] != 'COMPLETED':\n",
        "    print('Error with image export.')\n",
        "  else:\n",
        "    print('Image export completed.')\n"
      ],
      "metadata": {
        "id": "Ld7W6gm80tv6"
      },
      "execution_count": 176,
      "outputs": []
    },
    {
      "cell_type": "code",
      "source": [],
      "metadata": {
        "id": "xvXX_zlkarNQ"
      },
      "execution_count": 109,
      "outputs": []
    },
    {
      "cell_type": "code",
      "source": [
        ", model_variables\n",
        "from tensorflow.python.ops.variables import local_variables\n",
        "from traitlets.config.loader import JSONFileConfigLoader\n",
        "from keras.api._v2.keras import mixed_precision\n",
        "\n",
        "def doPrediction(out_image_base, kernel_shape, region):\n",
        "  \"\"\"Perform inference on exported imagery.\n",
        "  \"\"\"\n",
        "\n",
        "  # print('Looking for TFRecord files...')\n",
        "\n",
        "  # # Get a list of all the files in the output bucket.\n",
        "  # filesList = os.listdir(op.join(ROOT_DIR, FOLDER))\n",
        "\n",
        "  # # Get only the files generated by the image export.\n",
        "  # exportFilesList = [s for s in filesList if out_image_base in s]\n",
        "\n",
        "  # # Get the list of image files and the JSON mixer file.\n",
        "  # imageFilesList = []\n",
        "  # jsonFile = None\n",
        "  # for f in exportFilesList:\n",
        "  #   if f.endswith('.tfrecord.gz'):\n",
        "  #     imageFilesList.append(op.join(ROOT_DIR, FOLDER, f))\n",
        "  #   elif f.endswith('.json'):\n",
        "  #     jsonFile = f\n",
        "\n",
        "  print('Looking for GeoTIFF files...')\n",
        "  # Get a list of all the files in the output bucket.\n",
        "  filesList = os.listdir(op.join(ROOT_DIR, FOLDER))\n",
        "  # Get only the files generated by the image export.\n",
        "  exportFilesList = [s for s in filesList if out_image_base in s]\n",
        "\n",
        "  # Get the list of image files and the JSON mixer file.\n",
        "  imageFilesList = []\n",
        "  jsonFile = None\n",
        "  for f in exportFilesList:\n",
        "    if f.endswith('.tif') or f.endswith('.tiff'):\n",
        "      imageFilesList.append(op.join(ROOT_DIR, FOLDER, f))\n",
        "    elif f.endswith('.json'):\n",
        "      jsonFile = f\n",
        "\n",
        "  # Make sure the files are in the right order.\n",
        "  imageFilesList.sort()\n",
        "\n",
        "  from pprint import pprint\n",
        "  pprint(imageFilesList)\n",
        "  print(jsonFile)\n",
        "\n",
        "  import json\n",
        "  # Load the contents of the mixer file to a JSON object.\n",
        "  with open(op.join(ROOT_DIR, FOLDER, jsonFile), 'r') as f:\n",
        "    mixer = json.load(f)\n",
        "\n",
        "  pprint(mixer)\n",
        "  patches = mixer['totalPatches']\n",
        "\n",
        "\n",
        "  # Get set up for prediction.\n",
        "\n",
        "  imageColumns = [\n",
        "    tf.io.FixedLenFeature(shape=kernel_shape, dtype=tf.float32) \n",
        "      for k in BANDS\n",
        "  ]\n",
        "\n",
        "  imageFeaturesDict = dict(zip(BANDS, imageColumns))\n",
        "\n",
        "  def parse_image(example_proto):\n",
        "    return tf.io.parse_single_example(example_proto, imageFeaturesDict)\n",
        "\n",
        "  def toTupleImage(inputs):\n",
        "    inputsList = [inputs.get(key) for key in BANDS]\n",
        "    stacked = tf.stack(inputsList, axis=0)\n",
        "    stacked = tf.transpose(stacked, [1, 2, 0])\n",
        "    return stacked\n",
        "\n",
        "#  # Create a dataset from the TFRecord file(s) in Cloud Storage.\n",
        "#   imageDataset = tf.data.TFRecordDataset(imageFilesList, compression_type='GZIP')\n",
        "#   imageDataset = imageDataset.map(parse_image, num_parallel_calls=5)\n",
        "#   imageDataset = imageDataset.map(toTupleImage).batch(1)\n",
        "\n",
        "\n",
        "  # Create a dataset from the GeoTIFF file(s) in Cloud Storage.\n",
        "  imageDataset = tf.keras.preprocessing.image_dataset_from_directory(\n",
        "      directory=op.join(ROOT_DIR, FOLDER),\n",
        "      labels=None,\n",
        "      batch_size=1,\n",
        "      image_size=kernel_shape[:2],\n",
        "      interpolation='nearest',\n",
        "      seed=123,\n",
        "      validation_split=None,\n",
        "      subset=None,\n",
        "      follow_links=False,\n",
        "      smart_resize=False,\n",
        "  )\n",
        "\n",
        "  imageDataset = imageDataset.map(toTupleImage).batch(1)\n",
        "\n",
        "\n",
        "  # Perform inference.\n",
        "  print('Running predictions...')\n",
        "  predictions = model.predict(imageDataset, steps=patches, verbose=1)\n",
        "  # print(predictions[0])\n",
        "\n",
        "  print('Writing predictions...')\n",
        "  out_image_file = op.join(ROOT_DIR, FOLDER, f'{out_image_base}pred.TFRecord')\n",
        "  writer = tf.io.TFRecordWriter(out_image_file)\n",
        "  patches = 0\n",
        "  for predictionPatch in predictions:\n",
        "    print('Writing patch ' + str(patches) + '...')\n",
        "    predictionPatch = tf.argmax(predictionPatch, axis=2)\n",
        "\n",
        "    # Create an example.\n",
        "    example = tf.train.Example(\n",
        "      features=tf.train.Features(\n",
        "        feature={\n",
        "          'class': tf.train.Feature(\n",
        "              float_list=tf.train.FloatList(\n",
        "                  value=predictionPatch.numpy().flatten()))\n",
        "        }\n",
        "      )\n",
        "    )\n",
        "    # Write the example.\n",
        "    writer.write(example.SerializeToString())\n",
        "    patches += 1\n",
        "\n",
        "  writer.close()\n"
      ],
      "metadata": {
        "id": "AMwcooPI02OX"
      },
      "execution_count": 181,
      "outputs": []
    },
    {
      "cell_type": "code",
      "source": [
        "# Output assets folder: YOUR FOLDER\n",
        "user_folder = 'users/seismosmsr/UNET_regression' # INSERT YOUR FOLDER HERE.\n",
        "\n",
        "# Base file name to use for TFRecord files and assets.\n",
        "image_base = 'FCNN_demo_Oahu'\n",
        "# Half this will extend on the sides of each patch.\n",
        "KERNEL_SHAPE = [128, 128]\n",
        "# Beijing\n",
        "#-123.3152617122404422,37.7933818681806812 : -121.5833326464016722,38.6741999222186763\n",
        "OahuDistricts = ee.FeatureCollection('projects/ee-seismosmsr-landcover/assets/Neighborhood_Board_Subdistricts')\n",
        "query_str = f'SD_DESC == \"Makaha\"'\n",
        "makaha = OahuDistricts.filter(query_str).geometry() \n",
        "# makaha.getInfo()\n",
        "\n"
      ],
      "metadata": {
        "id": "jK6xOeE-3UYI"
      },
      "execution_count": 182,
      "outputs": []
    },
    {
      "cell_type": "code",
      "source": [
        "# Use folium to visualize EE image. \n",
        "mapid = OahuDistricts.getMapId({'min': 1, 'max': 2})\n",
        "map = folium.Map(location=[21.4, -158.], zoom_start=10)\n",
        "folium.TileLayer(\n",
        "    tiles=mapid['tile_fetcher'].url_format,\n",
        "    attr='Map Data &copy; <a href=\"https://earthengine.google.com/\">Google Earth Engine</a>',\n",
        "    overlay=True,\n",
        "    name='Oahu Districts',\n",
        "  ).add_to(map)\n",
        "map.add_child(folium.LayerControl())\n",
        "map"
      ],
      "metadata": {
        "id": "PtRaYRcvdjMG",
        "outputId": "1dfd6df1-8acb-4a6a-e042-bdf463252fe7",
        "colab": {
          "base_uri": "https://localhost:8080/",
          "height": 1000
        }
      },
      "execution_count": 183,
      "outputs": [
        {
          "output_type": "execute_result",
          "data": {
            "text/plain": [
              "<folium.folium.Map object at 0x7fb38776fd60>"
            ],
            "text/html": [
              "<div style=\"width:100%;\"><div style=\"position:relative;width:100%;height:0;padding-bottom:60%;\"><span style=\"color:#565656\">Make this Notebook Trusted to load map: File -> Trust Notebook</span><iframe srcdoc=\"&lt;!DOCTYPE html&gt;\n",
              "&lt;html&gt;\n",
              "&lt;head&gt;\n",
              "    \n",
              "    &lt;meta http-equiv=&quot;content-type&quot; content=&quot;text/html; charset=UTF-8&quot; /&gt;\n",
              "    \n",
              "        &lt;script&gt;\n",
              "            L_NO_TOUCH = false;\n",
              "            L_DISABLE_3D = false;\n",
              "        &lt;/script&gt;\n",
              "    \n",
              "    &lt;style&gt;html, body {width: 100%;height: 100%;margin: 0;padding: 0;}&lt;/style&gt;\n",
              "    &lt;style&gt;#map {position:absolute;top:0;bottom:0;right:0;left:0;}&lt;/style&gt;\n",
              "    &lt;script src=&quot;https://cdn.jsdelivr.net/npm/leaflet@1.9.3/dist/leaflet.js&quot;&gt;&lt;/script&gt;\n",
              "    &lt;script src=&quot;https://code.jquery.com/jquery-1.12.4.min.js&quot;&gt;&lt;/script&gt;\n",
              "    &lt;script src=&quot;https://cdn.jsdelivr.net/npm/bootstrap@5.2.2/dist/js/bootstrap.bundle.min.js&quot;&gt;&lt;/script&gt;\n",
              "    &lt;script src=&quot;https://cdnjs.cloudflare.com/ajax/libs/Leaflet.awesome-markers/2.0.2/leaflet.awesome-markers.js&quot;&gt;&lt;/script&gt;\n",
              "    &lt;link rel=&quot;stylesheet&quot; href=&quot;https://cdn.jsdelivr.net/npm/leaflet@1.9.3/dist/leaflet.css&quot;/&gt;\n",
              "    &lt;link rel=&quot;stylesheet&quot; href=&quot;https://cdn.jsdelivr.net/npm/bootstrap@5.2.2/dist/css/bootstrap.min.css&quot;/&gt;\n",
              "    &lt;link rel=&quot;stylesheet&quot; href=&quot;https://netdna.bootstrapcdn.com/bootstrap/3.0.0/css/bootstrap.min.css&quot;/&gt;\n",
              "    &lt;link rel=&quot;stylesheet&quot; href=&quot;https://cdn.jsdelivr.net/npm/@fortawesome/fontawesome-free@6.2.0/css/all.min.css&quot;/&gt;\n",
              "    &lt;link rel=&quot;stylesheet&quot; href=&quot;https://cdnjs.cloudflare.com/ajax/libs/Leaflet.awesome-markers/2.0.2/leaflet.awesome-markers.css&quot;/&gt;\n",
              "    &lt;link rel=&quot;stylesheet&quot; href=&quot;https://cdn.jsdelivr.net/gh/python-visualization/folium/folium/templates/leaflet.awesome.rotate.min.css&quot;/&gt;\n",
              "    \n",
              "            &lt;meta name=&quot;viewport&quot; content=&quot;width=device-width,\n",
              "                initial-scale=1.0, maximum-scale=1.0, user-scalable=no&quot; /&gt;\n",
              "            &lt;style&gt;\n",
              "                #map_fb13dad2bda2d7ce492657786e00c024 {\n",
              "                    position: relative;\n",
              "                    width: 100.0%;\n",
              "                    height: 100.0%;\n",
              "                    left: 0.0%;\n",
              "                    top: 0.0%;\n",
              "                }\n",
              "                .leaflet-container { font-size: 1rem; }\n",
              "            &lt;/style&gt;\n",
              "        \n",
              "&lt;/head&gt;\n",
              "&lt;body&gt;\n",
              "    \n",
              "    \n",
              "            &lt;div class=&quot;folium-map&quot; id=&quot;map_fb13dad2bda2d7ce492657786e00c024&quot; &gt;&lt;/div&gt;\n",
              "        \n",
              "&lt;/body&gt;\n",
              "&lt;script&gt;\n",
              "    \n",
              "    \n",
              "            var map_fb13dad2bda2d7ce492657786e00c024 = L.map(\n",
              "                &quot;map_fb13dad2bda2d7ce492657786e00c024&quot;,\n",
              "                {\n",
              "                    center: [21.4, -158.0],\n",
              "                    crs: L.CRS.EPSG3857,\n",
              "                    zoom: 10,\n",
              "                    zoomControl: true,\n",
              "                    preferCanvas: false,\n",
              "                }\n",
              "            );\n",
              "\n",
              "            \n",
              "\n",
              "        \n",
              "    \n",
              "            var tile_layer_2b032ce45e23b180a337147fb8d85387 = L.tileLayer(\n",
              "                &quot;https://{s}.tile.openstreetmap.org/{z}/{x}/{y}.png&quot;,\n",
              "                {&quot;attribution&quot;: &quot;Data by \\u0026copy; \\u003ca target=\\&quot;_blank\\&quot; href=\\&quot;http://openstreetmap.org\\&quot;\\u003eOpenStreetMap\\u003c/a\\u003e, under \\u003ca target=\\&quot;_blank\\&quot; href=\\&quot;http://www.openstreetmap.org/copyright\\&quot;\\u003eODbL\\u003c/a\\u003e.&quot;, &quot;detectRetina&quot;: false, &quot;maxNativeZoom&quot;: 18, &quot;maxZoom&quot;: 18, &quot;minZoom&quot;: 0, &quot;noWrap&quot;: false, &quot;opacity&quot;: 1, &quot;subdomains&quot;: &quot;abc&quot;, &quot;tms&quot;: false}\n",
              "            ).addTo(map_fb13dad2bda2d7ce492657786e00c024);\n",
              "        \n",
              "    \n",
              "            var tile_layer_e4f98b123e46d44e8071504db373d78e = L.tileLayer(\n",
              "                &quot;https://earthengine.googleapis.com/v1alpha/projects/earthengine-legacy/maps/26805d9a66c8ec71add77c4bdb33c674-268acde965fb747d8313f6a920f594b8/tiles/{z}/{x}/{y}&quot;,\n",
              "                {&quot;attribution&quot;: &quot;Map Data \\u0026copy; \\u003ca href=\\&quot;https://earthengine.google.com/\\&quot;\\u003eGoogle Earth Engine\\u003c/a\\u003e&quot;, &quot;detectRetina&quot;: false, &quot;maxNativeZoom&quot;: 18, &quot;maxZoom&quot;: 18, &quot;minZoom&quot;: 0, &quot;noWrap&quot;: false, &quot;opacity&quot;: 1, &quot;subdomains&quot;: &quot;abc&quot;, &quot;tms&quot;: false}\n",
              "            ).addTo(map_fb13dad2bda2d7ce492657786e00c024);\n",
              "        \n",
              "    \n",
              "            var layer_control_70e5669152f2082b5d245a154e6e6646 = {\n",
              "                base_layers : {\n",
              "                    &quot;openstreetmap&quot; : tile_layer_2b032ce45e23b180a337147fb8d85387,\n",
              "                },\n",
              "                overlays :  {\n",
              "                    &quot;Oahu Districts&quot; : tile_layer_e4f98b123e46d44e8071504db373d78e,\n",
              "                },\n",
              "            };\n",
              "            L.control.layers(\n",
              "                layer_control_70e5669152f2082b5d245a154e6e6646.base_layers,\n",
              "                layer_control_70e5669152f2082b5d245a154e6e6646.overlays,\n",
              "                {&quot;autoZIndex&quot;: true, &quot;collapsed&quot;: true, &quot;position&quot;: &quot;topright&quot;}\n",
              "            ).addTo(map_fb13dad2bda2d7ce492657786e00c024);\n",
              "        \n",
              "&lt;/script&gt;\n",
              "&lt;/html&gt;\" style=\"position:absolute;width:100%;height:100%;left:0;top:0;border:none !important;\" allowfullscreen webkitallowfullscreen mozallowfullscreen></iframe></div></div>"
            ]
          },
          "metadata": {},
          "execution_count": 183
        }
      ]
    },
    {
      "cell_type": "code",
      "source": [
        "doExport(image_base, KERNEL_SHAPE,makaha)"
      ],
      "metadata": {
        "id": "domZ7b_13cbE",
        "outputId": "b388c647-3df1-4d15-ed4c-ca730648b2a6",
        "colab": {
          "base_uri": "https://localhost:8080/",
          "height": 693
        }
      },
      "execution_count": 187,
      "outputs": [
        {
          "output_type": "error",
          "ename": "EEException",
          "evalue": "ignored",
          "traceback": [
            "\u001b[0;31m---------------------------------------------------------------------------\u001b[0m",
            "\u001b[0;31mEEException\u001b[0m                               Traceback (most recent call last)",
            "\u001b[0;32m<ipython-input-187-94fd03db75d7>\u001b[0m in \u001b[0;36m<cell line: 1>\u001b[0;34m()\u001b[0m\n\u001b[0;32m----> 1\u001b[0;31m \u001b[0mdoExport\u001b[0m\u001b[0;34m(\u001b[0m\u001b[0mimage_base\u001b[0m\u001b[0;34m,\u001b[0m \u001b[0mKERNEL_SHAPE\u001b[0m\u001b[0;34m,\u001b[0m\u001b[0mmakaha\u001b[0m\u001b[0;34m)\u001b[0m\u001b[0;34m\u001b[0m\u001b[0;34m\u001b[0m\u001b[0m\n\u001b[0m",
            "\u001b[0;32m<ipython-input-176-2cba41741f32>\u001b[0m in \u001b[0;36mdoExport\u001b[0;34m(out_image_base, shape, region)\u001b[0m\n\u001b[1;32m      2\u001b[0m   \"\"\"Run the image export task.  Block until complete.\n\u001b[1;32m      3\u001b[0m   \"\"\"\n\u001b[0;32m----> 4\u001b[0;31m   task = ee.batch.Export.image.toDrive(\n\u001b[0m\u001b[1;32m      5\u001b[0m     \u001b[0mimage\u001b[0m \u001b[0;34m=\u001b[0m \u001b[0mls_2017\u001b[0m\u001b[0;34m.\u001b[0m\u001b[0mselect\u001b[0m\u001b[0;34m(\u001b[0m\u001b[0mBANDS\u001b[0m\u001b[0;34m)\u001b[0m\u001b[0;34m,\u001b[0m\u001b[0;34m\u001b[0m\u001b[0;34m\u001b[0m\u001b[0m\n\u001b[1;32m      6\u001b[0m     \u001b[0mdescription\u001b[0m \u001b[0;34m=\u001b[0m \u001b[0mout_image_base\u001b[0m\u001b[0;34m,\u001b[0m\u001b[0;34m\u001b[0m\u001b[0;34m\u001b[0m\u001b[0m\n",
            "\u001b[0;32m/usr/local/lib/python3.9/dist-packages/ee/batch.py\u001b[0m in \u001b[0;36mtoDrive\u001b[0;34m(image, description, folder, fileNamePrefix, dimensions, region, scale, crs, crsTransform, maxPixels, shardSize, fileDimensions, skipEmptyTiles, fileFormat, formatOptions, **kwargs)\u001b[0m\n\u001b[1;32m    433\u001b[0m       \"\"\"\n\u001b[1;32m    434\u001b[0m       \u001b[0mconfig\u001b[0m \u001b[0;34m=\u001b[0m \u001b[0m_capture_parameters\u001b[0m\u001b[0;34m(\u001b[0m\u001b[0mlocals\u001b[0m\u001b[0;34m(\u001b[0m\u001b[0;34m)\u001b[0m\u001b[0;34m,\u001b[0m \u001b[0;34m[\u001b[0m\u001b[0;34m'image'\u001b[0m\u001b[0;34m]\u001b[0m\u001b[0;34m)\u001b[0m\u001b[0;34m\u001b[0m\u001b[0;34m\u001b[0m\u001b[0m\n\u001b[0;32m--> 435\u001b[0;31m       config = _prepare_image_export_config(image, config,\n\u001b[0m\u001b[1;32m    436\u001b[0m                                             Task.ExportDestination.DRIVE)\n\u001b[1;32m    437\u001b[0m       \u001b[0;32mreturn\u001b[0m \u001b[0m_create_export_task\u001b[0m\u001b[0;34m(\u001b[0m\u001b[0mconfig\u001b[0m\u001b[0;34m,\u001b[0m \u001b[0mTask\u001b[0m\u001b[0;34m.\u001b[0m\u001b[0mType\u001b[0m\u001b[0;34m.\u001b[0m\u001b[0mEXPORT_IMAGE\u001b[0m\u001b[0;34m)\u001b[0m\u001b[0;34m\u001b[0m\u001b[0;34m\u001b[0m\u001b[0m\n",
            "\u001b[0;32m/usr/local/lib/python3.9/dist-packages/ee/batch.py\u001b[0m in \u001b[0;36m_prepare_image_export_config\u001b[0;34m(image, config, export_destination)\u001b[0m\n\u001b[1;32m   1027\u001b[0m     \u001b[0mrequest\u001b[0m\u001b[0;34m[\u001b[0m\u001b[0;34m'assetExportOptions'\u001b[0m\u001b[0;34m]\u001b[0m \u001b[0;34m=\u001b[0m \u001b[0masset_export_options\u001b[0m\u001b[0;34m\u001b[0m\u001b[0;34m\u001b[0m\u001b[0m\n\u001b[1;32m   1028\u001b[0m   \u001b[0;32melse\u001b[0m\u001b[0;34m:\u001b[0m\u001b[0;34m\u001b[0m\u001b[0;34m\u001b[0m\u001b[0m\n\u001b[0;32m-> 1029\u001b[0;31m     request['fileExportOptions'] = _build_image_file_export_options(\n\u001b[0m\u001b[1;32m   1030\u001b[0m         config, export_destination)\n\u001b[1;32m   1031\u001b[0m \u001b[0;34m\u001b[0m\u001b[0m\n",
            "\u001b[0;32m/usr/local/lib/python3.9/dist-packages/ee/batch.py\u001b[0m in \u001b[0;36m_build_image_file_export_options\u001b[0;34m(config, export_destination)\u001b[0m\n\u001b[1;32m   1285\u001b[0m \u001b[0;34m\u001b[0m\u001b[0m\n\u001b[1;32m   1286\u001b[0m   \u001b[0;32mif\u001b[0m \u001b[0mfile_format_options\u001b[0m\u001b[0;34m:\u001b[0m\u001b[0;34m\u001b[0m\u001b[0;34m\u001b[0m\u001b[0m\n\u001b[0;32m-> 1287\u001b[0;31m     raise ee_exception.EEException(\n\u001b[0m\u001b[1;32m   1288\u001b[0m         'Unknown file format options: {}.'.format(file_format_options))\n\u001b[1;32m   1289\u001b[0m \u001b[0;34m\u001b[0m\u001b[0m\n",
            "\u001b[0;31mEEException\u001b[0m: Unknown file format options: {'patchDimensions': [128, 128], 'compressed': True, 'maxFileSize': 104857600}."
          ]
        }
      ]
    },
    {
      "cell_type": "code",
      "source": [
        "print(makaha.getInfo())"
      ],
      "metadata": {
        "id": "-jwlq5JoiawV",
        "outputId": "a7e8afef-6649-482c-d0ca-8bac0bc04d4e",
        "colab": {
          "base_uri": "https://localhost:8080/"
        }
      },
      "execution_count": 165,
      "outputs": [
        {
          "output_type": "stream",
          "name": "stdout",
          "text": [
            "{'type': 'Polygon', 'coordinates': [[[-158.1707577459503, 21.519193639989087], [-158.17094505947492, 21.519264930032012], [-158.17124827268796, 21.519354130828518], [-158.17156040127858, 21.519358607621967], [-158.17179229163622, 21.51938090755273], [-158.17205092808828, 21.519376433889047], [-158.17229173382862, 21.51941658840343], [-158.17245666802708, 21.51945671664909], [-158.17268410074135, 21.519505731760372], [-158.17297839868752, 21.519487942070924], [-158.17317908533312, 21.51950571645112], [-158.17338859637664, 21.519514697238623], [-158.1735981984012, 21.519492398937185], [-158.17378996970496, 21.519692994735763], [-158.17394153090135, 21.519911541995548], [-158.1741823367243, 21.52019245617363], [-158.1742849543959, 21.52047784498814], [-158.17444988865395, 21.52075425201187], [-158.17454349999178, 21.52093712292058], [-158.17463274462148, 21.5211377582123], [-158.174690694499, 21.521347391624182], [-158.17467732145028, 21.521592619500577], [-158.1746996098648, 21.521869099350123], [-158.17481550962188, 21.52221242271638], [-158.17490029657282, 21.522453223276962], [-158.1749448734038, 21.52266275362948], [-158.17492258498825, 21.522859007246375], [-158.174909211939, 21.523086391638003], [-158.17492258498825, 21.523246918154], [-158.17502511170042, 21.523505574316683], [-158.17509643463174, 21.523625920736322], [-158.17530157903747, 21.523755248359457], [-158.1755334695522, 21.524053999480735], [-158.17568057311243, 21.52424573557842], [-158.1759302943785, 21.524553475814663], [-158.1761042350265, 21.524977059811636], [-158.17622013481278, 21.52528469870007], [-158.17630492178506, 21.525521105425096], [-158.17633612557458, 21.525601315461607], [-158.17637178704848, 21.525958071213427], [-158.1762915487325, 21.526247952805722], [-158.1762335078652, 21.526448544742273], [-158.17618893102392, 21.52660908223507], [-158.17601953903036, 21.526921257875994], [-158.17601953903036, 21.527188746072408], [-158.17594812511413, 21.52747414349906], [-158.17589017522351, 21.527710521425817], [-158.1759614981659, 21.527964656916968], [-158.17609086197442, 21.527960186528787], [-158.17630937946927, 21.527982471373004], [-158.17660367760763, 21.52801821804994], [-158.17684894123025, 21.528044934008577], [-158.1770495370423, 21.52810287001313], [-158.17721902004013, 21.528276807106806], [-158.17740624281015, 21.528468513438803], [-158.17758018350392, 21.528709350818048], [-158.17778978568597, 21.528981355242788], [-158.1779279739344, 21.529190927610657], [-158.17824901827177, 21.529427219017492], [-158.17849873965196, 21.529529799555704], [-158.17874846104314, 21.52974832480617], [-158.17889565566068, 21.53005154007318], [-158.17913200401, 21.53025220372787], [-158.17948870990924, 21.53067129660533], [-158.17989445038796, 21.53093890643709], [-158.1801798333384, 21.531210926625118], [-158.1803983509913, 21.531407084650713], [-158.18065253015348, 21.531759321299177], [-158.18087550551223, 21.531968933580274], [-158.1811073052824, 21.532151735339006], [-158.1813481114115, 21.532339043973302], [-158.1817271968645, 21.532579821577787], [-158.18202595297223, 21.5327225514856], [-158.182297962962, 21.53288748732594], [-158.18245843976462, 21.532945455413476], [-158.1827482805317, 21.53329325791707], [-158.18289101756267, 21.533534058789563], [-158.1831049866558, 21.5337926992467], [-158.1834929876037, 21.534055816063645], [-158.18375608228234, 21.534029016521767], [-158.18407712694605, 21.534055826291855], [-158.18435359472252, 21.534029042880533], [-158.18454527541627, 21.534006705491368], [-158.18488869955112, 21.534037951282944], [-158.18519191351263, 21.534194046522952], [-158.18549066979847, 21.534345653003385], [-158.18588749531497, 21.534541868994825], [-158.1860792670322, 21.534452644866118], [-158.18637802336315, 21.5343322643807], [-158.18655187335443, 21.53429214237163], [-158.1868238835551, 21.53435009063971], [-158.18703794376532, 21.53451951774493], [-158.1871449283867, 21.534693450662438], [-158.1873099539884, 21.534885229295107], [-158.18751064113755, 21.53499222460853], [-158.18774689886448, 21.535090287325804], [-158.18801445142677, 21.535076934326952], [-158.1884782334895, 21.53497884107903], [-158.18878144763517, 21.534938720705185], [-158.18903562716184, 21.53488069205877], [-158.18935667211275, 21.534840592707106], [-158.18979370811212, 21.534711251989943], [-158.19005225440318, 21.53469347385281], [-158.19034655323847, 21.534702391211752], [-158.19046254428264, 21.534680048555504], [-158.19063639439298, 21.534644403547], [-158.19068106231853, 21.534680076549677], [-158.19085491243519, 21.5348049540297], [-158.1910912612674, 21.53485397111547], [-158.19131423702174, 21.534978836056794], [-158.1914657986775, 21.535085840002395], [-158.19158624743903, 21.535241957196487], [-158.19169768983758, 21.535406930565735], [-158.19180030781945, 21.535607596402954], [-158.1919251233104, 21.535776983461933], [-158.19197415796825, 21.53587954897275], [-158.19204993880388, 21.53604456435446], [-158.1921168952213, 21.536213977843275], [-158.1922015914514, 21.536530562733926], [-158.19224616841512, 21.53670898824467], [-158.19225062611147, 21.536972022355084], [-158.19225508380785, 21.53718608888597], [-158.19228182998629, 21.537431305487928], [-158.1923665262187, 21.537618575236802], [-158.19242902494307, 21.537904023536644], [-158.1924334826396, 21.537953083044844], [-158.1924334826396, 21.537957479791913], [-158.1924334826396, 21.53819386962081], [-158.19242010955003, 21.538282994684526], [-158.19239782106752, 21.53844797395075], [-158.19235761082578, 21.538697749622578], [-158.19223725302234, 21.539000973075098], [-158.1921793029697, 21.53916142405635], [-158.19229966077197, 21.539223906690214], [-158.19250480578438, 21.53942453232061], [-158.19283922401007, 21.539647477625554], [-158.1929641304957, 21.539808000188373], [-158.19306665752552, 21.53994184304073], [-158.19317809995118, 21.540169236318345], [-158.1932137615278, 21.540316357620743], [-158.19328517565512, 21.540543799126155], [-158.19336987190147, 21.540833662224593], [-158.19345011045172, 21.541038774196114], [-158.19350806051642, 21.54125722084907], [-158.19348131433264, 21.541475732732216], [-158.19348131433264, 21.541480215722235], [-158.19341890657094, 21.54168083657097], [-158.19341444887368, 21.541854719169258], [-158.19367754398985, 21.542001883418987], [-158.19369983247702, 21.542015274469506], [-158.19394955451256, 21.54213121304646], [-158.19400304688435, 21.542367586840108], [-158.1941101226027, 21.54253696837934], [-158.19412349569595, 21.542554831152593], [-158.19415915727805, 21.542577118983026], [-158.19416361497585, 21.54257712463461], [-158.1942483112343, 21.542626200249646], [-158.1943508382856, 21.54274659558704], [-158.194453456312, 21.543165727432648], [-158.1945114063862, 21.54352694250026], [-158.19448911789607, 21.543807878728302], [-158.19451586408425, 21.5439817159403], [-158.19452032178228, 21.54399956747756], [-158.1946273065362, 21.54410660638109], [-158.19481907853174, 21.543954956864823], [-158.19505988521576, 21.54367405073069], [-158.19525156625127, 21.543495747871074], [-158.19538984588195, 21.54337084092961], [-158.19562173719052, 21.54320139367372], [-158.1958178759424, 21.5431612932228], [-158.19610325965695, 21.543036397457872], [-158.19634852409024, 21.54301861279917], [-158.1967142373952, 21.542991852089102], [-158.1970709443484, 21.543049814066656], [-158.197275998546, 21.54306765731438], [-158.1975702977277, 21.543112263574635], [-158.19778435831586, 21.543152372697342], [-158.19809203062323, 21.54320587464661], [-158.19835066823688, 21.5432058628809], [-158.19863605206697, 21.543192520581126], [-158.1988590280937, 21.543192463682114], [-158.19928260068997, 21.543187998167305], [-158.19971517969162, 21.54325045682113], [-158.2000897176229, 21.543361972981], [-158.20031269370077, 21.543473389029607], [-158.20052675438183, 21.543517977805287], [-158.20053121208414, 21.543517983262973], [-158.2005579582981, 21.54352249916037], [-158.2008255114175, 21.543705268879087], [-158.2009592424946, 21.543892604469708], [-158.20096370019724, 21.543892609921187], [-158.2011599300891, 21.54416900804496], [-158.20137399079854, 21.54437861171436], [-158.20159687594773, 21.54459709412076], [-158.20166829017066, 21.544820059551057], [-158.20185105600083, 21.545042976498976], [-158.2021676439121, 21.54528822669946], [-158.2025333575531, 21.545555792764187], [-158.20275178503869, 21.545671760206588], [-158.2030505421779, 21.545836721920413], [-158.2032066527957, 21.54604185899239], [-158.20338505193877, 21.546327204088662], [-158.20350095225157, 21.546452099497067], [-158.2037907940162, 21.54669731768814], [-158.2042857811903, 21.54712100638515], [-158.2042902388952, 21.547120925580327], [-158.20476284660742, 21.547522245088746], [-158.20484763398116, 21.54761150808921], [-158.20506606154456, 21.54792361833412], [-158.20532915714494, 21.548222345582044], [-158.20562345669666, 21.54844084296662], [-158.2059534179099, 21.548596876104135], [-158.20620759813343, 21.548628147390268], [-158.2065063554309, 21.54862817509679], [-158.20678282420877, 21.548681630137906], [-158.20711724318687, 21.54873963765407], [-158.2074115428184, 21.548842170995588], [-158.2076568076836, 21.549158724168453], [-158.20786195319164, 21.54939953027706], [-158.20808047182848, 21.54951102554405], [-158.20840597545654, 21.54953780992944], [-158.2087537676401, 21.549653769941656], [-158.20895445547387, 21.549809818204338], [-158.20925321289482, 21.54989450809582], [-158.20948956241082, 21.54987221223135], [-158.20974365179586, 21.54979198560159], [-158.20984627006794, 21.54975625255969], [-158.2101004504401, 21.549693884698456], [-158.21022526628852, 21.549711707169422], [-158.21036354623985, 21.549738438325488], [-158.21055522772974, 21.54979643139338], [-158.21068459226942, 21.549827635193864], [-158.2108094081286, 21.549867788032916], [-158.2109610612201, 21.549921262496884], [-158.21109479250333, 21.549961425681524], [-158.21118840440317, 21.55002387243261], [-158.21129993811644, 21.550117477794483], [-158.21139355001912, 21.550193288566803], [-158.2114782465036, 21.550282452899246], [-158.21159423793142, 21.55035830230923], [-158.21172351151725, 21.550442949394814], [-158.21184841836921, 21.550518809247308], [-158.21201335364046, 21.55060349813671], [-158.21219175301997, 21.55068381784801], [-158.21230765348628, 21.55073284033014], [-158.21247267974232, 21.550795296689866], [-158.2126777344232, 21.550808641983675], [-158.2128249298457, 21.550813137287413], [-158.2129096263479, 21.550737276182012], [-158.21297203429762, 21.55066147519536], [-158.2130523640646, 21.550581223878734], [-158.21316380683464, 21.550420725256245], [-158.21326187647375, 21.55029581983132], [-158.21333774853318, 21.55020219875996], [-158.21341352961974, 21.55010856515561], [-158.21348931070716, 21.54997035549047], [-158.2135740981913, 21.549823201501443], [-158.21367662554744, 21.549653724427035], [-158.2137791529051, 21.549484247113845], [-158.2138594826815, 21.549381749656884], [-158.2139441791965, 21.549265794376662], [-158.21405562198098, 21.54916771738298], [-158.2141716134524, 21.549100783392383], [-158.21431871793314, 21.54902499188107], [-158.21443907614696, 21.54898038136091], [-158.21452832135446, 21.548949197805108], [-158.21462639101298, 21.548922409209], [-158.21476021334146, 21.548913521448775], [-158.21485828300325, 21.54891354734739], [-158.21496526809042, 21.548917980626417], [-158.21508125957712, 21.54891795292513], [-158.21524173721366, 21.54893581129789], [-158.21538001726626, 21.548953656537343], [-158.21550037549846, 21.548966985435907], [-158.2156698595433, 21.54895813733086], [-158.21588382974426, 21.548940273941955], [-158.21609789092548, 21.54890017744467], [-158.2162495441335, 21.548837678496955], [-158.21641893722276, 21.548748544538167], [-158.21655721729866, 21.54869499696852], [-158.21674889896101, 21.54864598060042], [-158.2169807910218, 21.548641511907444], [-158.21714135967565, 21.548646015935443], [-158.21729737964594, 21.548668264080124], [-158.2173196682134, 21.54866828911243], [-158.2174133711713, 21.54871289720233], [-158.21760505285698, 21.548833219662736], [-158.21772550210113, 21.54888234123435], [-158.21786814894278, 21.548953634425835], [-158.21800197133322, 21.549042864247305], [-158.21815799132253, 21.549127536793932], [-158.21840325657215, 21.54926577932505], [-158.21852807257036, 21.549323774121653], [-158.21866635268762, 21.549386193577764], [-158.218849209952, 21.549457543642568], [-158.21901414538908, 21.54952437771294], [-158.21911667282484, 21.54957346650109], [-158.21924603752407, 21.54964035937108], [-158.21933519181886, 21.549716162323467], [-158.21947792966662, 21.549849892843802], [-158.21958937253888, 21.549943568790084], [-158.21966961140802, 21.55001936187539], [-158.21974102582175, 21.55011300566807], [-158.2198346378378, 21.55024235824513], [-158.21993716528536, 21.550389482780716], [-158.22006652999943, 21.55052768233087], [-158.22018243059614, 21.55063921165296], [-158.22027604261797, 21.550701655144707], [-158.22044552677716, 21.55080860025679], [-158.22061501094038, 21.55092011518647], [-158.22073982697722, 21.55100035530838], [-158.22087810713717, 21.551080622655025], [-158.221016296326, 21.55115648014347], [-158.221167949639, 21.55125012691543], [-158.22131951198136, 21.551312548205356], [-158.22145770117865, 21.55137047099426], [-158.22158706592003, 21.551423998868636], [-158.22172079740616, 21.551468551889453], [-158.22186799301758, 21.551539947699244], [-158.22195268962847, 21.551624626975343], [-158.22204630167323, 21.551731648167557], [-158.22211325839402, 21.55180304172527], [-158.22215783555902, 21.55191449258601], [-158.22218012414163, 21.55203936988961], [-158.22219349729122, 21.552231061200494], [-158.2222202435905, 21.5523470623977], [-158.22222470130703, 21.552480801209107], [-158.2222425321733, 21.552690345996684], [-158.22226482075615, 21.552868768790372], [-158.222255905323, 21.553042673413408], [-158.222255905323, 21.553069402959572], [-158.22221578587394, 21.55316748179785], [-158.22221132815739, 21.553314661790516], [-158.22218458185816, 21.553412755401265], [-158.22228710933908, 21.553524184832632], [-158.22238972779527, 21.55353319210786], [-158.2225457478799, 21.55354207371978], [-158.2226795703575, 21.553551029134315], [-158.22283113273141, 21.553559905501004], [-158.2230496518379, 21.55359999509631], [-158.22316555248236, 21.553613401655106], [-158.22333057899186, 21.55360445615296], [-158.22339298703335, 21.553528647053003], [-158.22342864877157, 21.553439529811076], [-158.2235134363744, 21.55331021184956], [-158.22357138670006, 21.553221032753637], [-158.22366054104816, 21.553056009873398], [-158.22368282963535, 21.552962394018095], [-158.22372294909246, 21.552833100542635], [-158.2237719839848, 21.552681484498795], [-158.22386122930914, 21.552507592363845], [-158.22395929909595, 21.552400521751927], [-158.22403953801341, 21.552338096119495], [-158.22419119138928, 21.55223997706807], [-158.22427143030927, 21.55217755116263], [-158.22435612694798, 21.55211073252025], [-158.22445428771522, 21.552030403344745], [-158.22457910381783, 21.551976906680427], [-158.2247575035133, 21.55190114782146], [-158.22487786190285, 21.551852043386138], [-158.224882319621, 21.551847564486135], [-158.22515433140822, 21.551722757498894], [-158.22555115932443, 21.55174501250107], [-158.2256626932634, 21.551785153545293], [-158.22578305166763, 21.55186098919395], [-158.22584100201107, 21.551959090254982], [-158.22588567017254, 21.55204830812693], [-158.22597928226733, 21.55216421013223], [-158.22604614805007, 21.55223998837169], [-158.22613084470905, 21.552342602074543], [-158.22653222137026, 21.553176433485092], [-158.22694688023736, 21.55403260202997], [-158.22701374602875, 21.554175292574595], [-158.22762026881935, 21.554567623271513], [-158.2279055628922, 21.554754955597485], [-158.22803047002637, 21.55483969053696], [-158.22844512897595, 21.555116160043085], [-158.22850317031387, 21.55519194194618], [-158.22859232472086, 21.555281110084078], [-158.22866810596767, 21.555356898708563], [-158.22877509125857, 21.5554951492935], [-158.22883313259896, 21.555597747993804], [-158.22888662524537, 21.555700243318245], [-158.2289401178922, 21.555776094427554], [-158.22901144142182, 21.555887576561588], [-158.22909177136737, 21.555972263972492], [-158.229154179457, 21.556074855217826], [-158.22922550298864, 21.55618185365028], [-158.2292834533586, 21.556262107275554], [-158.22928791107935, 21.556266595879062], [-158.22935477689146, 21.55633349380106], [-158.22946185316587, 21.55640484468748], [-158.22956438074695, 21.55646721070694], [-158.2296624506084, 21.556498443746445], [-158.2298007309347, 21.55652964578219], [-158.22991217396262, 21.556565290606155], [-158.23001033480244, 21.55661886892231], [-158.2300905737846, 21.55669017873704], [-158.23018418593148, 21.556806082668157], [-158.2302778890534, 21.55690871995373], [-158.23038487436685, 21.556997907540524], [-158.2304963174033, 21.557064766814403], [-158.23058110508595, 21.557122728506325], [-158.2306925481252, 21.557189587754383], [-158.23078170255778, 21.557234176388057], [-158.230875405687, 21.557283266028197], [-158.23100022189584, 21.557332290174795], [-158.23110720721934, 21.557381381553974], [-158.2312009103525, 21.55742150336119], [-158.23130789567875, 21.557448261506185], [-158.23141933872853, 21.557488389739333], [-158.23151749958757, 21.557519548395526], [-158.23162002719604, 21.557564150978468], [-158.23170026619496, 21.55761769770649], [-158.23180734250204, 21.55768904826621], [-158.23192770100363, 21.557782647568125], [-158.23200348228335, 21.557867404388162], [-158.2320971854274, 21.557947622379917], [-158.2321907975986, 21.5579922154475], [-158.2322977829385, 21.558018973236642], [-158.23242714786682, 21.55804576691272], [-158.2325296754873, 21.55808140145727], [-158.23262337863767, 21.558121609112938], [-158.23272144853797, 21.55816172279563], [-158.2328239761624, 21.558192873310063], [-158.23292213703914, 21.55822860164592], [-158.23301129149732, 21.55825982422896], [-158.23309598823357, 21.55829992370658], [-158.23318960041675, 21.558344516462274], [-158.23330113446738, 21.558424753072522], [-158.23337691576046, 21.558482778845505], [-158.23346161250063, 21.55857642674374], [-158.2335464002157, 21.558661119219643], [-158.23362218151112, 21.55871466108522], [-158.23373362459398, 21.55880376695802], [-158.23380949686515, 21.55887068682728], [-158.23388527816311, 21.55893311035088], [-158.23397443263224, 21.558982182304252], [-158.2340858757201, 21.559053524873743], [-158.23418849433625, 21.55910702094051], [-158.2342821065325, 21.55916049523464], [-158.234420386941, 21.559209630855687], [-158.23449616824482, 21.55923635517266], [-158.23451399913995, 21.559245255503473], [-158.23458532272087, 21.55927197513315], [-158.23460761134004, 21.5592809663489], [-158.23461206906387, 21.559285368736983], [-158.2347414340303, 21.55933889260239], [-158.23477263809778, 21.55934780688794], [-158.23479046899354, 21.559352309471567], [-158.234848419405, 21.5593656494062], [-158.23495540478115, 21.55938792218584], [-158.23506693885676, 21.559423663870483], [-158.23517392423582, 21.559472667897918], [-158.2352452478227, 21.559517237006464], [-158.2352630787195, 21.559526137295858], [-158.23534786645385, 21.559593066382234], [-158.23544593638812, 21.559664394727854], [-158.23553063315043, 21.559708977737863], [-158.23561987861208, 21.559771427480438], [-158.23571349082522, 21.559838353426613], [-158.23581601848846, 21.559905202406824], [-158.2358427648356, 21.559922993690243], [-158.23592309485156, 21.559985434160563], [-158.23602116479287, 21.560038998985107], [-158.23612369246007, 21.560101363945034], [-158.23622631110257, 21.560141580012374], [-158.236337754222, 21.56019058840938], [-158.23645820376674, 21.560239618418585], [-158.23657410461433, 21.56027974957064], [-158.23666771683864, 21.560306491813378], [-158.236761420038, 21.56033773043724], [-158.23690406724066, 21.560368921059855], [-158.2370244258199, 21.560391206760503], [-158.23715379082543, 21.56042248202587], [-158.23728306485907, 21.56044477675031], [-158.23739905669254, 21.560462585990805], [-158.23750158437736, 21.560475971177414], [-158.23761302751444, 21.560502731323865], [-158.237769138883, 21.56052497936984], [-158.2378672088468, 21.560533961945314], [-158.23797874296298, 21.560542884359958], [-158.23813922109036, 21.5605517583119], [-158.23823738203265, 21.56056963490856], [-158.23837111380954, 21.560578567444292], [-158.2385093033146, 21.560605268146972], [-158.23861192198746, 21.560627546902445], [-158.23879468875813, 21.560689992898865], [-158.23891068061326, 21.560743501094272], [-158.23900429286456, 21.560788092227035], [-158.23910691154362, 21.560837188895974], [-158.23921835470276, 21.56088619597311], [-158.23930750923117, 21.5609397506248], [-158.23940121246102, 21.560993235980984], [-158.2395215710773, 21.561051220185306], [-158.2396508451486, 21.561126977252062], [-158.23974900610907, 21.56118495115651], [-158.23985599155017, 21.561251889850165], [-158.23994068835873, 21.561323203758654], [-158.24002101841532, 21.561390127710606], [-158.2401012574987, 21.561443586997612], [-158.24018595430977, 21.561497137033594], [-158.2402617356678, 21.56155955997293], [-158.24037772754363, 21.56164868185309], [-158.24046242435753, 21.561728963987864], [-158.2405426634452, 21.561786907368095], [-158.24061407805337, 21.561867188395958], [-158.2407032325969, 21.561956357060126], [-158.2408146757777, 21.562063398493603], [-158.24091283675202, 21.56215707274856], [-158.2409886181167, 21.562219495769924], [-158.24106885720946, 21.562308655504403], [-158.24116246948535, 21.562393344677144], [-158.24123834182635, 21.562464748371493], [-158.2413408695592, 21.562536080467517], [-158.24149252327112, 21.562616356504247], [-158.24160396646252, 21.562696579590547], [-158.2416842055612, 21.56276349127763], [-158.24178682427365, 21.5628348357619], [-158.24187152110193, 21.562901751954747], [-158.24194730247535, 21.562973057063193], [-158.24211232938214, 21.563124661479065], [-158.24219256848576, 21.56319157321447], [-158.2423485889672, 21.563307455651227], [-158.24243337677524, 21.563361018101258], [-158.24254481997917, 21.563414508805696], [-158.24265189643037, 21.563490341918214], [-158.24275442418065, 21.563548307764876], [-158.24290598694415, 21.563641937378], [-158.24293273331446, 21.56365084631379], [-158.24305764068444, 21.563695480646683], [-158.2432181189105, 21.5637222016104], [-158.24336085719918, 21.5637177002869], [-158.24351241997363, 21.563735529919462], [-158.24366407372483, 21.56374897387672], [-158.24379334786045, 21.563762296790426], [-158.24390933978535, 21.563762338601986], [-158.24395837480347, 21.56376230125996], [-158.24400740982193, 21.563762350133906], [-158.24411439531764, 21.563757886287863], [-158.244159063582, 21.563762341024848], [-158.24421701405973, 21.56376679664552], [-158.24431508409984, 21.56374895743665], [-158.24443107603187, 21.563740030402197], [-158.2445692656377, 21.563744479304614], [-158.2447432080545, 21.563731125267086], [-158.24487693993595, 21.563722203066483], [-158.24502859371154, 21.56369546017785], [-158.245166783327, 21.56367317566923], [-158.24532735256702, 21.563646354927478], [-158.24546554218736, 21.563628554251643], [-158.2455680699716, 21.56360174989226], [-158.24566623100134, 21.56356615748848], [-158.2457643010581, 21.56351709991117], [-158.24579104743742, 21.563503673513825], [-158.24584899792623, 21.56346802909422], [-158.24585345565615, 21.56346354924658], [-158.245862371116, 21.56346355799272], [-158.24588465976566, 21.563450213425323], [-158.24595161668915, 21.563418988067752], [-158.24604968674916, 21.56336993013945], [-158.24606305993927, 21.56336097478125], [-158.2461343836201, 21.563325343237313], [-158.24622808692615, 21.56328077736544], [-158.24625483330692, 21.5632628665832], [-158.24630832606866, 21.563236185920378], [-158.24632615698934, 21.56322723486804], [-158.24642422705364, 21.563155841549214], [-158.24650009944182, 21.563106859958733], [-158.24658925404745, 21.563053308427335], [-158.2466828663844, 21.562986480879232], [-158.24676756326153, 21.562924042549145], [-158.2467720209919, 21.56292404687935], [-158.24684789338315, 21.56286601020176], [-158.24692367480094, 21.562799165014418], [-158.247021744872, 21.56274562158979], [-158.24711990591825, 21.562692176684017], [-158.24720460279966, 21.562634135834998], [-158.2472224337222, 21.56262078655602], [-158.2472892996819, 21.562571783104065], [-158.24736062337283, 21.56250933112992], [-158.24738300300046, 21.562487030010004], [-158.24743649576922, 21.562438013505997], [-158.24744095349993, 21.562438017802748], [-158.24746769988445, 21.56241122428651], [-158.2474989039998, 21.562380037031843], [-158.24751227719216, 21.562366597144162], [-158.24756131223086, 21.56233991128497], [-158.24757022769245, 21.56233543560852], [-158.2476014318082, 21.56231313058244], [-158.2476148050007, 21.562308659189235], [-158.2476593823091, 21.562290851261015], [-158.24769513513013, 21.56227744517213], [-158.24778874747898, 21.562246231517282], [-158.24788235982882, 21.56220165121199], [-158.24796705671764, 21.562152577989043], [-158.24802955592614, 21.56211246426665], [-158.24806076004353, 21.562090159048264], [-158.2480785909678, 21.562085691851106], [-158.2481900342452, 21.562063377134177], [-158.24828819530467, 21.56206788132656], [-158.24838626539108, 21.562090137670744], [-158.24849770867243, 21.562116891003225], [-158.24851108186627, 21.56212138804155], [-158.24853337052278, 21.562134775905182], [-158.24858695427264, 21.562165970583766], [-158.24860032746665, 21.56217486566205], [-158.2486894820938, 21.56223729942906], [-158.24870285528795, 21.562250678788853], [-158.2487518903333, 21.56229970770054], [-158.2487875521847, 21.562335443491914], [-158.2488678823249, 21.562420130138168], [-158.24898824107544, 21.562451376095716], [-158.24915772584936, 21.562442408633142], [-158.24927808460384, 21.562388883951726], [-158.24938507016475, 21.562335432648435], [-158.2494698580422, 21.562273003887853], [-158.24961696319195, 21.562188286407384], [-158.24976415931832, 21.56211246342196], [-158.24988006034908, 21.562045566940956], [-158.24998704591727, 21.56199202857686], [-158.25012086885343, 21.561965347291384], [-158.25023231215673, 21.561951912949347], [-158.25034384643547, 21.561969794895187], [-158.2504597474738, 21.562014315762475], [-158.2505711907813, 21.562063402959037], [-158.25066043640243, 21.562107997295165], [-158.25077633744485, 21.562161486695516], [-158.25086549209388, 21.562215037241444], [-158.25088332302377, 21.562223936369428], [-158.25097256864805, 21.562295264165037], [-158.25106172329905, 21.56237106389746], [-158.25106618103163, 21.562380036741487], [-158.25115087795092, 21.562455832315724], [-158.25115533568353, 21.56246023458794], [-158.25123120811253, 21.562545002918803], [-158.25123566584517, 21.56254500708975], [-158.2512445813105, 21.562558382214018], [-158.25129361636994, 21.562616379571136], [-158.2513783132914, 21.562723393124468], [-158.25143180608433, 21.562817010732292], [-158.2514986720759, 21.562883907279815], [-158.25153442491245, 21.56291508475541], [-158.25159683317196, 21.562973094692786], [-158.2517171919594, 21.56307117301877], [-158.25183318398962, 21.563142525945395], [-158.25189113451822, 21.56317371184421], [-158.2520114933096, 21.56324505649923], [-158.25209619023784, 21.563307485381454], [-158.2521676049416, 21.56335654734575], [-158.25220772453977, 21.563387802827013], [-158.25225675960445, 21.563427862875326], [-158.25228350600347, 21.563445739033234], [-158.25229242146983, 21.563454629837697], [-158.25231471013578, 21.563463533107885], [-158.2523771184007, 21.563503691857765], [-158.25238157613393, 21.563508180379237], [-158.2524619063065, 21.56357501564381], [-158.25255997643885, 21.563646425724965], [-158.25268033523912, 21.563731137198406], [-158.25269370843927, 21.563744516531557], [-158.25276958088116, 21.563811347666586], [-158.25278741181486, 21.563824731149715], [-158.2528542778165, 21.563918361637093], [-158.25291222835162, 21.563985250054976], [-158.2529256015521, 21.564003113780153], [-158.2529389747526, 21.564020977506527], [-158.25298800982122, 21.564105708950137], [-158.25303713586428, 21.5641993353554], [-158.25306833999917, 21.564297417182917], [-158.25310400186777, 21.56441335449428], [-158.2531129173349, 21.564431214100313], [-158.25313074826926, 21.56450254969673], [-158.25313520600287, 21.564511436383196], [-158.2531619524045, 21.564618482924434], [-158.2531931565398, 21.56472104925953], [-158.2532600225444, 21.564814680075408], [-158.25326448027806, 21.56481916861923], [-158.25326893801173, 21.564823570924833], [-158.25337155686069, 21.564836959513094], [-158.25337601459438, 21.56483696366293], [-158.25350974660677, 21.56481915050303], [-158.25351866207433, 21.56481915879242], [-158.2535454084771, 21.564819097418564], [-158.25356323941227, 21.564819113991927], [-158.25365248506301, 21.564814638588953], [-158.25368814693385, 21.564823554265534], [-158.2537550129421, 21.56483698329915], [-158.2539022091361, 21.564872662427724], [-158.2539913638159, 21.56489490837346], [-158.25400027928396, 21.564894916633698], [-158.254004737018, 21.564899405171115], [-158.25410726490102, 21.564948483673636], [-158.2542187992276, 21.56498861397703], [-158.25433915804976, 21.565010888648562], [-158.25446843234198, 21.565064389922647], [-158.25456213573577, 21.56509113657618], [-158.25457550893864, 21.565095633342416], [-158.25466020589067, 21.565117874897563], [-158.25475381831225, 21.56514021087665], [-158.25486535264668, 21.565162489403242], [-158.2548876413189, 21.565166908123935], [-158.25498571147727, 21.56517588104223], [-158.25509724581448, 21.565202643851702], [-158.2552131469135, 21.56522939829017], [-158.25526218199428, 21.565233841539513], [-158.25531567480996, 21.565242773303876], [-158.25532013254463, 21.5652427773971], [-158.2553602521566, 21.565251696867698], [-158.2554405823553, 21.565265063745848], [-158.2555341947848, 21.565287313089705], [-158.25556094119338, 21.565291822051844], [-158.25565455362405, 21.56530958689097], [-158.25578391890883, 21.56535421717522], [-158.25587753134175, 21.565372068145155], [-158.2558864468116, 21.56537207629926], [-158.25599352342468, 21.56541220162687], [-158.25609605132976, 21.565456794892672], [-158.25618966376584, 21.565519231579408], [-158.25620303697104, 21.565528126465725], [-158.25632348679315, 21.565577146569826], [-158.25641709923147, 21.56563958322657], [-158.2564928807299, 21.56569760539795], [-158.25655528902314, 21.56578674793247], [-158.25656420449363, 21.565800123220896], [-158.25662670376155, 21.565867028329162], [-158.25669802752634, 21.565933929173497], [-158.2567158584676, 21.56595171082424], [-158.25677380902698, 21.56599634961811], [-158.25687642791482, 21.566058806826856], [-158.25688088565022, 21.566058810885572], [-158.25700570224228, 21.56613007243249], [-158.257112687894, 21.56616130237522], [-158.25713051883602, 21.566170201307802], [-158.25723759546335, 21.5662014435936], [-158.25734458111765, 21.56622379069266], [-158.25742036262352, 21.56624602318051], [-158.25748731963282, 21.566263861710343], [-158.25750515057558, 21.56627276061859], [-158.25758984755421, 21.56629957186296], [-158.25768346000518, 21.566335187657845], [-158.2577324950989, 21.56636645104541], [-158.25777716343123, 21.566393238301394], [-158.25779499437456, 21.566406535451385], [-158.2578306562613, 21.566446669483078], [-158.25786186041233, 21.566482401227784], [-158.25794209965824, 21.566535856627464], [-158.25800005022518, 21.5665893781017], [-158.25801342343294, 21.566607241964785], [-158.25804462758455, 21.566629520220033], [-158.25813387327824, 21.566691965092655], [-158.2581427887502, 21.566696457657905], [-158.25824085894268, 21.566763296448034], [-158.25834338687224, 21.56680340468411], [-158.25846829445783, 21.56687027999211], [-158.25859311107087, 21.566910408255094], [-158.2586020265433, 21.56691490080989], [-158.25868235676967, 21.566941633922305], [-158.25875368054994, 21.566968432815315], [-158.25878488470397, 21.566977343720072], [-158.2589052435848, 21.567008585000337], [-158.25897665834094, 21.56705316184465], [-158.25899448928652, 21.567062060692006], [-158.25899894702292, 21.56708879936855], [-158.25901232023213, 21.56716461712222], [-158.25895436965905, 21.567249339715808], [-158.2589275322666, 21.567307343304954], [-158.25890078584845, 21.567360788512865], [-158.25888741263938, 21.567445551187387], [-158.25888741263938, 21.567467801321545], [-158.25889187037575, 21.567472289867073], [-158.2589409054757, 21.567543655290258], [-158.25894536321206, 21.56755254212087], [-158.25896774286818, 21.567561457441933], [-158.25906581306913, 21.567592678851984], [-158.25906581306913, 21.567597163379478], [-158.2591772564805, 21.567628396799027], [-158.25928879086743, 21.567672923677762], [-158.25941806522775, 21.56771754039301], [-158.25951167769668, 21.567744273072464], [-158.25962766982414, 21.567771038135007], [-158.25963658529756, 21.567771046142838], [-158.25971682455838, 21.567784399331458], [-158.25977923287283, 21.56778885363839], [-158.25978814834633, 21.567793346180945], [-158.25983718345088, 21.56780227301173], [-158.25989522500353, 21.56781122022261], [-158.26003341484576, 21.56783350804867], [-158.26014940697954, 21.5678513036704], [-158.2602118152968, 21.5678557578033], [-158.2602920545624, 21.56786022784511], [-158.26041241346212, 21.567864733664592], [-158.26053732107462, 21.567873654076237], [-158.2606398490287, 21.56788702668308], [-158.26070671508631, 21.567895882899816], [-158.26075138343253, 21.567900333321884], [-158.26086282686342, 21.567922682859045], [-158.26096981255824, 21.567940457551877], [-158.2610768892285, 21.56796281539347], [-158.26108134696585, 21.567962819352783], [-158.26124182551214, 21.568007376350966], [-158.2612596564619, 21.56801187674671], [-158.2613890218228, 21.568056418356303], [-158.26145588788555, 21.568069845108088], [-158.26151383847366, 21.56808317769873], [-158.2615182962112, 21.56808318164596], [-158.26159407775003, 21.568101014583533], [-158.2616074509628, 21.568105511003598], [-158.26161190870042, 21.568109913291988], [-158.26173681632832, 21.568159021589913], [-158.26175018954132, 21.568167916349733], [-158.261754647279, 21.568167920290872], [-158.26182597108195, 21.56820808591992], [-158.26183488655732, 21.568212492147698], [-158.26183934429505, 21.568212496086964], [-158.2618794639345, 21.56823029741787], [-158.2619106680986, 21.568243692518294], [-158.26193750549933, 21.56825261148595], [-158.26204449120593, 21.56832402824999], [-158.26212473048665, 21.56837748301516], [-158.262254095859, 21.568444360977097], [-158.26233879287938, 21.56852015642448], [-158.26241903216248, 21.568582580383698], [-158.26249035597024, 21.568653965706545], [-158.2625662284908, 21.5687252811286], [-158.26263309456158, 21.56879666255532], [-158.26273562253763, 21.568890325971072], [-158.26283378375084, 21.56896166105156], [-158.2629184807762, 21.569032971968856], [-158.2629898045876, 21.5690953881393], [-158.26308787482904, 21.56915334320773], [-158.2631637473542, 21.569206892699835], [-158.2632529021207, 21.569296059810284], [-158.2633554301032, 21.569385238687286], [-158.26345359132253, 21.569452175401747], [-158.26357395026102, 21.569541283698904], [-158.26368093598535, 21.569590363522277], [-158.26376572399215, 21.569634951547094], [-158.26385487876408, 21.569684015699956], [-158.26395740675275, 21.5697286069007], [-158.26409568762645, 21.5697866093491], [-158.26418930014006, 21.569840075732056], [-158.2642338775278, 21.569924805554376], [-158.26417146918502, 21.570027380425227], [-158.26408231441027, 21.570089828689145], [-158.2640109905911, 21.570174543212843], [-158.2640466525006, 21.5702726329821], [-158.26410014536518, 21.57037073842685], [-158.2641982156176, 21.570428693655934], [-158.26432312327813, 21.570468832344314], [-158.26443456674937, 21.57049109448189], [-158.26453263700506, 21.570513431095783], [-158.2645861298722, 21.570517876294435], [-158.26459504535012, 21.57051788408984], [-158.2646397137139, 21.57051784921435], [-158.2646709178867, 21.57052236114307], [-158.2647600726667, 21.57054460359496], [-158.2647689881447, 21.5705446113798], [-158.26488934709903, 21.57058473342814], [-158.2648938048381, 21.570584737317162], [-158.26499196607253, 21.57062045384676], [-158.2650187125073, 21.57063375867993], [-158.26511678276867, 21.570682830531915], [-158.26522831722298, 21.570754177281955], [-158.26523277496221, 21.570758665836596], [-158.26524169044066, 21.570763158272534], [-158.2652773523546, 21.570798807980665], [-158.26530855652933, 21.57082108603039], [-158.2653263874864, 21.570847837115913], [-158.26538433809705, 21.570928094268982], [-158.26546457740466, 21.57103510643089], [-158.26551370351166, 21.571093117366868], [-158.26552707672974, 21.571110895239276], [-158.26558056960215, 21.571204602639085], [-158.26562960473547, 21.571266999651996], [-158.2656563511719, 21.57130264166552], [-158.26572767500275, 21.57137842590743], [-158.26580800528737, 21.571449831878958], [-158.26589716007737, 21.571503294454324], [-158.2663921511246, 21.57161034640797], [-158.26639660886434, 21.571610350269097], [-158.2673151762144, 21.571806523800337], [-158.27224243581605, 21.57285885225545], [-158.27522557551475, 21.573492058423223], [-158.27869033439237, 21.57423231090453], [-158.27885527095134, 21.574263490364448], [-158.28030003525075, 21.574575610804118], [-158.2803490704505, 21.57450871850865], [-158.2804338585886, 21.574406244728156], [-158.2804070211414, 21.574317028698367], [-158.28034015495962, 21.574250132906208], [-158.28034015495962, 21.574196657663606], [-158.28034015495962, 21.574156464982217], [-158.28032232397788, 21.57415205242492], [-158.280237626815, 21.574125249294955], [-158.2802331690696, 21.57411636206035], [-158.2802197958334, 21.574067275271684], [-158.28021533808803, 21.574053903021667], [-158.28021088034262, 21.574036132005485], [-158.2802197958334, 21.5739870624641], [-158.28022871132418, 21.573955846737494], [-158.28025991554202, 21.57382209657515], [-158.28014401416198, 21.573853315889338], [-158.28007705700733, 21.573911211959032], [-158.28006368377132, 21.57392457039815], [-158.2799700711197, 21.573942437942762], [-158.2799522401385, 21.573946909134943], [-158.2799254936668, 21.57393800463099], [-158.27988983170462, 21.57392909321069], [-158.27985416974255, 21.573920181783965], [-158.27977383935388, 21.57385774828104], [-158.27976046611823, 21.573790807806997], [-158.27974709288256, 21.573750691128303], [-158.27974263513735, 21.573679358828684], [-158.27973817739215, 21.5736526178392], [-158.27973817739215, 21.573643647828156], [-158.27973371964694, 21.573594654313982], [-158.27972926190174, 21.57355894331818], [-158.27972480415653, 21.5735545411092], [-158.27966685346902, 21.573545612436597], [-158.2796356492528, 21.573541103239315], [-158.27961781827213, 21.573536690658564], [-158.27953312111435, 21.573496518687897], [-158.27947953719854, 21.573398398540437], [-158.27943941749263, 21.573309271191523], [-158.27943941749263, 21.573286932451396], [-158.27942604425738, 21.573215593365543], [-158.27947507945345, 21.573135332654957], [-158.27944387523772, 21.573032757283567], [-158.27943941749263, 21.573010501344566], [-158.27943941749263, 21.572957026376766], [-158.27943941749263, 21.57293468764065], [-158.2793903822967, 21.572841068516972], [-158.2793636358263, 21.572809825350852], [-158.27933688935593, 21.572783067182698], [-158.27932351612077, 21.572765289355097], [-158.2792967696505, 21.572765268652393], [-158.2792164392657, 21.572765280369712], [-158.279113911131, 21.572800908313383], [-158.279020298487, 21.57284551304052], [-158.27894897456832, 21.57293024111544], [-158.27893114358872, 21.572948080942332], [-158.27891322163478, 21.572965908371632], [-158.2788775596757, 21.573006072982956], [-158.2788731019308, 21.57310862041396], [-158.27884635546158, 21.57320666548265], [-158.27873936958534, 21.573197784551173], [-158.27867250341316, 21.573246808381562], [-158.27857879979842, 21.57331813747871], [-158.27860108852224, 21.573171013100502], [-158.27861446175655, 21.573121947528247], [-158.27863684145484, 21.573072901302126], [-158.27863238371006, 21.573037276735974], [-158.2786278349909, 21.572970331175494], [-158.27856542656417, 21.5729882223783], [-158.2785163913719, 21.573001552762996], [-158.27843169422223, 21.573028310166514], [-158.27839157452, 21.573023880062006], [-158.2783201596308, 21.573019413131203], [-158.27821763150408, 21.57301493411065], [-158.27813739210117, 21.572961482843205], [-158.27802585751257, 21.572925762066102], [-158.27797236457818, 21.572912437692047], [-158.2779233293885, 21.572899030554584], [-158.2778876674325, 21.572885633909856], [-158.27782971675424, 21.572867821036244], [-158.277798512543, 21.572832175579535], [-158.27775393509853, 21.572778666029798], [-158.27771818216868, 21.5727607720219], [-158.2776602314913, 21.572729590505002], [-158.2776468582581, 21.572640398355293], [-158.2776290272805, 21.572627015720133], [-158.2775577033705, 21.572582455088494], [-158.27749975269393, 21.572662707410593], [-158.27740159134447, 21.572658219073922], [-158.27730352097026, 21.572644859413426], [-158.27721436608536, 21.572595799655854], [-158.27713858443371, 21.5725288969109], [-158.2770537963199, 21.57247094462792], [-158.27703596534326, 21.572497667701718], [-158.2769958456459, 21.57256016643691], [-158.27697801466937, 21.572582404547237], [-158.27694235271633, 21.572640421819738], [-158.27691114850754, 21.57264928075302], [-158.27689777527522, 21.572653755105048], [-158.27686657106653, 21.572667185211447], [-158.2768442823461, 21.572676051183254], [-158.27679515618695, 21.5726091571174], [-158.27679069844288, 21.572600269960184], [-158.27678178295474, 21.572591379271305], [-158.2766837125859, 21.57257353428995], [-158.2766792548419, 21.57257792944063], [-158.27666588160986, 21.57259577232229], [-158.27660793093784, 21.572649286790256], [-158.27650531185222, 21.572609173574683], [-158.27643844569317, 21.572533394130144], [-158.27640278374187, 21.57242193257585], [-158.27639386825408, 21.57239070349728], [-158.27639386825408, 21.572377334963154], [-158.27638941051018, 21.572359477961566], [-158.27638049502235, 21.572323763960817], [-158.2763002556325, 21.572252458910853], [-158.27626013593775, 21.57223017491409], [-158.27618426331819, 21.572185598061235], [-158.27614414362384, 21.572172197650765], [-158.27608173521077, 21.572154380833762], [-158.276001495823, 21.57216328681935], [-158.27595691838562, 21.572172221158088], [-158.27585429930593, 21.572149874984184], [-158.27578743315078, 21.572087464119328], [-158.2757473134579, 21.57200273628025], [-158.27564924309812, 21.571958153953076], [-158.27551541981634, 21.571926899203493], [-158.27538614525403, 21.571922483493136], [-158.27527906843613, 21.571931355316803], [-158.27517654033704, 21.571917991009958], [-158.27509630095582, 21.571891276063305], [-158.27504280803532, 21.571873466083865], [-158.27494018896405, 21.57187345767838], [-158.27487332281441, 21.57186003555917], [-158.27482428763827, 21.571846713990425], [-158.27476187923259, 21.571833295412794], [-158.27466817565033, 21.571806557153003], [-158.27453444335475, 21.571770915422746], [-158.2745210701253, 21.57176641976899], [-158.274422908802, 21.571735192928056], [-158.27430254973856, 21.57168170856168], [-158.27422676810673, 21.571646027141124], [-158.27419556390552, 21.57163263357465], [-158.27413306452902, 21.571628172165607], [-158.27409740258514, 21.571623744733852], [-158.27400824772585, 21.57161478918404], [-158.2739904167541, 21.571610376142715], [-158.27393692383893, 21.571565742914913], [-158.27389680415277, 21.57153457511659], [-158.27379418509216, 21.57147660770925], [-158.27378526960646, 21.571476600492755], [-158.27368274152127, 21.57145875049605], [-158.2735712979515, 21.571423040007915], [-158.27344639018037, 21.57140524565494], [-158.27338843952518, 21.57139183027854], [-158.27332603112765, 21.571382896119324], [-158.2732457007856, 21.57130269485596], [-158.27322341207244, 21.57125360208922], [-158.27320112335934, 21.57119562587166], [-158.2731387149629, 21.571097512143908], [-158.27307184882423, 21.57101724798337], [-158.27305847559654, 21.571003868814344], [-158.2729826939733, 21.570928082282148], [-158.27290682137627, 21.57086116681644], [-158.27283995523902, 21.570838946953817], [-158.27280875104182, 21.57082555328368], [-158.27272405393546, 21.570874558863654], [-158.27271513845065, 21.570879036443248], [-158.2725723997199, 21.570892448533705], [-158.2725679419775, 21.57089244489728], [-158.27241192099618, 21.570812194230996], [-158.27227809775388, 21.57074971616103], [-158.27224243581605, 21.570731920182332], [-158.27222460484717, 21.57071853736163], [-158.27212207677672, 21.57066058197671], [-158.27201054224867, 21.570611490284023], [-158.2720016267644, 21.570607084407303], [-158.27187235224363, 21.570544622240977], [-158.271725155782, 21.570482219259627], [-158.2716404586842, 21.57046438299875], [-158.27163154320024, 21.570464375681873], [-158.27150226868395, 21.57042425118518], [-158.27142193835545, 21.570393037907003], [-158.2714085651298, 21.570388542102982], [-158.27138181867855, 21.5703751519286], [-158.2713773609367, 21.57037514826349], [-158.27125254416526, 21.5703171743133], [-158.271145467388, 21.570259202606252], [-158.27103848158615, 21.570187875111134], [-158.27096269997716, 21.570147794437045], [-158.270922580302, 21.570125423611938], [-158.2707842993367, 21.57003180646418], [-158.27065948257223, 21.569942611288447], [-158.27063719386442, 21.569929224755406], [-158.2704766241954, 21.569822221050583], [-158.27045433548798, 21.56980883451315], [-158.27031168776168, 21.569715226037786], [-158.27019569551115, 21.5696305106011], [-158.27009316746017, 21.569550217165332], [-158.26997280844512, 21.56945662712822], [-158.2699683507038, 21.56945213865938], [-158.2698880203869, 21.569394188935977], [-158.26980778104496, 21.56933176683545], [-158.26979886556254, 21.56932278990024], [-158.2697230839624, 21.569264856271225], [-158.26960263397723, 21.56917125385909], [-158.26944661303926, 21.569073149479625], [-158.26936182498534, 21.56902407932911], [-158.2691790576053, 21.568917069395326], [-158.26904077666285, 21.568832335394163], [-158.26891150217818, 21.568743136438936], [-158.26880897413974, 21.568671812510438], [-158.26869743964653, 21.568595984003416], [-158.26860828483228, 21.56853803920564], [-158.2685993693509, 21.568533547026075], [-158.26853696098144, 21.568511243738428], [-158.26852804550012, 21.568511236298992], [-158.2684700038974, 21.568488924317517], [-158.26832289845748, 21.56840428138175], [-158.26822928590587, 21.568350731294572], [-158.26810437819748, 21.56826600830385], [-158.26796618824358, 21.568181286507507], [-158.2678591114998, 21.568114431086407], [-158.2677788721734, 21.568056407419977], [-158.26767634414614, 21.567994052836493], [-158.26756035192489, 21.567918220467092], [-158.26749348582143, 21.567846840104426], [-158.26748457034103, 21.56775765575091], [-158.26738650005686, 21.567748776531378], [-158.26727942331908, 21.567713055332202], [-158.26722147269766, 21.56766850451348], [-158.2672036417373, 21.5676551216447], [-158.26719026851706, 21.56764174252173], [-158.26714123337624, 21.56760159766343], [-158.26712786015605, 21.56758821854226], [-158.267123402416, 21.567570362206393], [-158.26711002919583, 21.56753024732757], [-158.2670966559757, 21.567481249282793], [-158.2670699095355, 21.56747674210166], [-158.26704762083534, 21.567476723369545], [-158.26699412795523, 21.567472279936208], [-158.26689596670147, 21.567400947253734], [-158.26681126964266, 21.56731627036512], [-158.2667354880643, 21.56724936730889], [-158.2666774464717, 21.567209202573792], [-158.26667298873184, 21.56720471412296], [-158.26664624229272, 21.567186925301076], [-158.26658383393504, 21.567142284510997], [-158.26655262975638, 21.56712000723779], [-158.2664679327004, 21.567062066072207], [-158.26646347496063, 21.567057577622617], [-158.2664144398233, 21.56697732930762], [-158.26638314467087, 21.566937187126417], [-158.2663519404928, 21.56689705734845], [-158.26633410953391, 21.566883674494555], [-158.26630736309568, 21.56685691630323], [-158.26627170117817, 21.56683015059715], [-158.26620037734347, 21.56676773605819], [-158.2661067648112, 21.566803448299403], [-158.26602643452426, 21.56674101380633], [-158.2660175190451, 21.566732123156903], [-158.26600860356598, 21.566727630945238], [-158.2659328219936, 21.5666696972994], [-158.26587932911931, 21.56659384377957], [-158.2658302939848, 21.566535932755983], [-158.26581246302686, 21.56651358054823], [-158.26574996370002, 21.566433308710064], [-158.26573213274222, 21.566428895208688], [-158.2656474356931, 21.566406572716822], [-158.26554936542655, 21.566370871104162], [-158.26544674644737, 21.566326270189286], [-158.26533530296493, 21.566268306331246], [-158.26525506365837, 21.5662103689028], [-158.26516581789974, 21.566143442192583], [-158.26508112085534, 21.566067648589186], [-158.26500979702905, 21.565938395434053], [-158.26496076189875, 21.565853662827987], [-158.26491172676867, 21.565875958257507], [-158.26487597388183, 21.565893767961825], [-158.2648536851865, 21.56587149825492], [-158.26480019231792, 21.565809012665373], [-158.2647110375376, 21.56576443539749], [-158.2646441714529, 21.56567977395031], [-158.2646174250191, 21.56565301582054], [-158.2645727566554, 21.565612862443324], [-158.2645237215272, 21.565568233032707], [-158.2645014328327, 21.56555044799044], [-158.26439890483846, 21.565496890047648], [-158.2643052923229, 21.565447910553285], [-158.26420713109513, 21.565430048581597], [-158.2641224340588, 21.56539435805097], [-158.26411351858135, 21.56538986581663], [-158.26410014536518, 21.565376486754634], [-158.26409122988775, 21.565372080763126], [-158.26407339893285, 21.565358697901743], [-158.26403327928452, 21.56532304535389], [-158.26401544832976, 21.565305177859937], [-158.26400198413947, 21.565296271035848], [-158.26398861092343, 21.56528289197693], [-158.26394403353677, 21.5652338679814], [-158.2638771674572, 21.5651580034454], [-158.26382813233243, 21.565113460296647], [-158.2638192168552, 21.56510896806222], [-158.26380138590085, 21.565095585207615], [-158.26377018173073, 21.565046572651852], [-158.26374343529932, 21.565006446918677], [-158.26372560434507, 21.564957359545886], [-158.26370322467807, 21.564899372972327], [-158.26369430920096, 21.564877114727317], [-158.2636898514624, 21.564850375660757], [-158.2636720205083, 21.56480577293627], [-158.2635338306147, 21.564859297997657], [-158.26352937287623, 21.564863692569165], [-158.26348479549162, 21.564885991347676], [-158.2634625067994, 21.564894941539013], [-158.26344021810723, 21.56490829010144], [-158.26339109201038, 21.564899352775257], [-158.26336880331834, 21.564894935334134], [-158.2633465146264, 21.564894916264965], [-158.26331085271937, 21.564868150532543], [-158.26327964855082, 21.564841388615758], [-158.2632618175974, 21.5648280919927], [-158.26324398664403, 21.56481910749939], [-158.26323061342902, 21.564810213064213], [-158.2632261556907, 21.564810209247902], [-158.26318603604577, 21.5647834396983], [-158.2631726628308, 21.564774545262374], [-158.26313700092442, 21.5646853399282], [-158.26312808544782, 21.5646363465338], [-158.26312808544782, 21.564627377310117], [-158.26311916997125, 21.564582782290355], [-158.26307450161423, 21.56449804159228], [-158.2629808891111, 21.564475797140158], [-158.2628783611325, 21.564507015303548], [-158.26286944565618, 21.564507007660517], [-158.26285607244165, 21.564506996194833], [-158.26278019991886, 21.56452037260993], [-158.2626955028947, 21.56446682965581], [-158.2626464677758, 21.56437769923902], [-158.26262417908546, 21.56433309283365], [-158.2626063481332, 21.564292974860592], [-158.26263309456158, 21.564257293497988], [-158.26263309456158, 21.56425280889814], [-158.26265092551387, 21.564230573676365], [-158.2626642987281, 21.564208248384308], [-158.26260189039516, 21.56419042895106], [-158.26255731301475, 21.564181507753442], [-158.26245915180428, 21.56415916067549], [-158.26236999704494, 21.564123552309468], [-158.26230313097597, 21.564083392240523], [-158.26229421550013, 21.564078899985706], [-158.26227192681057, 21.564065513294313], [-158.26219605429227, 21.563989715161107], [-158.26217376560297, 21.56396296094577], [-158.26213810370015, 21.56390057725543], [-158.26210689953533, 21.563793524026348], [-158.26206232215716, 21.563762352328503], [-158.26204894894374, 21.563753371659754], [-158.26201328704136, 21.563726692212107], [-158.26184380203276, 21.563641930702858], [-158.2617858514427, 21.56359289540404], [-158.26175018954132, 21.5635661297094], [-158.2616565770508, 21.563499211634007], [-158.26154950037417, 21.563436840447856], [-158.26148263431077, 21.563392195800215], [-158.26145588788555, 21.56337880526333], [-158.2613489021854, 21.56330747730653], [-158.26129977609895, 21.56326292188015], [-158.26125519872446, 21.56322726559603], [-158.26115267076386, 21.563160339806934], [-158.26112592433955, 21.56314255093612], [-158.26111255112744, 21.563138054822033], [-158.26106351601643, 21.563106879248927], [-158.26097872803285, 21.563053323892653], [-158.26095643934633, 21.563039937188748], [-158.26090294649885, 21.56299090576233], [-158.26095198160903, 21.562892805300454], [-158.26096981255824, 21.56287496870521], [-158.26097427029555, 21.56287497255454], [-158.261032311855, 21.56282147897813], [-158.26111255112744, 21.56274565559133], [-158.26115267076386, 21.56270550157639], [-158.2611794171883, 21.562678789712226], [-158.261219536825, 21.562620783635854], [-158.26123736777473, 21.562594064071128], [-158.26117050171348, 21.56251380185778], [-158.26105905827907, 21.56250042474855], [-158.26096089708363, 21.56251378155156], [-158.2608851155497, 21.562531654448097], [-158.26085391138886, 21.562540510402506], [-158.26073801022093, 21.562536098289], [-158.2607111728235, 21.562540547342174], [-158.2606665954517, 21.562549477931277], [-158.26062647581725, 21.562558326114026], [-158.26060864486865, 21.562562795247516], [-158.2605194901262, 21.562594023722653], [-158.2605016591778, 21.562602977384294], [-158.26043024441034, 21.5626342088043], [-158.2603366319325, 21.562598510031854], [-158.26025193492953, 21.562531599646473], [-158.26017615340118, 21.56245581416041], [-158.2601627801903, 21.562446919720003], [-158.26008244995154, 21.562393368193607], [-158.2600111261614, 21.562322071138283], [-158.2599531755823, 21.562259582295958], [-158.2599442601086, 21.56224620719233], [-158.25987293631948, 21.562170425636666], [-158.25987739405628, 21.562143694791], [-158.2598773940563, 21.562067888936106], [-158.2598773940563, 21.56196974666199], [-158.2598461898987, 21.561867179051177], [-158.25978814834633, 21.561791396827118], [-158.2597524864523, 21.56175574838926], [-158.25969007813802, 21.561693342071823], [-158.25966333171772, 21.5616709824768], [-158.25956971924734, 21.56163088548261], [-158.2594849312769, 21.56155956462484], [-158.25940023428137, 21.56149713897571], [-158.25934674144253, 21.5614391387141], [-158.25933336823286, 21.56142575978022], [-158.25936011465222, 21.561323156505026], [-158.25940023428137, 21.561265237520033], [-158.25941360749115, 21.56124291275694], [-158.25942252296434, 21.561229553166424], [-158.25944481164734, 21.561193868801755], [-158.2594671003304, 21.561162668947528], [-158.25945818485718, 21.561131442055984], [-158.25943589617412, 21.561068984420167], [-158.25934228370596, 21.5610288876051], [-158.25927541765782, 21.560993212227995], [-158.25923520705496, 21.560970914943226], [-158.2591460523252, 21.560926337427972], [-158.2591237636429, 21.56091295078952], [-158.25908364401485, 21.560881783107707], [-158.2590613553327, 21.56086839646817], [-158.2590078624957, 21.560841615446794], [-158.25896328513178, 21.56081932667051], [-158.25886958169403, 21.560756881042742], [-158.25878042696766, 21.56070342069296], [-158.25877596923138, 21.560698932313098], [-158.25871801865972, 21.56068111639293], [-158.25867789903342, 21.560663229728345], [-158.25857528012605, 21.56068555060983], [-158.25852178729178, 21.560672136765046], [-158.25851287181945, 21.560672128998913], [-158.25848612540244, 21.56066770743895], [-158.2584638367217, 21.560663289759493], [-158.2584460057771, 21.560649906967754], [-158.25841480162416, 21.560632028022923], [-158.25839697067968, 21.560623129727055], [-158.25837022426302, 21.56060525466607], [-158.25829880951144, 21.560587414567514], [-158.25827206309503, 21.56057850848711], [-158.25816953516622, 21.56052503630417], [-158.25810266912632, 21.56050272794796], [-158.2580714649745, 21.56048933346561], [-158.25796884607368, 21.56044033331538], [-158.25791535324285, 21.560413552118142], [-158.2578529449406, 21.560382364872606], [-158.25775478377793, 21.560324313362838], [-158.25766562906205, 21.560279735481245], [-158.2576611713263, 21.5602797315781], [-158.25758093208273, 21.560208427103493], [-158.25756755887554, 21.560195048199954], [-158.25748286189713, 21.560119255358835], [-158.25745602450883, 21.56009696963288], [-158.2574025316809, 21.560047852270365], [-158.25731337696834, 21.55995429014454], [-158.25724205319892, 21.559887391771635], [-158.25718856037219, 21.559824907274656], [-158.25716627169444, 21.559798153407147], [-158.25716172298473, 21.55978925440485], [-158.25708594148094, 21.55972235215537], [-158.25705919506797, 21.559682227234504], [-158.25701461771322, 21.559606469694213], [-158.2569522094169, 21.559521727612765], [-158.2569343784752, 21.559503860367222], [-158.25686296373445, 21.559423582556057], [-158.25685850599905, 21.559419180425678], [-158.25679609770378, 21.559343321078423], [-158.25674260487958, 21.559285407399216], [-158.25670694299697, 21.559227423140626], [-158.25668911205568, 21.55920955591292], [-158.2566846543204, 21.55919178666208], [-158.25664453470267, 21.55912043139181], [-158.25665345017327, 21.55911147030784], [-158.25669802752634, 21.559040103099427], [-158.25674706261492, 21.558946489954504], [-158.25679609770378, 21.55887072833487], [-158.25680947090984, 21.558848403994624], [-158.25672477393826, 21.558785978702826], [-158.25669802752634, 21.5587904397449], [-158.25660441508518, 21.55881269377819], [-158.25648396525946, 21.558817146545856], [-158.25646167658343, 21.558808244334784], [-158.25638589508526, 21.558785928073135], [-158.25628782491214, 21.558741342464714], [-158.25626098752727, 21.55872802571789], [-158.25625652979215, 21.55872353735828], [-158.25620303697104, 21.55869235797731], [-158.256127255475, 21.55865667455871], [-158.25610496679982, 21.558643287881857], [-158.2560648471846, 21.55862988552434], [-158.25600689662963, 21.558607584837088], [-158.25585524266717, 21.558598642619906], [-158.2557883766437, 21.55858530288246], [-158.2557705457042, 21.5585852871667], [-158.25571259515104, 21.558576353450686], [-158.25563672268478, 21.55859869634893], [-158.255609976276, 21.55860764159957], [-158.25559214533683, 21.558625477332658], [-158.25553865251953, 21.55867450007191], [-158.25550299064153, 21.558719054104387], [-158.25547178649836, 21.558750331255325], [-158.2553647098913, 21.55870572489839], [-158.2553112170753, 21.558683427905862], [-158.2553647098913, 21.558598702407657], [-158.25539600500827, 21.558571922101873], [-158.25544504009, 21.5585317781029], [-158.25540937821236, 21.558456028809704], [-158.25540492047767, 21.558447056023294], [-158.25535579442194, 21.558393532173383], [-158.25532904801395, 21.55836237629941], [-158.25523543558654, 21.558273208820008], [-158.2552086891789, 21.558255333737876], [-158.25513736542553, 21.558210771446525], [-158.25509278807993, 21.55817951357997], [-158.25506595069854, 21.558161712333582], [-158.25503474655684, 21.558139435127984], [-158.25500354241527, 21.558121556097593], [-158.2549723382738, 21.558103763304295], [-158.25494559186689, 21.55809037262939], [-158.25483414850567, 21.558036805963816], [-158.25474490284347, 21.557987817265623], [-158.25465574815635, 21.557947637287153], [-158.2545487625329, 21.557903043300048], [-158.25450864292443, 21.557898609532554], [-158.25448180554469, 21.55789417522678], [-158.25445060140498, 21.557889663120623], [-158.25440156632854, 21.557911955332166], [-158.2543614467207, 21.557929857278886], [-158.25432578484723, 21.557943192533372], [-158.25429458070806, 21.557956617977087], [-158.25426337656896, 21.557965472773805], [-158.25416075771003, 21.558005642423435], [-158.25406268756043, 21.55802349260315], [-158.25402702568812, 21.558018976411383], [-158.25395570194388, 21.55801451463235], [-158.25386645629024, 21.557983290642287], [-158.2538530830884, 21.557925326612054], [-158.25383970988656, 21.557885213901255], [-158.2538352521526, 21.55778715707195], [-158.25378175934551, 21.55775589111533], [-158.25374163974038, 21.55772472332879], [-158.25369706240159, 21.55768458279634], [-158.25368814693385, 21.557675692308862], [-158.25365694279685, 21.557644446247313], [-158.25362573865993, 21.557622168952566], [-158.25358107034754, 21.55758201602837], [-158.2535676971461, 21.557573121562307], [-158.25349191567167, 21.557537437546657], [-158.2534740847366, 21.557528539095596], [-158.2533804723281, 21.55749283911959], [-158.253367099127, 21.557488342786364], [-158.2532867689464, 21.557466095458157], [-158.2532600225444, 21.557461587153252], [-158.25320207200707, 21.557439285899967], [-158.2531664101381, 21.55742597333418], [-158.25310845960132, 21.557350118337443], [-158.2530549667985, 21.55730557169473], [-158.25301930493012, 21.55727880602118], [-158.25299246755475, 21.55726540279645], [-158.25290777061815, 21.55722531255764], [-158.25286319328342, 21.55722527259453], [-158.25277849634801, 21.557220798498896], [-158.2526847929725, 21.557176203420543], [-158.25267587750577, 21.557158430453427], [-158.25263575790552, 21.55708259152342], [-158.25255106097225, 21.557011283189013], [-158.2524396176402, 21.55698453566101], [-158.25242624444044, 21.55698003928885], [-158.25232808333536, 21.556962173781343], [-158.25224784413814, 21.556930969856865], [-158.25222109773918, 21.556922063326464], [-158.25209619023784, 21.556908657967565], [-158.252047155174, 21.55685074848891], [-158.2520382397079, 21.556832889315665], [-158.252047155174, 21.55679719506575], [-158.25205607064012, 21.556765985157387], [-158.25206498610626, 21.556730290901342], [-158.25205607064012, 21.556650082098532], [-158.25205161290708, 21.55662325825875], [-158.25196691597927, 21.55657428544378], [-158.25192233864917, 21.556560878522045], [-158.25186884585335, 21.55654746356061], [-158.25177068475432, 21.556525199804607], [-158.2517082764936, 21.55652074543426], [-158.25165924143192, 21.55651630310352], [-158.25163249503473, 21.556525247638632], [-158.25154779811086, 21.556543022268254], [-158.25148975661034, 21.55649845914733], [-158.25146301021366, 21.556480583895677], [-158.25144963701536, 21.556476173718583], [-158.25142734835157, 21.55646278682391], [-158.25136494009323, 21.556431598822286], [-158.25133373596424, 21.556431570609035], [-158.2512624122412, 21.556435990419974], [-158.2511820820793, 21.55647169374805], [-158.25116870888144, 21.5564761659604], [-158.2511375047531, 21.55649398875028], [-158.25108846969454, 21.556525162094378], [-158.25106618103163, 21.556534110529416], [-158.25103497690364, 21.5565475351931], [-158.25100377277582, 21.556560873608362], [-158.25098594184564, 21.556569826067363], [-158.25088778075627, 21.556614395326932], [-158.25082537250168, 21.55654750504579], [-158.25082537250168, 21.55654302072929], [-158.25082983023415, 21.556493956008527], [-158.25083428796663, 21.556440493207102], [-158.25084320343154, 21.556382550134746], [-158.25084766116402, 21.55632900109308], [-158.25076296424754, 21.556257692597576], [-158.25062468356936, 21.55625315661059], [-158.25050432479662, 21.556275468723104], [-158.25045528974152, 21.556279994647547], [-158.25042408561566, 21.556279966242936], [-158.25039288148997, 21.556279937830958], [-158.25038842375773, 21.5562799337715], [-158.25029917813933, 21.556230857750926], [-158.25022339669238, 21.55616404157178], [-158.25012532658556, 21.55610608744531], [-158.25008074926464, 21.556092680132817], [-158.25000933457747, 21.55607035364685], [-158.24994692632905, 21.55604804767982], [-158.24993355313302, 21.55604363741253], [-158.24984885622527, 21.556012428718578], [-158.2497417796846, 21.555967820587], [-158.24963925185122, 21.555927713185405], [-158.24962587865568, 21.555860781578993], [-158.24961696319195, 21.55582515783429], [-158.24961696319195, 21.55573150521395], [-158.24961250546014, 21.555700283602146], [-158.24960358999644, 21.555624473759476], [-158.2496080477283, 21.555517458600658], [-158.24958130133726, 21.555481732368825], [-158.24955455494631, 21.555437210043664], [-158.24949214670107, 21.55535695337334], [-158.2494876889693, 21.555347980736855], [-158.24939844335995, 21.55528553816111], [-158.24931820418902, 21.555325737144337], [-158.24931374645735, 21.555330131113408], [-158.24927808460384, 21.555348035627233], [-158.2492156763606, 21.555374797974554], [-158.24913088848558, 21.555437142961075], [-158.24907739570648, 21.555517465952388], [-158.2490461915855, 21.55558875454778], [-158.24904173385397, 21.555602203280795], [-158.2490283606593, 21.555628924181924], [-158.24896149468626, 21.555726999381474], [-158.24891691737122, 21.55581621267589], [-158.24882767176766, 21.555847421918727], [-158.24875634806475, 21.555807256551198], [-158.2487340594077, 21.555798353729273], [-158.24865382024282, 21.555727048982966], [-158.248618158392, 21.55564233251483], [-158.24862261612333, 21.555633368090135], [-158.2486582779742, 21.5555575995881], [-158.24866719343692, 21.55553527269915], [-158.24867610889964, 21.555513032043738], [-158.24869839755652, 21.555459500056326], [-158.2487474326019, 21.555379173263436], [-158.2488053831104, 21.555258841129422], [-158.24879200991612, 21.555169660920594], [-158.2487875521847, 21.555160688297], [-158.2487518903333, 21.555084940467687], [-158.24868056663104, 21.554960091749987], [-158.24865382024282, 21.554853048540153], [-158.24862261612333, 21.554808436010905], [-158.2485824965413, 21.55474156647862], [-158.24854228598537, 21.55469253536796], [-158.24851553959758, 21.554656809236995], [-158.24843975816597, 21.554572142486524], [-158.2483728921974, 21.55449627997768], [-158.24833723034772, 21.554429414614482], [-158.24833277261652, 21.5544205282517], [-158.24831494169175, 21.55438929458709], [-158.24824798475007, 21.554264437885223], [-158.2482435270189, 21.55422433422801], [-158.2482346115566, 21.55415740720762], [-158.24815883012738, 21.554081622892884], [-158.24810979508533, 21.55402362763879], [-158.2480785909678, 21.5539924679979], [-158.24805630231245, 21.553987963315624], [-158.24802955592614, 21.55398793879039], [-158.24801618273304, 21.553983528513967], [-158.24797606315377, 21.55398349171278], [-158.2478734443669, 21.55396122269313], [-158.24784669798115, 21.553952315883027], [-158.24777537428622, 21.55391663514195], [-158.24769513513013, 21.553916647643295], [-158.24766829777082, 21.55391661065146], [-158.24755685450003, 21.553854160001734], [-158.24753456584608, 21.553836375021056], [-158.24747215761522, 21.553791820182266], [-158.24739637619263, 21.55371155163992], [-158.24731604606595, 21.553631266611312], [-158.24724026464472, 21.553568848790157], [-158.24724026464472, 21.553564364561282], [-158.24711990591825, 21.553426105011837], [-158.24710207499598, 21.553408324154585], [-158.2470484912552, 21.553345828267062], [-158.24699054075836, 21.553261178281627], [-158.24693259026188, 21.553171957867665], [-158.24688355522673, 21.55310508056119], [-158.24686572430488, 21.55308721348977], [-158.24679440061803, 21.5530069492485], [-158.24677647872232, 21.55297578959833], [-158.2467363591488, 21.552926684950886], [-158.24669623957544, 21.552841965297286], [-158.2466828663844, 21.552810735942096], [-158.24665166227197, 21.552748359369886], [-158.24658033858685, 21.552645760410048], [-158.24650455717205, 21.552583342803374], [-158.24647771981643, 21.552561057171673], [-158.24642868478387, 21.55252539700768], [-158.24633953017988, 21.552436234312406], [-158.24626374876718, 21.552351481943674], [-158.2462057982756, 21.552266746045298], [-158.24612992589002, 21.55218206756005], [-158.24606305993927, 21.552106205655814], [-158.24604522901913, 21.552088424880317], [-158.24602739809905, 21.552066073673135], [-158.245996193989, 21.55202594580891], [-158.24598282079901, 21.552012567113565], [-158.24594270122918, 21.551954666716224], [-158.24588465976566, 21.5518788006974], [-158.24582670927663, 21.551803033337876], [-158.24575538559836, 21.55174061999677], [-158.2457063505699, 21.551660290480363], [-158.2456394846224, 21.551597881282987], [-158.24561719597335, 21.551575612235], [-158.2455502390525, 21.55150422227634], [-158.245487830836, 21.551432935088673], [-158.24540313397145, 21.551357143148344], [-158.2453228948374, 21.551281269105804], [-158.2453005152151, 21.55126347185533], [-158.2452291915412, 21.55120545654903], [-158.24521581835242, 21.55119656206592], [-158.2451846142453, 21.551174284801156], [-158.24514895240875, 21.551147519238306], [-158.245126663761, 21.55112973439341], [-158.2450731710066, 21.55108510187607], [-158.24497946771314, 21.551000407227054], [-158.24494380587745, 21.550973641669838], [-158.2449215172302, 21.550955770595593], [-158.24490368631248, 21.55094238781731], [-158.24488139766535, 21.550924602977698], [-158.24481007399496, 21.55084873726114], [-158.24473875032515, 21.5507774419633], [-158.24471646167845, 21.550755172965065], [-158.2446717934112, 21.55070605217139], [-158.24459155428397, 21.550643630737447], [-158.244520230616, 21.55057673340743], [-158.2444131541411, 21.550496510624857], [-158.24433291501634, 21.55047867206556], [-158.2443061686416, 21.550474163100855], [-158.24421701405973, 21.550442949993172], [-158.24421255633064, 21.550438547935933], [-158.2441367749368, 21.550380528539517], [-158.2440430716537, 21.550318168498276], [-158.24394500161668, 21.550251246331804], [-158.24389596659861, 21.550206704232902], [-158.24386922022526, 21.550175462823454], [-158.24380226331814, 21.550117439322925], [-158.24377997467388, 21.550099654495416], [-158.24370865101275, 21.550037241353778], [-158.24363286962344, 21.549970339934355], [-158.24355708823478, 21.549907922661976], [-158.24348567360147, 21.549849895043025], [-158.24341880767145, 21.54976523787891], [-158.24339206129957, 21.549738480647246], [-158.2433385685561, 21.54968048205841], [-158.24324941398444, 21.54960020208862], [-158.24322257663906, 21.549569034570272], [-158.24321366118195, 21.549564542138008], [-158.24316462616812, 21.5495199138825], [-158.2430933025122, 21.54945310293467], [-158.2430264365853, 21.549386209919476], [-158.24297294384414, 21.549301479123525], [-158.24291044467253, 21.54923906201605], [-158.24287924057393, 21.54920333243159], [-158.24279454373539, 21.54913202496281], [-158.24276779736553, 21.549109751899977], [-158.24270093144122, 21.549060709187582], [-158.24268310052815, 21.549042842325434], [-158.24267864279992, 21.549033956169268], [-158.24262505908692, 21.548984827300917], [-158.24254927770735, 21.548913528180552], [-158.24252698906645, 21.548886775175514], [-158.24248686951293, 21.548837757444], [-158.24242000359087, 21.5487708645531], [-158.2423485889672, 21.54870395510998], [-158.24230401168649, 21.548654847014728], [-158.24227280759015, 21.54862368783621], [-158.24220594166977, 21.548543428909614], [-158.2421078716542, 21.548449774787436], [-158.24201862612153, 21.54835611661571], [-158.24195176020322, 21.54829370792063], [-158.24186706337412, 21.548200066365077], [-158.24182248609597, 21.54815544244569], [-158.2417912820014, 21.548124283314976], [-158.2416797478335, 21.54802172244642], [-158.24163962828405, 21.547990468755717], [-158.24160396646252, 21.547963703325014], [-158.2415148119093, 21.547883509954694], [-158.2414567704762, 21.547807645021283], [-158.24144785502097, 21.54779427065507], [-158.24143002411057, 21.547772006009108], [-158.24141219320023, 21.547749655132602], [-158.24138544683476, 21.547709532044962], [-158.24131412319397, 21.54763375328035], [-158.2412249686439, 21.54755795783937], [-158.24111343448357, 21.547464279051955], [-158.24106439948207, 21.54741076913381], [-158.24103765311776, 21.547379614247653], [-158.24096632947996, 21.54731271747213], [-158.24095741402527, 21.547294859058688], [-158.24093512538863, 21.547223524178502], [-158.24092175220667, 21.547138831681686], [-158.24092175220667, 21.547120981628044], [-158.2408950058428, 21.54704067446561], [-158.2408816326609, 21.547009445916164], [-158.24087717493356, 21.546898029849057], [-158.2408726262323, 21.54684446313359], [-158.24086816850496, 21.546790995058007], [-158.2408637107777, 21.54671967694158], [-158.2408592530504, 21.546701822729936], [-158.24085033759584, 21.546643866429772], [-158.24084587986854, 21.546626012221292], [-158.2408146757777, 21.54657251917044], [-158.2407923871414, 21.54653679826594], [-158.24078792941415, 21.54653679410002], [-158.24073443668738, 21.546456548306516], [-158.2406898594153, 21.546353976779614], [-158.24063636668916, 21.546264849148777], [-158.24059624714477, 21.546175647810266], [-158.24056495208083, 21.54610877649589], [-158.24055157889944, 21.54608194587144], [-158.24052037480968, 21.546041818878123], [-158.24048471299292, 21.545992805840758], [-158.24044905117634, 21.545890242813414], [-158.24045796663046, 21.545867917080933], [-158.24047579753878, 21.545792135896978], [-158.24050700162837, 21.545694033110692], [-158.24055603662657, 21.54554688094545], [-158.24056940980793, 21.545511193386343], [-158.24060070487192, 21.545439921035065], [-158.24064973987066, 21.54534174846637], [-158.2406943171425, 21.54526150794343], [-158.24072997896013, 21.545190140990943], [-158.24073443668738, 21.545181263235587], [-158.2407433521418, 21.545163421491388], [-158.24072106350573, 21.545074236955408], [-158.2407032325969, 21.545060854459187], [-158.24064082441632, 21.54500733274896], [-158.24056495208083, 21.5449315384002], [-158.24053374799098, 21.544904777552347], [-158.24048025526585, 21.544869114130876], [-158.2404668820846, 21.544851251721695], [-158.2404312202681, 21.544811120805107], [-158.2404133893599, 21.54478885643762], [-158.24034206572753, 21.54470859462766], [-158.2403286925465, 21.54461493450154], [-158.2402617356678, 21.54460606436549], [-158.24023498930606, 21.544606039519127], [-158.24018595430977, 21.54459711208748], [-158.2402082429444, 21.544699662315217], [-158.24020378521746, 21.544784423953512], [-158.24020378521746, 21.5447977898708], [-158.24015920794827, 21.54478886652912], [-158.2401012574987, 21.544771048864366], [-158.2400745111375, 21.54471307628364], [-158.2400611379569, 21.544681847974644], [-158.24000318750802, 21.544695246158685], [-158.2399763501731, 21.54470409070149], [-158.23994514608552, 21.544713029718064], [-158.2398916533642, 21.544730916032908], [-158.23975346383574, 21.544757605132954], [-158.23971780202234, 21.544721958224457], [-158.23969096468835, 21.544686307239687], [-158.23966421832847, 21.54465955050638], [-158.23969551338902, 21.54456146059748], [-158.23971334429567, 21.54452129335183], [-158.23973117520234, 21.54446776021412], [-158.23972671747566, 21.544365226804214], [-158.23962855651544, 21.544351843347684], [-158.2395081978976, 21.544334053635076], [-158.23947253608526, 21.544316170453477], [-158.23943241654655, 21.544293885307397], [-158.23942350109354, 21.54428939295292], [-158.23935208649573, 21.54421808686105], [-158.23935208649573, 21.544195752946834], [-158.23935208649573, 21.54419135514908], [-158.23935208649573, 21.544119955610615], [-158.23934317104278, 21.54401741825141], [-158.23929413605185, 21.543968393124214], [-158.23928076287254, 21.543950530770122], [-158.23927184741967, 21.543941640629612], [-158.2392451010612, 21.543923765798947], [-158.2391960660708, 21.543883622503298], [-158.23914703108076, 21.543852447257297], [-158.23911582699628, 21.543834568263367], [-158.23903103922228, 21.54378558367915], [-158.23896417332816, 21.543705326244915], [-158.23889284970835, 21.543625064669275], [-158.2388750188035, 21.543607198171767], [-158.23883489926772, 21.543567063229194], [-158.23882152608917, 21.543549200900483], [-158.2387367383182, 21.543477882491665], [-158.2386297528917, 21.543437771267786], [-158.2386163797135, 21.54343327474764], [-158.2385361406447, 21.543384220490946], [-158.23848255695862, 21.543330694851228], [-158.23846472605464, 21.543312914595106], [-158.23839340243924, 21.54324153488743], [-158.23835328290582, 21.54320139997685], [-158.23830870564672, 21.543152379121537], [-158.2382418397585, 21.54307212185174], [-158.2381659674452, 21.543009693618547], [-158.2380812706551, 21.54294726944129], [-158.23799211614013, 21.542889238850773], [-158.23790732837782, 21.542840254247494], [-158.23784937794423, 21.542791134667077], [-158.2378360047673, 21.54277775637784], [-158.237791427511, 21.542746585312134], [-158.2377513079806, 21.542719816187944], [-158.2376666111948, 21.542648510262875], [-158.2375862811614, 21.542559260186604], [-158.23753724618106, 21.54248350379159], [-158.23752387300465, 21.54238536097662], [-158.23747038029924, 21.542309600448583], [-158.23738568351635, 21.542233810653595], [-158.2373411062626, 21.542202553406565], [-158.23729643803506, 21.54217585396323], [-158.23725186078178, 21.54214011273709], [-158.23721619897935, 21.542113347839866], [-158.23714041764967, 21.542042050421315], [-158.2371136712982, 21.542006412189476], [-158.23708246722157, 21.541970683543266], [-158.2370333412703, 21.541921646285207], [-158.23701105264436, 21.54190377568195], [-158.2369441867669, 21.54181912101077], [-158.23689515179043, 21.541729912929828], [-158.23687732089, 21.541640734202538], [-158.23687286316485, 21.54160503073735], [-158.23686394771465, 21.541564925350308], [-158.2368550322645, 21.541520336000662], [-158.23679708183843, 21.541435603606438], [-158.23677925093818, 21.541404371567097], [-158.23674804686289, 21.541355363576745], [-158.23665880138867, 21.541288439138253], [-158.23656518916448, 21.54125282440089], [-158.2365384428149, 21.541230465692255], [-158.23647157694137, 21.54118142420479], [-158.23638678919508, 21.541110106224703], [-158.23631992332278, 21.54103873120476], [-158.2363020924236, 21.541007499217898], [-158.23625751517585, 21.540945113097546], [-158.23616836068106, 21.540891566713235], [-158.236070199764, 21.54088266653097], [-158.23605236886536, 21.54087825201718], [-158.23596767209747, 21.540860408881695], [-158.23589189077958, 21.540824724572662], [-158.23585168028467, 21.54080242707835], [-158.23574469489648, 21.540771197239096], [-158.235651082683, 21.540717732749194], [-158.2355842168169, 21.54065084170238], [-158.23551280225303, 21.540561600613284], [-158.23548159818267, 21.540476893783442], [-158.23548159818267, 21.54046801214689], [-158.23544147866377, 21.54036984512867], [-158.23539244369655, 21.540276239887078], [-158.23531666238412, 21.54019597498531], [-158.2352274169259, 21.540164749573677], [-158.2351204315461, 21.540160336994422], [-158.23507139658085, 21.54018702170255], [-158.23502681933996, 21.540209399135325], [-158.2349866998234, 21.54021384507915], [-158.23491974298892, 21.540222737189747], [-158.2349108275409, 21.54021824482398], [-158.2348796234729, 21.540200452041297], [-158.2348305885091, 21.54017367452261], [-158.2347860112696, 21.540142503537698], [-158.23474589175422, 21.540111250549447], [-158.23470131451518, 21.540071111735177], [-158.23466556175015, 21.54003545288833], [-158.23464327313084, 21.54001318464256], [-158.23462098451157, 21.539990830169195], [-158.23455857637794, 21.53996852386738], [-158.23450954141617, 21.539946230242812], [-158.23446496417844, 21.53991954316316], [-158.23442484466472, 21.53989277408412], [-158.23432668376915, 21.539821443417736], [-158.2342330715724, 21.53975452706611], [-158.2341528325475, 21.53968762342466], [-158.23408141799655, 21.539602952721626], [-158.23398334807922, 21.539536032149766], [-158.2339655171853, 21.539522649730657], [-158.2339521440149, 21.539518153115157], [-158.23394322856794, 21.539509263071743], [-158.23390310905685, 21.539482493992683], [-158.23383178548212, 21.53940671730634], [-158.23377820182756, 21.539313095862273], [-158.23367121646737, 21.539228317505263], [-158.23357760427842, 21.539183734415346], [-158.23347052794702, 21.53915257780837], [-158.2334125775457, 21.539112426309032], [-158.2333813734836, 21.539094547261087], [-158.23330113446738, 21.53902324602528], [-158.23325209951346, 21.538978619150214], [-158.2332298108981, 21.538965232483502], [-158.23315393863254, 21.538876073835805], [-158.23314502318652, 21.53886269992933], [-158.2330692418957, 21.538777951366214], [-158.23296671426812, 21.53869774740303], [-158.23286855339077, 21.538630814450087], [-158.23278831437983, 21.538577362533545], [-158.23273482170632, 21.53853273144441], [-158.2327080753697, 21.538505975149338], [-158.23262337863767, 21.53842121815309], [-158.23257425271404, 21.53833208522321], [-158.2325029291514, 21.5382294918474], [-158.23244052103462, 21.53811354168344], [-158.23243160558943, 21.53808680246848], [-158.23240931697643, 21.538015470582682], [-158.2323870283635, 21.537979837114168], [-158.2323558243055, 21.53791737822266], [-158.23231561382863, 21.53781480241033], [-158.23226212115839, 21.53772559160285], [-158.23223983254587, 21.53769883965254], [-158.2322309171009, 21.537685465806874], [-158.232204170766, 21.53764982812642], [-158.23219525532107, 21.53762757280686], [-158.23215513581894, 21.537551740158488], [-158.23211947403948, 21.537480395637797], [-158.2321016431498, 21.53744468027051], [-158.2320526082034, 21.537364441541683], [-158.23200348228335, 21.53726185742542], [-158.23193215872595, 21.53718608132072], [-158.23187420833602, 21.537092468857097], [-158.2318608351692, 21.53706572548487], [-158.2318207156688, 21.537003258297247], [-158.23178505389086, 21.53695424690397], [-158.23176722300195, 21.536927499290368], [-158.2317225548059, 21.536860531635693], [-158.23170472391715, 21.536838267870987], [-158.2316512312511, 21.536807088607986], [-158.23159328086328, 21.53677142124595], [-158.23158882314115, 21.536766933151405], [-158.2315665345306, 21.536753546578925], [-158.23155761908637, 21.536749054225837], [-158.23149966869926, 21.53672235452604], [-158.23148629553307, 21.536713460304618], [-158.2314461760346, 21.536695572850554], [-158.2314148810065, 21.536682165343024], [-158.23133909973254, 21.536642083301125], [-158.23132126884465, 21.536633184812302], [-158.23124102984966, 21.536575163176714], [-158.23118753718683, 21.536486039035076], [-158.2311652485774, 21.53645928720421], [-158.23114286899414, 21.536432522970703], [-158.2311250381067, 21.536410173008505], [-158.23109829177562, 21.536383416919065], [-158.23108937633197, 21.53637901078975], [-158.2310760031665, 21.53636563274586], [-158.23105371455742, 21.536347762345667], [-158.23104034139195, 21.536329900479863], [-158.2309913064523, 21.536271994988375], [-158.23093781379117, 21.536236331888958], [-158.23089323657385, 21.536209558737323], [-158.23076387167117, 21.53615156398708], [-158.230683632682, 21.536075779580887], [-158.23060339369366, 21.535933082914354], [-158.23055872550438, 21.5358305037095], [-158.23052306373225, 21.53570569889342], [-158.23050077512477, 21.535558487881428], [-158.23047402879584, 21.535406875064186], [-158.23042053613833, 21.535273085713925], [-158.23035367031693, 21.53515273504809], [-158.23030463538163, 21.535041282868463], [-158.23029126221752, 21.53493426239929], [-158.23018864365278, 21.53473807192232], [-158.23011732011216, 21.534617631007286], [-158.23005936973587, 21.53450617051832], [-158.23000587708123, 21.53441696085551], [-158.22993892028956, 21.534345661214587], [-158.2298542235879, 21.534260905579256], [-158.22974278056083, 21.53416284548136], [-158.22968037246636, 21.533957738774895], [-158.2296223311195, 21.533734775130227], [-158.22961341567753, 21.533641124503514], [-158.22961341567753, 21.533636640719212], [-158.2296579928874, 21.53360986677435], [-158.22968037246636, 21.533600932869163], [-158.22970711879248, 21.533587593244434], [-158.22973832283978, 21.533574171633344], [-158.22983193498234, 21.5335162302556], [-158.2298497658668, 21.533471668020713], [-158.2298765121935, 21.533404781537584], [-158.22989880079916, 21.53336910487184], [-158.2299344625684, 21.533297743034836], [-158.22995675117426, 21.533253184983646], [-158.22997913075406, 21.533199671741393], [-158.22997913075406, 21.533088180545974], [-158.2299701243378, 21.533021247724623], [-158.2299701243378, 21.532994517433497], [-158.22992554712607, 21.532887467778984], [-158.22984530814568, 21.53277607301214], [-158.22978735777147, 21.53268685967991], [-158.22972940739768, 21.53254858343124], [-158.22972940739768, 21.53250848805353], [-158.2297204919556, 21.532450535318382], [-158.22972494967664, 21.53231231828739], [-158.2297204919556, 21.532258767345265], [-158.22971603423454, 21.532200818850495], [-158.22973386511873, 21.532098226068843], [-158.22974278056083, 21.531977862165785], [-158.22972940739768, 21.53186635854444], [-158.22971603423454, 21.53174597360622], [-158.22971157651352, 21.531723722941223], [-158.22969374562942, 21.53163454783927], [-158.22969374562942, 21.53156763602928], [-158.22969374562942, 21.531487359105853], [-158.22966690832942, 21.53136694922642], [-158.22964907744543, 21.53126889285586], [-158.2296223311195, 21.531175225659346], [-158.2295911270727, 21.531063705405725], [-158.22958221163074, 21.5310102365893], [-158.22958221163074, 21.53099687148449], [-158.22957329618887, 21.530952284001852], [-158.22956438074695, 21.530849666110093], [-158.22956438074695, 21.530747142843033], [-158.22956438074695, 21.53072929396534], [-158.2295465498632, 21.530600023748466], [-158.2295465498632, 21.530591056197895], [-158.22953317670041, 21.53051076681503], [-158.22952426125855, 21.530368139923247], [-158.22947522632853, 21.530278935781222], [-158.22942173367798, 21.530185329940124], [-158.22935477689146, 21.53007385032465], [-158.22927453791704, 21.52998461699459], [-158.22916755261912, 21.529922174942083], [-158.229154179457, 21.529922248607505], [-158.22910960225005, 21.529931088029645], [-158.22906047634882, 21.529935599528315], [-158.22894457561273, 21.529953425561594], [-158.22885096348108, 21.529904361001293], [-158.22884204804, 21.529855289951023], [-158.22882421715792, 21.529761717848903], [-158.22899806825995, 21.529654615975183], [-158.229154179457, 21.529561046899214], [-158.2292210452679, 21.529552142037893], [-158.22924333387164, 21.529552076692926], [-158.2292789956378, 21.529547626328498], [-158.2293636923331, 21.52960116593678], [-158.2293994450737, 21.529623458113534], [-158.22951980353764, 21.52969030993546], [-158.22951980353764, 21.529672461072177], [-158.22951534581668, 21.529610028997347], [-158.22950643037487, 21.529489648633703], [-158.22948859949125, 21.52936925996151], [-158.22947968404944, 21.52926224472405], [-158.22947522632853, 21.52922662907894], [-158.22947522632853, 21.529119535953292], [-158.22947968404944, 21.528976921736767], [-158.22947968404944, 21.528874312393032], [-158.22949751493306, 21.528744989490626], [-158.22949305721215, 21.528642462230184], [-158.22949751493306, 21.528611252444776], [-158.22950643037487, 21.528530984020108], [-158.22953317670041, 21.528392701832566], [-158.22953317670041, 21.528357090355748], [-158.22953763442132, 21.52832588056125], [-158.22954209214228, 21.528290186996262], [-158.22953317670041, 21.528147474146866], [-158.22953317670041, 21.52794682549914], [-158.22953763442132, 21.527772911155033], [-158.22954209214228, 21.527656940896254], [-158.22953763442132, 21.527563381235638], [-158.22953317670041, 21.527536560735825], [-158.22952871897948, 21.527407303404463], [-158.22952426125855, 21.52738048291136], [-158.22950643037487, 21.527304673542954], [-158.22948859949125, 21.527202134047858], [-158.22944402228234, 21.527104053656053], [-158.2294039027946, 21.527055040128843], [-158.22939052963204, 21.527041662721654], [-158.22935923461228, 21.527005923867385], [-158.22927453791704, 21.526961352957596], [-158.2292388761509, 21.52693907367349], [-158.22913634857417, 21.52694354891246], [-158.2290649340695, 21.526988135655085], [-158.22905156090752, 21.526992607035965], [-158.2290248145837, 21.527010431075126], [-158.22892674473044, 21.527046124051846], [-158.22887325208373, 21.527050558226264], [-158.2288063862759, 21.52705946372288], [-158.22869485229023, 21.52707279914388], [-158.22854328979687, 21.527104044541492], [-158.22852100119516, 21.527108507559458], [-158.22844067125567, 21.527126355478885], [-158.2283069396482, 21.527139768392303], [-158.22824007384534, 21.526782990314306], [-158.22832031280885, 21.52676961373554], [-158.22842284037452, 21.526747290323414], [-158.22855220523758, 21.526716122769095], [-158.2286458173656, 21.526671544585366], [-158.2286725636881, 21.526658118134716], [-158.22871714089248, 21.52662694565536], [-158.22877063353806, 21.526582330155613], [-158.22884650576054, 21.526515415103354], [-158.2289757796569, 21.526426290645055], [-158.22898469509812, 21.526354903743513], [-158.22898469509812, 21.526337054961147], [-158.22899806825995, 21.526328186019832], [-158.22903373002495, 21.52631037012485], [-158.22906939179012, 21.526288070460183], [-158.22909622908801, 21.526292505040146], [-158.229154179457, 21.526305837245747], [-158.22917201033985, 21.52630585366964], [-158.22926562247548, 21.526283607290296], [-158.2292789956378, 21.526288017128103], [-158.22932803056656, 21.52628806223729], [-158.22935031917063, 21.5262879965093], [-158.22936815005394, 21.526288012905127], [-158.2293994450737, 21.5262657214136], [-158.2294039027946, 21.526261327975487], [-158.22944848000324, 21.52623006882675], [-158.22947522632853, 21.52618103068], [-158.22948859949125, 21.526158710368538], [-158.22949751493306, 21.52614535348841], [-158.22950643037487, 21.526100782716217], [-158.2295108880958, 21.52609181927932], [-158.22951980353764, 21.526051732265564], [-158.22952871897948, 21.526016042785784], [-158.22955992302602, 21.52591794593963], [-158.22955992302602, 21.52586000191393], [-158.22955992302602, 21.525851034386307], [-158.22956438074695, 21.52580645950889], [-158.22955992302602, 21.525770757770854], [-158.22955546530508, 21.525739539798394], [-158.22955546530508, 21.52570832590715], [-158.22954209214228, 21.52566821848009], [-158.22953763442132, 21.525654849338817], [-158.22952871897948, 21.525610262234068], [-158.22952871897948, 21.52559689717283], [-158.22954209214228, 21.52552551410751], [-158.22954209214225, 21.525512149046], [-158.22953763442132, 21.52546756602513], [-158.22953763442132, 21.52545868472667], [-158.22953317670041, 21.52541849924509], [-158.22954209214228, 21.525356079625478], [-158.2295465498632, 21.525315988516006], [-158.22954209214228, 21.52529813562307], [-158.22954209214228, 21.525284770563264], [-158.22953763442132, 21.525249068850506], [-158.22953763442132, 21.525226736267847], [-158.22953317670041, 21.525195518319748], [-158.22951980353764, 21.525146529644644], [-158.2295198035376, 21.52514204588351], [-158.22950643037487, 21.525097454749925], [-158.22946631088675, 21.52502162535318], [-158.22945739544497, 21.52500825216678], [-158.22944402228234, 21.5249592635203], [-158.22942173367798, 21.524896815473657], [-158.22942173367798, 21.5248834504249], [-158.22939052963204, 21.524794264170634], [-158.2294039027946, 21.524700634811836], [-158.22942173367798, 21.5246114070348], [-158.22942619139886, 21.524602529804813], [-158.22943064911973, 21.524566836254113], [-158.22943064911973, 21.52455347120722], [-158.22943064911973, 21.524540106160423], [-158.22943510684058, 21.52450889636626], [-158.22943510684058, 21.5244910475619], [-158.22943510684058, 21.524486563804313], [-158.22942619139886, 21.524433095508417], [-158.22942173367798, 21.52440627513655], [-158.22942173367798, 21.524388426334404], [-158.22941727595713, 21.524357294659968], [-158.22941281823628, 21.524312625491238], [-158.22939052963204, 21.524299326408336], [-158.22932803056656, 21.52426804341449], [-158.22930128424173, 21.52425913780087], [-158.22929236880015, 21.524254645935724], [-158.22925670703393, 21.524245732205177], [-158.22922996070938, 21.524236826583397], [-158.229185383502, 21.524201174669145], [-158.229154179457, 21.524178899957832], [-158.22914080629488, 21.52417440403089], [-158.2291318908535, 21.524169998388487], [-158.22911405997075, 21.52416549840074], [-158.2290738495108, 21.524152084436093], [-158.22906047634882, 21.524147674730628], [-158.2289624064951, 21.52410757653791], [-158.228931202451, 21.524071850578963], [-158.22892228700985, 21.524058477441912], [-158.22889999840703, 21.5240362108504], [-158.2288955406865, 21.523942565513128], [-158.22888216752483, 21.523911339571526], [-158.22888216752483, 21.52390685582783], [-158.22887325208373, 21.5238846014383], [-158.2288687943632, 21.523866748629217], [-158.22885987892212, 21.52384889175979], [-158.2288554212016, 21.52381327643273], [-158.2288554212016, 21.52378646020161], [-158.22885096348108, 21.523759726137236], [-158.22884650576054, 21.523724024589416], [-158.22884204804, 21.52368392552734], [-158.22883759031947, 21.523670556468574], [-158.22883759031947, 21.52366607272648], [-158.22883759031947, 21.523661675210214], [-158.22883759031947, 21.523643826467797], [-158.22883313259896, 21.52360364118499], [-158.22882867487843, 21.52357242338802], [-158.22882867487843, 21.52356354213054], [-158.22882421715792, 21.523523443078624], [-158.2288197594374, 21.52347437654681], [-158.22883759031947, 21.52338514906152], [-158.2288554212016, 21.523278159047745], [-158.2288554212016, 21.52316666909385], [-158.22887325208373, 21.523041830322004], [-158.22887325208373, 21.522974919106517], [-158.22887770980427, 21.522939225669543], [-158.22888216752483, 21.522832223503016], [-158.22889999840703, 21.52272523344287], [-158.22890891384816, 21.522631600301224], [-158.22890891384816, 21.522609267821643], [-158.22891337156872, 21.52253796312547], [-158.22892674473044, 21.522444334005705], [-158.22892674473044, 21.522346209060405], [-158.22892228700985, 21.522306023820807], [-158.22891337156872, 21.522239190795624], [-158.2289044561276, 21.522216850274297], [-158.22887325208373, 21.52214999714918], [-158.22885987892212, 21.522047462671157], [-158.2288687943632, 21.52194037834081], [-158.22887325208373, 21.521860192421055], [-158.22887325208373, 21.521846741206016], [-158.22888662524537, 21.521753112099002], [-158.22888216752483, 21.52167283192664], [-158.22887770980427, 21.52164170042626], [-158.22886433664266, 21.521534682272335], [-158.22885987892212, 21.52149001334248], [-158.22882867487843, 21.521329519257918], [-158.2288197594374, 21.521271567583703], [-158.2288153017169, 21.521231382410278], [-158.2288197594374, 21.52115559403955], [-158.2288197594374, 21.52114222905911], [-158.22882867487843, 21.52111990461093], [-158.22884204804, 21.521102067896546], [-158.2288687943632, 21.52105302947401], [-158.22887770980427, 21.521044156223347], [-158.22890891384816, 21.520990638037464], [-158.228931202451, 21.520959444303127], [-158.22901589914244, 21.520816730319495], [-158.22908722267277, 21.520740915425822], [-158.22914080629488, 21.52066509692083], [-158.22918984122273, 21.520544683235368], [-158.2292032143849, 21.520500116416454], [-158.22921658754717, 21.520455549591315], [-158.22922550298864, 21.520361916297055], [-158.22922550298864, 21.520352948812036], [-158.22922550298864, 21.520344067552873], [-158.22922996070938, 21.520317341519664], [-158.22925224931316, 21.520228117637643], [-158.22931911512495, 21.520156782121916], [-158.22935031917063, 21.520040836079893], [-158.2293636923331, 21.51996945294542], [-158.22936815005394, 21.51994721063094], [-158.2293994450737, 21.519871371957056], [-158.2294039027946, 21.51985352715578], [-158.2293994450737, 21.519822309438116], [-158.22939498735286, 21.519755480440992], [-158.22939052963204, 21.51971089772035], [-158.22939052963204, 21.519684081478825], [-158.229390529632, 21.51966183520803], [-158.22938607191116, 21.51956818998404], [-158.22938607191116, 21.519545857489348], [-158.22938152321643, 21.519465651108774], [-158.22937706549558, 21.51942546592216], [-158.229390529632, 21.519403157661067], [-158.22943064911973, 21.519327400620508], [-158.22943064911973, 21.519309551868325], [-158.22943510684058, 21.519229279537193], [-158.22947076860765, 21.51910885350535], [-158.22949751493306, 21.51899738705764], [-158.22952871897948, 21.518912654531515], [-158.22953317670041, 21.51889480970248], [-158.22958221163074, 21.518783362811543], [-158.22964016200345, 21.518685288709975], [-158.22970266107146, 21.518596112116075], [-158.22974723828187, 21.518498026124135], [-158.2297784423293, 21.518457872201648], [-158.22981856181906, 21.518408844799275], [-158.22987205447237, 21.518328529042016], [-158.22992554712607, 21.51823933194376], [-158.22997467303287, 21.51815462703568], [-158.2300504542934, 21.518074416782948], [-158.23008611606335, 21.517976236411794], [-158.23012177783343, 21.51793168862705], [-158.23016189732496, 21.517887058475765], [-158.23017972821017, 21.517855860158566], [-158.2301931013741, 21.517838023000145], [-158.23023767858734, 21.517757785282285], [-158.23025105175137, 21.517664155336753], [-158.23031355082438, 21.517552645337883], [-158.23036704348115, 21.517459050159214], [-158.230407162974, 21.517396570974824], [-158.23042945158124, 21.51736089265214], [-158.23045174018853, 21.51733866560585], [-158.23050523284624, 21.517298530517532], [-158.23056773192133, 21.517209352761938], [-158.23064351318772, 21.517151301766184], [-158.23066134407404, 21.517133468329405], [-158.2306747172388, 21.51706217074059], [-158.2306791749604, 21.517048809514332], [-158.2306791749604, 21.51703544444006], [-158.2306970058468, 21.517013127218885], [-158.2307014635684, 21.51701313106516], [-158.23071037901164, 21.5169952899137], [-158.2307282098981, 21.51698185399102], [-158.23074604078462, 21.51695513921179], [-158.23075495622788, 21.516914965436325], [-158.23075941394953, 21.516892722889526], [-158.23075941394953, 21.51688823912125], [-158.23076832939282, 21.516843667798664], [-158.23077278711446, 21.51678572755501], [-158.23077278711446, 21.51675002986152], [-158.23077724483613, 21.516723303542253], [-158.23077724483613, 21.51670985223755], [-158.23078170255778, 21.516647428224225], [-158.23075941394953, 21.51655385351155], [-158.23076387167117, 21.51651367589078], [-158.23076832939282, 21.516500314647416], [-158.23077724483613, 21.516446775779507], [-158.23076832939282, 21.516402189123202], [-158.23076832939282, 21.51639330781504], [-158.23076387167117, 21.516344241226168], [-158.23075495622788, 21.516241710518383], [-158.2307237521765, 21.51614804200242], [-158.23071483673323, 21.516116820444996], [-158.23070592129002, 21.516076717586515], [-158.2306970058468, 21.516049979799853], [-158.230683632682, 21.516027635728957], [-158.23064351318772, 21.51596077598026], [-158.2306345977446, 21.515916189378828], [-158.23062568230145, 21.51588496784382], [-158.23061676685833, 21.515867111372707], [-158.23059447825057, 21.515831480836912], [-158.23058556280748, 21.515822505666538], [-158.23054535233982, 21.515760117334544], [-158.23048740196032, 21.515675393549596], [-158.23045174018853, 21.515639665343286], [-158.23045174018853, 21.515635267811227], [-158.23043836702414, 21.515626288823444], [-158.23041607841688, 21.51560402336696], [-158.23036704348115, 21.515572853675792], [-158.23035367031693, 21.51555947715805], [-158.23032246626715, 21.515541601582385], [-158.23028234677477, 21.515528202105482], [-158.2301931013741, 21.515492588024724], [-158.2300905737846, 21.51540782602424], [-158.23005491201462, 21.515367700312588], [-158.23001925024485, 21.515336455876007], [-158.22996120889542, 21.515251719831234], [-158.22993892028956, 21.51521608938326], [-158.22989880079916, 21.515158111115447], [-158.22983193498234, 21.515073379861683], [-158.22976061144504, 21.514979763546272], [-158.22974278056083, 21.51496638321946], [-158.22968037246636, 21.514908385841732], [-158.22960895795657, 21.514823724661557], [-158.22953763442132, 21.514645348592662], [-158.22958221163074, 21.514511564637694], [-158.2295911270727, 21.51436438504416], [-158.22955992302602, 21.514261835950172], [-158.2295777539098, 21.514065601619624], [-158.22955100758412, 21.51397642138574], [-158.22958221163074, 21.513896172012515], [-158.22958666935173, 21.51388729458375], [-158.22961341567753, 21.513793676388467], [-158.22964016200345, 21.513713336921292], [-158.22964016200345, 21.513699971941925], [-158.22963570428246, 21.51369108688987], [-158.2296045002356, 21.513606386638145], [-158.22960004251462, 21.5135840503876], [-158.22956438074695, 21.513521592571433], [-158.22955992302602, 21.51351719125781], [-158.2295465498632, 21.513494847401308], [-158.22954209214228, 21.513481478623664], [-158.22953317670041, 21.51345474107001], [-158.22951980353764, 21.513423515981195], [-158.22950643037487, 21.51337444219664], [-158.22948859949125, 21.51327638848023], [-158.22947968404944, 21.513222834786784], [-158.22946631088675, 21.513142633595873], [-158.22946185316587, 21.513031140137894], [-158.22947968404944, 21.512973125524162], [-158.22950197265396, 21.512919684650075], [-158.22950643037487, 21.512875023596784], [-158.22951534581668, 21.512834936290734], [-158.22952871897948, 21.512759155382916], [-158.22949305721215, 21.512674365326763], [-158.22949305721215, 21.512540629489614], [-158.22950197265396, 21.512433631150802], [-158.22950197265396, 21.512384568812855], [-158.22950643037487, 21.51237560513863], [-158.22950643037487, 21.51234439148971], [-158.22948414177034, 21.512241850414537], [-158.22948414177034, 21.51209914716141], [-158.22947968404944, 21.512045683559233], [-158.22947522632853, 21.512005498690737], [-158.22950643037487, 21.511885154276992], [-158.22950643037487, 21.511769180948043], [-158.22952871897948, 21.511724621193547], [-158.22953317670041, 21.511711260003832], [-158.22955546530508, 21.511666614008302], [-158.22955992302602, 21.511613157940307], [-158.22957329618887, 21.511515044567457], [-158.22954209214228, 21.51142137731904], [-158.22958221163074, 21.51133665145467], [-158.22958666935173, 21.51133217148379], [-158.2295911270727, 21.511229653081422], [-158.22958666935173, 21.5111717057727], [-158.22958666935173, 21.511153857088928], [-158.22958221163074, 21.51108694233147], [-158.22960004251462, 21.511020046327634], [-158.22960895795657, 21.510997807639757], [-158.22960895795657, 21.51098884018497], [-158.2296223311195, 21.510868480590037], [-158.22961341567753, 21.510855108143527], [-158.22957329618887, 21.51078816344101], [-158.22956438074695, 21.51077479099869], [-158.22956438074695, 21.51077039349836], [-158.2295911270727, 21.51061874530272], [-158.2295911270727, 21.510529588137274], [-158.22958666935173, 21.51047603836742], [-158.2295777539098, 21.51044481726569], [-158.2295688384679, 21.510404714942187], [-158.22956438074695, 21.510391346256426], [-158.22955100758412, 21.510355637701426], [-158.22951534581668, 21.51026205319202], [-158.22949305721215, 21.510168393688208], [-158.22949305721215, 21.510163909965534], [-158.22948414177034, 21.510079229125594], [-158.22948414177034, 21.50998998581004], [-158.22948414177034, 21.509985588313448], [-158.22947968404944, 21.509972219643085], [-158.229457395445, 21.509883043919064], [-158.22946631088675, 21.509802775520726], [-158.22947076860765, 21.509802779247195], [-158.22947076860765, 21.50978493058774], [-158.22949751493306, 21.50968234469522], [-158.22948414177034, 21.50964663620747], [-158.22946185316587, 21.50956642797604], [-158.22949751493306, 21.50949057938476], [-158.2295108880958, 21.50946386066258], [-158.22947076860765, 21.5093701864264], [-158.22947522632853, 21.509307762962447], [-158.22947968404944, 21.509231974563196], [-158.22950643037487, 21.509138356063122], [-158.22950643037487, 21.50908481009603], [-158.22950643037487, 21.509044715290827], [-158.22953317670041, 21.5089332481013], [-158.22951980353764, 21.508857444872724], [-158.22951980353764, 21.50883511249864], [-158.22951534581668, 21.50881726014189], [-158.22951534581668, 21.50879941148849], [-158.22951534581668, 21.508790530274545], [-158.2295108880958, 21.508719218187775], [-158.22950197265396, 21.508674632270893], [-158.22949751493306, 21.50864341498906], [-158.22949305721215, 21.50860323027168], [-158.22946631088675, 21.508464988849695], [-158.22945293772412, 21.508389185691513], [-158.22944848000324, 21.5083758170701], [-158.2294083605154, 21.50824653207043], [-158.2294083605154, 21.508228683432442], [-158.22941281823628, 21.5081528950835], [-158.2294083605154, 21.508050283287854], [-158.22941281823628, 21.5080057084991], [-158.22941281823628, 21.50794328138679], [-158.22941281823628, 21.507836275803065], [-158.22941281823628, 21.507747118859186], [-158.22942619139886, 21.507711432636796], [-158.22943510684058, 21.507689107648773], [-158.22943956456146, 21.50767126269392], [-158.22945293772412, 21.507644543891082], [-158.22946631088675, 21.50759549273147], [-158.22946631088675, 21.50758661152583], [-158.22947076860765, 21.507573164056105], [-158.22947522632853, 21.507555319095445], [-158.22947522632853, 21.507510740616148], [-158.22947522632853, 21.50750185941055], [-158.22947968404944, 21.50745280089089], [-158.22947968404944, 21.50741270612852], [-158.22947968404944, 21.507408222413215], [-158.22947968404944, 21.507385890062164], [-158.22947968404947, 21.507372525141776], [-158.22947968404944, 21.507359160221505], [-158.22947968404947, 21.507345795301326], [-158.22948414177034, 21.50732346662162], [-158.22949305721215, 21.50729674412077], [-158.2295108880958, 21.507243212886035], [-158.22951534581668, 21.507225367916423], [-158.22951980353764, 21.50721649037743], [-158.22952426125855, 21.507198645406397], [-158.22952426125855, 21.507189677974896], [-158.22953317670041, 21.507171836668487], [-158.22953763442132, 21.50714511048869], [-158.22954209214228, 21.50712278179861], [-158.2295465498632, 21.507096055616977], [-158.2295465498632, 21.507091571900975], [-158.2295465498632, 21.5070871744103], [-158.22955100758412, 21.507064845718364], [-158.22955546530508, 21.507038119534826], [-158.22955546530508, 21.50698905733487], [-158.22955546530508, 21.506971208696555], [-158.22955546530508, 21.506926630214238], [-158.2295688384679, 21.506859730352648], [-158.2295777539098, 21.506815159182377], [-158.22958221163074, 21.506748251999564], [-158.22958221163074, 21.50674376828366], [-158.22958221163074, 21.50671255472327], [-158.22959558479366, 21.50661892499899], [-158.22961341567753, 21.506502966559413], [-158.22961787339852, 21.506489605284212], [-158.22961787339852, 21.506471756645432], [-158.22961787339852, 21.506462875438768], [-158.22962678884048, 21.506409336814517], [-158.22961787339852, 21.506378115963802], [-158.2296045002356, 21.50631128042458], [-158.22961341567753, 21.5062577418027], [-158.22961787339852, 21.506248864239318], [-158.2296223311195, 21.506222051813506], [-158.22962678884048, 21.506164112054517], [-158.22962678884048, 21.506159628339116], [-158.22962678884048, 21.506141779702915], [-158.22963124656147, 21.506119537215543], [-158.22962678884048, 21.506070471385236], [-158.22962678884048, 21.506039257829922], [-158.22962678884048, 21.50602140919496], [-158.22963570428246, 21.50598132170689], [-158.22963570428246, 21.505976837991756], [-158.22963570428246, 21.505972354276643], [-158.22964461972444, 21.505927783069904], [-158.22964907744543, 21.505914421783107], [-158.22968037246636, 21.50582521641457], [-158.22967582377143, 21.505798470549134], [-158.2296579928874, 21.505727147713582], [-158.2296579928874, 21.505673601810454], [-158.2296579928874, 21.50565575317644], [-158.22966245060843, 21.505651273088777], [-158.22966245060843, 21.505633510679875], [-158.22966245060843, 21.505553234940958], [-158.22966690832942, 21.505539873646857], [-158.22967582377143, 21.505495216197478], [-158.22968037246636, 21.505477383578164], [-158.22968483018738, 21.505446173646877], [-158.2296892879084, 21.505419447429503], [-158.22969374562942, 21.505397118700834], [-158.22969820335044, 21.505343662642577], [-158.22975169600292, 21.505263344072496], [-158.22977398460822, 21.505200935020216], [-158.22979181549255, 21.505160854698524], [-158.22981410409795, 21.505107326827574], [-158.22981856181906, 21.505093965511644], [-158.22982747726124, 21.505067156652512], [-158.22983193498237, 21.50505827905181], [-158.22984085042455, 21.505027072696972], [-158.2298542235879, 21.50497802130065], [-158.22988542763576, 21.50488431958329], [-158.22990325852032, 21.50478620954318], [-158.22991663168378, 21.50474164183408], [-158.22992108940494, 21.50473276422078], [-158.22993000484726, 21.504697074118784], [-158.22993892028956, 21.504661384013726], [-158.22996120889542, 21.504590007387726], [-158.22996120889542, 21.504514215295316], [-158.22996120889542, 21.50449636664604], [-158.22997913075406, 21.504425085024277], [-158.22998804619644, 21.50437154625014], [-158.22999250391763, 21.5043493036933], [-158.22999696163885, 21.504277912678017], [-158.23000587708123, 21.504179795383134], [-158.23002370796607, 21.50407280403167], [-158.23002370796607, 21.50403270923771], [-158.23002370796607, 21.504014860587798], [-158.23002370796607, 21.504010376869005], [-158.23002370796607, 21.503988044500584], [-158.23002370796607, 21.503979163288513], [-158.2300281656873, 21.503961318216135], [-158.2300326234085, 21.50396132179297], [-158.23003708112975, 21.50394796043819], [-158.23004153885097, 21.503930115363787], [-158.23005936973587, 21.50389443236169], [-158.23005491201462, 21.503876580135973], [-158.2300504542934, 21.503849846698472], [-158.2300459965722, 21.503831994474705], [-158.2300459965722, 21.503827510755887], [-158.2300459965722, 21.50381862954364], [-158.23004153885097, 21.50379189610923], [-158.2300504542934, 21.5036982625137], [-158.23005491201462, 21.50368041743463], [-158.2300816583421, 21.50361352796449], [-158.2300994892271, 21.503551115062706], [-158.23010394694836, 21.50354215118917], [-158.2301084046696, 21.503524306101614], [-158.2301084046696, 21.50348421130329], [-158.2301084046696, 21.50343514906746], [-158.23012177783343, 21.503386097516348], [-158.23013515099726, 21.503332562239137], [-158.2301440664398, 21.503247896036576], [-158.2301440664398, 21.503238928597547], [-158.23014852416108, 21.50316762376908], [-158.23014852416108, 21.503145291397534], [-158.23015298188238, 21.50309623271483], [-158.23015298188238, 21.50307398656907], [-158.23015743960366, 21.50305614146982], [-158.23016189732496, 21.502958020549663], [-158.23016189732496, 21.502944655617565], [-158.23015298188238, 21.502882221355403], [-158.23015298188238, 21.502877737636634], [-158.2301440664398, 21.502846516960467], [-158.23015298188238, 21.50281979419511], [-158.23015743960366, 21.502793067880827], [-158.23016189732496, 21.50277073905894], [-158.23016189732496, 21.502757374128283], [-158.2301440664398, 21.50265035428793], [-158.2301440664398, 21.502632505641465], [-158.2301440664398, 21.502628021923545], [-158.2301440664398, 21.502619140713076], [-158.23014852416108, 21.502601295609427], [-158.23015298188238, 21.5025433557195], [-158.23014852416108, 21.50248092503176], [-158.23014852416108, 21.502458592669054], [-158.2301440664398, 21.502440740485262], [-158.23013069327598, 21.502351572879284], [-158.23013069327598, 21.502347089162384], [-158.2301262355547, 21.502324839491823], [-158.2301262355547, 21.502302507133635], [-158.2301262355547, 21.502284658492357], [-158.23012177783343, 21.50224456018387], [-158.23011286239088, 21.502222306982535], [-158.23010394694836, 21.502182118919347], [-158.23009948922711, 21.50217323417853], [-158.2300905737846, 21.502142013551364], [-158.23007720062085, 21.502034997365033], [-158.23007720062085, 21.50202163244574], [-158.23009503150584, 21.50192800590616], [-158.2301084046696, 21.501874470586056], [-158.23011286239088, 21.50186110919305], [-158.23011732011216, 21.501834296653566], [-158.23012177783343, 21.501829902689753], [-158.2301262355547, 21.501803090148552], [-158.2301262355547, 21.501798692658472], [-158.23013515099726, 21.501749637513957], [-158.23013960871853, 21.501722824969956], [-158.23013960871853, 21.501620303094224], [-158.23015743960366, 21.501522192787345], [-158.23015743960366, 21.501513311581963], [-158.23015743960366, 21.50150882786664], [-158.23015743960366, 21.50150434415132], [-158.23016635504626, 21.50146425642298], [-158.23017081276757, 21.501415197745345], [-158.23017081276757, 21.50140623031461], [-158.23017527048887, 21.50137502027217], [-158.23017972821017, 21.501348293944154], [-158.23017972821017, 21.501343810228757], [-158.23017972821017, 21.50132596159258], [-158.23018418593148, 21.501294751548098], [-158.2301931013741, 21.501245696377154], [-158.2301931013741, 21.501232331456183], [-158.23019755909542, 21.501183272772455], [-158.23020201681672, 21.501156546439372], [-158.23020201681672, 21.50113421408777], [-158.23022430542335, 21.501049558377613], [-158.23022430542335, 21.501040590946374], [-158.2302421363087, 21.500951447998933], [-158.2302421363087, 21.50094248056741], [-158.23025996719406, 21.500848853889956], [-158.23029126221752, 21.50076413128474], [-158.23029571993888, 21.500755253573512], [-158.23030017766027, 21.50073292471219], [-158.23030463538163, 21.50068834971799], [-158.23030463538163, 21.500661619869835], [-158.2303180085458, 21.50062144935096], [-158.2303180085458, 21.500612568143055], [-158.23033138170993, 21.50057239761798], [-158.23034475487412, 21.500469886176894], [-158.23034475487412, 21.500456435026443], [-158.23034921259554, 21.50043867609732], [-158.23034921259554, 21.500411860021725], [-158.23035367031693, 21.50038064994105], [-158.23035367031693, 21.500371768732784], [-158.23037595892401, 21.500287026659393], [-158.2303715012026, 21.500206747399517], [-158.2303715012026, 21.50018001754984], [-158.2303715012026, 21.500157685191887], [-158.23037595892401, 21.500135442539204], [-158.23038041664543, 21.500095265018892], [-158.23038487436685, 21.50006405493093], [-158.23038487436685, 21.500041808798297], [-158.23038933208827, 21.500010598709256], [-158.23038933208827, 21.499970417710554], [-158.23038933208827, 21.499952569069794], [-158.2303893320883, 21.49994817157863], [-158.23038933208827, 21.499921355505254], [-158.2303893320883, 21.499916958014165], [-158.2303937898097, 21.49986789928346], [-158.2303937898097, 21.499832202003464], [-158.2303937898097, 21.499818837079985], [-158.2303937898097, 21.499805472156613], [-158.2303937898097, 21.49976529116179], [-158.23037595892401, 21.499676120317773], [-158.23036704348115, 21.49960920255222], [-158.23036258575976, 21.499577985529896], [-158.23035367031693, 21.49955573247159], [-158.23034921259554, 21.49954684780034], [-158.23034029715274, 21.49952899223343], [-158.23032692398857, 21.499493284570097], [-158.23032246626715, 21.49947991618708], [-158.23031355082438, 21.4994576631362], [-158.23030463538163, 21.499435323861753], [-158.23029126221752, 21.49939970243468], [-158.23026897361072, 21.499319409408706], [-158.23026442491545, 21.499301544932266], [-158.23026442491545, 21.499297061220283], [-158.23025550947276, 21.499288173092502], [-158.2302421363087, 21.499261432879685], [-158.23022876314468, 21.499243573866355], [-158.23021984770202, 21.499221320833254], [-158.2302153899807, 21.499216833658103], [-158.23019755909542, 21.49915439275734], [-158.2301931013741, 21.49914990558362], [-158.23018864365278, 21.499118774826464], [-158.2301440664398, 21.499025099656073], [-158.23013069327598, 21.49899387576049], [-158.23013069327598, 21.49898939205232], [-158.23011732011216, 21.498953770677897], [-158.23011286239088, 21.498935918610496], [-158.2301084046696, 21.49893143144129], [-158.23006828517836, 21.49884224350102], [-158.23006382745712, 21.498788780465883], [-158.23005936973587, 21.498757563514065], [-158.23005936973587, 21.498748596102164], [-158.2300504542934, 21.498717461918872], [-158.23003708112975, 21.498650540863117], [-158.2300326234085, 21.498641656220226], [-158.2300281656873, 21.498619320462875], [-158.23001033480244, 21.49857472826301], [-158.23001033480244, 21.49856584707935], [-158.23000587708123, 21.498556876213993], [-158.23000587708123, 21.498552478734855], [-158.23000587708123, 21.498534630143144], [-158.23000587708123, 21.498521265255746], [-158.23000141936004, 21.498494445800784], [-158.23000141936004, 21.498472199731232], [-158.23000141936004, 21.498467716027328], [-158.22999250391763, 21.49843649564176], [-158.22999250391763, 21.49843201193815], [-158.22997913075406, 21.498369574629397], [-158.22997467303287, 21.498351808813897], [-158.22997467303287, 21.49833396022707], [-158.2299656666166, 21.4982759976983], [-158.22995675117426, 21.498253658507593], [-158.2299344625684, 21.498177849443298], [-158.2299344625684, 21.498160000861873], [-158.22993000484726, 21.49813775135428], [-158.22993000484726, 21.49807972191172], [-158.22992554712607, 21.498061956108433], [-158.22992108940494, 21.498017374325283], [-158.22991663168375, 21.498003919775275], [-158.22991663168375, 21.49798615742227], [-158.22991217396262, 21.49795933799662], [-158.22991217396262, 21.49795494052107], [-158.22991217396262, 21.49794148941946], [-158.22990771624146, 21.497896907644666], [-158.22990771624146, 21.497821115866216], [-158.22990771624146, 21.4977943861158], [-158.22990771624146, 21.497758688965888], [-158.22990771624146, 21.49772307804172], [-158.22990771624146, 21.49769177836806], [-158.22991217396262, 21.497642806010823], [-158.22991217396262, 21.49763832231109], [-158.22991663168375, 21.497629358350725], [-158.22991663168375, 21.497602628602095], [-158.22991663168375, 21.497593747427644], [-158.22991663168375, 21.49749113968729], [-158.22992108940494, 21.497477778249532], [-158.22992108940494, 21.497459929676573], [-158.22992108940494, 21.49745104850266], [-158.22992554712607, 21.497437687063872], [-158.22993000484726, 21.497401993351716], [-158.22992554712607, 21.49738862504498], [-158.22990771624146, 21.49732618442592], [-158.22990771624146, 21.49732170072712], [-158.22990325852032, 21.49731281612223], [-158.22990325852032, 21.497299451251223], [-158.22989880079916, 21.497210204975403], [-158.22990771624146, 21.497187965793078], [-158.22991217396262, 21.497165636954776], [-158.22993000484726, 21.497121072355228], [-158.22993892028956, 21.497076500895], [-158.22993892028956, 21.497072017196146], [-158.2299478357319, 21.497027445732396], [-158.2299478357319, 21.49701399463564], [-158.2299478357319, 21.497009597161732], [-158.22994337801074, 21.49697838029629], [-158.22994337801074, 21.496956048027872], [-158.22993892028956, 21.496929314863635], [-158.22994337801074, 21.49685801023522], [-158.22994337801074, 21.496849042838463], [-158.22994337801074, 21.496817829400097], [-158.22994337801074, 21.49680446453025], [-158.22994337801074, 21.49674652135381], [-158.2299522934531, 21.49669746618447], [-158.22995675117426, 21.49666625616365], [-158.22996120889542, 21.496639443615084], [-158.22998804619644, 21.496505741557215], [-158.23000587708123, 21.496487906631362], [-158.23003708112975, 21.496452233354916], [-158.23005491201462, 21.496434398413836], [-158.2300816583421, 21.49642096775559], [-158.23010394694836, 21.496412103609018], [-158.23011732011216, 21.496403146422423], [-158.2301440664398, 21.496389801968434], [-158.2301931013741, 21.496318445056], [-158.23019755909542, 21.496305083573265], [-158.23020647453805, 21.496278274380817], [-158.2302153899807, 21.496247067707923], [-158.23021984770202, 21.496242587402843], [-158.23022876314468, 21.49620689702289], [-158.23021984770202, 21.496198009048545], [-158.23020201681672, 21.49617574939814], [-158.2301931013741, 21.49617125890191], [-158.23018418593148, 21.496157887226545], [-158.23017081276757, 21.4961489958564], [-158.23015743960366, 21.496131137083495], [-158.23015298188238, 21.49609543652681], [-158.23015298188238, 21.496086555349624], [-158.23015298188238, 21.496077587947457], [-158.23014852416108, 21.49604197361876], [-158.2301440664398, 21.4960107567679], [-158.23013515099726, 21.495966171648053], [-158.23013069327598, 21.49593495480192], [-158.23013069327598, 21.495930471101737], [-158.2301262355547, 21.495917102832696], [-158.2301262355547, 21.49588588938265], [-158.23011732011216, 21.495827939400527], [-158.23011732011216, 21.495810090827163], [-158.23011732011216, 21.4957967259535], [-158.23012177783343, 21.49573430245092], [-158.2301262355547, 21.495685243820954], [-158.2301262355547, 21.4956585140745], [-158.23013069327598, 21.495640668889465], [-158.23013515099726, 21.49559600773199], [-158.23013960871853, 21.495547035324133], [-158.23013515099726, 21.495520215968693], [-158.23013069327598, 21.495497966538746], [-158.2301262355547, 21.495484598282758], [-158.23011732011216, 21.495453378073805], [-158.2300994892271, 21.495377572794997], [-158.23009503150584, 21.495373085714544], [-158.23007720062085, 21.49529279675464], [-158.2300727428996, 21.49527942850663], [-158.23006828517836, 21.495270543956213], [-158.23005491201462, 21.495239320385128], [-158.23003708112975, 21.495185847405846], [-158.23003708112975, 21.495167998846362], [-158.23003708112975, 21.495145666591032], [-158.2300326234085, 21.495123417181976], [-158.2300326234085, 21.495114449790275], [-158.2300326234085, 21.49509220376107], [-158.2300326234085, 21.49508323636953], [-158.23002370796607, 21.495060983585187], [-158.23001925024485, 21.495043131650604], [-158.23001925024485, 21.495034164259923], [-158.23001033480244, 21.495003030313793], [-158.23000587708123, 21.494994059546773], [-158.23000587708123, 21.494989575851864], [-158.23000587708123, 21.494985178381864], [-158.22999696163885, 21.494900412555246], [-158.22999250391763, 21.494873679463684], [-158.22998804619644, 21.494851343842836], [-158.22997467303287, 21.494797874293088], [-158.22997467303287, 21.494775542049588], [-158.22997467303287, 21.49476217719358], [-158.22997012433777, 21.494704218318805], [-158.2299701243378, 21.494695337156987], [-158.22995675117426, 21.494641781400713], [-158.2299522934531, 21.494632896869145], [-158.2299478357319, 21.49460616379223], [-158.2299478357319, 21.494601680099642], [-158.2299478357319, 21.494579347861713], [-158.2299478357319, 21.494574950394043], [-158.22995675117426, 21.49450804664294], [-158.22993892028956, 21.494441122689118], [-158.2299344625684, 21.494432238163274], [-158.22992554712607, 21.494409899196032], [-158.22993000484726, 21.49439205402082], [-158.22993892028956, 21.494334117659232], [-158.22994337801074, 21.494320756173213], [-158.22994337801074, 21.49424936200608], [-158.22994337801074, 21.494240480847814], [-158.2299478357319, 21.494218151976806], [-158.2299478357319, 21.494146844037193], [-158.2299478357319, 21.49412899549655], [-158.2299478357319, 21.494115630647396], [-158.2299478357319, 21.494088900949397], [-158.2299522934531, 21.494053207227367], [-158.2299522934531, 21.49404872353612], [-158.2299522934531, 21.494013026456262], [-158.2299522934531, 21.49399526414145], [-158.22994783573188, 21.493972928554886], [-158.2299478357319, 21.493919382938955], [-158.22993892028956, 21.493879281688354], [-158.22993000484726, 21.493821331905842], [-158.2299344625684, 21.49380348672306], [-158.2299344625684, 21.493790121877357], [-158.2299344625684, 21.493749941116047], [-158.22993892028956, 21.49372769846658], [-158.22993892028956, 21.49372321477649], [-158.2299344625684, 21.49371433027044], [-158.2299344625684, 21.493691998045612], [-158.2299344625684, 21.493687514355713], [-158.22992554712607, 21.49363404827883], [-158.22992554712607, 21.4936028349019], [-158.22992554712607, 21.493576105214917], [-158.22992554712607, 21.49354040814974], [-158.22992554712607, 21.49352255961743], [-158.22993000484726, 21.49344228768167], [-158.22992108940494, 21.493370973094006], [-158.22992108940494, 21.493348640875166], [-158.2298898853569, 21.493250579910374], [-158.2298898853569, 21.49324161253492], [-158.22988096991463, 21.493183662813557], [-158.2298765121935, 21.493152446111733], [-158.22988096991463, 21.493121236090694], [-158.22988096991463, 21.49311675240351], [-158.22988542763576, 21.493094509755906], [-158.2298898853569, 21.493076664569955], [-158.22989434307806, 21.49306330307058], [-158.22989880079916, 21.493049855345816], [-158.22990325852032, 21.493032096382446], [-158.22990771624146, 21.493023132343858], [-158.22991663168375, 21.492996409339323], [-158.22992108940494, 21.49296519931001], [-158.22992554712607, 21.492956235268867], [-158.22993000484726, 21.492911660399166], [-158.22993000484726, 21.492875963347085], [-158.22996120889542, 21.492773465413062], [-158.22996120889542, 21.492768981724982], [-158.22996120889542, 21.492760014348864], [-158.2299656666166, 21.492684226104302], [-158.23000141936004, 21.49258614129765], [-158.23000587708123, 21.49255941493905], [-158.23001033480244, 21.492550450884288], [-158.2300281656873, 21.492470188895606], [-158.23001925024485, 21.492376542146467], [-158.23001925024485, 21.4923721446829], [-158.23001479252366, 21.492354292836833], [-158.23001479252366, 21.492331960620806], [-158.23001033480244, 21.4923097113131], [-158.23001033480244, 21.49227401425924], [-158.22999696163885, 21.492198212747216], [-158.22999696163885, 21.49217588053523], [-158.22998804619644, 21.492144746771107], [-158.22998804619644, 21.49213577939706], [-158.22997467303287, 21.49207782642809], [-158.22995675117426, 21.492002009250854], [-158.2299478357319, 21.491979670423184], [-158.22994337801074, 21.491952937447657], [-158.22994337801074, 21.491944056301342], [-158.2299344625684, 21.49188162298506], [-158.22992554712607, 21.49185928416535], [-158.22991217396262, 21.491828060893557], [-158.22989434307806, 21.491783555713415], [-158.22988542763576, 21.491761216901164], [-158.2298765121935, 21.49172111580625], [-158.22986759675126, 21.491689895856812], [-158.22985868130903, 21.491649708544486], [-158.2298497658668, 21.491605123778246], [-158.2298497658668, 21.49160072632041], [-158.22984530814568, 21.49158727196686], [-158.2297962732136, 21.491498165539237], [-158.22976952688717, 21.491435719075163], [-158.22975615372397, 21.491408979528106], [-158.22975615372397, 21.49140001216837], [-158.22974723828187, 21.491373275929522], [-158.22974278056083, 21.491359907810924], [-158.22973386511873, 21.49131980676251], [-158.22972940739768, 21.491310836100396], [-158.22971603423454, 21.491266248075107], [-158.22969820335044, 21.4912261404308], [-158.22969374562942, 21.491208288640333], [-158.22968483018738, 21.49117258506192], [-158.22967582377143, 21.491132471648882], [-158.22964907744543, 21.491034414522105], [-158.22963570428246, 21.49092739996689], [-158.22963570428246, 21.49087385453055], [-158.22963570428246, 21.490856006052145], [-158.22963570428246, 21.490833760122804], [-158.22961787339852, 21.490744504555902], [-158.22961787339852, 21.49074010710541], [-158.22966245060843, 21.49065089765197], [-158.22969820335044, 21.490575144986106], [-158.22970711879248, 21.49054833572814], [-158.22976506916612, 21.490459136023503], [-158.22980518865577, 21.49041010378166], [-158.22983193498234, 21.490378910163102], [-158.22985868130903, 21.490289687374094], [-158.22986313903013, 21.490285293196024], [-158.22988096991463, 21.49023624449829], [-158.22989434307806, 21.490196073652587], [-158.22989880079916, 21.490182712110936], [-158.22990771624146, 21.49015590280109], [-158.22990771624146, 21.490151505345725], [-158.22992554712607, 21.490084608126637], [-158.22992554712607, 21.490075640766253], [-158.22993000484726, 21.489995455140548], [-158.22992108940494, 21.489919570947276], [-158.22991663168375, 21.489897321732414], [-158.22992554712607, 21.489861631276067], [-158.22994783573188, 21.48979025361686], [-158.2299522934531, 21.48977689206393], [-158.22998358847525, 21.489696652151867], [-158.22999250391763, 21.4896565642183], [-158.22999250391763, 21.489652080537738], [-158.23000587708123, 21.489585179997807], [-158.23000587708123, 21.48957629886109], [-158.23001925024485, 21.489482582453345], [-158.23002370796607, 21.489438007572833], [-158.23002370796607, 21.489388945759757], [-158.2300326234085, 21.489339890447603], [-158.2300326234085, 21.48933100931098], [-158.2300326234085, 21.48931764449381], [-158.23003708112975, 21.48929531556422], [-158.23003708112975, 21.489255221112977], [-158.23004153885097, 21.489206162548285], [-158.23004153885097, 21.4891927977315], [-158.23003708112975, 21.489081306052658], [-158.23003708112975, 21.489076822372613], [-158.23003708112975, 21.488996547256807], [-158.23003708112975, 21.488983182441974], [-158.23006382745712, 21.488840500143002], [-158.23006382745712, 21.488827135327615], [-158.23006828517836, 21.488818257429088], [-158.23006828517836, 21.488809290068986], [-158.23007720062085, 21.488711172927054], [-158.23008611606335, 21.48861753946135], [-158.23008611606335, 21.488590809831198], [-158.23007720062085, 21.48851949561878], [-158.23010394694836, 21.488434756198377], [-158.2301084046696, 21.488430275745312], [-158.23011286239088, 21.488376733486167], [-158.23011286239088, 21.488367852351015], [-158.23012177783343, 21.488314313314834], [-158.23012177783343, 21.48830991585952], [-158.2301440664398, 21.488207324676583], [-158.23014852416108, 21.488118171642075], [-158.23015298188238, 21.488100326364613], [-158.23016635504626, 21.488002212399866], [-158.23018418593148, 21.487904101638726], [-158.23021093225938, 21.487805997282173], [-158.23023767858734, 21.48771237658049], [-158.2302421363087, 21.48769453128724], [-158.23025105175137, 21.48764099219878], [-158.23025996719406, 21.487614268968883], [-158.23024659403004, 21.487538467908006], [-158.23024659403004, 21.487516135729354], [-158.23023767858734, 21.48748491601243], [-158.23023767858734, 21.487480518556715], [-158.23022876314468, 21.487453696298285], [-158.23022430542335, 21.4874269634671], [-158.23021984770202, 21.487422476586893], [-158.23021093225938, 21.48739125687829], [-158.23020201681672, 21.487364520851653], [-158.23019755909542, 21.48734666916009], [-158.23018864365278, 21.487328900494685], [-158.23018864365278, 21.487324416815866], [-158.23018864365278, 21.48731993313706], [-158.23018864365278, 21.487311052004067], [-158.23017527048887, 21.48724413212905], [-158.23017527048887, 21.487239648450757], [-158.23018418593148, 21.487208441546116], [-158.23021093225938, 21.487137152984626], [-158.23021093225938, 21.487110337136528], [-158.2302153899807, 21.487039032593074], [-158.23022430542335, 21.48695428020348], [-158.23022430542335, 21.486945399070827], [-158.23022876314468, 21.486940918581617], [-158.23023767858734, 21.486909711657134], [-158.23023767858734, 21.48690083052412], [-158.23024659403004, 21.48687402105091], [-158.23025550947273, 21.48684729779972], [-158.23026442491545, 21.48681609086679], [-158.2302689736107, 21.486802741621677], [-158.23026897361072, 21.48679377426323], [-158.23027343133205, 21.48678489631383], [-158.23028234677477, 21.486758086830047], [-158.23028680449613, 21.486700147079056], [-158.23028680449613, 21.48668678226562], [-158.23028680449613, 21.486660052639046], [-158.23029126221752, 21.486619875155498], [-158.23029571993888, 21.486584181350214], [-158.23030017766027, 21.486561938581772], [-158.23030017766027, 21.486539606410027], [-158.23030463538163, 21.48652176109522], [-158.23030463538163, 21.486499515148097], [-158.23030463538163, 21.486463818163806], [-158.23030909310302, 21.48645045652675], [-158.23032692398857, 21.48637459157494], [-158.23033138170993, 21.486361229934353], [-158.23033583943135, 21.48635683565221], [-158.23034029715274, 21.48634338778585], [-158.23034475487412, 21.486316661329067], [-158.23034921259554, 21.486307783365564], [-158.23035812803838, 21.486280973852704], [-158.23035367031693, 21.486205179251314], [-158.23035367031693, 21.48619629811683], [-158.23035367031693, 21.48618284707829], [-158.23035367031693, 21.48616508480961], [-158.23035812803838, 21.486133874669935], [-158.23035812803838, 21.486124907311016], [-158.23036258575976, 21.486080332356625], [-158.2303715012026, 21.486066973873214], [-158.2303715012026, 21.486062490193632], [-158.23037595892401, 21.486049128544035], [-158.23040270525257, 21.485995602039534], [-158.23041162069546, 21.485973276187096], [-158.23042053613833, 21.485955434012745], [-158.23043836702414, 21.48591983588265], [-158.23044728246703, 21.485901993702278], [-158.2304784865173, 21.485817256985285], [-158.23050523284624, 21.48577709522951], [-158.23050969056774, 21.485772614701478], [-158.23053643689678, 21.48573253915283], [-158.23054535233982, 21.485714696950662], [-158.23054535233982, 21.4857102132681], [-158.23055426778285, 21.485696854746482], [-158.230590020529, 21.485634379433744], [-158.23059447825057, 21.485621017755943], [-158.23061230913677, 21.485589817007483], [-158.23062122457986, 21.485567491104646], [-158.23062122457986, 21.48556309364546], [-158.230630140023, 21.485549735108222], [-158.23065242863086, 21.485509570118715], [-158.23065242863086, 21.485505086434294], [-158.23067471723883, 21.485465007657318], [-158.230683632682, 21.485420349539424], [-158.2306880904036, 21.485398106703904], [-158.2306925481252, 21.485371293957854], [-158.2306791749604, 21.485331190054087], [-158.23066580179562, 21.485304450983108], [-158.23065242863086, 21.485277711914787], [-158.23064351318772, 21.485197430459134], [-158.23063905546616, 21.485179578814307], [-158.23063905546616, 21.485175095131062], [-158.230630140023, 21.485077051407504], [-158.230630140023, 21.48505920290116], [-158.23062568230145, 21.48500125679286], [-158.23062568230145, 21.484987891970146], [-158.230630140023, 21.4849253822219], [-158.230630140023, 21.484907619941815], [-158.2306345977446, 21.48488529088471], [-158.230630140023, 21.48486743925067], [-158.230630140023, 21.484858558110908], [-158.23062568230145, 21.484791644650148], [-158.230630140023, 21.484773799274603], [-158.2306345977446, 21.48474258907693], [-158.23063905546616, 21.48472026001767], [-158.23064351318772, 21.484702500864287], [-158.2306479709093, 21.484662323299624], [-158.2306479709093, 21.484653442160152], [-158.2306479709093, 21.48464447479607], [-158.23065242863086, 21.484599899773084], [-158.23065242863086, 21.484582051269793], [-158.2306479709093, 21.48455531850581], [-158.23064351318772, 21.484506253559985], [-158.23063905546616, 21.484479520799795], [-158.2306345977446, 21.484403726222318], [-158.23064351318772, 21.48438140027812], [-158.23064351318772, 21.484376916596904], [-158.2306925481252, 21.484247613900518], [-158.23071929445487, 21.484194087062313], [-158.2307237521765, 21.484189692715706], [-158.23073712534136, 21.484162886176215], [-158.23080844888773, 21.48403359887368], [-158.23082627977445, 21.483922122757672], [-158.23086649024356, 21.483685821128606], [-158.23096010239993, 21.483217599590866], [-158.2309734755652, 21.483128366249282], [-158.2309734755652, 21.483101636587065], [-158.2309645601217, 21.48294556370815], [-158.23094672923466, 21.482851911388597], [-158.23091106746077, 21.48278954635493], [-158.23089323657385, 21.4827583207314], [-158.23084856838287, 21.482664637648675], [-158.23084411066117, 21.4826601508947], [-158.23084411066117, 21.482655753438188], [-158.2308396529395, 21.482651266684385], [-158.23078170255778, 21.48248627905511], [-158.23074158306298, 21.482401578870416], [-158.23073712534136, 21.48240157579987], [-158.23073266761972, 21.482397089051236], [-158.230630140023, 21.482254403017407], [-158.23062568230145, 21.48225000249578], [-158.23060339369366, 21.482218773865867], [-158.23055426778285, 21.4821607848391], [-158.23054535233982, 21.482151811349866], [-158.23053197917525, 21.48212955621999], [-158.23053197917525, 21.48212507254729], [-158.2304963174033, 21.482058224017006], [-158.23047402879584, 21.482004663279557], [-158.23046957107437, 21.48200474643332], [-158.23044728246703, 21.48194230459004], [-158.23044282474558, 21.48193781784967], [-158.23042053613833, 21.48189770814358], [-158.23041607841688, 21.48189322140403], [-158.23038487436685, 21.48183525711461], [-158.23033583943135, 21.48179961267106], [-158.23026897361072, 21.481750504942973], [-158.23026897361072, 21.481746107501543], [-158.23019755909542, 21.481692586882524], [-158.2301931013741, 21.481688100145615], [-158.23015743960366, 21.481625649171946], [-158.2301440664398, 21.481607877751053], [-158.23011286239088, 21.48155431096863], [-158.23009503150584, 21.481527569157393], [-158.23008611606335, 21.481509714591805], [-158.2300816583421, 21.481509711519134], [-158.22995675117426, 21.481371481889415], [-158.2299522934531, 21.481367081382043], [-158.22993892028956, 21.48135810484502], [-158.22993000484726, 21.48135370126349], [-158.22982301954016, 21.481286803737444], [-158.22971603423454, 21.481233270931074], [-158.22963570428246, 21.481184227851774], [-158.22954209214228, 21.481135187898335], [-158.22946631088675, 21.481063828257803], [-158.2294083605154, 21.481001448256556], [-158.2293994450737, 21.480992474799784], [-158.22935031917063, 21.48096130165486], [-158.22933694600817, 21.480952325113513], [-158.22922550298864, 21.480867662338802], [-158.2292210452679, 21.480867659251505], [-158.2292032143849, 21.480849798567064], [-158.2290649340695, 21.480742772922735], [-158.22899361053933, 21.480675900070626], [-158.22898469509812, 21.48067141025486], [-158.22895794877454, 21.480644662353892], [-158.22886433664266, 21.48057777405642], [-158.22885987892212, 21.480573373556204], [-158.2287929221405, 21.480528737141725], [-158.2287929221405, 21.48052425351245], [-158.22878846442, 21.48051985301274], [-158.22876617581758, 21.480497505620562], [-158.2287215986129, 21.480448499660582], [-158.2287215986129, 21.480439532405686], [-158.22866364824725, 21.48038163614218], [-158.2286458173656, 21.48036377548126], [-158.2285611206783, 21.48027007788793], [-158.22855666295794, 21.480265677391888], [-158.22855220523758, 21.480261190672376], [-158.22852991663584, 21.48023444590022], [-158.22851654347483, 21.480221071966838], [-158.2285120857545, 21.480216585248], [-158.22839163633267, 21.48014078501431], [-158.2283782631719, 21.480131894702147], [-158.22836489001116, 21.480118520771317], [-158.22829356648757, 21.480033799781594], [-158.2282712778866, 21.479949026690985], [-158.22826682016643, 21.47993565896787], [-158.22826682016643, 21.479931261575413], [-158.228231158405, 21.479833114594424], [-158.22820432111018, 21.479712715834065], [-158.2281954056699, 21.47967701318012], [-158.22816865934908, 21.479569991461755], [-158.22814637074848, 21.47945409186538], [-158.22809287810728, 21.47938723170941], [-158.22807504722695, 21.47936488751233], [-158.22802601230632, 21.47930691146577], [-158.22795914650598, 21.479222193862324], [-158.22793240018598, 21.479195446109443], [-158.22786098569262, 21.47911071306702], [-158.2277941198937, 21.479034962731703], [-158.2277941198937, 21.479030479128916], [-158.2277896621738, 21.479030476034517], [-158.22767376145717, 21.47894581068974], [-158.22762918425894, 21.47892793154517], [-158.22758005836732, 21.47890563953959], [-158.22754885432892, 21.478892253277], [-158.22747753081305, 21.478856593572946], [-158.22732587737025, 21.47877189098674], [-158.22732587737025, 21.478767407395193], [-158.22731250421137, 21.47876291449066], [-158.22722780753904, 21.478700516342005], [-158.22718768806297, 21.47868264025173], [-158.22715202630667, 21.478669337074702], [-158.22710744911154, 21.478655941452264], [-158.22709853367255, 21.4786469680616], [-158.22703612559985, 21.478611314509664], [-158.22702711918708, 21.47860241496139], [-158.22702266146763, 21.478602411850733], [-158.22699145743155, 21.478544448377658], [-158.22697362655384, 21.478513223299263], [-158.2269156762016, 21.478441876660785], [-158.2269112184822, 21.478432992610053], [-158.2268398949724, 21.478352669500556], [-158.22677302918257, 21.47830364834776], [-158.22676857146325, 21.47829916165749], [-158.22676411374397, 21.478294761189936], [-158.226661495227, 21.478241219167852], [-158.226576798562, 21.478205550041253], [-158.2265678831236, 21.478201060234245], [-158.22655896768526, 21.478196656649615], [-158.22654559452775, 21.478192163724692], [-158.22652776365112, 21.478183270331517], [-158.22650993277452, 21.47817877428663], [-158.2264608978641, 21.478156494566537], [-158.2263761102275, 21.4781119320897], [-158.2263627370703, 21.47810743915632], [-158.22634936391313, 21.478094065309165], [-158.22629141356572, 21.478045050369623], [-158.2262111746239, 21.477978171779057], [-158.2261397601469, 21.477929048870937], [-158.22613530242796, 21.47792464840534], [-158.2261130138334, 21.477906784750754], [-158.22609518295778, 21.47789340778417], [-158.2260283171746, 21.477831022148692], [-158.2259213319228, 21.477871126630838], [-158.22590795876644, 21.47788008435019], [-158.22586783929745, 21.47791575216156], [-158.22584100201107, 21.47794693341837], [-158.2257518476367, 21.478036110640282], [-158.2255913697655, 21.478129720924677], [-158.22548875126466, 21.47816093470814], [-158.22539068145755, 21.478183283048082], [-158.22533718883602, 21.478192212251724], [-158.2253327311176, 21.478192209093315], [-158.22527478077808, 21.47820553242986], [-158.225261316649, 21.47820551056504], [-158.22525685893063, 21.478209990947235], [-158.22518553543662, 21.478218907428772], [-158.22517661999993, 21.4782189011004], [-158.2251320428166, 21.478232320071577], [-158.22512758509828, 21.478232316905363], [-158.225047346169, 21.478254591360074], [-158.22504288845073, 21.478254588190502], [-158.22502059985942, 21.478259055878684], [-158.22501614214116, 21.47825905270811], [-158.22488677733918, 21.478299213910127], [-158.22487786190285, 21.47829920755802], [-158.22487786190285, 21.478303691093203], [-158.2248065384125, 21.478321488165758], [-158.22478424982194, 21.478325955801505], [-158.22466380046006, 21.478357155997184], [-158.22465934274203, 21.478357152812393], [-158.22465042730596, 21.478357146442377], [-158.22454789979196, 21.478366040199823], [-158.22453452663808, 21.478366116854403], [-158.22450778033036, 21.47836609771611], [-158.22448103402274, 21.478366078572414], [-158.22447657630482, 21.47836607538127], [-158.22436058466585, 21.478370549721667], [-158.22416890280056, 21.47835273677536], [-158.2241644450828, 21.478352733574], [-158.22404845344875, 21.478339359796337], [-158.2240038762722, 21.47832596341313], [-158.22399496083693, 21.47832147348499], [-158.22398158768402, 21.478317066571385], [-158.2239771299664, 21.47831706336451], [-158.22395929909595, 21.478312567021007], [-158.22394592594313, 21.478308073883788], [-158.2237586108323, 21.478259039138617], [-158.223669456483, 21.47822784895768], [-158.22366054104816, 21.478223359019193], [-158.22365162561331, 21.47822335258787], [-158.22356247126532, 21.478214493673452], [-158.22355801354794, 21.478214490454764], [-158.2235535558306, 21.478214487235917], [-158.22350442996589, 21.478218922939735], [-158.22347322594462, 21.478218900391354], [-158.22345985279267, 21.47821889072552], [-158.22345539507535, 21.478223371006205], [-158.22338407159882, 21.47822788915076], [-158.22327262866807, 21.47821892770417], [-158.2232547977993, 21.478214517511763], [-158.22317001019948, 21.478201079482428], [-158.22316555248236, 21.478201076250816], [-158.2230630249891, 21.478183240348287], [-158.223058567272, 21.478183237113466], [-158.22296495521425, 21.478174374606066], [-158.22295158206322, 21.47816988140039], [-158.22294266662922, 21.478169874923694], [-158.22288462533476, 21.478156456178308], [-158.22288016761777, 21.47815653915904], [-158.22284450588222, 21.478152029742798], [-158.2227731824116, 21.47813869984081], [-158.2227464361103, 21.478134196890313], [-158.22266173949018, 21.47809404252091], [-158.22264836633974, 21.478089635517886], [-158.2226126136315, 21.478076232926686], [-158.22257695189722, 21.478067326197035], [-158.22255020559666, 21.478058425959752], [-158.22242984724528, 21.478022729003392], [-158.22233614422177, 21.477982555652364], [-158.2222915670557, 21.47796476163462], [-158.22224698988984, 21.477942484135014], [-158.2222425321733, 21.47793799740322], [-158.22218012414163, 21.47790234266664], [-158.22216675099205, 21.477897849418316], [-158.22214446240952, 21.477884468926735], [-158.22212217382702, 21.477871088434505], [-158.22212217382702, 21.47786669118315], [-158.22209096981163, 21.477848820699663], [-158.22206422351283, 21.47782655622522], [-158.22203738624032, 21.477808676617194], [-158.2220329285239, 21.477804189886413], [-158.22198835135967, 21.4777730316498], [-158.22197052049404, 21.477759654417248], [-158.22190365474836, 21.47769278457198], [-158.2218813661666, 21.477666039900782], [-158.2218367890033, 21.47761246434588], [-158.22180558498914, 21.47758131591191], [-158.22176546554257, 21.477541194026518], [-158.2217475437037, 21.47752332095508], [-158.22172971283865, 21.477492096102466], [-158.22170742425746, 21.477460867989453], [-158.22164501623038, 21.47737167039757], [-158.22162272764942, 21.477340528519676], [-158.22157815048772, 21.477291436488706], [-158.2215380310424, 21.477220102886406], [-158.22152911561014, 21.477206732206763], [-158.221524657894, 21.47720224548541], [-158.22145770117865, 21.477126482700445], [-158.22145324346255, 21.477121995980312], [-158.22137746228958, 21.477064000440542], [-158.22137300457356, 21.477063997173996], [-158.2213016811174, 21.476997124221405], [-158.22129722340142, 21.47699263750277], [-158.22121698451411, 21.476939208373146], [-158.22115448551747, 21.47688569371672], [-158.22112773922217, 21.476863343079728], [-158.22109207749523, 21.47684107212187], [-158.22104304262095, 21.476809824456957], [-158.22094943058917, 21.476751902057], [-158.22093605744186, 21.476743011570193], [-158.22086910073196, 21.476693890869857], [-158.22086464301623, 21.476689490374003], [-158.22082006585921, 21.476662729416276], [-158.2208156081435, 21.476658242700637], [-158.22076657327113, 21.47663147846319], [-158.22074428469284, 21.476618097981675], [-158.22073982697722, 21.476613611266316], [-158.2206729612429, 21.476577953253972], [-158.22059718007813, 21.476528924588465], [-158.22058380693147, 21.476520034097934], [-158.22050793479386, 21.476457542747426], [-158.22050347707835, 21.47645314225329], [-158.22041432276905, 21.476399620302296], [-158.22032071074543, 21.476314883503616], [-158.22022255003392, 21.476234614476663], [-158.22015122658917, 21.476167741620536], [-158.22007098771465, 21.476065167270516], [-158.22002195284733, 21.475984946855046], [-158.2199996642714, 21.475949235500092], [-158.21999511558244, 21.47594033920972], [-158.2199594538611, 21.475891253962565], [-158.21995053843077, 21.475864519319213], [-158.21991487670965, 21.475793189442427], [-158.21982572240765, 21.47564154977016], [-158.21981234926244, 21.475619295278182], [-158.2197945184022, 21.475588070674426], [-158.21979006068716, 21.475583583974302], [-158.21976777211194, 21.475543475482212], [-158.21969189998293, 21.47540519744376], [-158.21966961140802, 21.47536508897918], [-158.21958045710903, 21.47520905237102], [-158.2195626262494, 21.47517334440976], [-158.2195626262494, 21.475168947222063], [-158.21955371081958, 21.4751332458357], [-158.21951359138555, 21.474972675858023], [-158.21950913367067, 21.474954911393002], [-158.21942443708852, 21.474682827149607], [-158.21941997937373, 21.474669459882342], [-158.21938868439625, 21.474584757226946], [-158.21937976896666, 21.474553539300054], [-158.2193708535371, 21.474455415239486], [-158.2193663958223, 21.474419803416218], [-158.21933073410412, 21.474232509060805], [-158.21934856496318, 21.474013956426663], [-158.21935302267795, 21.473987231736498], [-158.2193753112519, 21.473835588455714], [-158.21935748039274, 21.4737821194998], [-158.21929507238607, 21.473603772579395], [-158.21917471408904, 21.473394172087023], [-158.21914351008644, 21.473340693437354], [-158.21912567922786, 21.47330946909535], [-158.21912567922786, 21.473304985703177], [-158.21914351008644, 21.473095400145226], [-158.21914351008644, 21.473091002972314], [-158.21912567922786, 21.47300175322606], [-158.21911667282484, 21.472979489822226], [-158.2191301369425, 21.47293045331108], [-158.2191479678011, 21.472850196355864], [-158.21922374895053, 21.472792226084348], [-158.21924603752407, 21.472778792118902], [-158.21928169924186, 21.472747606731385], [-158.21938422668148, 21.47260938568954], [-158.2195002182409, 21.472453339127558], [-158.21951804910046, 21.472426537859498], [-158.21941552165887, 21.472083225199057], [-158.21922374895053, 21.47186916470188], [-158.21921483352116, 21.471860277694695], [-158.21913459465716, 21.471797797098937], [-158.21901860310365, 21.471704153275013], [-158.21896065281447, 21.471632808275928], [-158.2189249910983, 21.471588207287216], [-158.21885366766645, 21.47146788032144], [-158.21875104926073, 21.47129837372028], [-158.21873321840314, 21.471267149608472], [-158.21866635268762, 21.471169070461446], [-158.2186440641159, 21.47113784313976], [-158.2186440641159, 21.471133445983092], [-158.2186306909729, 21.471012988712513], [-158.21862623325856, 21.47094168258908], [-158.21862623325856, 21.470923835309918], [-158.21856382525831, 21.470776701075184], [-158.2185504521155, 21.470745480244396], [-158.21851024171335, 21.470544808017795], [-158.2184968685706, 21.470464528792046], [-158.21847457999945, 21.470357515370683], [-158.21847457999945, 21.47034863485036], [-158.2183854257154, 21.47018363435948], [-158.21829627143254, 21.47000527009778], [-158.21823377246145, 21.46982242947457], [-158.21822931474736, 21.469817942901777], [-158.2181891953208, 21.46963073366732], [-158.21807775247044, 21.469465717578647], [-158.21802871761685, 21.469269535429273], [-158.21795739419406, 21.46912239561344], [-158.21794393007858, 21.469095645930796], [-158.21781019866302, 21.468850344953275], [-158.21745794830704, 21.468640741495104], [-158.21745794830704, 21.468636344371305], [-158.21745349059344, 21.468618494012446], [-158.2174133711713, 21.468524832273943], [-158.21739999803063, 21.468493611701323], [-158.21740891345775, 21.468480254314997], [-158.21743120202555, 21.46842233179478], [-158.21743565973915, 21.468413368318984], [-158.2174401174527, 21.468400007719907], [-158.21748469458862, 21.468377709272207], [-158.21749361001582, 21.468377715678074], [-158.21750698315668, 21.468368758601173], [-158.21754264486572, 21.468355420402386], [-158.217551560293, 21.46835094346011], [-158.21756493343398, 21.4683464697166], [-158.21760059514332, 21.4683331314945], [-158.21760951057064, 21.468328654546085], [-158.21762288371173, 21.468333061265366], [-158.2176942981049, 21.46835985242936], [-158.21771212895987, 21.468364348557543], [-158.21772550210113, 21.468373238618437], [-158.21780128323542, 21.46840002056686], [-158.21780574094922, 21.4684000237597], [-158.21781911409064, 21.46839994711908], [-158.21789043751204, 21.468382150991395], [-158.21795739419406, 21.468368761141942], [-158.21797522504968, 21.468355410048503], [-158.21800197133322, 21.468333098613734], [-158.21803763304476, 21.468306310180036], [-158.21805992161455, 21.468279598402052], [-158.2180911256124, 21.468248409619694], [-158.21811341418237, 21.468226094957142], [-158.21811341418237, 21.468212731108938], [-158.21811341418237, 21.46820824775343], [-158.2181223296104, 21.468163679208125], [-158.2181312450384, 21.46813247450809], [-158.21812678732437, 21.468038838177712], [-158.2181223296104, 21.468012021090946], [-158.21809558332637, 21.46792285226909], [-158.21806437932852, 21.467851527494577], [-158.21805992161455, 21.46784264383445], [-158.2180510061866, 21.467824790296742], [-158.21801088676108, 21.46773561201548], [-158.21800642904714, 21.467726642140853], [-158.21799751361928, 21.4677088748291], [-158.2178770643705, 21.467436844453776], [-158.21786369122893, 21.46740562394911], [-158.21768984039116, 21.46716486542448], [-158.21752481401117, 21.46700876721415], [-158.21739554031709, 21.4668303763736], [-158.21721268309022, 21.46671892651591], [-158.2172082253768, 21.466718923340736], [-158.21709232482857, 21.46651821179884], [-158.21703428358143, 21.46637107054201], [-158.21700307958827, 21.46629526288301], [-158.21681585563215, 21.466165975370757], [-158.2166642024119, 21.466036700896428], [-158.21650818245564, 21.46594304350868], [-158.2164948093167, 21.465934153555562], [-158.21639219094524, 21.465871646479236], [-158.21616921432943, 21.46570222995543], [-158.21616475661668, 21.465697743463153], [-158.21600873667157, 21.46557735863566], [-158.21580359091814, 21.4655015868374], [-158.21568323268068, 21.46539459121055], [-158.21548254464912, 21.465211740816542], [-158.21546917151215, 21.465207247929328], [-158.21521499094064, 21.46514040719628], [-158.215125836698, 21.46513146268332], [-158.21496526809042, 21.465109176920297], [-158.21480924817217, 21.465077940055608], [-158.2147155452492, 21.46501104206442], [-158.21468879897822, 21.464988778821684], [-158.2146843412664, 21.46498877560027], [-158.21451494821932, 21.46487726117171], [-158.2144078721654, 21.464685511875146], [-158.2141939020099, 21.46461871160349], [-158.2140957413838, 21.464591901033003], [-158.21408682596092, 21.464587497529422], [-158.21399321402143, 21.464560702527724], [-158.2138683981041, 21.464422493306866], [-158.21385047628522, 21.46439574091612], [-158.21375686434894, 21.464266434712044], [-158.21375240663772, 21.464257464982516], [-158.21374794892648, 21.464253064715894], [-158.21369445639212, 21.46415939501919], [-158.21364096385815, 21.46406572535661], [-158.2136231330136, 21.46399441160618], [-158.21360084445797, 21.463878434647132], [-158.21359192903572, 21.463842820895298], [-158.21351159926243, 21.463758086042958], [-158.21342690275276, 21.463673360362957], [-158.213355579377, 21.463450353839388], [-158.21331545997847, 21.4633611773585], [-158.21330654455662, 21.46334341039239], [-158.213284256002, 21.463298820550257], [-158.2132351302084, 21.463004431212667], [-158.21316380683464, 21.462857295165023], [-158.21307465261847, 21.462678936144012], [-158.21303007551083, 21.462531819610234], [-158.21298094971905, 21.462393567769944], [-158.2129096263479, 21.462175045361477], [-158.21291854176928, 21.461934251068655], [-158.21289625321592, 21.461813877774443], [-158.21288288008395, 21.46172472103663], [-158.2128784223733, 21.46170687116428], [-158.21286059153073, 21.461635557899083], [-158.21285613382005, 21.461613224811977], [-158.2128516761094, 21.461595374944846], [-158.21284276068818, 21.461582005090133], [-158.21281601442445, 21.46151516865469], [-158.21281155671383, 21.46150180201072], [-158.21281155671383, 21.46148835235781], [-158.21282047213506, 21.46140809192966], [-158.21282047213506, 21.461399211710216], [-158.2128249298457, 21.46139024847865], [-158.21285613382005, 21.46133673092728], [-158.212869506952, 21.46131449686943], [-158.2128784223733, 21.46128769017381], [-158.2129140840586, 21.461216415334516], [-158.21292299947996, 21.461194091846423], [-158.2129586611655, 21.46111385052666], [-158.2129944138249, 21.46103801855885], [-158.21300332924636, 21.461020178271436], [-158.21301224466785, 21.461011304423636], [-158.2130434486431, 21.46098003040626], [-158.21304790635386, 21.46097555037159], [-158.21305682177538, 21.460966676517046], [-158.21308356804002, 21.460944365735955], [-158.2130969411724, 21.460935495060415], [-158.2131727222563, 21.4608952863675], [-158.21327534058017, 21.4608685587227], [-158.21337341022087, 21.46086414534389], [-158.21339569877577, 21.46086407499227], [-158.21345364901887, 21.46087747969707], [-158.213475937574, 21.46088197878028], [-158.2134937684182, 21.460886388475156], [-158.2135160569735, 21.46088192108988], [-158.2136053021691, 21.460877513583917], [-158.2137078295257, 21.460877500139958], [-158.2137434912153, 21.46087752543339], [-158.21377469519385, 21.460881944578787], [-158.21381927230632, 21.460881976172544], [-158.2138371031514, 21.46087750556681], [-158.21385047628522, 21.460877515039915], [-158.2138594826815, 21.460873050496062], [-158.21392189063982, 21.460864128198544], [-158.21396201004188, 21.46086407036922], [-158.21399321402143, 21.46085960919698], [-158.21402441800115, 21.46085963125919], [-158.21403779113533, 21.46085964071217], [-158.21407345282665, 21.46085069942493], [-158.21407791053807, 21.460850702574223], [-158.2140823682495, 21.460846308695128], [-158.21413586078688, 21.46083737998064], [-158.21424293683663, 21.46080617132561], [-158.21425630997123, 21.460801697504657], [-158.2142696831059, 21.460788343400996], [-158.2143365487795, 21.460734763937733], [-158.2143632950491, 21.46069908919169], [-158.21439004131886, 21.46065901739691], [-158.21439004131886, 21.460654534146038], [-158.21439449903048, 21.46065005402931], [-158.2144346184353, 21.460569814780172], [-158.21443907614696, 21.460556454372227], [-158.21446591339068, 21.460471734823116], [-158.2145015750842, 21.460378042613918], [-158.2145060327959, 21.460373648701903], [-158.2144971173725, 21.460275528199553], [-158.2144971173725, 21.46026216465929], [-158.2145060327959, 21.460244324109734], [-158.2145327790662, 21.460199682738256], [-158.21453723677791, 21.46019080556807], [-158.21454169448964, 21.460181842180983], [-158.21454615220136, 21.46016848175675], [-158.2146041024541, 21.460088254786175], [-158.2146041024541, 21.460083771532048], [-158.21465759499551, 21.459999058126524], [-158.21466651041914, 21.459985700798125], [-158.21470662982554, 21.45992322184674], [-158.2147155452492, 21.45990089799671], [-158.21475129791773, 21.45982963419691], [-158.2147021721137, 21.4597448368951], [-158.2145728984718, 21.459695862138034], [-158.2144971173725, 21.459704775803992], [-158.2144882019491, 21.459704769584814], [-158.21447482881405, 21.459704760254933], [-158.21447037110235, 21.459704757144664], [-158.21437221047233, 21.459700279269263], [-158.21428305624056, 21.459718149951826], [-158.214278598529, 21.45971814683481], [-158.21426522539434, 21.45971813748285], [-158.21424293683663, 21.45972260513823], [-158.21423847912507, 21.45972260201977], [-158.2141849865869, 21.459727047830118], [-158.2141760711639, 21.459727041588938], [-158.2141671557409, 21.45973151859044], [-158.2141492339213, 21.45973597696725], [-158.2141224876525, 21.459740441475773], [-158.21408682596092, 21.45974929675506], [-158.2140645374038, 21.459753764372984], [-158.21405562198098, 21.459753758122492], [-158.2139976717328, 21.459771650437908], [-158.2139441791965, 21.459789459631637], [-158.21390851750584, 21.459793917824882], [-158.21389960208322, 21.45979391156208], [-158.213881771238, 21.459793899034675], [-158.21384156086268, 21.459798341694867], [-158.2137434912153, 21.459807325403233], [-158.2136231330136, 21.459816207109228], [-158.21350268384032, 21.459807315831927], [-158.213475937574, 21.459802813730025], [-158.21342244504177, 21.459793895729558], [-158.21340015648676, 21.459789482979318], [-158.2132887137129, 21.459789490441654], [-158.21325296105198, 21.45978945283981], [-158.2131905530997, 21.45978501167438], [-158.21315043370214, 21.45978498327131], [-158.21307911032926, 21.459789502181657], [-158.21298094971905, 21.459793903481394], [-158.21288288008395, 21.459793920086252], [-158.21286059153073, 21.459793904255484], [-158.21277589502907, 21.459789447067845], [-158.2126777344232, 21.459802814555864], [-158.21265544587067, 21.459807281899018], [-158.21257074937154, 21.459829637608838], [-158.21253954539847, 21.459838495563858], [-158.2125083414255, 21.459842956518063], [-158.2124503911904, 21.459856364786905], [-158.21233885745832, 21.459896449206802], [-158.2122407878324, 21.459927675257305], [-158.21212934507741, 21.459945528242443], [-158.21207576158199, 21.459954443908984], [-158.21203564219095, 21.459963381525785], [-158.21194203027943, 21.459958917354083], [-158.2119241994393, 21.459958904548277], [-158.21184841836921, 21.45995893631206], [-158.2118216721094, 21.45995891708354], [-158.21171905380737, 21.459958917157426], [-158.21163435731987, 21.460012395763773], [-158.21162098419035, 21.4600168693117], [-158.21159869564124, 21.460025819616018], [-158.2115853225118, 21.460030293158674], [-158.211558576253, 21.46004363720845], [-158.21154074541386, 21.46005259071343], [-158.21151836589135, 21.460079288922802], [-158.21151836589135, 21.460083772107396], [-158.2115139081816, 21.46008825207362], [-158.2114782465036, 21.460137282697477], [-158.21146933108412, 21.460146156407905], [-158.2114425848258, 21.460168466778075], [-158.21141583856758, 21.460186293954575], [-158.21141138085787, 21.460190773913023], [-158.2114069231482, 21.46019525387113], [-158.2113980077288, 21.460199730604117], [-158.21138909230945, 21.460208604303105], [-158.2113801768901, 21.460213081033928], [-158.21131776895496, 21.460253212053026], [-158.21130885353568, 21.460257688775563], [-158.21130439582606, 21.460257685546324], [-158.2112062352414, 21.460271051616992], [-158.21119731982228, 21.460275528328754], [-158.2111037079223, 21.46029779006023], [-158.2110279268614, 21.460364723979037], [-158.21092530857135, 21.460413693261764], [-158.21093422399008, 21.460480602479908], [-158.21093422399008, 21.46050293212791], [-158.21093422399008, 21.46050741530052], [-158.2107648310358, 21.46062782006554], [-158.21056860085716, 21.460725862836597], [-158.2104348695843, 21.4608284464872], [-158.21043041187525, 21.460828443215746], [-158.2101896046173, 21.460864119205713], [-158.2100424092519, 21.46089529434683], [-158.21003795154314, 21.460895291060666], [-158.20989084715472, 21.4608730254258], [-158.20974810950446, 21.46085075057212], [-158.20949847782768, 21.46080168233584], [-158.20944043664466, 21.460788263804474], [-158.20923538206173, 21.460739228249057], [-158.20894554005773, 21.460676840114793], [-158.20861557869554, 21.460609938464824], [-158.20861112098768, 21.46060545201646], [-158.2085085027345, 21.46057872298589], [-158.20841489087195, 21.46054304672278], [-158.20831673032944, 21.460520717835344], [-158.20830781491418, 21.460516314263703], [-158.20827661096078, 21.460511807795317], [-158.20824094929992, 21.460507384196735], [-158.20818745680901, 21.460498464121642], [-158.20810276036596, 21.460476157524738], [-158.20808492953597, 21.460471747260844], [-158.20806264099858, 21.46046276433087], [-158.20800014212062, 21.460436065131663], [-158.20799568441316, 21.460436061787043], [-158.20794664963165, 21.460413695674408], [-158.20787978402103, 21.460387005489316], [-158.207853037777, 21.460369139203745], [-158.2077638836309, 21.460324586060107], [-158.20772367329195, 21.460311180433536], [-158.20767463851243, 21.460297780480353], [-158.20757656895444, 21.460257703677552], [-158.207563195833, 21.46025321051646], [-158.20750524564045, 21.4602220438644], [-158.20748741481208, 21.46021754734336], [-158.20747404169083, 21.46020865729759], [-158.20742045823246, 21.46018636157969], [-158.20740262740432, 21.460177381960303], [-158.20739816969729, 21.460172981722636], [-158.20731347326432, 21.460132828705284], [-158.2072198614186, 21.46007042593066], [-158.20711724318687, 21.460003520951812], [-158.20708158153224, 21.45997676795036], [-158.2070459198778, 21.459954411819666], [-158.2070236313439, 21.459936635082816], [-158.20699242739656, 21.45990988544859], [-158.20693893491568, 21.45986975594879], [-158.20686306292828, 21.459798388094026], [-158.20685414751495, 21.459793898277916], [-158.20683631668834, 21.45977612491467], [-158.20683185898167, 21.459771638467494], [-158.20677836650214, 21.459735992052615], [-158.20677390879553, 21.459731505605806], [-158.20668029695744, 21.459664619748594], [-158.2065777697077, 21.459584364141026], [-158.20656876332117, 21.459579861937343], [-158.20655539020177, 21.45957097188615], [-158.2065509324953, 21.459566485441012], [-158.2065063554309, 21.459526362701872], [-158.20650189772445, 21.45952635932734], [-158.2064885246052, 21.459508503136885], [-158.2064439475412, 21.459468380403745], [-158.20642611671568, 21.459450607054627], [-158.20634587800143, 21.459397094328406], [-158.20634142029513, 21.459397090951366], [-158.20619422501477, 21.45929454630184], [-158.2061719364837, 21.45928556327721], [-158.20609615547875, 21.459245416886606], [-158.20603820529905, 21.45920537023017], [-158.20601145906244, 21.45918750390968], [-158.2059667910281, 21.459160731764992], [-158.20593112937968, 21.45913846182933], [-158.20589992543748, 21.459120592120843], [-158.20589546773147, 21.459116105679744], [-158.20586872149545, 21.45909832556881], [-158.20585089067148, 21.459084949072366], [-158.2056814068727, 21.459049288334427], [-158.2056814068727, 21.45897342133245], [-158.2056814068727, 21.458960058394965], [-158.2056814068727, 21.458946695457595], [-158.20564128752002, 21.45887088417893], [-158.20563682981418, 21.458866397741247], [-158.20563237210834, 21.458861997516095], [-158.20560116816756, 21.458844127810416], [-158.20558779505015, 21.458839634593268], [-158.2055521334038, 21.45881736465988], [-158.20547635240598, 21.458759458474933], [-158.20547189470025, 21.458759455082912], [-158.20542731764314, 21.45871924618642], [-158.20542285993744, 21.45871036291908], [-158.20540493814113, 21.458692491002225], [-158.20530241091126, 21.45863904750106], [-158.20526674926646, 21.458616691349153], [-158.2052177145052, 21.458589928179524], [-158.20512410268927, 21.458549854334336], [-158.20503039990106, 21.458514164898077], [-158.20502148449023, 21.45850967506098], [-158.20500811137396, 21.458496301966882], [-158.20496353432003, 21.458447299432983], [-158.20489666873965, 21.458375950951144], [-158.20487883791836, 21.4583580914296], [-158.20475393119693, 21.458246597714496], [-158.2046647770928, 21.458188681323946], [-158.20466031938764, 21.458184194892567], [-158.2045934538104, 21.458130692346895], [-158.2045934538104, 21.45812620932374], [-158.20458899610526, 21.458126205916187], [-158.20458453840013, 21.45812180569752], [-158.2045711652848, 21.45810843261793], [-158.20453996134907, 21.458086079862074], [-158.2045354126704, 21.458081667258295], [-158.2044997510298, 21.458054828072694], [-158.2044284277492, 21.457996925319517], [-158.2043615621743, 21.457925576930528], [-158.20432144282972, 21.45790330356889], [-158.2043169851248, 21.45789881714088], [-158.20429915430506, 21.457889923673015], [-158.2042946966001, 21.457889920260843], [-158.2042857811903, 21.45788094740497], [-158.20427686578046, 21.457876543776486], [-158.20419653611899, 21.4578230186267], [-158.2041697898899, 21.457805152300562], [-158.2040806357938, 21.457751632699075], [-158.2040806357938, 21.457747235900275], [-158.204004854813, 21.457698123341054], [-158.20399593940357, 21.457693719708566], [-158.2038933212223, 21.457635694438807], [-158.2037907940162, 21.457582250752377], [-158.20376850549334, 21.45756887084146], [-158.2037373015615, 21.457555484083166], [-158.20369272451623, 21.45752872425631], [-158.20366588731568, 21.457515328531137], [-158.20360347945308, 21.457479675208038], [-158.2035410715911, 21.457399364326957], [-158.20350095225157, 21.457345882370017], [-158.20348757913845, 21.45732354332037], [-158.20343408668626, 21.457283413870638], [-158.20340288275597, 21.457256664332824], [-158.20340288275597, 21.45725226755036], [-158.20339396734738, 21.457247777700424], [-158.20338950964307, 21.45723889449647], [-158.20333592621813, 21.45716306115122], [-158.20328689147138, 21.45708276065203], [-158.2032155682041, 21.45700252924804], [-158.20320219509154, 21.45698467321806], [-158.20319773738737, 21.456980273012064], [-158.2031620757541, 21.45692670835935], [-158.20313978723343, 21.456895482727077], [-158.20312641412104, 21.456882109691243], [-158.20312195641694, 21.456873226500434], [-158.2030952101923, 21.456837514459863], [-158.20309075248818, 21.456833114256334], [-158.2030371690657, 21.45676176401669], [-158.20303271136166, 21.456752794618996], [-158.20302379595353, 21.456730545263056], [-158.20300150743333, 21.456685956916363], [-158.20298813432123, 21.45665473817129], [-158.20296138809715, 21.456569971992362], [-158.20295693039313, 21.456547726077595], [-158.2029836766172, 21.456449638293822], [-158.2029970497293, 21.45642283688185], [-158.20302379595353, 21.456373803238467], [-158.20302825365758, 21.456364840693475], [-158.20298813432123, 21.45632032492582], [-158.20295693039313, 21.456284609547613], [-158.20291681105724, 21.456204316163355], [-158.20286777631367, 21.456057202338986], [-158.2027027502964, 21.456061632525767], [-158.2027027502964, 21.45596352434968], [-158.20269383488872, 21.45592342936883], [-158.20269383488872, 21.45591894639464], [-158.2026893771849, 21.455892217550346], [-158.2026893771849, 21.45587885483939], [-158.2026893771849, 21.45586549212854], [-158.20266708866583, 21.455771849848727], [-158.20264925785068, 21.455709419395646], [-158.20264480014689, 21.455687087325447], [-158.2026403424431, 21.455655875522886], [-158.20263142703553, 21.455602331656113], [-158.20263142703553, 21.455588968951453], [-158.20263142703553, 21.45558457219059], [-158.20260022310913, 21.45549531990531], [-158.2025645614792, 21.455406150441842], [-158.20256010377545, 21.455392784328716], [-158.20254673066427, 21.45530363196399], [-158.20255118836798, 21.455263461076072], [-158.20255118836798, 21.45525458134874], [-158.20255118836798, 21.45524121865236], [-158.20255564607172, 21.455205530732645], [-158.20255118836798, 21.455143110601085], [-158.20255118836798, 21.45513862763228], [-158.20255118836798, 21.45511629899936], [-158.20255118836798, 21.455107419272846], [-158.20255118836798, 21.455102936304137], [-158.20256010377545, 21.455031646674612], [-158.20256010377545, 21.455027163705918], [-158.2025645614792, 21.455018201174763], [-158.2025645614792, 21.45500483847945], [-158.20258239229412, 21.454946918347662], [-158.20258684999789, 21.45491571339021], [-158.20258684999789, 21.45489786772532], [-158.20259130770165, 21.454822005499906], [-158.20260022310913, 21.454719507493586], [-158.20262696933173, 21.45463029955069], [-158.20262696933173, 21.45462133361253], [-158.20263142703553, 21.45453667786132], [-158.20263142703553, 21.454527711923486], [-158.20262696933173, 21.454523225561726], [-158.20260022310913, 21.45443406310569], [-158.20260022310913, 21.454429666348673], [-158.20260022310916, 21.454425183380753], [-158.2025957654054, 21.454420697021234], [-158.2025690191829, 21.45433601755931], [-158.20255564607172, 21.454233416422017], [-158.20254227296056, 21.454197714948407], [-158.2025333575531, 21.454166586043666], [-158.20251998444203, 21.454139764297512], [-158.20251998444203, 21.45413536754308], [-158.2025155267383, 21.45413088118997], [-158.2025110690346, 21.454121911871866], [-158.2024753164316, 21.454063938688517], [-158.20247085872793, 21.454055055583588], [-158.20246640102428, 21.454046172478957], [-158.20241736628412, 21.454001564211527], [-158.20238170465518, 21.453965845827927], [-158.2023683315444, 21.453952472987798], [-158.2023638738408, 21.453952469598878], [-158.20235050073, 21.453939096759168], [-158.20231483910143, 21.453903464592905], [-158.20230592369433, 21.45389457810466], [-158.2023014659908, 21.45389457471493], [-158.20222122732736, 21.453832097107934], [-158.20221676962387, 21.45382769696987], [-158.20213198228453, 21.453778566246076], [-158.20203837051312, 21.453729527317474], [-158.20194475874305, 21.4537028169152], [-158.20194030103977, 21.453702813517616], [-158.20184214059438, 21.453684966973643], [-158.20183768289112, 21.45368496357301], [-158.20180647896862, 21.45368045681641], [-158.20179756356222, 21.453680536223324], [-158.20176190193672, 21.4536760260559], [-158.20173069801453, 21.45367160549508], [-158.20164154395206, 21.453640329196666], [-158.20163253757235, 21.453640396208904], [-158.20156567202642, 21.45363146541843], [-158.20156121432336, 21.453631462009685], [-158.20153892580822, 21.453626962021954], [-158.20152109499617, 21.453626948382887], [-158.20151217959014, 21.453627027772864], [-158.20141856782777, 21.45361359351533], [-158.20135170228403, 21.45357345449413], [-158.201333780499, 21.453560065848606], [-158.20132932279608, 21.453560062433656], [-158.20124016873922, 21.45353335512524], [-158.2012312533336, 21.453533348290094], [-158.2012134225224, 21.453537817552167], [-158.20120896481959, 21.453542297067752], [-158.20113318387257, 21.45356905031289], [-158.2011198107644, 21.45356904004673], [-158.20102610803423, 21.453564559040387], [-158.2010171926289, 21.45356455218943], [-158.20093695398154, 21.453564576713966], [-158.2009191231712, 21.453564562999446], [-158.20082105371495, 21.453546728245357], [-158.20072735098918, 21.453520004848926], [-158.20067385855995, 21.453511083991614], [-158.2006604854527, 21.453506590761346], [-158.20061590842874, 21.453493193838682], [-158.20059807761928, 21.45349318008734], [-158.20057133140514, 21.45349324566582], [-158.20051783897722, 21.453493204386557], [-158.20039293234024, 21.45345757711388], [-158.20030823599862, 21.45339069899369], [-158.20029932059427, 21.453368363746407], [-158.2002725743814, 21.453310410049337], [-158.20026811667927, 21.45329704407747], [-158.20026365897712, 21.45329704063255], [-158.2002057088497, 21.45323457992436], [-158.20018787804136, 21.453221203620203], [-158.20013875234517, 21.453154340735068], [-158.2001298369411, 21.453140971326555], [-158.20012537923904, 21.453132002063416], [-158.2000941753249, 21.45307852788425], [-158.2000941753249, 21.453074044976592], [-158.2000897176229, 21.453069558623277], [-158.20008080221888, 21.453042826707176], [-158.20006742911286, 21.45302945385905], [-158.20002730979505, 21.452971489904254], [-158.20001839439112, 21.45295812050546], [-158.19996044426594, 21.452891263184455], [-158.199955986564, 21.452882293930248], [-158.199955986564, 21.452877897235943], [-158.19994261345826, 21.452775297373986], [-158.19994707116018, 21.45272624750931], [-158.19994707116018, 21.45272176460595], [-158.1999515288621, 21.452677197643784], [-158.199955986564, 21.45265047608434], [-158.1999738173717, 21.45258359113041], [-158.20000056358333, 21.452489901823913], [-158.20004514060295, 21.452414071631132], [-158.20004959830493, 21.452405195463754], [-158.20004959830493, 21.452400712558976], [-158.2000540560069, 21.452382870581364], [-158.2000585137089, 21.45235614900301], [-158.2000629714109, 21.45232942742376], [-158.20006742911286, 21.452311585443685], [-158.20006742911286, 21.452307102538782], [-158.2000585137089, 21.452231317350062], [-158.2000540560069, 21.452222348113217], [-158.20004959830493, 21.45220898218215], [-158.20000502128528, 21.45212877289864], [-158.199955986564, 21.452035111507872], [-158.19990249414124, 21.45196377501525], [-158.19989803643938, 21.451959288687796], [-158.1998890300621, 21.451954786547358], [-158.19982216453445, 21.451928096356383], [-158.19981770683262, 21.45192809292714], [-158.199808791429, 21.4519236031702], [-158.19974638360392, 21.451910192662076], [-158.19973301049865, 21.45191026857699], [-158.19969734888465, 21.451901361536684], [-158.1996661449726, 21.4518923717142], [-158.1995991884738, 21.451874548653596], [-158.19958135766714, 21.45187013822725], [-158.19957244226384, 21.451865648462487], [-158.1995679845622, 21.45186564502624], [-158.19954569605403, 21.451861144950843], [-158.1995367806508, 21.451856741394362], [-158.19949666133633, 21.451847830881636], [-158.1994075073051, 21.451821037171708], [-158.1993941342005, 21.451816630169898], [-158.19929597379434, 21.451780937583337], [-158.19927814298856, 21.4517675613603], [-158.19922465057152, 21.451740795135425], [-158.19922019287011, 21.451736308806062], [-158.1992157351687, 21.45173190868606], [-158.19920236206457, 21.45172741546606], [-158.19918007355764, 21.45172291535325], [-158.1990953772322, 21.45170957362326], [-158.19897938602568, 21.451709557728666], [-158.19886348579485, 21.45172739941389], [-158.19875204326715, 21.45174972731188], [-158.19864050976796, 21.451736352153667], [-158.19859593275825, 21.451722955098436], [-158.1985513557488, 21.451709558034317], [-158.19854244034698, 21.451709551099928], [-158.19846220173093, 21.451682850088385], [-158.198444279954, 21.45167834095646], [-158.19836404133926, 21.451571379394395], [-158.19835512593764, 21.45155352720566], [-158.1987029175821, 21.451571310250145], [-158.19873412148942, 21.451459866106294], [-158.1992558544814, 21.44949342987475], [-158.19724925234593, 21.44804867395792], [-158.1965759577351, 21.447567089353022], [-158.19605422496613, 21.448788828222334], [-158.196049767267, 21.448806669746762], [-158.19604085186873, 21.44880226617764], [-158.19594724018754, 21.4487888307324], [-158.1959115785951, 21.448784406220362], [-158.19581341824343, 21.448797765408056], [-158.1958000451465, 21.4488022377245], [-158.19579558744755, 21.448797751431226], [-158.19571534886677, 21.448775446936562], [-158.19570643346898, 21.448775526150477], [-158.19567522957678, 21.44877550166773], [-158.19559499099753, 21.448779921472525], [-158.19549237295217, 21.448779914733766], [-158.19538538818327, 21.448762071844396], [-158.19527394571762, 21.44874870816402], [-158.19517578537605, 21.44871301484503], [-158.1951089198987, 21.448677358484503], [-158.19510446220025, 21.448672958394056], [-158.19507325831108, 21.448650606082587], [-158.19505542751733, 21.448646195445026], [-158.1949841043429, 21.44861493212433], [-158.19487702860934, 21.448588197225625], [-158.19486811321275, 21.44858819018388], [-158.19485919781619, 21.44858818314154], [-158.19484136702306, 21.448588169055043], [-158.1948324516265, 21.4485881620109], [-158.19476558615287, 21.448592678142845], [-158.19475667075645, 21.4485926710934], [-158.19471655147265, 21.448597122137304], [-158.1947076360763, 21.448597115084358], [-158.19468079891388, 21.448601564307666], [-158.19465851042312, 21.448601546667657], [-158.19463622193246, 21.448588166914977], [-158.19461839113998, 21.44857927346242], [-158.19460947574373, 21.448574783632296], [-158.19456489876285, 21.44855250689311], [-158.19448911789607, 21.44863279186254], [-158.19444008321804, 21.448655080602563], [-158.19439095756698, 21.44868183969296], [-158.19430180360868, 21.448788837994474], [-158.1942928882129, 21.44880667575743], [-158.19427505742144, 21.448828989190673], [-158.19424385353648, 21.448873619587378], [-158.1941546995803, 21.44892260035016], [-158.19414578418474, 21.448922679451748], [-158.19405208155885, 21.44890923034899], [-158.19343673735992, 21.44920802298176], [-158.1929372933409, 21.449332853935537], [-158.19241119415702, 21.449435431831336], [-158.19183151169196, 21.449542433698568], [-158.1910422266167, 21.449823382956744], [-158.19095753040278, 21.449859088392593], [-158.19067214692808, 21.449983924293598], [-158.1899764735926, 21.450175632937167], [-158.18931655286463, 21.45029160484079], [-158.18929426439354, 21.45029606876495], [-158.18859859121784, 21.450514491221625], [-158.18813490011908, 21.450733044684817], [-158.1873277847593, 21.451361780489087], [-158.18726983475403, 21.45140638432474], [-158.1865919925839, 21.451954793949078], [-158.18648500797255, 21.45205736963463], [-158.1858562914735, 21.452690564645117], [-158.1857983414827, 21.45275301128992], [-158.18528552502687, 21.453573449207514], [-158.18489315724202, 21.45403280988005], [-158.18435359472252, 21.455053894489215], [-158.1839121014352, 21.455539913753604], [-158.18351081836303, 21.456150800125574], [-158.18322543524738, 21.456650243378757], [-158.18265912674747, 21.457399399864542], [-158.1817405699299, 21.458237685822727], [-158.1811073052824, 21.45884417307792], [-158.18054991236582, 21.45941936088778], [-158.17951099834286, 21.460342407185777], [-158.1786905111237, 21.460873004390518], [-158.1778209894837, 21.4614036303031], [-158.1768667719688, 21.46212156112247], [-158.17558250407183, 21.46286627471868], [-158.17499390791824, 21.463151665485658], [-158.1739771923599, 21.463994384117704], [-158.1735268754892, 21.464658847245516], [-158.17237197208672, 21.465965316993497], [-158.16731532662175, 21.47041993350523], [-158.15624783628814, 21.480167533319566], [-158.15411197722995, 21.482049266577647], [-158.15120457943453, 21.484608798889152], [-158.14724490269438, 21.48839459278695], [-158.1469818098255, 21.488648739876467], [-158.1404893701071, 21.49504760673509], [-158.14044925122914, 21.495087711879158], [-158.14047599714775, 21.49527942812747], [-158.14052057367908, 21.49547117006084], [-158.1406009024091, 21.495622813025435], [-158.1407435473146, 21.495810042024992], [-158.14095760565343, 21.49609994778835], [-158.14122069819362, 21.496327352920886], [-158.1412786476935, 21.496483433669702], [-158.14141692593788, 21.496634988091653], [-158.1415417402514, 21.496826760112647], [-158.14156848617614, 21.49684903466546], [-158.14185832467638, 21.497076478747736], [-158.14202780651942, 21.497326158882622], [-158.14215707850357, 21.497589300611143], [-158.14231318739272, 21.497852321050814], [-158.14243800172963, 21.498102097904855], [-158.14256736469744, 21.498289321958424], [-158.14276795917974, 21.49848111779571], [-158.14292852574417, 21.498655027856238], [-158.143164872459, 21.498940400857244], [-158.1433654669663, 21.499167792552658], [-158.14358844073456, 21.499395228822088], [-158.1437490073264, 21.499631539357548], [-158.1439005676384, 21.499899111069524], [-158.14403438830203, 21.500095306368685], [-158.14432422695128, 21.50040738968129], [-158.1445159971657, 21.500599186602052], [-158.14487715835867, 21.500741840172246], [-158.14526506552386, 21.500808771829917], [-158.14570209793018, 21.5009558541782], [-158.14597410604637, 21.501053991915505], [-158.14614349706156, 21.501107497649144], [-158.14625502949474, 21.50114317839858], [-158.14658944486442, 21.501250195443195], [-158.14676338453256, 21.501419643877718], [-158.14692386025703, 21.501584579139866], [-158.14701301343956, 21.50181198669422], [-158.14701301343956, 21.501972557300657], [-158.14692831791612, 21.502191099084385], [-158.1468614530302, 21.502320374002718], [-158.1468436223941, 21.502382835807673], [-158.14678121516835, 21.502592359074644], [-158.14672763228856, 21.502801968671758], [-158.14672763228856, 21.503105182267905], [-158.14683470707612, 21.503412870734582], [-158.1468436223941, 21.50343960214757], [-158.14691494493886, 21.503622425378577], [-158.1469951828029, 21.503947904858453], [-158.14699964046207, 21.50395687492858], [-158.1470755116409, 21.504121876073345], [-158.1470977999371, 21.50434479380398], [-158.14698626748464, 21.504607844156833], [-158.1468926566435, 21.50476845305433], [-158.14676338453256, 21.50496460669132], [-158.14662510613476, 21.505116261034086], [-158.14641550520247, 21.505334695049893], [-158.1462059952518, 21.505579945553883], [-158.14609446281972, 21.505722673532564], [-158.14596073307175, 21.505869777083415], [-158.14563969071904, 21.505967899613808], [-158.14528289615419, 21.506039238254985], [-158.14492173493093, 21.506110581629247], [-158.14461852327491, 21.506204244974963], [-158.14433314226468, 21.506427215910836], [-158.1440878801795, 21.506632317285113], [-158.14389610998214, 21.506797332596676], [-158.14373117670178, 21.506939990194713], [-158.14353049120666, 21.507087150376822], [-158.1433789309063, 21.507234308528353], [-158.14335655165468, 21.507345790426502], [-158.14331197509688, 21.507537492827893], [-158.1434591687118, 21.507684672924334], [-158.1435839830785, 21.507840771310065], [-158.1436241019828, 21.507889785349683], [-158.14396752345607, 21.50791212196312], [-158.14425290444464, 21.507907641675615], [-158.14443121071324, 21.50790764529534], [-158.14460960796094, 21.507898697514037], [-158.14461406561793, 21.507898704059357], [-158.1446675575018, 21.507894214598448], [-158.1450198033914, 21.50796110880189], [-158.14541225919837, 21.507956709058533], [-158.14570655558816, 21.50800576207166], [-158.14593844478077, 21.508072650867962], [-158.14601868262875, 21.508224202258372], [-158.14611229345306, 21.50849626575912], [-158.14611229345306, 21.50861219024552], [-158.14611229345306, 21.50863890890147], [-158.14619262227652, 21.5087325538641], [-158.14637538627503, 21.50877712199614], [-158.14657161422932, 21.508799485033784], [-158.14680350346316, 21.50876380802912], [-158.14696843684808, 21.508719143311385], [-158.1471067152556, 21.508714702456185], [-158.14724490269438, 21.50870576714021], [-158.14725827567253, 21.50870578656353], [-158.1474589613219, 21.508768233044066], [-158.14769085059788, 21.508772718781422], [-158.14794057052484, 21.50876826617308], [-158.1481947481248, 21.508777178994617], [-158.14839534283985, 21.508826166303677], [-158.14866735110598, 21.50916512688005], [-158.14900631527408, 21.50948170112672], [-158.14924702897287, 21.50972243391973], [-158.14944771470348, 21.509856244984846], [-158.14971972302772, 21.50995438956488], [-158.14999173136695, 21.509990045408312], [-158.1503573506264, 21.509789326776712], [-158.15062935900067, 21.509842908968455], [-158.15088353673912, 21.5096957255974], [-158.1512268677494, 21.509655546027016], [-158.15146321486563, 21.509579788259718], [-158.1517441386273, 21.509535208513253], [-158.15189133249575, 21.509526293818418], [-158.15203843539587, 21.509526244262574], [-158.15219008693686, 21.509570860714536], [-158.15243534942684, 21.50962888338542], [-158.15264485964204, 21.509700202567988], [-158.1529124104767, 21.509807213411804], [-158.15318887665507, 21.50988303498132], [-158.1534475121888, 21.50988298164638], [-158.15377301271414, 21.50986518016763], [-158.15404947893987, 21.509878510623185], [-158.1542813685236, 21.509949871868113], [-158.15450434278623, 21.51000337842138], [-158.15472285939256, 21.510030158630403], [-158.1550037833367, 21.510030133698084], [-158.1552401306308, 21.51004797402298], [-158.15552996993722, 21.510047960466572], [-158.15572164961316, 21.51005693355963], [-158.15598920061103, 21.5101327382561], [-158.15623446328587, 21.51021299366538], [-158.15642177629363, 21.510337816597264], [-158.15665366598594, 21.510462701483753], [-158.15713072743395, 21.510752557314316], [-158.1574562281958, 21.510966524177892], [-158.1577684469449, 21.511225219775408], [-158.1580002457255, 21.51144818115904], [-158.1582410508277, 21.511635396694448], [-158.1583481258617, 21.511711236087493], [-158.15862459233608, 21.511836095929837], [-158.1588519334856, 21.51188511007664], [-158.15902587357957, 21.51192078856973], [-158.1592087290194, 21.51206353345825], [-158.15950302622105, 21.512237375990754], [-158.15972590973885, 21.512389041789437], [-158.1598820191799, 21.512518303397503], [-158.1598820191799, 21.512522785557465], [-158.15995334190978, 21.512576324843696], [-158.1601540280657, 21.512759089008604], [-158.16039929093955, 21.512906315731723], [-158.16061335012634, 21.513008850142487], [-158.16090318973636, 21.513111402179884], [-158.1611841140191, 21.51314705359342], [-158.16142037062485, 21.51320055989449], [-158.16168346424692, 21.513254114881764], [-158.16195101555462, 21.513254061459868], [-158.16216507480524, 21.513285310116913], [-158.1624593721743, 21.513338820202467], [-158.16273138119473, 21.513530558959758], [-158.16302567859563, 21.51375353122489], [-158.1631996188292, 21.51397203024967], [-158.1632040765026, 21.513972036304434], [-158.16325311091055, 21.514034423270157], [-158.16332889136007, 21.514221745968914], [-158.1633467220542, 21.51427073007247], [-158.1633600950749, 21.514284108773452], [-158.16353849299324, 21.51448037546822], [-158.16375700998253, 21.514622995932193], [-158.1638684518311, 21.51479692075071], [-158.16393977461541, 21.514903988343463], [-158.16394423228948, 21.514903908196917], [-158.16410925720498, 21.515144721185923], [-158.16438126631078, 21.515140275365496], [-158.16458195263655, 21.515398893588824], [-158.1646309870573, 21.515612988642516], [-158.16468447915318, 21.515755632021946], [-158.16477363264752, 21.515925045111608], [-158.1649698613133, 21.516076686681302], [-158.16522849743788, 21.516179280011094], [-158.16551833730261, 21.51627734681571], [-158.1657413120493, 21.516388856050966], [-158.1659419074536, 21.51649135802285], [-158.1662228320053, 21.516674231227455], [-158.1664190607246, 21.516790186403657], [-158.1666152894511, 21.516870455337518], [-158.16694970615694, 21.516995302380735], [-158.16711464019284, 21.517075516572437], [-158.16731086894487, 21.517213796865438], [-158.16747589396488, 21.517534863160346], [-158.167640828017, 21.517748858233993], [-158.16781922607905, 21.517985209451492], [-158.1680734046642, 21.518083312925214], [-158.16835432932777, 21.51817696965592], [-158.16875561131272, 21.518257167615747], [-158.16938432590408, 21.51840879529971], [-158.16953597795145, 21.518564859162808], [-158.1698971409128, 21.51870310023209], [-158.1701334888789, 21.51881014278812], [-158.17033417542012, 21.518984029167527], [-158.1707087114736, 21.519171335186705], [-158.1707577459503, 21.519193639989087]]]}\n"
          ]
        }
      ]
    },
    {
      "cell_type": "code",
      "source": [
        "# Mount our Google Drive\n",
        "from google.colab import drive\n",
        "drive.mount('/content/drive')"
      ],
      "metadata": {
        "id": "2rO3R07C3enC",
        "outputId": "f8595e14-7b9c-4404-caef-d76e4131af5e",
        "colab": {
          "base_uri": "https://localhost:8080/"
        }
      },
      "execution_count": 83,
      "outputs": [
        {
          "output_type": "stream",
          "name": "stdout",
          "text": [
            "Mounted at /content/drive\n"
          ]
        }
      ]
    },
    {
      "cell_type": "code",
      "source": [
        "import os as os\n",
        "from os import path as op\n",
        "model = m\n",
        "ROOT_DIR = '/content/drive/My Drive/'\n",
        "doPrediction(image_base, KERNEL_SHAPE, makaha)\n",
        "\n",
        "print (ROOT_DIR)"
      ],
      "metadata": {
        "id": "ONh2ltTY3kFh",
        "outputId": "8f6f30e1-4337-45e5-a611-a56616e9fadb",
        "colab": {
          "base_uri": "https://localhost:8080/",
          "height": 678
        }
      },
      "execution_count": 180,
      "outputs": [
        {
          "output_type": "stream",
          "name": "stdout",
          "text": [
            "Looking for GeoTIFF files...\n",
            "[]\n",
            "FCNN_demo_Oahu-mixer.json\n",
            "{'patchDimensions': [128, 128],\n",
            " 'patchesPerRow': 4,\n",
            " 'projection': {'affine': {'doubleMatrix': [0.00026949458523585647,\n",
            "                                            0.0,\n",
            "                                            -158.28063777906416,\n",
            "                                            0.0,\n",
            "                                            -0.00026949458523585647,\n",
            "                                            21.574658515641726]},\n",
            "                'crs': 'EPSG:4326'},\n",
            " 'totalPatches': 12}\n",
            "Running predictions...\n"
          ]
        },
        {
          "output_type": "stream",
          "name": "stderr",
          "text": [
            "WARNING:tensorflow:Your input ran out of data; interrupting training. Make sure that your dataset or generator can generate at least `steps_per_epoch * epochs` batches (in this case, 12 batches). You may need to use the repeat() function when building your dataset.\n"
          ]
        },
        {
          "output_type": "error",
          "ename": "ValueError",
          "evalue": "ignored",
          "traceback": [
            "\u001b[0;31m---------------------------------------------------------------------------\u001b[0m",
            "\u001b[0;31mValueError\u001b[0m                                Traceback (most recent call last)",
            "\u001b[0;32m<ipython-input-180-ca1d1ce26bb9>\u001b[0m in \u001b[0;36m<cell line: 5>\u001b[0;34m()\u001b[0m\n\u001b[1;32m      3\u001b[0m \u001b[0mmodel\u001b[0m \u001b[0;34m=\u001b[0m \u001b[0mm\u001b[0m\u001b[0;34m\u001b[0m\u001b[0;34m\u001b[0m\u001b[0m\n\u001b[1;32m      4\u001b[0m \u001b[0mROOT_DIR\u001b[0m \u001b[0;34m=\u001b[0m \u001b[0;34m'/content/drive/My Drive/'\u001b[0m\u001b[0;34m\u001b[0m\u001b[0;34m\u001b[0m\u001b[0m\n\u001b[0;32m----> 5\u001b[0;31m \u001b[0mdoPrediction\u001b[0m\u001b[0;34m(\u001b[0m\u001b[0mimage_base\u001b[0m\u001b[0;34m,\u001b[0m \u001b[0mKERNEL_SHAPE\u001b[0m\u001b[0;34m,\u001b[0m \u001b[0mmakaha\u001b[0m\u001b[0;34m)\u001b[0m\u001b[0;34m\u001b[0m\u001b[0;34m\u001b[0m\u001b[0m\n\u001b[0m\u001b[1;32m      6\u001b[0m \u001b[0;34m\u001b[0m\u001b[0m\n\u001b[1;32m      7\u001b[0m \u001b[0mprint\u001b[0m \u001b[0;34m(\u001b[0m\u001b[0mROOT_DIR\u001b[0m\u001b[0;34m)\u001b[0m\u001b[0;34m\u001b[0m\u001b[0;34m\u001b[0m\u001b[0m\n",
            "\u001b[0;32m<ipython-input-178-9bfc010d84e3>\u001b[0m in \u001b[0;36mdoPrediction\u001b[0;34m(out_image_base, kernel_shape, region)\u001b[0m\n\u001b[1;32m     86\u001b[0m   \u001b[0;31m# Perform inference.\u001b[0m\u001b[0;34m\u001b[0m\u001b[0;34m\u001b[0m\u001b[0m\n\u001b[1;32m     87\u001b[0m   \u001b[0mprint\u001b[0m\u001b[0;34m(\u001b[0m\u001b[0;34m'Running predictions...'\u001b[0m\u001b[0;34m)\u001b[0m\u001b[0;34m\u001b[0m\u001b[0;34m\u001b[0m\u001b[0m\n\u001b[0;32m---> 88\u001b[0;31m   \u001b[0mpredictions\u001b[0m \u001b[0;34m=\u001b[0m \u001b[0mmodel\u001b[0m\u001b[0;34m.\u001b[0m\u001b[0mpredict\u001b[0m\u001b[0;34m(\u001b[0m\u001b[0mimageDataset\u001b[0m\u001b[0;34m,\u001b[0m \u001b[0msteps\u001b[0m\u001b[0;34m=\u001b[0m\u001b[0mpatches\u001b[0m\u001b[0;34m,\u001b[0m \u001b[0mverbose\u001b[0m\u001b[0;34m=\u001b[0m\u001b[0;36m1\u001b[0m\u001b[0;34m)\u001b[0m\u001b[0;34m\u001b[0m\u001b[0;34m\u001b[0m\u001b[0m\n\u001b[0m\u001b[1;32m     89\u001b[0m   \u001b[0;31m# print(predictions[0])\u001b[0m\u001b[0;34m\u001b[0m\u001b[0;34m\u001b[0m\u001b[0m\n\u001b[1;32m     90\u001b[0m \u001b[0;34m\u001b[0m\u001b[0m\n",
            "\u001b[0;32m/usr/local/lib/python3.9/dist-packages/keras/utils/traceback_utils.py\u001b[0m in \u001b[0;36merror_handler\u001b[0;34m(*args, **kwargs)\u001b[0m\n\u001b[1;32m     68\u001b[0m             \u001b[0;31m# To get the full stack trace, call:\u001b[0m\u001b[0;34m\u001b[0m\u001b[0;34m\u001b[0m\u001b[0m\n\u001b[1;32m     69\u001b[0m             \u001b[0;31m# `tf.debugging.disable_traceback_filtering()`\u001b[0m\u001b[0;34m\u001b[0m\u001b[0;34m\u001b[0m\u001b[0m\n\u001b[0;32m---> 70\u001b[0;31m             \u001b[0;32mraise\u001b[0m \u001b[0me\u001b[0m\u001b[0;34m.\u001b[0m\u001b[0mwith_traceback\u001b[0m\u001b[0;34m(\u001b[0m\u001b[0mfiltered_tb\u001b[0m\u001b[0;34m)\u001b[0m \u001b[0;32mfrom\u001b[0m \u001b[0;32mNone\u001b[0m\u001b[0;34m\u001b[0m\u001b[0;34m\u001b[0m\u001b[0m\n\u001b[0m\u001b[1;32m     71\u001b[0m         \u001b[0;32mfinally\u001b[0m\u001b[0;34m:\u001b[0m\u001b[0;34m\u001b[0m\u001b[0;34m\u001b[0m\u001b[0m\n\u001b[1;32m     72\u001b[0m             \u001b[0;32mdel\u001b[0m \u001b[0mfiltered_tb\u001b[0m\u001b[0;34m\u001b[0m\u001b[0;34m\u001b[0m\u001b[0m\n",
            "\u001b[0;32m/usr/local/lib/python3.9/dist-packages/keras/engine/training.py\u001b[0m in \u001b[0;36mpredict\u001b[0;34m(self, x, batch_size, verbose, steps, callbacks, max_queue_size, workers, use_multiprocessing)\u001b[0m\n\u001b[1;32m   2405\u001b[0m                         )\n\u001b[1;32m   2406\u001b[0m             \u001b[0;32mif\u001b[0m \u001b[0mbatch_outputs\u001b[0m \u001b[0;32mis\u001b[0m \u001b[0;32mNone\u001b[0m\u001b[0;34m:\u001b[0m\u001b[0;34m\u001b[0m\u001b[0;34m\u001b[0m\u001b[0m\n\u001b[0;32m-> 2407\u001b[0;31m                 raise ValueError(\n\u001b[0m\u001b[1;32m   2408\u001b[0m                     \u001b[0;34m\"Unexpected result of `predict_function` \"\u001b[0m\u001b[0;34m\u001b[0m\u001b[0;34m\u001b[0m\u001b[0m\n\u001b[1;32m   2409\u001b[0m                     \u001b[0;34m\"(Empty batch_outputs). Please use \"\u001b[0m\u001b[0;34m\u001b[0m\u001b[0;34m\u001b[0m\u001b[0m\n",
            "\u001b[0;31mValueError\u001b[0m: Unexpected result of `predict_function` (Empty batch_outputs). Please use `Model.compile(..., run_eagerly=True)`, or `tf.config.run_functions_eagerly(True)` for more information of where went wrong, or file a issue/bug to `tf.keras`."
          ]
        }
      ]
    },
    {
      "cell_type": "code",
      "source": [
        "import numpy\n",
        "from numpy.lib.utils import info\n",
        "\n",
        "out_image = "
      ],
      "metadata": {
        "id": "swwcPYR4hzqp"
      },
      "execution_count": 159,
      "outputs": []
    },
    {
      "cell_type": "code",
      "source": [
        "from numpy.lib.utils import info\n",
        "# out_image = ee.Image('projects/ee-seismosmsr-landcover/assets/FCNN_demo_Oahu-mixer')\n",
        "\n",
        "# mapid = out_image.getMapId({'min': 0, 'max': 25, 'palette': ['63C600','E6E600','E9BD3A','ECB176','00A600','63C600','E6E600','E9BD3A','ECB176','00A600','63C600','E6E600','E9BD3A','ECB176','00A600','63C600','E6E600','E9BD3A','ECB176','00A600','63C600','E6E600','E9BD3A','ECB176','00A600','63C600','E6E600','E9BD3A','ECB176']})\n",
        "mapid = out_image({'min': 0, 'max': 3, \n",
        "                            'palette': ['red','blue','yellow']})\n",
        "\n",
        "\n",
        "map = folium.Map(location=[21.4, -158])\n",
        "# map = folium.Map(location=[              \n",
        "#               -29.177943749121233,\n",
        "#               30.55984497070313,\n",
        "# ])\n",
        "folium.TileLayer(\n",
        "    tiles=mapid['tile_fetcher'].url_format,\n",
        "    attr='Map Data &copy; <a href=\"https://earthengine.google.com/\">Google Earth Engine</a>',\n",
        "    overlay=True,\n",
        "    name='predicted crop type',\n",
        "  ).add_to(map)\n",
        "map.add_child(folium.LayerControl())\n",
        "map"
      ],
      "metadata": {
        "id": "A2oItq-T3llR",
        "outputId": "da6f113a-71eb-48fd-fbef-f4a8331b5e5a",
        "colab": {
          "base_uri": "https://localhost:8080/",
          "height": 289
        }
      },
      "execution_count": 155,
      "outputs": [
        {
          "output_type": "stream",
          "name": "stdout",
          "text": [
            "/content/drive/My Drive/wetland_unet/FCNN_demo_Oahu-mixer\n"
          ]
        },
        {
          "output_type": "error",
          "ename": "TypeError",
          "evalue": "ignored",
          "traceback": [
            "\u001b[0;31m---------------------------------------------------------------------------\u001b[0m",
            "\u001b[0;31mTypeError\u001b[0m                                 Traceback (most recent call last)",
            "\u001b[0;32m<ipython-input-155-fbe872fb0ee9>\u001b[0m in \u001b[0;36m<cell line: 8>\u001b[0;34m()\u001b[0m\n\u001b[1;32m      6\u001b[0m \u001b[0;31m# out_image = ee.Image('projects/ee-aml7-001/assets/tracts_Oahu')\u001b[0m\u001b[0;34m\u001b[0m\u001b[0;34m\u001b[0m\u001b[0m\n\u001b[1;32m      7\u001b[0m \u001b[0;31m# mapid = out_image.getMapId({'min': 0, 'max': 25, 'palette': ['63C600','E6E600','E9BD3A','ECB176','00A600','63C600','E6E600','E9BD3A','ECB176','00A600','63C600','E6E600','E9BD3A','ECB176','00A600','63C600','E6E600','E9BD3A','ECB176','00A600','63C600','E6E600','E9BD3A','ECB176','00A600','63C600','E6E600','E9BD3A','ECB176']})\u001b[0m\u001b[0;34m\u001b[0m\u001b[0;34m\u001b[0m\u001b[0m\n\u001b[0;32m----> 8\u001b[0;31m mapid = out_image({'min': 0, 'max': 3, \n\u001b[0m\u001b[1;32m      9\u001b[0m                             'palette': ['red','blue','yellow']})\n\u001b[1;32m     10\u001b[0m \u001b[0;34m\u001b[0m\u001b[0m\n",
            "\u001b[0;31mTypeError\u001b[0m: 'str' object is not callable"
          ]
        }
      ]
    },
    {
      "cell_type": "markdown",
      "metadata": {
        "id": "kzM45ZQNvVnH"
      },
      "source": []
    }
  ],
  "metadata": {
    "colab": {
      "provenance": [],
      "machine_shape": "hm",
      "include_colab_link": true
    },
    "kernelspec": {
      "display_name": "Python 3",
      "name": "python3"
    },
    "language_info": {
      "name": "python"
    },
    "accelerator": "GPU",
    "gpuClass": "premium"
  },
  "nbformat": 4,
  "nbformat_minor": 0
}