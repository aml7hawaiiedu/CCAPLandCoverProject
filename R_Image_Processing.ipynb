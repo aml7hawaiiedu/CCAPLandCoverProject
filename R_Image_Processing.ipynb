{
  "nbformat": 4,
  "nbformat_minor": 0,
  "metadata": {
    "colab": {
      "provenance": [],
      "machine_shape": "hm",
      "authorship_tag": "ABX9TyN6tMz/jqpen9YaWCd2A3Qm",
      "include_colab_link": true
    },
    "kernelspec": {
      "name": "ir",
      "display_name": "R"
    },
    "language_info": {
      "name": "R"
    }
  },
  "cells": [
    {
      "cell_type": "markdown",
      "metadata": {
        "id": "view-in-github",
        "colab_type": "text"
      },
      "source": [
        "<a href=\"https://colab.research.google.com/github/aml7hawaiiedu/CCAPLandCoverProject/blob/main/R_Image_Processing.ipynb\" target=\"_parent\"><img src=\"https://colab.research.google.com/assets/colab-badge.svg\" alt=\"Open In Colab\"/></a>"
      ]
    },
    {
      "cell_type": "code",
      "execution_count": 1,
      "metadata": {
        "colab": {
          "base_uri": "https://localhost:8080/",
          "height": 0
        },
        "id": "rqIPU5GJbz7Y",
        "outputId": "3151df9c-05a5-4629-e44c-d17d5e73b507"
      },
      "outputs": [
        {
          "output_type": "stream",
          "name": "stderr",
          "text": [
            "Installing packages into ‘/usr/local/lib/R/site-library’\n",
            "(as ‘lib’ is unspecified)\n",
            "\n",
            "also installing the dependencies ‘proxy’, ‘e1071’, ‘sp’, ‘Rcpp’, ‘terra’, ‘classInt’, ‘s2’, ‘units’, ‘wk’, ‘RcppArmadillo’\n",
            "\n",
            "\n"
          ]
        }
      ],
      "source": [
        "install.packages(c('raster','sf','fasterize'))"
      ]
    },
    {
      "cell_type": "code",
      "source": [
        "install.packages(\"googledrive\")"
      ],
      "metadata": {
        "id": "TUmN_QDXjVlC"
      },
      "execution_count": null,
      "outputs": []
    },
    {
      "cell_type": "code",
      "source": [
        "library(magrittr)"
      ],
      "metadata": {
        "colab": {
          "base_uri": "https://localhost:8080/",
          "height": 0
        },
        "id": "9C03IbE9izTB",
        "outputId": "630218bf-d3fd-4131-a327-78529b408878"
      },
      "execution_count": 5,
      "outputs": [
        {
          "output_type": "stream",
          "name": "stderr",
          "text": [
            "\n",
            "Attaching package: ‘magrittr’\n",
            "\n",
            "\n",
            "The following object is masked from ‘package:raster’:\n",
            "\n",
            "    extract\n",
            "\n",
            "\n"
          ]
        }
      ]
    },
    {
      "cell_type": "code",
      "source": [
        "# Data\n",
        "# #Training\n",
        "# # #Labels\n",
        "# # #Images\n",
        "# #Validation\n",
        "# # #Labels\n",
        "# # #Images"
      ],
      "metadata": {
        "id": "3Jyn25BIhxN6"
      },
      "execution_count": 2,
      "outputs": []
    },
    {
      "cell_type": "code",
      "source": [
        "install.packages(\"devtools\")\n",
        "\n",
        "devtools:::install_github(\"gearslaboratory/gdalUtils\")"
      ],
      "metadata": {
        "colab": {
          "base_uri": "https://localhost:8080/"
        },
        "id": "b9eGuuoazL10",
        "outputId": "df1f386e-768d-4456-cd7d-3cdff3f69e2f"
      },
      "execution_count": 62,
      "outputs": [
        {
          "output_type": "stream",
          "name": "stderr",
          "text": [
            "Installing package into ‘/usr/local/lib/R/site-library’\n",
            "(as ‘lib’ is unspecified)\n",
            "\n",
            "also installing the dependencies ‘httpuv’, ‘xtable’, ‘sourcetools’, ‘later’, ‘promises’, ‘shiny’, ‘downlit’, ‘htmlwidgets’, ‘miniUI’, ‘pkgdown’, ‘profvis’, ‘urlchecker’\n",
            "\n",
            "\n",
            "Downloading GitHub repo gearslaboratory/gdalUtils@HEAD\n",
            "\n"
          ]
        },
        {
          "output_type": "stream",
          "name": "stdout",
          "text": [
            "R.methodsS3 (NA -> 1.8.2 ) [CRAN]\n",
            "R.oo        (NA -> 1.26.0) [CRAN]\n",
            "iterators   (NA -> 1.0.14) [CRAN]\n",
            "R.utils     (NA -> 2.12.3) [CRAN]\n",
            "foreach     (NA -> 1.5.2 ) [CRAN]\n"
          ]
        },
        {
          "output_type": "stream",
          "name": "stderr",
          "text": [
            "Skipping 1 packages not available: rgdal\n",
            "\n",
            "Installing 6 packages: R.methodsS3, R.oo, iterators, rgdal, R.utils, foreach\n",
            "\n",
            "Installing packages into ‘/usr/local/lib/R/site-library’\n",
            "(as ‘lib’ is unspecified)\n",
            "\n",
            "Warning message:\n",
            "“package ‘rgdal’ is not available for this version of R\n",
            "\n",
            "A version of this package for your version of R might be available elsewhere,\n",
            "see the ideas at\n",
            "https://cran.r-project.org/doc/manuals/r-patched/R-admin.html#Installing-packages”\n"
          ]
        },
        {
          "output_type": "stream",
          "name": "stdout",
          "text": [
            "\u001b[36m──\u001b[39m \u001b[36mR CMD build\u001b[39m \u001b[36m─────────────────────────────────────────────────────────────────\u001b[39m\n",
            "* checking for file ‘/tmp/RtmpekSUJv/remotes6c37e15dc65/gearslaboratory-gdalUtils-8872aaf/DESCRIPTION’ ... OK\n",
            "* preparing ‘gdalUtils’:\n",
            "* checking DESCRIPTION meta-information ... OK\n",
            "* checking for LF line-endings in source and make files and shell scripts\n",
            "* checking for empty or unneeded directories\n",
            "* building ‘gdalUtils_2.0.3.2.tar.gz’\n",
            "\n"
          ]
        },
        {
          "output_type": "stream",
          "name": "stderr",
          "text": [
            "Installing package into ‘/usr/local/lib/R/site-library’\n",
            "(as ‘lib’ is unspecified)\n",
            "\n",
            "Warning message in i.p(...):\n",
            "“installation of package ‘/tmp/RtmpekSUJv/file6c34b1c89a6/gdalUtils_2.0.3.2.tar.gz’ had non-zero exit status”\n"
          ]
        }
      ]
    },
    {
      "cell_type": "code",
      "source": [
        "library(raster)\n",
        "library(sf)\n",
        "library(fasterize)\n",
        "library(magrittr)\n",
        "library(googledrive)\n",
        "library(parallel)\n",
        "library(data.table)\n",
        "# library(gdalUtils)"
      ],
      "metadata": {
        "colab": {
          "base_uri": "https://localhost:8080/"
        },
        "id": "7Ro8y26OitYr",
        "outputId": "a7c4907b-1980-4130-dda0-e53acca492cf"
      },
      "execution_count": 145,
      "outputs": [
        {
          "output_type": "stream",
          "name": "stderr",
          "text": [
            "\n",
            "Attaching package: ‘data.table’\n",
            "\n",
            "\n",
            "The following object is masked from ‘package:raster’:\n",
            "\n",
            "    shift\n",
            "\n",
            "\n"
          ]
        }
      ]
    },
    {
      "cell_type": "code",
      "source": [
        "drive_auth(use_oob = TRUE, cache = FALSE)"
      ],
      "metadata": {
        "colab": {
          "base_uri": "https://localhost:8080/",
          "height": 0
        },
        "id": "8lpzsRZsiwKc",
        "outputId": "9774c532-9aa2-46ba-ccba-e412059fdb5a"
      },
      "execution_count": 12,
      "outputs": [
        {
          "output_type": "stream",
          "name": "stderr",
          "text": [
            "Please point your browser to the following url: \n",
            "\n",
            "https://accounts.google.com/o/oauth2/v2/auth?client_id=603366585132-frjlouoa3s2ono25d2l9ukvhlsrlnr7k.apps.googleusercontent.com&scope=https%3A%2F%2Fwww.googleapis.com%2Fauth%2Fdrive%20https%3A%2F%2Fwww.googleapis.com%2Fauth%2Fuserinfo.email&redirect_uri=https%3A%2F%2Fwww.tidyverse.org%2Fgoogle-callback%2F&response_type=code&state=03f6ec0d281dbf339925759b94e1219c&access_type=offline&prompt=consent\n",
            "\n"
          ]
        },
        {
          "name": "stdout",
          "output_type": "stream",
          "text": [
            "Enter authorization code: eyJjb2RlIjoiNC8wQWZKb2hYbTA3NjNjb2diV0NhNW15QUVlYzQyLTFmYmJVUGJ4S2JlTGRWLWdPOWxRbzhaTkhXZFpHTl82TjVqWmVCS1pRQSIsInN0YXRlIjoiMDNmNmVjMGQyODFkYmYzMzk5MjU3NTliOTRlMTIxOWMifQ==\n"
          ]
        }
      ]
    },
    {
      "cell_type": "code",
      "source": [
        "dir.create('input_data')"
      ],
      "metadata": {
        "colab": {
          "base_uri": "https://localhost:8080/",
          "height": 0
        },
        "id": "4HqxMRL7qqdN",
        "outputId": "9c092c09-5999-4355-9a68-11d97668b9fd"
      },
      "execution_count": 16,
      "outputs": [
        {
          "output_type": "stream",
          "name": "stderr",
          "text": [
            "Warning message in dir.create(\"input_data\"):\n",
            "“'input_data' already exists”\n"
          ]
        }
      ]
    },
    {
      "cell_type": "code",
      "source": [
        "# https://drive.google.com/file/d/1thj0vGXN0xgXxI_XDY-hagp-gWHZCdaS/view?usp=drive_link\n",
        "drive_download(file = as_id('1thj0vGXN0xgXxI_XDY-hagp-gWHZCdaS'), path =  '/content/input_data/naip_index.zip', overwrite = FALSE)"
      ],
      "metadata": {
        "colab": {
          "base_uri": "https://localhost:8080/"
        },
        "id": "3YhBxPs1kYWr",
        "outputId": "2ce93356-23d0-438f-f2b5-3dc6834a9878"
      },
      "execution_count": 17,
      "outputs": [
        {
          "output_type": "stream",
          "name": "stderr",
          "text": [
            "File downloaded:\n",
            "\n",
            "• \u001b[36mtileindex_HI_NAIP_2021.zip\u001b[39m \u001b[90m<id: 1thj0vGXN0xgXxI_XDY-hagp-gWHZCdaS>\u001b[39m\n",
            "\n",
            "Saved locally as:\n",
            "\n",
            "• \u001b[34m/content/input_data/naip_index.zip\u001b[39m\n",
            "\n"
          ]
        }
      ]
    },
    {
      "cell_type": "code",
      "source": [
        "unzip(zipfile ='/content/input_data/naip_index.zip', exdir = \"/content/input_data/naip_index/\")"
      ],
      "metadata": {
        "id": "4Ac2v2-tqlOa"
      },
      "execution_count": 18,
      "outputs": []
    },
    {
      "cell_type": "code",
      "source": [
        "# https://drive.google.com/file/d/1ozE_Ldpio1LJaH2WS9r9hqRAIBDV8TDF/view?usp=drive_link\n",
        "drive_download(file = as_id('1ozE_Ldpio1LJaH2WS9r9hqRAIBDV8TDF'), path =  '/content/input_data/NWI_wetlands.gpkg', overwrite = TRUE)"
      ],
      "metadata": {
        "colab": {
          "base_uri": "https://localhost:8080/"
        },
        "id": "kypOwbbTIDH9",
        "outputId": "5ffaf54d-ecd2-499c-96e1-20adfd4482a8"
      },
      "execution_count": 203,
      "outputs": [
        {
          "output_type": "stream",
          "name": "stderr",
          "text": [
            "File downloaded:\n",
            "\n",
            "• \u001b[36mNWI_wetlands.gpkg\u001b[39m \u001b[90m<id: 1ozE_Ldpio1LJaH2WS9r9hqRAIBDV8TDF>\u001b[39m\n",
            "\n",
            "Saved locally as:\n",
            "\n",
            "• \u001b[34m/content/input_data/NWI_wetlands.gpkg\u001b[39m\n",
            "\n"
          ]
        }
      ]
    },
    {
      "cell_type": "code",
      "source": [
        "# https://drive.google.com/file/d/1cKHJ95tAkl0CSoNZkdO0w2wlaH6Wr_YZ/view?usp=drive_link\n",
        "drive_download(file = as_id('1cKHJ95tAkl0CSoNZkdO0w2wlaH6Wr_YZ'), path =  '/content/input_data/wetlands.gpgk', overwrite = TRUE)"
      ],
      "metadata": {
        "colab": {
          "base_uri": "https://localhost:8080/"
        },
        "id": "ug0fFy8ttGHA",
        "outputId": "94e320e3-4507-478b-e71e-1ec66044c98c"
      },
      "execution_count": 198,
      "outputs": [
        {
          "output_type": "stream",
          "name": "stderr",
          "text": [
            "File downloaded:\n",
            "\n",
            "• \u001b[36mwetland_AOI.gpkg\u001b[39m \u001b[90m<id: 1cKHJ95tAkl0CSoNZkdO0w2wlaH6Wr_YZ>\u001b[39m\n",
            "\n",
            "Saved locally as:\n",
            "\n",
            "• \u001b[34m/content/input_data/wetlands.gpkg\u001b[39m\n",
            "\n"
          ]
        }
      ]
    },
    {
      "cell_type": "code",
      "source": [
        "# https://drive.google.com/file/d/1foSde5txo6hPvWp4kcQF8We2WTDqDpYh/view?usp=drive_link\n",
        "drive_download(file = as_id('1foSde5txo6hPvWp4kcQF8We2WTDqDpYh'), path =  '/content/input_data/nlcd_hi_2001', overwrite = TRUE)"
      ],
      "metadata": {
        "colab": {
          "base_uri": "https://localhost:8080/"
        },
        "id": "E0IWJ0GYKkRf",
        "outputId": "957d31ed-b5e8-45d0-dda9-d42cc2437d89"
      },
      "execution_count": 242,
      "outputs": [
        {
          "output_type": "stream",
          "name": "stderr",
          "text": [
            "Auto-refreshing stale OAuth token.\n",
            "\n",
            "File downloaded:\n",
            "\n",
            "• \u001b[36mnlcd_hi_2001.tif\u001b[39m \u001b[90m<id: 1foSde5txo6hPvWp4kcQF8We2WTDqDpYh>\u001b[39m\n",
            "\n",
            "Saved locally as:\n",
            "\n",
            "• \u001b[34m/content/input_data/nlcd_hi_2001\u001b[39m\n",
            "\n"
          ]
        }
      ]
    },
    {
      "cell_type": "code",
      "source": [
        "nlcd_tif <- raster('/content/input_data/nlcd_hi_2001')"
      ],
      "metadata": {
        "id": "yR0ZiyCtK8Ma"
      },
      "execution_count": 243,
      "outputs": []
    },
    {
      "cell_type": "code",
      "source": [
        "nwi_gpkg = st_read('/content/input_data/NWI_wetlands.gpkg')"
      ],
      "metadata": {
        "colab": {
          "base_uri": "https://localhost:8080/"
        },
        "id": "oU63hVcPIMz9",
        "outputId": "69eab63e-c2c3-494e-e61c-732c919ae4b8"
      },
      "execution_count": 204,
      "outputs": [
        {
          "output_type": "stream",
          "name": "stdout",
          "text": [
            "Reading layer `NWI_wetlands' from data source \n",
            "  `/content/input_data/NWI_wetlands.gpkg' using driver `GPKG'\n",
            "Simple feature collection with 13555 features and 6 fields\n",
            "Geometry type: MULTIPOLYGON\n",
            "Dimension:     XY\n",
            "Bounding box:  xmin: -160.3031 ymin: 18.85975 xmax: -154.7531 ymax: 22.28533\n",
            "Geodetic CRS:  WGS 84\n"
          ]
        }
      ]
    },
    {
      "cell_type": "code",
      "source": [
        "naip_index_gpkg = st_read('/content/input_data/naip_index/tileindex_HI_NAIP_2021.shp')"
      ],
      "metadata": {
        "colab": {
          "base_uri": "https://localhost:8080/"
        },
        "id": "ln5jb3F-rATO",
        "outputId": "888ad61d-c7e6-4c95-bf8a-855f6d7d5c63"
      },
      "execution_count": 26,
      "outputs": [
        {
          "output_type": "stream",
          "name": "stdout",
          "text": [
            "Reading layer `tileindex_HI_NAIP_2021' from data source \n",
            "  `/content/input_data/naip_index/tileindex_HI_NAIP_2021.shp' \n",
            "  using driver `ESRI Shapefile'\n",
            "Simple feature collection with 611 features and 3 fields\n",
            "Geometry type: POLYGON\n",
            "Dimension:     XY\n",
            "Bounding box:  xmin: -160.3144 ymin: 18.8732 xmax: -154.7481 ymax: 22.25184\n",
            "Geodetic CRS:  NAD83\n"
          ]
        }
      ]
    },
    {
      "cell_type": "code",
      "source": [
        "wetlands_gpkg = st_read('/content/input_data/wetlands.gpgk')"
      ],
      "metadata": {
        "colab": {
          "base_uri": "https://localhost:8080/"
        },
        "id": "wzp5GD8stPFd",
        "outputId": "5467df74-b14a-4009-c9a3-e817873d3a7c"
      },
      "execution_count": 39,
      "outputs": [
        {
          "output_type": "stream",
          "name": "stderr",
          "text": [
            "Warning message in CPL_read_ogr(dsn, layer, query, as.character(options), quiet, :\n",
            "“GDAL Message 1: File /content/input_data/wetlands.gpgk has GPKG application_id, but non conformant file extension”\n"
          ]
        },
        {
          "output_type": "stream",
          "name": "stdout",
          "text": [
            "Reading layer `wetland_AOI' from data source `/content/input_data/wetlands.gpgk' using driver `GPKG'\n",
            "Simple feature collection with 17 features and 6 fields\n",
            "Geometry type: MULTIPOLYGON\n",
            "Dimension:     XY\n",
            "Bounding box:  xmin: 444046 ymin: 2185865 xmax: 917131.2 ymax: 2457336\n",
            "Projected CRS: WGS 84 / UTM zone 4N\n"
          ]
        }
      ]
    },
    {
      "cell_type": "code",
      "source": [
        "# wetlands_gpkg %>% plot"
      ],
      "metadata": {
        "id": "_AjIGmGguiel"
      },
      "execution_count": 37,
      "outputs": []
    },
    {
      "cell_type": "code",
      "source": [
        "download_index_gpkg <- naip_index_gpkg %>% st_intersection(wetlands_gpkg %>% st_transform(st_crs(naip_index_gpkg)))"
      ],
      "metadata": {
        "colab": {
          "base_uri": "https://localhost:8080/"
        },
        "id": "tK5RKiGktV7W",
        "outputId": "de97a8e6-91ac-4a55-fa77-7628f764b1d9"
      },
      "execution_count": 41,
      "outputs": [
        {
          "output_type": "stream",
          "name": "stderr",
          "text": [
            "Warning message:\n",
            "“attribute variables are assumed to be spatially constant throughout all geometries”\n"
          ]
        }
      ]
    },
    {
      "cell_type": "code",
      "source": [
        "download_index_gpkg$url %>% unique %>% length"
      ],
      "metadata": {
        "colab": {
          "base_uri": "https://localhost:8080/",
          "height": 34
        },
        "id": "HFWmwjGHwLhP",
        "outputId": "193345f2-c754-4e9c-b086-12864c3d564c"
      },
      "execution_count": 44,
      "outputs": [
        {
          "output_type": "display_data",
          "data": {
            "text/html": [
              "48"
            ],
            "text/markdown": "48",
            "text/latex": "48",
            "text/plain": [
              "[1] 48"
            ]
          },
          "metadata": {}
        }
      ]
    },
    {
      "cell_type": "code",
      "source": [
        "dir.create('HI_2021_NAIP')"
      ],
      "metadata": {
        "id": "IFiuE9CGw72R"
      },
      "execution_count": 56,
      "outputs": []
    },
    {
      "cell_type": "code",
      "source": [
        "dir.create('HI_DEM')"
      ],
      "metadata": {
        "id": "hCGHjZ0u8sUW"
      },
      "execution_count": 108,
      "outputs": []
    },
    {
      "cell_type": "code",
      "source": [
        "#load the libraries\n",
        "library(stringr)\n",
        "library(googledrive)\n",
        "\n",
        "#folder link to id\n",
        "jp_folder = \"15nbWHXZdDOZbt9gUuB9BUPeCXc2SoivB\"\n",
        "folder_id = drive_get(as_id(jp_folder))\n",
        "print(folder_id)\n",
        "#find files in folder\n",
        "files = drive_ls(folder_id)\n",
        "\n",
        "#loop dirs and download files inside them\n",
        "for (i in seq_along(files$name)) {\n",
        "\n",
        "  i_dir <- files[i, ]\n",
        "    try({\n",
        "      drive_download(\n",
        "        as_id(i_dir$id[1]),\n",
        "        path = paste('/content/HI_DEM/', i_dir$name[1])\n",
        "      )\n",
        "    })\n",
        "  }\n"
      ],
      "metadata": {
        "colab": {
          "base_uri": "https://localhost:8080/"
        },
        "id": "ey6PZID38sJJ",
        "outputId": "7584d190-39be-4f9e-8d42-a9ddddf8d8e3"
      },
      "execution_count": 135,
      "outputs": [
        {
          "output_type": "stream",
          "name": "stdout",
          "text": [
            "\u001b[90m# A dribble: 1 × 3\u001b[39m\n",
            "  name  id                                drive_resource   \n",
            "  \u001b[3m\u001b[90m<chr>\u001b[39m\u001b[23m \u001b[3m\u001b[90m<drv_id>\u001b[39m\u001b[23m                          \u001b[3m\u001b[90m<list>\u001b[39m\u001b[23m           \n",
            "\u001b[90m1\u001b[39m dem   15nbWHXZdDOZbt9gUuB9BUPeCXc2SoivB \u001b[90m<named list [32]>\u001b[39m\n"
          ]
        },
        {
          "output_type": "stream",
          "name": "stderr",
          "text": [
            "File downloaded:\n",
            "\n",
            "• \u001b[36mkauai_10m.tif\u001b[39m \u001b[90m<id: 17G_F8uiM6c-0qe24JPCGUZWMAp2uoIro>\u001b[39m\n",
            "\n",
            "Saved locally as:\n",
            "\n",
            "• \u001b[34m/content/HI_DEM/ kauai_10m.tif\u001b[39m\n",
            "\n",
            "File downloaded:\n",
            "\n",
            "• \u001b[36moahu_10m.tif\u001b[39m \u001b[90m<id: 19_F1B-d5trv8iwBDBNKcLCWa19vnFvGI>\u001b[39m\n",
            "\n",
            "Saved locally as:\n",
            "\n",
            "• \u001b[34m/content/HI_DEM/ oahu_10m.tif\u001b[39m\n",
            "\n",
            "File downloaded:\n",
            "\n",
            "• \u001b[36mhawaii_10m.tif\u001b[39m \u001b[90m<id: 1YVeXmyBKJdxvY1-msKWw1zSEtsqHYhft>\u001b[39m\n",
            "\n",
            "Saved locally as:\n",
            "\n",
            "• \u001b[34m/content/HI_DEM/ hawaii_10m.tif\u001b[39m\n",
            "\n",
            "File downloaded:\n",
            "\n",
            "• \u001b[36mmaui_10m.tif\u001b[39m \u001b[90m<id: 10dHshukbiMC3z7h4xWxeOdY7x6dtkOf2>\u001b[39m\n",
            "\n",
            "Saved locally as:\n",
            "\n",
            "• \u001b[34m/content/HI_DEM/ maui_10m.tif\u001b[39m\n",
            "\n",
            "File downloaded:\n",
            "\n",
            "• \u001b[36mmolokai_10m.tif\u001b[39m \u001b[90m<id: 14WqA4pNafauzjr2tlJUUJjYROsaH7uEX>\u001b[39m\n",
            "\n",
            "Saved locally as:\n",
            "\n",
            "• \u001b[34m/content/HI_DEM/ molokai_10m.tif\u001b[39m\n",
            "\n"
          ]
        }
      ]
    },
    {
      "cell_type": "code",
      "source": [
        "dem_gpkg <-\n",
        "\"/content/HI_DEM\" %>%\n",
        "  list.files(pattern='*.tif', full.names = T) %>%\n",
        "  # lapply(stack) %>%\n",
        "  # lapply(extent) %>%\n",
        "  lapply(function(x){\n",
        "    x_tif <- x %>% stack\n",
        "    x_gpkg <- x_tif %>% extent %>% as('SpatialPolygons') %>% st_as_sf(crs = st_crs(x_tif))\n",
        "    x_gpkg$path <- x\n",
        "    st_crs(x_gpkg) <- st_crs(x_tif)\n",
        "    x_gpkg %>% data.table %>% return\n",
        "    }) %>%\n",
        "  rbindlist()"
      ],
      "metadata": {
        "id": "FxWw8kckBINL"
      },
      "execution_count": 152,
      "outputs": []
    },
    {
      "cell_type": "code",
      "source": [
        "# dem_gpkg %>% st_as_sf %>% st_crs"
      ],
      "metadata": {
        "id": "CuAz7Mw7DPfP"
      },
      "execution_count": 154,
      "outputs": []
    },
    {
      "cell_type": "code",
      "source": [
        "cl <- makeCluster(8)\n",
        "1:nrow(download_index_gpkg) %>%\n",
        "  parLapply(cl,.,function(x,download_index_gpkg){\n",
        "  x_dt <- download_index_gpkg[x,]\n",
        "  download.file(x_dt$url, paste('/content/HI_2021_NAIP/',x_dt$location,sep='') )\n",
        "  },download_index_gpkg)\n",
        "stopCluster(cl)"
      ],
      "metadata": {
        "colab": {
          "base_uri": "https://localhost:8080/",
          "height": 1000
        },
        "id": "vsGwTn7FweoF",
        "outputId": "fdc4275a-5880-4600-c1f2-00f3c1d9b214"
      },
      "execution_count": 60,
      "outputs": [
        {
          "output_type": "display_data",
          "data": {
            "text/html": [
              "<ol>\n",
              "\t<li>0</li>\n",
              "\t<li>0</li>\n",
              "\t<li>0</li>\n",
              "\t<li>0</li>\n",
              "\t<li>0</li>\n",
              "\t<li>0</li>\n",
              "\t<li>0</li>\n",
              "\t<li>0</li>\n",
              "\t<li>0</li>\n",
              "\t<li>0</li>\n",
              "\t<li>0</li>\n",
              "\t<li>0</li>\n",
              "\t<li>0</li>\n",
              "\t<li>0</li>\n",
              "\t<li>0</li>\n",
              "\t<li>0</li>\n",
              "\t<li>0</li>\n",
              "\t<li>0</li>\n",
              "\t<li>0</li>\n",
              "\t<li>0</li>\n",
              "\t<li>0</li>\n",
              "\t<li>0</li>\n",
              "\t<li>0</li>\n",
              "\t<li>0</li>\n",
              "\t<li>0</li>\n",
              "\t<li>0</li>\n",
              "\t<li>0</li>\n",
              "\t<li>0</li>\n",
              "\t<li>0</li>\n",
              "\t<li>0</li>\n",
              "\t<li>0</li>\n",
              "\t<li>0</li>\n",
              "\t<li>0</li>\n",
              "\t<li>0</li>\n",
              "\t<li>0</li>\n",
              "\t<li>0</li>\n",
              "\t<li>0</li>\n",
              "\t<li>0</li>\n",
              "\t<li>0</li>\n",
              "\t<li>0</li>\n",
              "\t<li>0</li>\n",
              "\t<li>0</li>\n",
              "\t<li>0</li>\n",
              "\t<li>0</li>\n",
              "\t<li>0</li>\n",
              "\t<li>0</li>\n",
              "\t<li>0</li>\n",
              "\t<li>0</li>\n",
              "\t<li>0</li>\n",
              "\t<li>0</li>\n",
              "\t<li>0</li>\n",
              "\t<li>0</li>\n",
              "\t<li>0</li>\n",
              "\t<li>0</li>\n",
              "\t<li>0</li>\n",
              "</ol>\n"
            ],
            "text/markdown": "1. 0\n2. 0\n3. 0\n4. 0\n5. 0\n6. 0\n7. 0\n8. 0\n9. 0\n10. 0\n11. 0\n12. 0\n13. 0\n14. 0\n15. 0\n16. 0\n17. 0\n18. 0\n19. 0\n20. 0\n21. 0\n22. 0\n23. 0\n24. 0\n25. 0\n26. 0\n27. 0\n28. 0\n29. 0\n30. 0\n31. 0\n32. 0\n33. 0\n34. 0\n35. 0\n36. 0\n37. 0\n38. 0\n39. 0\n40. 0\n41. 0\n42. 0\n43. 0\n44. 0\n45. 0\n46. 0\n47. 0\n48. 0\n49. 0\n50. 0\n51. 0\n52. 0\n53. 0\n54. 0\n55. 0\n\n\n",
            "text/latex": "\\begin{enumerate}\n\\item 0\n\\item 0\n\\item 0\n\\item 0\n\\item 0\n\\item 0\n\\item 0\n\\item 0\n\\item 0\n\\item 0\n\\item 0\n\\item 0\n\\item 0\n\\item 0\n\\item 0\n\\item 0\n\\item 0\n\\item 0\n\\item 0\n\\item 0\n\\item 0\n\\item 0\n\\item 0\n\\item 0\n\\item 0\n\\item 0\n\\item 0\n\\item 0\n\\item 0\n\\item 0\n\\item 0\n\\item 0\n\\item 0\n\\item 0\n\\item 0\n\\item 0\n\\item 0\n\\item 0\n\\item 0\n\\item 0\n\\item 0\n\\item 0\n\\item 0\n\\item 0\n\\item 0\n\\item 0\n\\item 0\n\\item 0\n\\item 0\n\\item 0\n\\item 0\n\\item 0\n\\item 0\n\\item 0\n\\item 0\n\\end{enumerate}\n",
            "text/plain": [
              "[[1]]\n",
              "[1] 0\n",
              "\n",
              "[[2]]\n",
              "[1] 0\n",
              "\n",
              "[[3]]\n",
              "[1] 0\n",
              "\n",
              "[[4]]\n",
              "[1] 0\n",
              "\n",
              "[[5]]\n",
              "[1] 0\n",
              "\n",
              "[[6]]\n",
              "[1] 0\n",
              "\n",
              "[[7]]\n",
              "[1] 0\n",
              "\n",
              "[[8]]\n",
              "[1] 0\n",
              "\n",
              "[[9]]\n",
              "[1] 0\n",
              "\n",
              "[[10]]\n",
              "[1] 0\n",
              "\n",
              "[[11]]\n",
              "[1] 0\n",
              "\n",
              "[[12]]\n",
              "[1] 0\n",
              "\n",
              "[[13]]\n",
              "[1] 0\n",
              "\n",
              "[[14]]\n",
              "[1] 0\n",
              "\n",
              "[[15]]\n",
              "[1] 0\n",
              "\n",
              "[[16]]\n",
              "[1] 0\n",
              "\n",
              "[[17]]\n",
              "[1] 0\n",
              "\n",
              "[[18]]\n",
              "[1] 0\n",
              "\n",
              "[[19]]\n",
              "[1] 0\n",
              "\n",
              "[[20]]\n",
              "[1] 0\n",
              "\n",
              "[[21]]\n",
              "[1] 0\n",
              "\n",
              "[[22]]\n",
              "[1] 0\n",
              "\n",
              "[[23]]\n",
              "[1] 0\n",
              "\n",
              "[[24]]\n",
              "[1] 0\n",
              "\n",
              "[[25]]\n",
              "[1] 0\n",
              "\n",
              "[[26]]\n",
              "[1] 0\n",
              "\n",
              "[[27]]\n",
              "[1] 0\n",
              "\n",
              "[[28]]\n",
              "[1] 0\n",
              "\n",
              "[[29]]\n",
              "[1] 0\n",
              "\n",
              "[[30]]\n",
              "[1] 0\n",
              "\n",
              "[[31]]\n",
              "[1] 0\n",
              "\n",
              "[[32]]\n",
              "[1] 0\n",
              "\n",
              "[[33]]\n",
              "[1] 0\n",
              "\n",
              "[[34]]\n",
              "[1] 0\n",
              "\n",
              "[[35]]\n",
              "[1] 0\n",
              "\n",
              "[[36]]\n",
              "[1] 0\n",
              "\n",
              "[[37]]\n",
              "[1] 0\n",
              "\n",
              "[[38]]\n",
              "[1] 0\n",
              "\n",
              "[[39]]\n",
              "[1] 0\n",
              "\n",
              "[[40]]\n",
              "[1] 0\n",
              "\n",
              "[[41]]\n",
              "[1] 0\n",
              "\n",
              "[[42]]\n",
              "[1] 0\n",
              "\n",
              "[[43]]\n",
              "[1] 0\n",
              "\n",
              "[[44]]\n",
              "[1] 0\n",
              "\n",
              "[[45]]\n",
              "[1] 0\n",
              "\n",
              "[[46]]\n",
              "[1] 0\n",
              "\n",
              "[[47]]\n",
              "[1] 0\n",
              "\n",
              "[[48]]\n",
              "[1] 0\n",
              "\n",
              "[[49]]\n",
              "[1] 0\n",
              "\n",
              "[[50]]\n",
              "[1] 0\n",
              "\n",
              "[[51]]\n",
              "[1] 0\n",
              "\n",
              "[[52]]\n",
              "[1] 0\n",
              "\n",
              "[[53]]\n",
              "[1] 0\n",
              "\n",
              "[[54]]\n",
              "[1] 0\n",
              "\n",
              "[[55]]\n",
              "[1] 0\n"
            ]
          },
          "metadata": {}
        }
      ]
    },
    {
      "cell_type": "code",
      "source": [
        "download.file('https://coast.noaa.gov/htdata/raster7/imagery/HI_NAIP_2021_9668/HI_NAIP_2021_EPSG-26904.vrt', paste('/content/HI_2021_NAIP/HI_NAIP_2021_EPSG-26904.vrt',sep=''))"
      ],
      "metadata": {
        "id": "CbvR1zxT0zzA"
      },
      "execution_count": 65,
      "outputs": []
    },
    {
      "cell_type": "code",
      "source": [
        "hawaii_naip <- stack('/content/HI_2021_NAIP/HI_NAIP_2021_EPSG-26904.vrt')"
      ],
      "metadata": {
        "id": "W3qBfvrN1Kn8"
      },
      "execution_count": 67,
      "outputs": []
    },
    {
      "cell_type": "code",
      "source": [
        "dir.create('output_fishnets')"
      ],
      "metadata": {
        "id": "8MNrBoimLMAp"
      },
      "execution_count": 319,
      "outputs": []
    },
    {
      "cell_type": "code",
      "source": [
        "1:nrow(wetlands_gpkg) %>%\n",
        "  lapply(function(y){\n",
        "wetlands_sample <- wetlands_gpkg[y,] %>% st_transform(st_crs(hawaii_naip)) %>% crop(hawaii_naip,.)\n",
        "dem_loc_gpkg <- dem_gpkg %>% st_as_sf %>% st_transform(st_crs(wetlands_gpkg[y,])) %>% st_intersection(wetlands_gpkg[y,])\n",
        "dem_load_tif <- dem_loc_gpkg$path %>% raster %>% crop(., wetlands_fishnnet_gpkg[y,] %>% st_transform(st_crs(dem_load_tif)))\n",
        "nlcd_load_tif <- nlcd_tif %>% crop(., wetlands_fishnnet_gpkg[y,] %>% st_transform(st_crs(nlcd_tif)))\n",
        "wetlands_fishnnet_gpkg <- wetlands_gpkg[y,] %>% st_transform(st_crs(hawaii_naip)) %>% st_make_grid(cellsize =c(76.8,76.8)) %>% st_as_sf\n",
        "# file.remove(paste0('/content/output_fishnets/',wetlands_sample$layer[1],'.gpkg'))\n",
        "st_write(wetlands_fishnnet_gpkg,paste0('/content/output_fishnets/',wetlands_gpkg$layer[y],'.gpkg'),delete_dsn=T,delete_layer = T)\n",
        "\n",
        "cl <- makeCluster(8)\n",
        "1:nrow(download_index_gpkg) %>%\n",
        "  parLapply(cl,.,function(x,wetlands_fishnnet_gpkg,hawaii_naip,wetlands_sample,dem_load_tif,nlcd_load_tif,nwi_gpkg){\n",
        "\n",
        "library(raster)\n",
        "library(sf)\n",
        "library(fasterize)\n",
        "library(magrittr)\n",
        "library(googledrive)\n",
        "library(parallel)\n",
        "library(data.table)\n",
        "sample_chip <- wetlands_fishnnet_gpkg[x,] %>% st_transform(st_crs(hawaii_naip)) %>% crop(wetlands_sample,.)\n",
        "sample_chip$dem <- projectRaster(dem_load_tif, sample_chip, method=\"ngb\")\n",
        "sample_chip$nlcd <- projectRaster(nlcd_load_tif, sample_chip, method=\"ngb\")\n",
        "nwi_gpkg$wetland_ty <- nwi_gpkg$wetland_ty %>% as.factor\n",
        "nwi_gpkg <- nwi_gpkg %>% st_transform(st_crs(sample_chip))\n",
        "sample_chip$class <- fasterize(\n",
        "nwi_gpkg,\n",
        "sample_chip[[1]],\n",
        "field = 'wetland_ty',\n",
        "fun = \"first\")\n",
        "sample_chip$class_fill <-sample_chip$class\n",
        "values(sample_chip$class_fill)[is.na(values(sample_chip$class_fill))] <- values(sample_chip$nlcd)[is.na(values(sample_chip$class_fill))]\n",
        "values(sample_chip$class_fill)[is.na(values(sample_chip$class_fill))] <- 0\n",
        "values(sample_chip$dem)[is.na(values(sample_chip$dem))] <- 0\n",
        "values(sample_chip$nlcd)[is.na(values(sample_chip$nlcd))] <- 0\n",
        "values(sample_chip$class)[is.na(values(sample_chip$class))] <- 0\n",
        "sample_chip  %>% writeRaster(paste0('output_chips/',(sample_chip %>% extent %>% round)[1],'_',(sample_chip %>% extent %>% round)[3],'.tif'),overwrite=T)\n",
        "\n",
        "  },wetlands_fishnnet_gpkg,hawaii_naip,wetlands_sample,dem_load_tif,nlcd_load_tif,nwi_gpkg)\n",
        "stopCluster(cl)\n",
        "  })"
      ],
      "metadata": {
        "colab": {
          "base_uri": "https://localhost:8080/",
          "height": 1000
        },
        "id": "r_028zA554bZ",
        "outputId": "ef3c6624-323e-4c8e-cef8-de3a5b786521"
      },
      "execution_count": 349,
      "outputs": [
        {
          "output_type": "stream",
          "name": "stdout",
          "text": [
            "Deleting source `/content/output_fishnets/anahola.gpkg' using driver `GPKG'\n",
            "Writing layer `anahola' to data source \n",
            "  `/content/output_fishnets/anahola.gpkg' using driver `GPKG'\n",
            "Writing 1080 features with 0 fields and geometry type Polygon.\n"
          ]
        },
        {
          "output_type": "error",
          "ename": "ERROR",
          "evalue": "Error in .local(x, y, ...): extents do not overlap\n",
          "traceback": [
            "Error in .local(x, y, ...): extents do not overlap\nTraceback:\n",
            "1. 1:nrow(wetlands_gpkg) %>% lapply(function(y) {\n .     wetlands_sample <- wetlands_gpkg[y, ] %>% st_transform(st_crs(hawaii_naip)) %>% \n .         crop(hawaii_naip, .)\n .     dem_loc_gpkg <- dem_gpkg %>% st_as_sf %>% st_transform(st_crs(wetlands_gpkg[y, \n .         ])) %>% st_intersection(wetlands_gpkg[y, ])\n .     dem_load_tif <- dem_loc_gpkg$path %>% raster %>% crop(., \n .         wetlands_fishnnet_gpkg[y, ] %>% st_transform(st_crs(dem_load_tif)))\n .     nlcd_load_tif <- nlcd_tif %>% crop(., wetlands_fishnnet_gpkg[y, \n .         ] %>% st_transform(st_crs(nlcd_tif)))\n .     wetlands_fishnnet_gpkg <- wetlands_gpkg[y, ] %>% st_transform(st_crs(hawaii_naip)) %>% \n .         st_make_grid(cellsize = c(76.8, 76.8)) %>% st_as_sf\n .     st_write(wetlands_fishnnet_gpkg, paste0(\"/content/output_fishnets/\", \n .         wetlands_gpkg$layer[y], \".gpkg\"), delete_dsn = T, delete_layer = T)\n .     cl <- makeCluster(8)\n .     1:nrow(download_index_gpkg) %>% parLapply(cl, ., function(x, \n .         wetlands_fishnnet_gpkg, hawaii_naip, wetlands_sample, \n .         dem_load_tif, nlcd_load_tif, nwi_gpkg) {\n .         library(raster)\n .         library(sf)\n .         library(fasterize)\n .         library(magrittr)\n .         library(googledrive)\n .         library(parallel)\n .         library(data.table)\n .         sample_chip <- wetlands_fishnnet_gpkg[x, ] %>% st_transform(st_crs(hawaii_naip)) %>% \n .             crop(wetlands_sample, .)\n .         sample_chip$dem <- projectRaster(dem_load_tif, sample_chip, \n .             method = \"ngb\")\n .         sample_chip$nlcd <- projectRaster(nlcd_load_tif, sample_chip, \n .             method = \"ngb\")\n .         nwi_gpkg$wetland_ty <- nwi_gpkg$wetland_ty %>% as.factor\n .         nwi_gpkg <- nwi_gpkg %>% st_transform(st_crs(sample_chip))\n .         sample_chip$class <- fasterize(nwi_gpkg, sample_chip[[1]], \n .             field = \"wetland_ty\", fun = \"first\")\n .         sample_chip$class_fill <- sample_chip$class\n .         values(sample_chip$class_fill)[is.na(values(sample_chip$class_fill))] <- values(sample_chip$nlcd)[is.na(values(sample_chip$class_fill))]\n .         values(sample_chip$class_fill)[is.na(values(sample_chip$class_fill))] <- 0\n .         values(sample_chip$dem)[is.na(values(sample_chip$dem))] <- 0\n .         values(sample_chip$nlcd)[is.na(values(sample_chip$nlcd))] <- 0\n .         values(sample_chip$class)[is.na(values(sample_chip$class))] <- 0\n .         sample_chip %>% writeRaster(paste0(\"output_chips/\", (sample_chip %>% \n .             extent %>% round)[1], \"_\", (sample_chip %>% extent %>% \n .             round)[3], \".tif\"), overwrite = T)\n .     }, wetlands_fishnnet_gpkg, hawaii_naip, wetlands_sample, \n .         dem_load_tif, nlcd_load_tif, nwi_gpkg)\n .     stopCluster(cl)\n . })",
            "2. lapply(., function(y) {\n .     wetlands_sample <- wetlands_gpkg[y, ] %>% st_transform(st_crs(hawaii_naip)) %>% \n .         crop(hawaii_naip, .)\n .     dem_loc_gpkg <- dem_gpkg %>% st_as_sf %>% st_transform(st_crs(wetlands_gpkg[y, \n .         ])) %>% st_intersection(wetlands_gpkg[y, ])\n .     dem_load_tif <- dem_loc_gpkg$path %>% raster %>% crop(., \n .         wetlands_fishnnet_gpkg[y, ] %>% st_transform(st_crs(dem_load_tif)))\n .     nlcd_load_tif <- nlcd_tif %>% crop(., wetlands_fishnnet_gpkg[y, \n .         ] %>% st_transform(st_crs(nlcd_tif)))\n .     wetlands_fishnnet_gpkg <- wetlands_gpkg[y, ] %>% st_transform(st_crs(hawaii_naip)) %>% \n .         st_make_grid(cellsize = c(76.8, 76.8)) %>% st_as_sf\n .     st_write(wetlands_fishnnet_gpkg, paste0(\"/content/output_fishnets/\", \n .         wetlands_gpkg$layer[y], \".gpkg\"), delete_dsn = T, delete_layer = T)\n .     cl <- makeCluster(8)\n .     1:nrow(download_index_gpkg) %>% parLapply(cl, ., function(x, \n .         wetlands_fishnnet_gpkg, hawaii_naip, wetlands_sample, \n .         dem_load_tif, nlcd_load_tif, nwi_gpkg) {\n .         library(raster)\n .         library(sf)\n .         library(fasterize)\n .         library(magrittr)\n .         library(googledrive)\n .         library(parallel)\n .         library(data.table)\n .         sample_chip <- wetlands_fishnnet_gpkg[x, ] %>% st_transform(st_crs(hawaii_naip)) %>% \n .             crop(wetlands_sample, .)\n .         sample_chip$dem <- projectRaster(dem_load_tif, sample_chip, \n .             method = \"ngb\")\n .         sample_chip$nlcd <- projectRaster(nlcd_load_tif, sample_chip, \n .             method = \"ngb\")\n .         nwi_gpkg$wetland_ty <- nwi_gpkg$wetland_ty %>% as.factor\n .         nwi_gpkg <- nwi_gpkg %>% st_transform(st_crs(sample_chip))\n .         sample_chip$class <- fasterize(nwi_gpkg, sample_chip[[1]], \n .             field = \"wetland_ty\", fun = \"first\")\n .         sample_chip$class_fill <- sample_chip$class\n .         values(sample_chip$class_fill)[is.na(values(sample_chip$class_fill))] <- values(sample_chip$nlcd)[is.na(values(sample_chip$class_fill))]\n .         values(sample_chip$class_fill)[is.na(values(sample_chip$class_fill))] <- 0\n .         values(sample_chip$dem)[is.na(values(sample_chip$dem))] <- 0\n .         values(sample_chip$nlcd)[is.na(values(sample_chip$nlcd))] <- 0\n .         values(sample_chip$class)[is.na(values(sample_chip$class))] <- 0\n .         sample_chip %>% writeRaster(paste0(\"output_chips/\", (sample_chip %>% \n .             extent %>% round)[1], \"_\", (sample_chip %>% extent %>% \n .             round)[3], \".tif\"), overwrite = T)\n .     }, wetlands_fishnnet_gpkg, hawaii_naip, wetlands_sample, \n .         dem_load_tif, nlcd_load_tif, nwi_gpkg)\n .     stopCluster(cl)\n . })",
            "3. FUN(X[[i]], ...)",
            "4. dem_loc_gpkg$path %>% raster %>% crop(., wetlands_fishnnet_gpkg[y, \n .     ] %>% st_transform(st_crs(dem_load_tif)))   # at line 5 of file <text>",
            "5. crop(., wetlands_fishnnet_gpkg[y, ] %>% st_transform(st_crs(dem_load_tif)))",
            "6. crop(., wetlands_fishnnet_gpkg[y, ] %>% st_transform(st_crs(dem_load_tif)))",
            "7. .local(x, y, ...)",
            "8. stop(\"extents do not overlap\")"
          ]
        }
      ]
    },
    {
      "cell_type": "code",
      "source": [
        "zip(zipfile = 'testZip', files = 'testDir/test.csv') #make this work"
      ],
      "metadata": {
        "id": "mg6S8zDvVFVz"
      },
      "execution_count": null,
      "outputs": []
    },
    {
      "cell_type": "code",
      "source": [
        "#put code here to upload to drive"
      ],
      "metadata": {
        "id": "UqCOVY7pVNsM"
      },
      "execution_count": null,
      "outputs": []
    }
  ]
}